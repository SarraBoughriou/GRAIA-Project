{
 "cells": [
  {
   "cell_type": "code",
   "execution_count": null,
   "id": "14fcc968",
   "metadata": {
    "collapsed": false,
    "jupyter": {
     "outputs_hidden": false
    },
    "tags": [
     "install"
    ]
   },
   "outputs": [],
   "source": [
    "!pip install tensorflow\n",
    "!pip install keras\n",
    "!pip install numpy\n",
    "!pip install pandas\n",
    "!pip install matplotlib\n",
    "!pip install opencv-python\n",
    "!pip install codecarbon\n"
   ]
  },
  {
   "cell_type": "code",
   "execution_count": null,
   "id": "3a465a43",
   "metadata": {
    "tags": [
     "imports"
    ]
   },
   "outputs": [],
   "source": [
    "import os, time, math, random\n",
    "from dataclasses import dataclass\n",
    "from pathlib import Path\n",
    "import numpy as np\n",
    "import pandas as pd\n",
    "import matplotlib.pyplot as plt\n",
    "import cv2\n",
    "\n",
    "import tensorflow as tf\n",
    "from tensorflow import keras\n",
    "from keras.models import Sequential\n",
    "from keras.layers import Dense, Conv2D, MaxPooling2D, Dropout, Flatten\n",
    "from keras.utils import to_categorical\n",
    "from codecarbon import EmissionsTracker\n",
    "\n",
    "# Repro & CPU-only\n",
    "SEED = 42\n",
    "random.seed(SEED); np.random.seed(SEED); tf.random.set_seed(SEED)\n",
    "os.environ['CUDA_VISIBLE_DEVICES'] = ''\n",
    "print('TensorFlow version:', tf.__version__)\n"
   ]
  },
  {
   "cell_type": "code",
   "execution_count": null,
   "id": "a0a372a1",
   "metadata": {
    "tags": [
     "codecarbon"
    ]
   },
   "outputs": [],
   "source": [
    "# CodeCarbon helpers\n",
    "LOGDIR = Path('./codecarbon_logs').resolve()\n",
    "LOGDIR.mkdir(parents=True, exist_ok=True)\n",
    "print('[CodeCarbon] logs ->', LOGDIR)\n",
    "\n",
    "CC_KWARGS = dict(\n",
    "    measure_power_secs=1,\n",
    "    save_to_file=True,\n",
    "    output_dir=str(LOGDIR),\n",
    "    log_level='warning',\n",
    "    tracking_mode='process',  \n",
    ")\n",
    "\n",
    "@dataclass\n",
    "class PhaseReport:\n",
    "    secs: float\n",
    "    emissions_kg: float\n",
    "\n",
    "def run_phase_with_tracker(phase_name, fn):\n",
    "    tracker = EmissionsTracker(project_name=phase_name, **CC_KWARGS)\n",
    "    tracker.start()\n",
    "    t0 = time.time()\n",
    "    try:\n",
    "        out = fn()\n",
    "    finally:\n",
    "        emissions = tracker.stop() or 0.0\n",
    "    secs = time.time() - t0\n",
    "    print(f'[{phase_name}] time={secs:.2f}s, emissions={emissions:.6f} kg')\n",
    "    return out, PhaseReport(secs=secs, emissions_kg=emissions)\n"
   ]
  },
  {
   "cell_type": "code",
   "execution_count": null,
   "id": "99d4910f",
   "metadata": {
    "tags": [
     "helpers"
    ]
   },
   "outputs": [],
   "source": [
    "# Cleaning helpers (blur/black)\n",
    "def is_blurry(image, threshold=100.0):\n",
    "    gray = cv2.cvtColor(image, cv2.COLOR_RGB2GRAY)  # CIFAR is RGB\n",
    "    variance = cv2.Laplacian(gray, cv2.CV_64F).var()\n",
    "    return variance < threshold\n",
    "\n",
    "def check_blur(images, threshold=100.0):\n",
    "    idx = []\n",
    "    for i, im in enumerate(images):\n",
    "        if is_blurry(im, threshold):\n",
    "            idx.append(i)\n",
    "    return idx\n",
    "\n",
    "def is_black(image, threshold=10.0):\n",
    "    return float(np.mean(image)) < threshold\n",
    "\n",
    "def check_black(images, threshold=10.0):\n",
    "    idx = []\n",
    "    for i, im in enumerate(images):\n",
    "        if is_black(im, threshold):\n",
    "            idx.append(i)\n",
    "    return idx\n",
    "\n",
    "# Offline augmentation (keeps arrays workflow)\n",
    "def augment_numpy_images(images, labels, mult=2,\n",
    "                         flip=True, rot_max_deg=10,\n",
    "                         brightness_delta=0.08,\n",
    "                         contrast_range=(0.9, 1.1)):\n",
    "    if mult is None or mult <= 1:\n",
    "        return images, labels\n",
    "    # ensure uint8 for OpenCV ops\n",
    "    if images.dtype != np.uint8:\n",
    "        imgs_uint8 = np.clip(images * 255.0, 0, 255).astype(np.uint8)\n",
    "    else:\n",
    "        imgs_uint8 = images\n",
    "    H, W = imgs_uint8.shape[1], imgs_uint8.shape[2]\n",
    "    out_imgs = [imgs_uint8]\n",
    "    out_lbls = [labels]\n",
    "    for _ in range(mult - 1):\n",
    "        aug = np.empty_like(imgs_uint8)\n",
    "        for i in range(len(imgs_uint8)):\n",
    "            im = imgs_uint8[i]\n",
    "            if flip and np.random.rand() < 0.5:\n",
    "                im = cv2.flip(im, 1)\n",
    "            if rot_max_deg and rot_max_deg > 0:\n",
    "                deg = float(np.random.uniform(-rot_max_deg, rot_max_deg))\n",
    "                M = cv2.getRotationMatrix2D((W/2, H/2), deg, 1.0)\n",
    "                im = cv2.warpAffine(im, M, (W, H), flags=cv2.INTER_LINEAR, borderMode=cv2.BORDER_REFLECT_101)\n",
    "            cmin, cmax = contrast_range\n",
    "            c = float(np.random.uniform(cmin, cmax))\n",
    "            b = float(np.random.uniform(-brightness_delta, brightness_delta) * 255.0)\n",
    "            im = im.astype(np.float32) * c + b\n",
    "            im = np.clip(im, 0, 255).astype(np.uint8)\n",
    "            aug[i] = im\n",
    "        out_imgs.append(aug)\n",
    "        out_lbls.append(labels.copy())\n",
    "    X = np.concatenate(out_imgs, axis=0)\n",
    "    Y = np.concatenate(out_lbls, axis=0)\n",
    "    X = X.astype(np.float32) / 255.0\n",
    "    return X, Y\n"
   ]
  },
  {
   "cell_type": "code",
   "execution_count": null,
   "id": "0c8bd743",
   "metadata": {
    "tags": [
     "preprocess"
    ]
   },
   "outputs": [],
   "source": [
    "# Phase 1: PREPROCESS\n",
    "BLUR_THR = 100.0\n",
    "BLACK_THR = 10.0\n",
    "AUG_MULT = 2 \n",
    "CLEAN_TEST = False\n",
    "\n",
    "def preprocess_phase():\n",
    "    (xtr, ytr), (xte, yte) = keras.datasets.cifar10.load_data()\n",
    "    nclasses = int(len(np.unique(ytr)))\n",
    "    print('Loaded CIFAR-10:', xtr.shape, ytr.shape, '| Test:', xte.shape, yte.shape)\n",
    "    # Clean train\n",
    "    bidx = check_blur(xtr, threshold=BLUR_THR)\n",
    "    kidx = check_black(xtr, threshold=BLACK_THR)\n",
    "    to_remove = sorted(set(bidx) | set(kidx))\n",
    "    if to_remove:\n",
    "        keep = np.ones(len(xtr), dtype=bool); keep[to_remove] = False\n",
    "        xtr = xtr[keep]; ytr = ytr[keep]\n",
    "        print(f'[clean train] removed {len(to_remove)} ->', xtr.shape)\n",
    "    else:\n",
    "        print('[clean train] no removals')\n",
    "\n",
    "    # Scale to [0,1]\n",
    "    xtr = xtr.astype('float32') / 255.0\n",
    "    xte = xte.astype('float32') / 255.0\n",
    "    # Offline augmentation\n",
    "    if AUG_MULT and AUG_MULT > 1:\n",
    "        xtr, ytr = augment_numpy_images(xtr, ytr, mult=AUG_MULT,\n",
    "                                        flip=True, rot_max_deg=10,\n",
    "                                        brightness_delta=0.08,\n",
    "                                        contrast_range=(0.9, 1.1))\n",
    "        print('[augment] after:', xtr.shape, ytr.shape)\n",
    "    return xtr, ytr, xte, yte, nclasses\n",
    "\n",
    "(prep_out, prep_report) = run_phase_with_tracker('preprocess', preprocess_phase)\n",
    "Xtr, ytr, Xte, yte, nClasses = prep_out\n"
   ]
  },
  {
   "cell_type": "code",
   "execution_count": null,
   "id": "d90d17f4",
   "metadata": {
    "tags": [
     "train"
    ]
   },
   "outputs": [],
   "source": [
    "def training_phase():\n",
    "    ytr_oh = to_categorical(ytr, nClasses)\n",
    "    yte_oh = to_categorical(yte, nClasses)\n",
    "    model = Sequential([\n",
    "        Conv2D(32, (3,3), activation='relu', input_shape=(32,32,3), padding='same'),\n",
    "        MaxPooling2D((2,2)), Dropout(0.25),\n",
    "        Conv2D(64, (3,3), activation='relu', padding='same'),\n",
    "        MaxPooling2D((2,2)), Dropout(0.25),\n",
    "        Conv2D(128, (3,3), activation='relu', padding='same'),\n",
    "        MaxPooling2D((2,2)), Dropout(0.25),\n",
    "        Flatten(),\n",
    "        Dense(256, activation='relu'), Dropout(0.5),\n",
    "        Dense(nClasses, activation='softmax')\n",
    "    ])\n",
    "    model.compile(optimizer=keras.optimizers.Adam(1e-3),\n",
    "                  loss='categorical_crossentropy', metrics=['accuracy'])\n",
    "    history = model.fit(Xtr, ytr_oh, validation_data=(Xte, yte_oh),\n",
    "                        epochs=50, batch_size=64, verbose=1)\n",
    "    params = model.count_params()\n",
    "    return model, params\n",
    "\n",
    "((model, params), train_report) = run_phase_with_tracker('train', training_phase)\n"
   ]
  },
  {
   "cell_type": "code",
   "execution_count": null,
   "id": "066d0ec3",
   "metadata": {
    "tags": [
     "evaluate"
    ]
   },
   "outputs": [],
   "source": [
    "def eval_phase():\n",
    "    yte_oh = to_categorical(yte, nClasses)\n",
    "    loss, acc = model.evaluate(Xte, yte_oh, verbose=0)\n",
    "    print(f'Test accuracy: {acc:.4f}')\n",
    "    return float(acc)\n",
    "\n",
    "(test_acc, eval_report) = run_phase_with_tracker('evaluate', eval_phase)\n"
   ]
  },
  {
   "cell_type": "code",
   "execution_count": null,
   "id": "f0a308f4",
   "metadata": {
    "tags": [
     "save"
    ]
   },
   "outputs": [],
   "source": [
    "row = {\n",
    "    'model': 'Keras-Sequential-CNN(clean+offline-aug)',\n",
    "    'params': params,\n",
    "    'test_acc': round(test_acc, 4),\n",
    "    'preprocess_secs': round(prep_report.secs, 2),\n",
    "    'train_secs': round(train_report.secs, 2),\n",
    "    'eval_secs': round(eval_report.secs, 2),\n",
    "    'preprocess_emissions_kg': prep_report.emissions_kg,\n",
    "    'train_emissions_kg': train_report.emissions_kg,\n",
    "    'eval_emissions_kg': eval_report.emissions_kg,\n",
    "    'total_secs': round(prep_report.secs + train_report.secs + eval_report.secs, 2),\n",
    "    'total_emissions_kg': prep_report.emissions_kg + train_report.emissions_kg + eval_report.emissions_kg,\n",
    "}\n",
    "RESULTS_CSV = Path('results.csv')\n",
    "df_new = pd.DataFrame([row])\n",
    "if RESULTS_CSV.exists():\n",
    "    try:\n",
    "        df_out = pd.concat([pd.read_csv(RESULTS_CSV), df_new], ignore_index=True)\n",
    "    except Exception:\n",
    "        df_out = df_new\n",
    "else:\n",
    "    df_out = df_new\n",
    "df_out.to_csv(RESULTS_CSV, index=False)\n",
    "print(' Appended per-phase results →', RESULTS_CSV.resolve())\n",
    "df_new\n"
   ]
  }
 ],
 "metadata": {
  "kernelspec": {
   "display_name": "Python 3 (ipykernel)",
   "language": "python",
   "name": "python3"
  },
  "language_info": {
   "codemirror_mode": {
    "name": "ipython",
    "version": 3
   },
   "file_extension": ".py",
   "mimetype": "text/x-python",
   "name": "python",
   "nbconvert_exporter": "python",
   "pygments_lexer": "ipython3",
   "version": "3.13.5"
  }
 },
 "nbformat": 4,
 "nbformat_minor": 5
}
