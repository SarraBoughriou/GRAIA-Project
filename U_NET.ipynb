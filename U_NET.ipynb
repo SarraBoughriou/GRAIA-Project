{
 "cells": [
  {
   "cell_type": "code",
   "execution_count": 1,
   "metadata": {
    "colab": {
     "base_uri": "https://localhost:8080/"
    },
    "id": "Bi5g1wKk97Sa",
    "outputId": "2d2ab7ad-dbcb-492f-9fff-c76ba992b3a1"
   },
   "outputs": [
    {
     "name": "stdout",
     "output_type": "stream",
     "text": [
      "Collecting git+https://github.com/SarraBoughriou/codecarbon.git\n",
      "  Cloning https://github.com/SarraBoughriou/codecarbon.git to c:\\users\\boughrio\\appdata\\local\\temp\\pip-req-build-e1o7xt73\n",
      "  Resolved https://github.com/SarraBoughriou/codecarbon.git to commit 45394c0f5a663031a19ec4cb55066501331a396c\n",
      "  Installing build dependencies: started\n",
      "  Installing build dependencies: finished with status 'done'\n",
      "  Getting requirements to build wheel: started\n",
      "  Getting requirements to build wheel: finished with status 'done'\n",
      "  Preparing metadata (pyproject.toml): started\n",
      "  Preparing metadata (pyproject.toml): finished with status 'done'\n",
      "Requirement already satisfied: arrow in c:\\users\\boughrio\\appdata\\local\\anaconda3\\lib\\site-packages (from codecarbon==2.4.3rc1) (1.2.3)\n",
      "Requirement already satisfied: click in c:\\users\\boughrio\\appdata\\local\\anaconda3\\lib\\site-packages (from codecarbon==2.4.3rc1) (8.1.7)\n",
      "Requirement already satisfied: pandas in c:\\users\\boughrio\\appdata\\local\\anaconda3\\lib\\site-packages (from codecarbon==2.4.3rc1) (2.1.4)\n",
      "Requirement already satisfied: prometheus-client in c:\\users\\boughrio\\appdata\\local\\anaconda3\\lib\\site-packages (from codecarbon==2.4.3rc1) (0.14.1)\n",
      "Requirement already satisfied: psutil in c:\\users\\boughrio\\appdata\\local\\anaconda3\\lib\\site-packages (from codecarbon==2.4.3rc1) (5.9.0)\n",
      "Requirement already satisfied: py-cpuinfo in c:\\users\\boughrio\\appdata\\local\\anaconda3\\lib\\site-packages (from codecarbon==2.4.3rc1) (9.0.0)\n",
      "Requirement already satisfied: pynvml in c:\\users\\boughrio\\appdata\\local\\anaconda3\\lib\\site-packages (from codecarbon==2.4.3rc1) (11.5.0)\n",
      "Requirement already satisfied: rapidfuzz in c:\\users\\boughrio\\appdata\\local\\anaconda3\\lib\\site-packages (from codecarbon==2.4.3rc1) (3.9.1)\n",
      "Requirement already satisfied: requests in c:\\users\\boughrio\\appdata\\local\\anaconda3\\lib\\site-packages (from codecarbon==2.4.3rc1) (2.31.0)\n",
      "Requirement already satisfied: python-dateutil>=2.7.0 in c:\\users\\boughrio\\appdata\\local\\anaconda3\\lib\\site-packages (from arrow->codecarbon==2.4.3rc1) (2.8.2)\n",
      "Requirement already satisfied: colorama in c:\\users\\boughrio\\appdata\\local\\anaconda3\\lib\\site-packages (from click->codecarbon==2.4.3rc1) (0.4.6)\n",
      "Requirement already satisfied: numpy<2,>=1.23.2 in c:\\users\\boughrio\\appdata\\local\\anaconda3\\lib\\site-packages (from pandas->codecarbon==2.4.3rc1) (1.26.4)\n",
      "Requirement already satisfied: pytz>=2020.1 in c:\\users\\boughrio\\appdata\\local\\anaconda3\\lib\\site-packages (from pandas->codecarbon==2.4.3rc1) (2023.3.post1)\n",
      "Requirement already satisfied: tzdata>=2022.1 in c:\\users\\boughrio\\appdata\\local\\anaconda3\\lib\\site-packages (from pandas->codecarbon==2.4.3rc1) (2023.3)\n",
      "Requirement already satisfied: charset-normalizer<4,>=2 in c:\\users\\boughrio\\appdata\\local\\anaconda3\\lib\\site-packages (from requests->codecarbon==2.4.3rc1) (2.0.4)\n",
      "Requirement already satisfied: idna<4,>=2.5 in c:\\users\\boughrio\\appdata\\local\\anaconda3\\lib\\site-packages (from requests->codecarbon==2.4.3rc1) (3.4)\n",
      "Requirement already satisfied: urllib3<3,>=1.21.1 in c:\\users\\boughrio\\appdata\\local\\anaconda3\\lib\\site-packages (from requests->codecarbon==2.4.3rc1) (2.0.7)\n",
      "Requirement already satisfied: certifi>=2017.4.17 in c:\\users\\boughrio\\appdata\\local\\anaconda3\\lib\\site-packages (from requests->codecarbon==2.4.3rc1) (2024.2.2)\n",
      "Requirement already satisfied: six>=1.5 in c:\\users\\boughrio\\appdata\\local\\anaconda3\\lib\\site-packages (from python-dateutil>=2.7.0->arrow->codecarbon==2.4.3rc1) (1.16.0)\n"
     ]
    },
    {
     "name": "stderr",
     "output_type": "stream",
     "text": [
      "  Running command git clone --filter=blob:none --quiet https://github.com/SarraBoughriou/codecarbon.git 'C:\\Users\\boughrio\\AppData\\Local\\Temp\\pip-req-build-e1o7xt73'\n"
     ]
    }
   ],
   "source": [
    "import os\n",
    "\n",
    "# Add Git path to the PATH environment variable\n",
    "os.environ['PATH'] += os.pathsep + r\"C:\\Users\\boughrio\\AppData\\Local\\Programs\\Git\\cmd\"\n",
    "\n",
    "# Now try installing the package again\n",
    "!pip install git+https://github.com/SarraBoughriou/codecarbon.git"
   ]
  },
  {
   "cell_type": "code",
   "execution_count": 2,
   "metadata": {},
   "outputs": [
    {
     "name": "stdout",
     "output_type": "stream",
     "text": [
      "Requirement already satisfied: opencv-python in c:\\users\\boughrio\\appdata\\local\\anaconda3\\lib\\site-packages (4.9.0.80)\n",
      "Requirement already satisfied: numpy>=1.21.2 in c:\\users\\boughrio\\appdata\\local\\anaconda3\\lib\\site-packages (from opencv-python) (1.26.4)\n",
      "Requirement already satisfied: tensorflow in c:\\users\\boughrio\\appdata\\local\\anaconda3\\lib\\site-packages (2.16.1)\n",
      "Requirement already satisfied: tensorflow-intel==2.16.1 in c:\\users\\boughrio\\appdata\\local\\anaconda3\\lib\\site-packages (from tensorflow) (2.16.1)\n",
      "Requirement already satisfied: absl-py>=1.0.0 in c:\\users\\boughrio\\appdata\\local\\anaconda3\\lib\\site-packages (from tensorflow-intel==2.16.1->tensorflow) (2.1.0)\n",
      "Requirement already satisfied: astunparse>=1.6.0 in c:\\users\\boughrio\\appdata\\local\\anaconda3\\lib\\site-packages (from tensorflow-intel==2.16.1->tensorflow) (1.6.3)\n",
      "Requirement already satisfied: flatbuffers>=23.5.26 in c:\\users\\boughrio\\appdata\\local\\anaconda3\\lib\\site-packages (from tensorflow-intel==2.16.1->tensorflow) (24.3.25)\n",
      "Requirement already satisfied: gast!=0.5.0,!=0.5.1,!=0.5.2,>=0.2.1 in c:\\users\\boughrio\\appdata\\local\\anaconda3\\lib\\site-packages (from tensorflow-intel==2.16.1->tensorflow) (0.5.4)\n",
      "Requirement already satisfied: google-pasta>=0.1.1 in c:\\users\\boughrio\\appdata\\local\\anaconda3\\lib\\site-packages (from tensorflow-intel==2.16.1->tensorflow) (0.2.0)\n",
      "Requirement already satisfied: h5py>=3.10.0 in c:\\users\\boughrio\\appdata\\local\\anaconda3\\lib\\site-packages (from tensorflow-intel==2.16.1->tensorflow) (3.11.0)\n",
      "Requirement already satisfied: libclang>=13.0.0 in c:\\users\\boughrio\\appdata\\local\\anaconda3\\lib\\site-packages (from tensorflow-intel==2.16.1->tensorflow) (18.1.1)\n",
      "Requirement already satisfied: ml-dtypes~=0.3.1 in c:\\users\\boughrio\\appdata\\local\\anaconda3\\lib\\site-packages (from tensorflow-intel==2.16.1->tensorflow) (0.3.2)\n",
      "Requirement already satisfied: opt-einsum>=2.3.2 in c:\\users\\boughrio\\appdata\\local\\anaconda3\\lib\\site-packages (from tensorflow-intel==2.16.1->tensorflow) (3.3.0)\n",
      "Requirement already satisfied: packaging in c:\\users\\boughrio\\appdata\\local\\anaconda3\\lib\\site-packages (from tensorflow-intel==2.16.1->tensorflow) (23.1)\n",
      "Requirement already satisfied: protobuf!=4.21.0,!=4.21.1,!=4.21.2,!=4.21.3,!=4.21.4,!=4.21.5,<5.0.0dev,>=3.20.3 in c:\\users\\boughrio\\appdata\\local\\anaconda3\\lib\\site-packages (from tensorflow-intel==2.16.1->tensorflow) (3.20.3)\n",
      "Requirement already satisfied: requests<3,>=2.21.0 in c:\\users\\boughrio\\appdata\\local\\anaconda3\\lib\\site-packages (from tensorflow-intel==2.16.1->tensorflow) (2.31.0)\n",
      "Requirement already satisfied: setuptools in c:\\users\\boughrio\\appdata\\local\\anaconda3\\lib\\site-packages (from tensorflow-intel==2.16.1->tensorflow) (68.2.2)\n",
      "Requirement already satisfied: six>=1.12.0 in c:\\users\\boughrio\\appdata\\local\\anaconda3\\lib\\site-packages (from tensorflow-intel==2.16.1->tensorflow) (1.16.0)\n",
      "Requirement already satisfied: termcolor>=1.1.0 in c:\\users\\boughrio\\appdata\\local\\anaconda3\\lib\\site-packages (from tensorflow-intel==2.16.1->tensorflow) (2.4.0)\n",
      "Requirement already satisfied: typing-extensions>=3.6.6 in c:\\users\\boughrio\\appdata\\local\\anaconda3\\lib\\site-packages (from tensorflow-intel==2.16.1->tensorflow) (4.9.0)\n",
      "Requirement already satisfied: wrapt>=1.11.0 in c:\\users\\boughrio\\appdata\\local\\anaconda3\\lib\\site-packages (from tensorflow-intel==2.16.1->tensorflow) (1.14.1)\n",
      "Requirement already satisfied: grpcio<2.0,>=1.24.3 in c:\\users\\boughrio\\appdata\\local\\anaconda3\\lib\\site-packages (from tensorflow-intel==2.16.1->tensorflow) (1.64.0)\n",
      "Requirement already satisfied: tensorboard<2.17,>=2.16 in c:\\users\\boughrio\\appdata\\local\\anaconda3\\lib\\site-packages (from tensorflow-intel==2.16.1->tensorflow) (2.16.2)\n",
      "Requirement already satisfied: keras>=3.0.0 in c:\\users\\boughrio\\appdata\\local\\anaconda3\\lib\\site-packages (from tensorflow-intel==2.16.1->tensorflow) (3.3.3)\n",
      "Requirement already satisfied: tensorflow-io-gcs-filesystem>=0.23.1 in c:\\users\\boughrio\\appdata\\local\\anaconda3\\lib\\site-packages (from tensorflow-intel==2.16.1->tensorflow) (0.31.0)\n",
      "Requirement already satisfied: numpy<2.0.0,>=1.23.5 in c:\\users\\boughrio\\appdata\\local\\anaconda3\\lib\\site-packages (from tensorflow-intel==2.16.1->tensorflow) (1.26.4)\n",
      "Requirement already satisfied: wheel<1.0,>=0.23.0 in c:\\users\\boughrio\\appdata\\local\\anaconda3\\lib\\site-packages (from astunparse>=1.6.0->tensorflow-intel==2.16.1->tensorflow) (0.41.2)\n",
      "Requirement already satisfied: rich in c:\\users\\boughrio\\appdata\\local\\anaconda3\\lib\\site-packages (from keras>=3.0.0->tensorflow-intel==2.16.1->tensorflow) (13.3.5)\n",
      "Requirement already satisfied: namex in c:\\users\\boughrio\\appdata\\local\\anaconda3\\lib\\site-packages (from keras>=3.0.0->tensorflow-intel==2.16.1->tensorflow) (0.0.8)\n",
      "Requirement already satisfied: optree in c:\\users\\boughrio\\appdata\\local\\anaconda3\\lib\\site-packages (from keras>=3.0.0->tensorflow-intel==2.16.1->tensorflow) (0.11.0)\n",
      "Requirement already satisfied: charset-normalizer<4,>=2 in c:\\users\\boughrio\\appdata\\local\\anaconda3\\lib\\site-packages (from requests<3,>=2.21.0->tensorflow-intel==2.16.1->tensorflow) (2.0.4)\n",
      "Requirement already satisfied: idna<4,>=2.5 in c:\\users\\boughrio\\appdata\\local\\anaconda3\\lib\\site-packages (from requests<3,>=2.21.0->tensorflow-intel==2.16.1->tensorflow) (3.4)\n",
      "Requirement already satisfied: urllib3<3,>=1.21.1 in c:\\users\\boughrio\\appdata\\local\\anaconda3\\lib\\site-packages (from requests<3,>=2.21.0->tensorflow-intel==2.16.1->tensorflow) (2.0.7)\n",
      "Requirement already satisfied: certifi>=2017.4.17 in c:\\users\\boughrio\\appdata\\local\\anaconda3\\lib\\site-packages (from requests<3,>=2.21.0->tensorflow-intel==2.16.1->tensorflow) (2024.2.2)\n",
      "Requirement already satisfied: markdown>=2.6.8 in c:\\users\\boughrio\\appdata\\local\\anaconda3\\lib\\site-packages (from tensorboard<2.17,>=2.16->tensorflow-intel==2.16.1->tensorflow) (3.4.1)\n",
      "Requirement already satisfied: tensorboard-data-server<0.8.0,>=0.7.0 in c:\\users\\boughrio\\appdata\\local\\anaconda3\\lib\\site-packages (from tensorboard<2.17,>=2.16->tensorflow-intel==2.16.1->tensorflow) (0.7.2)\n",
      "Requirement already satisfied: werkzeug>=1.0.1 in c:\\users\\boughrio\\appdata\\local\\anaconda3\\lib\\site-packages (from tensorboard<2.17,>=2.16->tensorflow-intel==2.16.1->tensorflow) (2.2.3)\n",
      "Requirement already satisfied: MarkupSafe>=2.1.1 in c:\\users\\boughrio\\appdata\\local\\anaconda3\\lib\\site-packages (from werkzeug>=1.0.1->tensorboard<2.17,>=2.16->tensorflow-intel==2.16.1->tensorflow) (2.1.3)\n",
      "Requirement already satisfied: markdown-it-py<3.0.0,>=2.2.0 in c:\\users\\boughrio\\appdata\\local\\anaconda3\\lib\\site-packages (from rich->keras>=3.0.0->tensorflow-intel==2.16.1->tensorflow) (2.2.0)\n",
      "Requirement already satisfied: pygments<3.0.0,>=2.13.0 in c:\\users\\boughrio\\appdata\\local\\anaconda3\\lib\\site-packages (from rich->keras>=3.0.0->tensorflow-intel==2.16.1->tensorflow) (2.15.1)\n",
      "Requirement already satisfied: mdurl~=0.1 in c:\\users\\boughrio\\appdata\\local\\anaconda3\\lib\\site-packages (from markdown-it-py<3.0.0,>=2.2.0->rich->keras>=3.0.0->tensorflow-intel==2.16.1->tensorflow) (0.1.0)\n"
     ]
    }
   ],
   "source": [
    "!pip install opencv-python\n",
    "!pip install tensorflow"
   ]
  },
  {
   "cell_type": "code",
   "execution_count": 3,
   "metadata": {},
   "outputs": [
    {
     "name": "stderr",
     "output_type": "stream",
     "text": [
      "[codecarbon WARNING @ 14:20:43] Invalid gpu_ids format. Expected a string or a list of ints.\n",
      "[codecarbon INFO @ 14:20:43] [setup] RAM Tracking...\n",
      "[codecarbon INFO @ 14:20:43] [setup] GPU Tracking...\n",
      "[codecarbon INFO @ 14:20:43] No GPU found.\n",
      "[codecarbon INFO @ 14:20:43] [setup] CPU Tracking...\n",
      "[codecarbon WARNING @ 14:20:43] No CPU tracking mode found. Falling back on CPU constant mode.\n",
      "[codecarbon INFO @ 14:20:45] CPU Model on constant consumption mode: Intel(R) Core(TM) i5-10500 CPU @ 3.10GHz\n",
      "[codecarbon INFO @ 14:20:45] >>> Tracker's metadata:\n",
      "[codecarbon INFO @ 14:20:45]   Platform system: Windows-10-10.0.19045-SP0\n",
      "[codecarbon INFO @ 14:20:45]   Python version: 3.11.7\n",
      "[codecarbon INFO @ 14:20:45]   CodeCarbon version: 2.4.3rc1\n",
      "[codecarbon INFO @ 14:20:45]   Available RAM : 15.690 GB\n",
      "[codecarbon INFO @ 14:20:45]   CPU count: 12\n",
      "[codecarbon INFO @ 14:20:45]   CPU model: Intel(R) Core(TM) i5-10500 CPU @ 3.10GHz\n",
      "[codecarbon INFO @ 14:20:45]   GPU count: None\n",
      "[codecarbon INFO @ 14:20:45]   GPU model: None\n",
      "[codecarbon WARNING @ 14:20:48] Invalid gpu_ids format. Expected a string or a list of ints.\n",
      "[codecarbon INFO @ 14:20:48] [setup] RAM Tracking...\n",
      "[codecarbon INFO @ 14:20:48] [setup] GPU Tracking...\n",
      "[codecarbon INFO @ 14:20:48] No GPU found.\n",
      "[codecarbon INFO @ 14:20:48] [setup] CPU Tracking...\n",
      "[codecarbon WARNING @ 14:20:48] No CPU tracking mode found. Falling back on CPU constant mode.\n",
      "[codecarbon INFO @ 14:20:50] CPU Model on constant consumption mode: Intel(R) Core(TM) i5-10500 CPU @ 3.10GHz\n",
      "[codecarbon INFO @ 14:20:50] >>> Tracker's metadata:\n",
      "[codecarbon INFO @ 14:20:50]   Platform system: Windows-10-10.0.19045-SP0\n",
      "[codecarbon INFO @ 14:20:50]   Python version: 3.11.7\n",
      "[codecarbon INFO @ 14:20:50]   CodeCarbon version: 2.4.3rc1\n",
      "[codecarbon INFO @ 14:20:50]   Available RAM : 15.690 GB\n",
      "[codecarbon INFO @ 14:20:50]   CPU count: 12\n",
      "[codecarbon INFO @ 14:20:50]   CPU model: Intel(R) Core(TM) i5-10500 CPU @ 3.10GHz\n",
      "[codecarbon INFO @ 14:20:50]   GPU count: None\n",
      "[codecarbon INFO @ 14:20:50]   GPU model: None\n"
     ]
    },
    {
     "name": "stdout",
     "output_type": "stream",
     "text": [
      "Training data shape :  (50000, 32, 32, 3) (50000, 1)\n",
      "Testing data shape :  (10000, 32, 32, 3) (10000, 1)\n",
      "Total number of outputs :  10\n",
      "Output classes :  [0 1 2 3 4 5 6 7 8 9]\n"
     ]
    },
    {
     "data": {
      "text/plain": [
       "Text(0.5, 1.0, 'Ground Truth : [3]')"
      ]
     },
     "execution_count": 3,
     "metadata": {},
     "output_type": "execute_result"
    },
    {
     "data": {
      "image/png": "[encoded data removed]",
      "text/plain": [
       "<Figure size 400x200 with 2 Axes>"
      ]
     },
     "metadata": {},
     "output_type": "display_data"
    }
   ],
   "source": [
    "import tensorflow as tf\n",
    "import numpy as np\n",
    "import matplotlib.pyplot as plt\n",
    "from tensorflow.keras.models import Sequential\n",
    "from tensorflow.keras.utils import to_categorical\n",
    "from tensorflow.keras.layers import Dense, Conv2D, MaxPooling2D, Dropout, Flatten, BatchNormalization\n",
    "from tensorflow.keras.callbacks import LearningRateScheduler, EarlyStopping\n",
    "from tensorflow.keras.preprocessing.image import ImageDataGenerator\n",
    "from codecarbon import EmissionsTracker\n",
    "\n",
    "\n",
    "\n",
    "trackerTot= EmissionsTracker()\n",
    "trackerTot.start()\n",
    "\n",
    "tracker= EmissionsTracker()\n",
    "tracker.start()\n",
    "\n",
    "# Load CIFAR-10 dataset\n",
    "(train_images, train_labels), (test_images, test_labels)  = tf.keras.datasets.cifar10.load_data()\n",
    "\n",
    "# Print shapes of training and testing data\n",
    "print('Training data shape : ', train_images.shape, train_labels.shape)\n",
    "print('Testing data shape : ', test_images.shape, test_labels.shape)\n",
    "\n",
    "# Find the unique numbers from the train labels\n",
    "classes = np.unique(train_labels)\n",
    "nClasses = len(classes)\n",
    "print('Total number of outputs : ', nClasses)\n",
    "print('Output classes : ', classes)\n",
    "\n",
    "# Display the first image in training and testing data\n",
    "plt.figure(figsize=[4,2])\n",
    "plt.subplot(121)\n",
    "plt.imshow(train_images[0,:,:], cmap='gray')\n",
    "plt.title(\"Ground Truth : {}\".format(train_labels[0]))\n",
    "\n",
    "plt.subplot(122)\n",
    "plt.imshow(test_images[0,:,:], cmap='gray')\n",
    "plt.title(\"Ground Truth : {}\".format(test_labels[0]))\n",
    "\n"
   ]
  },
  {
   "cell_type": "code",
   "execution_count": 4,
   "metadata": {},
   "outputs": [
    {
     "name": "stdout",
     "output_type": "stream",
     "text": [
      "Number of blurry images: 10\n"
     ]
    },
    {
     "data": {
      "image/png": "[encoded data removed]",
      "text/plain": [
       "<Figure size 1500x500 with 5 Axes>"
      ]
     },
     "metadata": {},
     "output_type": "display_data"
    },
    {
     "name": "stdout",
     "output_type": "stream",
     "text": [
      "Shape of cleaned dataset: (49990, 32, 32, 3) (49990, 1)\n",
      "Blurry images deleted.\n"
     ]
    }
   ],
   "source": [
    "import cv2\n",
    "import matplotlib.pyplot as plt\n",
    "\n",
    "# Function to check if an image is blurry\n",
    "def is_blurry(image, threshold=100):\n",
    "    # Convert the image to grayscale\n",
    "    gray = cv2.cvtColor(image, cv2.COLOR_BGR2GRAY)\n",
    "    # Compute the variance of Laplacian to determine blurriness\n",
    "    variance = cv2.Laplacian(gray, cv2.CV_64F).var()\n",
    "    # Return True if the variance is below the threshold, indicating blur\n",
    "    return variance < threshold\n",
    "\n",
    "# Define a function to iterate through images and check for blur\n",
    "def check_blur(images, threshold=100):\n",
    "    blurry_images = []\n",
    "    for i, image in enumerate(images):\n",
    "        if is_blurry(image, threshold):\n",
    "            blurry_images.append(i)\n",
    "    return blurry_images\n",
    "\n",
    "\n",
    "# Check for blurry images\n",
    "blurry_indices = check_blur(train_images)\n",
    "\n",
    "# Print the number of blurry images\n",
    "print(\"Number of blurry images:\", len(blurry_indices))\n",
    "\n",
    "# Display the first five blurry images\n",
    "plt.figure(figsize=(15, 5))\n",
    "for i, idx in enumerate(blurry_indices[:5]):\n",
    "    plt.subplot(1, 5, i + 1)\n",
    "    plt.imshow(train_images[idx])\n",
    "    plt.title(f\"Blurry Image {idx}\")\n",
    "    plt.axis('off')\n",
    "plt.show()\n",
    "\n",
    "# Remove blurry images from the dataset using their indices\n",
    "train_images = np.delete(train_images, blurry_indices, axis=0)\n",
    "train_labels = np.delete(train_labels, blurry_indices, axis=0)\n",
    "\n",
    "# Print the shape of the cleaned dataset\n",
    "print(\"Shape of cleaned dataset:\", train_images.shape, train_labels.shape)\n",
    "print(\"Blurry images deleted.\")\n",
    "\n"
   ]
  },
  {
   "cell_type": "code",
   "execution_count": 5,
   "metadata": {},
   "outputs": [
    {
     "name": "stderr",
     "output_type": "stream",
     "text": [
      "[codecarbon INFO @ 14:20:58] Energy consumed for RAM : 0.000008 kWh. RAM Power : 5.883667945861816 W\n",
      "[codecarbon INFO @ 14:20:58] Energy consumed for all CPUs : 0.000042 kWh. Total CPU Power : 32.5 W\n",
      "[codecarbon INFO @ 14:20:58] 0.00004963254524143490 kWh of electricity used since the beginning.\n"
     ]
    },
    {
     "name": "stdout",
     "output_type": "stream",
     "text": [
      "Original label 0 :  [6]\n",
      "After conversion to categorical ( one-hot ) :  [0. 0. 0. 0. 0. 0. 1. 0. 0. 0.]\n",
      "Shape of final dataset: (49990, 32, 32, 3) (49990, 1)\n",
      "PreProcessing Emissions:1.9603094055022387e-06 Kg\n"
     ]
    },
    {
     "name": "stderr",
     "output_type": "stream",
     "text": [
      "C:\\Users\\boughrio\\AppData\\Local\\anaconda3\\Lib\\site-packages\\codecarbon\\output_methods\\file.py:43: FutureWarning: The behavior of DataFrame concatenation with empty or all-NA entries is deprecated. In a future version, this will no longer exclude empty or all-NA columns when determining the result dtypes. To retain the old behavior, exclude the relevant entries before the concat operation.\n",
      "  df = pd.concat([df, pd.DataFrame.from_records([dict(data.values)])])\n"
     ]
    }
   ],
   "source": [
    "# Reshape and preprocess the training and testing data\n",
    "nRows,nCols,nDims = train_images.shape[1:]\n",
    "train_data = train_images.reshape(train_images.shape[0], nRows, nCols, nDims)\n",
    "test_data = test_images.reshape(test_images.shape[0], nRows, nCols, nDims)\n",
    "input_shape = (nRows, nCols, nDims)\n",
    "\n",
    "train_data = train_data.astype('float32')\n",
    "test_data = test_data.astype('float32')\n",
    "\n",
    "train_data /= 255\n",
    "test_data /= 255\n",
    "\n",
    "# Convert labels to one-hot encoding\n",
    "train_labels_one_hot = to_categorical(train_labels)\n",
    "test_labels_one_hot = to_categorical(test_labels)\n",
    "\n",
    "# Data Augmentation\n",
    "datagen = ImageDataGenerator(\n",
    "    rotation_range=15,\n",
    "    width_shift_range=0.1,\n",
    "    height_shift_range=0.1,\n",
    "    horizontal_flip=True\n",
    ")\n",
    "datagen.fit(train_images)\n",
    "\n",
    "print('Original label 0 : ', train_labels[0])\n",
    "print('After conversion to categorical ( one-hot ) : ', train_labels_one_hot[0])\n",
    "\n",
    "print(\"Shape of final dataset:\", train_data.shape, train_labels.shape)\n",
    "\n",
    "\n",
    "emissions: float = tracker.stop()\n",
    "print(f\"PreProcessing Emissions:{emissions} Kg\")"
   ]
  },
  {
   "cell_type": "code",
   "execution_count": 6,
   "metadata": {
    "colab": {
     "base_uri": "https://localhost:8080/",
     "height": 1000
    },
    "id": "M-DKOgscrxNa",
    "outputId": "60491715-b34c-4bfa-8a3e-ab8701b3625d"
   },
   "outputs": [
    {
     "name": "stderr",
     "output_type": "stream",
     "text": [
      "C:\\Users\\boughrio\\AppData\\Local\\anaconda3\\Lib\\site-packages\\keras\\src\\layers\\convolutional\\base_conv.py:107: UserWarning: Do not pass an `input_shape`/`input_dim` argument to a layer. When using Sequential models, prefer using an `Input(shape)` object as the first layer in the model instead.\n",
      "  super().__init__(activity_regularizer=activity_regularizer, **kwargs)\n",
      "[codecarbon WARNING @ 14:20:59] Invalid gpu_ids format. Expected a string or a list of ints.\n",
      "[codecarbon INFO @ 14:20:59] [setup] RAM Tracking...\n",
      "[codecarbon INFO @ 14:20:59] [setup] GPU Tracking...\n",
      "[codecarbon INFO @ 14:20:59] No GPU found.\n",
      "[codecarbon INFO @ 14:20:59] [setup] CPU Tracking...\n",
      "[codecarbon WARNING @ 14:20:59] No CPU tracking mode found. Falling back on CPU constant mode.\n",
      "[codecarbon INFO @ 14:21:00] CPU Model on constant consumption mode: Intel(R) Core(TM) i5-10500 CPU @ 3.10GHz\n",
      "[codecarbon INFO @ 14:21:00] >>> Tracker's metadata:\n",
      "[codecarbon INFO @ 14:21:00]   Platform system: Windows-10-10.0.19045-SP0\n",
      "[codecarbon INFO @ 14:21:00]   Python version: 3.11.7\n",
      "[codecarbon INFO @ 14:21:00]   CodeCarbon version: 2.4.3rc1\n",
      "[codecarbon INFO @ 14:21:00]   Available RAM : 15.690 GB\n",
      "[codecarbon INFO @ 14:21:00]   CPU count: 12\n",
      "[codecarbon INFO @ 14:21:00]   CPU model: Intel(R) Core(TM) i5-10500 CPU @ 3.10GHz\n",
      "[codecarbon INFO @ 14:21:00]   GPU count: None\n",
      "[codecarbon INFO @ 14:21:00]   GPU model: None\n",
      "[codecarbon INFO @ 14:21:03] Energy consumed for RAM : 0.000025 kWh. RAM Power : 5.883667945861816 W\n",
      "[codecarbon INFO @ 14:21:03] Energy consumed for all CPUs : 0.000136 kWh. Total CPU Power : 32.5 W\n",
      "[codecarbon INFO @ 14:21:03] 0.00016003122239301623 kWh of electricity used since the beginning.\n"
     ]
    },
    {
     "name": "stdout",
     "output_type": "stream",
     "text": [
      "Epoch 1/100\n"
     ]
    },
    {
     "name": "stderr",
     "output_type": "stream",
     "text": [
      "C:\\Users\\boughrio\\AppData\\Local\\anaconda3\\Lib\\site-packages\\keras\\src\\trainers\\data_adapters\\py_dataset_adapter.py:121: UserWarning: Your `PyDataset` class should call `super().__init__(**kwargs)` in its constructor. `**kwargs` can include `workers`, `use_multiprocessing`, `max_queue_size`. Do not pass these arguments to `fit()`, as they will be ignored.\n",
      "  self._warn_if_super_not_called()\n"
     ]
    },
    {
     "name": "stdout",
     "output_type": "stream",
     "text": [
      "\u001b[1m 88/782\u001b[0m \u001b[32m━━\u001b[0m\u001b[37m━━━━━━━━━━━━━━━━━━\u001b[0m \u001b[1m1:00\u001b[0m 87ms/step - accuracy: 0.1963 - loss: 2.9170"
     ]
    },
    {
     "name": "stderr",
     "output_type": "stream",
     "text": [
      "[codecarbon INFO @ 14:21:18] Energy consumed for RAM : 0.000049 kWh. RAM Power : 5.883667945861816 W\n",
      "[codecarbon INFO @ 14:21:18] Energy consumed for all CPUs : 0.000271 kWh. Total CPU Power : 32.5 W\n",
      "[codecarbon INFO @ 14:21:18] 0.00032023280023743057 kWh of electricity used since the beginning.\n"
     ]
    },
    {
     "name": "stdout",
     "output_type": "stream",
     "text": [
      "\u001b[1m 94/782\u001b[0m \u001b[32m━━\u001b[0m\u001b[37m━━━━━━━━━━━━━━━━━━\u001b[0m \u001b[1m1:00\u001b[0m 89ms/step - accuracy: 0.1987 - loss: 2.8994"
     ]
    },
    {
     "name": "stderr",
     "output_type": "stream",
     "text": [
      "[codecarbon INFO @ 14:21:19] Energy consumed for RAM : 0.000025 kWh. RAM Power : 5.883667945861816 W\n",
      "[codecarbon INFO @ 14:21:19] Energy consumed for all CPUs : 0.000136 kWh. Total CPU Power : 32.5 W\n",
      "[codecarbon INFO @ 14:21:19] 0.00016023531593152126 kWh of electricity used since the beginning.\n"
     ]
    },
    {
     "name": "stdout",
     "output_type": "stream",
     "text": [
      "\u001b[1m242/782\u001b[0m \u001b[32m━━━━━━\u001b[0m\u001b[37m━━━━━━━━━━━━━━\u001b[0m \u001b[1m50s\u001b[0m 94ms/step - accuracy: 0.2384 - loss: 2.6201"
     ]
    },
    {
     "name": "stderr",
     "output_type": "stream",
     "text": [
      "[codecarbon INFO @ 14:21:33] Energy consumed for RAM : 0.000074 kWh. RAM Power : 5.883667945861816 W\n",
      "[codecarbon INFO @ 14:21:33] Energy consumed for all CPUs : 0.000407 kWh. Total CPU Power : 32.5 W\n",
      "[codecarbon INFO @ 14:21:33] 0.00048032281530724309 kWh of electricity used since the beginning.\n"
     ]
    },
    {
     "name": "stdout",
     "output_type": "stream",
     "text": [
      "\u001b[1m249/782\u001b[0m \u001b[32m━━━━━━\u001b[0m\u001b[37m━━━━━━━━━━━━━━\u001b[0m \u001b[1m50s\u001b[0m 94ms/step - accuracy: 0.2398 - loss: 2.6111"
     ]
    },
    {
     "name": "stderr",
     "output_type": "stream",
     "text": [
      "[codecarbon INFO @ 14:21:34] Energy consumed for RAM : 0.000049 kWh. RAM Power : 5.883667945861816 W\n",
      "[codecarbon INFO @ 14:21:34] Energy consumed for all CPUs : 0.000271 kWh. Total CPU Power : 32.5 W\n",
      "[codecarbon INFO @ 14:21:34] 0.00032042977854274016 kWh of electricity used since the beginning.\n"
     ]
    },
    {
     "name": "stdout",
     "output_type": "stream",
     "text": [
      "\u001b[1m411/782\u001b[0m \u001b[32m━━━━━━━━━━\u001b[0m\u001b[37m━━━━━━━━━━\u001b[0m \u001b[1m34s\u001b[0m 92ms/step - accuracy: 0.2659 - loss: 2.4456"
     ]
    },
    {
     "name": "stderr",
     "output_type": "stream",
     "text": [
      "[codecarbon INFO @ 14:21:48] Energy consumed for RAM : 0.000098 kWh. RAM Power : 5.883667945861816 W\n",
      "[codecarbon INFO @ 14:21:48] Energy consumed for all CPUs : 0.000542 kWh. Total CPU Power : 32.5 W\n",
      "[codecarbon INFO @ 14:21:48] 0.00064014147017314770 kWh of electricity used since the beginning.\n"
     ]
    },
    {
     "name": "stdout",
     "output_type": "stream",
     "text": [
      "\u001b[1m418/782\u001b[0m \u001b[32m━━━━━━━━━━\u001b[0m\u001b[37m━━━━━━━━━━\u001b[0m \u001b[1m33s\u001b[0m 92ms/step - accuracy: 0.2669 - loss: 2.4398"
     ]
    },
    {
     "name": "stderr",
     "output_type": "stream",
     "text": [
      "[codecarbon INFO @ 14:21:49] Energy consumed for RAM : 0.000074 kWh. RAM Power : 5.883667945861816 W\n",
      "[codecarbon INFO @ 14:21:49] Energy consumed for all CPUs : 0.000407 kWh. Total CPU Power : 32.5 W\n",
      "[codecarbon INFO @ 14:21:49] 0.00048052641494177663 kWh of electricity used since the beginning.\n"
     ]
    },
    {
     "name": "stdout",
     "output_type": "stream",
     "text": [
      "\u001b[1m572/782\u001b[0m \u001b[32m━━━━━━━━━━━━━━\u001b[0m\u001b[37m━━━━━━\u001b[0m \u001b[1m19s\u001b[0m 92ms/step - accuracy: 0.2864 - loss: 2.3294"
     ]
    },
    {
     "name": "stderr",
     "output_type": "stream",
     "text": [
      "[codecarbon INFO @ 14:22:03] Energy consumed for RAM : 0.000123 kWh. RAM Power : 5.883667945861816 W\n",
      "[codecarbon INFO @ 14:22:03] Energy consumed for all CPUs : 0.000678 kWh. Total CPU Power : 32.5 W\n",
      "[codecarbon INFO @ 14:22:03] 0.00080018509193886627 kWh of electricity used since the beginning.\n"
     ]
    },
    {
     "name": "stdout",
     "output_type": "stream",
     "text": [
      "\u001b[1m580/782\u001b[0m \u001b[32m━━━━━━━━━━━━━━\u001b[0m\u001b[37m━━━━━━\u001b[0m \u001b[1m18s\u001b[0m 92ms/step - accuracy: 0.2873 - loss: 2.3244"
     ]
    },
    {
     "name": "stderr",
     "output_type": "stream",
     "text": [
      "[codecarbon INFO @ 14:22:04] Energy consumed for RAM : 0.000098 kWh. RAM Power : 5.883667945861816 W\n",
      "[codecarbon INFO @ 14:22:04] Energy consumed for all CPUs : 0.000542 kWh. Total CPU Power : 32.5 W\n",
      "[codecarbon INFO @ 14:22:04] 0.00064039527194242787 kWh of electricity used since the beginning.\n"
     ]
    },
    {
     "name": "stdout",
     "output_type": "stream",
     "text": [
      "\u001b[1m732/782\u001b[0m \u001b[32m━━━━━━━━━━━━━━━━━━\u001b[0m\u001b[37m━━\u001b[0m \u001b[1m4s\u001b[0m 93ms/step - accuracy: 0.3034 - loss: 2.2407"
     ]
    },
    {
     "name": "stderr",
     "output_type": "stream",
     "text": [
      "[codecarbon INFO @ 14:22:18] Energy consumed for RAM : 0.000147 kWh. RAM Power : 5.883667945861816 W\n",
      "[codecarbon INFO @ 14:22:18] Energy consumed for all CPUs : 0.000813 kWh. Total CPU Power : 32.5 W\n",
      "[codecarbon INFO @ 14:22:18] 0.00096016637583970163 kWh of electricity used since the beginning.\n"
     ]
    },
    {
     "name": "stdout",
     "output_type": "stream",
     "text": [
      "\u001b[1m740/782\u001b[0m \u001b[32m━━━━━━━━━━━━━━━━━━\u001b[0m\u001b[37m━━\u001b[0m \u001b[1m3s\u001b[0m 93ms/step - accuracy: 0.3042 - loss: 2.2368"
     ]
    },
    {
     "name": "stderr",
     "output_type": "stream",
     "text": [
      "[codecarbon INFO @ 14:22:19] Energy consumed for RAM : 0.000123 kWh. RAM Power : 5.883667945861816 W\n",
      "[codecarbon INFO @ 14:22:19] Energy consumed for all CPUs : 0.000678 kWh. Total CPU Power : 32.5 W\n",
      "[codecarbon INFO @ 14:22:19] 0.00080034923168790194 kWh of electricity used since the beginning.\n"
     ]
    },
    {
     "name": "stdout",
     "output_type": "stream",
     "text": [
      "\u001b[1m782/782\u001b[0m \u001b[32m━━━━━━━━━━━━━━━━━━━━\u001b[0m\u001b[37m\u001b[0m \u001b[1m81s\u001b[0m 96ms/step - accuracy: 0.3083 - loss: 2.2163 - val_accuracy: 0.5173 - val_loss: 1.3470 - learning_rate: 0.0010\n",
      "Epoch 2/100\n",
      "\u001b[1m 87/782\u001b[0m \u001b[32m━━\u001b[0m\u001b[37m━━━━━━━━━━━━━━━━━━\u001b[0m \u001b[1m58s\u001b[0m 84ms/step - accuracy: 0.4757 - loss: 1.4841"
     ]
    },
    {
     "name": "stderr",
     "output_type": "stream",
     "text": [
      "[codecarbon INFO @ 14:22:33] Energy consumed for RAM : 0.000172 kWh. RAM Power : 5.883667945861816 W\n",
      "[codecarbon INFO @ 14:22:33] Energy consumed for all CPUs : 0.000949 kWh. Total CPU Power : 32.5 W\n",
      "[codecarbon INFO @ 14:22:33] 0.00112023557464260588 kWh of electricity used since the beginning.\n"
     ]
    },
    {
     "name": "stdout",
     "output_type": "stream",
     "text": [
      "\u001b[1m 95/782\u001b[0m \u001b[32m━━\u001b[0m\u001b[37m━━━━━━━━━━━━━━━━━━\u001b[0m \u001b[1m57s\u001b[0m 84ms/step - accuracy: 0.4764 - loss: 1.4826"
     ]
    },
    {
     "name": "stderr",
     "output_type": "stream",
     "text": [
      "[codecarbon INFO @ 14:22:34] Energy consumed for RAM : 0.000147 kWh. RAM Power : 5.883667945861816 W\n",
      "[codecarbon INFO @ 14:22:34] Energy consumed for all CPUs : 0.000813 kWh. Total CPU Power : 32.5 W\n",
      "[codecarbon INFO @ 14:22:34] 0.00096037086080194556 kWh of electricity used since the beginning.\n"
     ]
    },
    {
     "name": "stdout",
     "output_type": "stream",
     "text": [
      "\u001b[1m255/782\u001b[0m \u001b[32m━━━━━━\u001b[0m\u001b[37m━━━━━━━━━━━━━━\u001b[0m \u001b[1m46s\u001b[0m 88ms/step - accuracy: 0.4867 - loss: 1.4525"
     ]
    },
    {
     "name": "stderr",
     "output_type": "stream",
     "text": [
      "[codecarbon INFO @ 14:22:48] Energy consumed for RAM : 0.000196 kWh. RAM Power : 5.883667945861816 W\n",
      "[codecarbon INFO @ 14:22:48] Energy consumed for all CPUs : 0.001084 kWh. Total CPU Power : 32.5 W\n",
      "[codecarbon INFO @ 14:22:48] 0.00128014260051679467 kWh of electricity used since the beginning.\n"
     ]
    },
    {
     "name": "stdout",
     "output_type": "stream",
     "text": [
      "\u001b[1m263/782\u001b[0m \u001b[32m━━━━━━\u001b[0m\u001b[37m━━━━━━━━━━━━━━\u001b[0m \u001b[1m45s\u001b[0m 88ms/step - accuracy: 0.4871 - loss: 1.4516"
     ]
    },
    {
     "name": "stderr",
     "output_type": "stream",
     "text": [
      "[codecarbon INFO @ 14:22:49] Energy consumed for RAM : 0.000172 kWh. RAM Power : 5.883667945861816 W\n",
      "[codecarbon INFO @ 14:22:49] Energy consumed for all CPUs : 0.000949 kWh. Total CPU Power : 32.5 W\n",
      "[codecarbon INFO @ 14:22:49] 0.00112056083874327106 kWh of electricity used since the beginning.\n"
     ]
    },
    {
     "name": "stdout",
     "output_type": "stream",
     "text": [
      "\u001b[1m422/782\u001b[0m \u001b[32m━━━━━━━━━━\u001b[0m\u001b[37m━━━━━━━━━━\u001b[0m \u001b[1m31s\u001b[0m 89ms/step - accuracy: 0.4931 - loss: 1.4320"
     ]
    },
    {
     "name": "stderr",
     "output_type": "stream",
     "text": [
      "[codecarbon INFO @ 14:23:03] Energy consumed for RAM : 0.000221 kWh. RAM Power : 5.883667945861816 W\n",
      "[codecarbon INFO @ 14:23:03] Energy consumed for all CPUs : 0.001220 kWh. Total CPU Power : 32.5 W\n",
      "[codecarbon INFO @ 14:23:03] 0.00144009515676679200 kWh of electricity used since the beginning.\n"
     ]
    },
    {
     "name": "stdout",
     "output_type": "stream",
     "text": [
      "\u001b[1m430/782\u001b[0m \u001b[32m━━━━━━━━━━\u001b[0m\u001b[37m━━━━━━━━━━\u001b[0m \u001b[1m31s\u001b[0m 88ms/step - accuracy: 0.4934 - loss: 1.4311"
     ]
    },
    {
     "name": "stderr",
     "output_type": "stream",
     "text": [
      "[codecarbon INFO @ 14:23:04] Energy consumed for RAM : 0.000196 kWh. RAM Power : 5.883667945861816 W\n",
      "[codecarbon INFO @ 14:23:04] Energy consumed for all CPUs : 0.001084 kWh. Total CPU Power : 32.5 W\n",
      "[codecarbon INFO @ 14:23:04] 0.00128043455597808952 kWh of electricity used since the beginning.\n"
     ]
    },
    {
     "name": "stdout",
     "output_type": "stream",
     "text": [
      "\u001b[1m590/782\u001b[0m \u001b[32m━━━━━━━━━━━━━━━\u001b[0m\u001b[37m━━━━━\u001b[0m \u001b[1m17s\u001b[0m 89ms/step - accuracy: 0.4991 - loss: 1.4134"
     ]
    },
    {
     "name": "stderr",
     "output_type": "stream",
     "text": [
      "[codecarbon INFO @ 14:23:18] Energy consumed for RAM : 0.000245 kWh. RAM Power : 5.883667945861816 W\n",
      "[codecarbon INFO @ 14:23:18] Energy consumed for all CPUs : 0.001355 kWh. Total CPU Power : 32.5 W\n",
      "[codecarbon INFO @ 14:23:18] 0.00159999287071277592 kWh of electricity used since the beginning.\n"
     ]
    },
    {
     "name": "stdout",
     "output_type": "stream",
     "text": [
      "\u001b[1m598/782\u001b[0m \u001b[32m━━━━━━━━━━━━━━━\u001b[0m\u001b[37m━━━━━\u001b[0m \u001b[1m16s\u001b[0m 89ms/step - accuracy: 0.4994 - loss: 1.4126"
     ]
    },
    {
     "name": "stderr",
     "output_type": "stream",
     "text": [
      "[codecarbon INFO @ 14:23:19] Energy consumed for RAM : 0.000221 kWh. RAM Power : 5.883667945861816 W\n",
      "[codecarbon INFO @ 14:23:19] Energy consumed for all CPUs : 0.001220 kWh. Total CPU Power : 32.5 W\n",
      "[codecarbon INFO @ 14:23:19] 0.00144034974348579035 kWh of electricity used since the beginning.\n"
     ]
    },
    {
     "name": "stdout",
     "output_type": "stream",
     "text": [
      "\u001b[1m760/782\u001b[0m \u001b[32m━━━━━━━━━━━━━━━━━━━\u001b[0m\u001b[37m━\u001b[0m \u001b[1m1s\u001b[0m 89ms/step - accuracy: 0.5048 - loss: 1.3964"
     ]
    },
    {
     "name": "stderr",
     "output_type": "stream",
     "text": [
      "[codecarbon INFO @ 14:23:33] Energy consumed for RAM : 0.000270 kWh. RAM Power : 5.883667945861816 W\n",
      "[codecarbon INFO @ 14:23:33] Energy consumed for all CPUs : 0.001490 kWh. Total CPU Power : 32.5 W\n",
      "[codecarbon INFO @ 14:23:33] 0.00175999419174001598 kWh of electricity used since the beginning.\n"
     ]
    },
    {
     "name": "stdout",
     "output_type": "stream",
     "text": [
      "\u001b[1m769/782\u001b[0m \u001b[32m━━━━━━━━━━━━━━━━━━━\u001b[0m\u001b[37m━\u001b[0m \u001b[1m1s\u001b[0m 89ms/step - accuracy: 0.5051 - loss: 1.3955"
     ]
    },
    {
     "name": "stderr",
     "output_type": "stream",
     "text": [
      "[codecarbon INFO @ 14:23:34] Energy consumed for RAM : 0.000245 kWh. RAM Power : 5.883667945861816 W\n",
      "[codecarbon INFO @ 14:23:34] Energy consumed for all CPUs : 0.001355 kWh. Total CPU Power : 32.5 W\n",
      "[codecarbon INFO @ 14:23:34] 0.00160025498655862511 kWh of electricity used since the beginning.\n"
     ]
    },
    {
     "name": "stdout",
     "output_type": "stream",
     "text": [
      "\u001b[1m782/782\u001b[0m \u001b[32m━━━━━━━━━━━━━━━━━━━━\u001b[0m\u001b[37m\u001b[0m \u001b[1m72s\u001b[0m 91ms/step - accuracy: 0.5056 - loss: 1.3942 - val_accuracy: 0.5209 - val_loss: 1.4158 - learning_rate: 0.0010\n",
      "Epoch 3/100\n",
      "\u001b[1m120/782\u001b[0m \u001b[32m━━━\u001b[0m\u001b[37m━━━━━━━━━━━━━━━━━\u001b[0m \u001b[1m59s\u001b[0m 90ms/step - accuracy: 0.5676 - loss: 1.2416"
     ]
    },
    {
     "name": "stderr",
     "output_type": "stream",
     "text": [
      "[codecarbon INFO @ 14:23:48] Energy consumed for RAM : 0.000294 kWh. RAM Power : 5.883667945861816 W\n",
      "[codecarbon INFO @ 14:23:48] Energy consumed for all CPUs : 0.001626 kWh. Total CPU Power : 32.5 W\n",
      "[codecarbon INFO @ 14:23:48] 0.00192024179322868786 kWh of electricity used since the beginning.\n"
     ]
    },
    {
     "name": "stdout",
     "output_type": "stream",
     "text": [
      "\u001b[1m128/782\u001b[0m \u001b[32m━━━\u001b[0m\u001b[37m━━━━━━━━━━━━━━━━━\u001b[0m \u001b[1m58s\u001b[0m 90ms/step - accuracy: 0.5683 - loss: 1.2390"
     ]
    },
    {
     "name": "stderr",
     "output_type": "stream",
     "text": [
      "[codecarbon INFO @ 14:23:49] Energy consumed for RAM : 0.000270 kWh. RAM Power : 5.883667945861816 W\n",
      "[codecarbon INFO @ 14:23:49] Energy consumed for all CPUs : 0.001491 kWh. Total CPU Power : 32.5 W\n",
      "[codecarbon INFO @ 14:23:49] 0.00176025432431451355 kWh of electricity used since the beginning.\n"
     ]
    },
    {
     "name": "stdout",
     "output_type": "stream",
     "text": [
      "\u001b[1m291/782\u001b[0m \u001b[32m━━━━━━━\u001b[0m\u001b[37m━━━━━━━━━━━━━\u001b[0m \u001b[1m43s\u001b[0m 89ms/step - accuracy: 0.5767 - loss: 1.2094"
     ]
    },
    {
     "name": "stderr",
     "output_type": "stream",
     "text": [
      "[codecarbon INFO @ 14:24:03] Energy consumed for RAM : 0.000319 kWh. RAM Power : 5.883667945861816 W\n",
      "[codecarbon INFO @ 14:24:03] Energy consumed for all CPUs : 0.001762 kWh. Total CPU Power : 32.5 W\n",
      "[codecarbon INFO @ 14:24:03] 0.00208017374018218014 kWh of electricity used since the beginning.\n"
     ]
    },
    {
     "name": "stdout",
     "output_type": "stream",
     "text": [
      "\u001b[1m299/782\u001b[0m \u001b[32m━━━━━━━\u001b[0m\u001b[37m━━━━━━━━━━━━━\u001b[0m \u001b[1m42s\u001b[0m 89ms/step - accuracy: 0.5769 - loss: 1.2087"
     ]
    },
    {
     "name": "stderr",
     "output_type": "stream",
     "text": [
      "[codecarbon INFO @ 14:24:04] Energy consumed for RAM : 0.000294 kWh. RAM Power : 5.883667945861816 W\n",
      "[codecarbon INFO @ 14:24:04] Energy consumed for all CPUs : 0.001626 kWh. Total CPU Power : 32.5 W\n",
      "[codecarbon INFO @ 14:24:04] 0.00192025106262720875 kWh of electricity used since the beginning.\n"
     ]
    },
    {
     "name": "stdout",
     "output_type": "stream",
     "text": [
      "\u001b[1m465/782\u001b[0m \u001b[32m━━━━━━━━━━━\u001b[0m\u001b[37m━━━━━━━━━\u001b[0m \u001b[1m27s\u001b[0m 88ms/step - accuracy: 0.5807 - loss: 1.1949"
     ]
    },
    {
     "name": "stderr",
     "output_type": "stream",
     "text": [
      "[codecarbon INFO @ 14:24:18] Energy consumed for RAM : 0.000343 kWh. RAM Power : 5.883667945861816 W\n",
      "[codecarbon INFO @ 14:24:18] Energy consumed for all CPUs : 0.001897 kWh. Total CPU Power : 32.5 W\n",
      "[codecarbon INFO @ 14:24:18] 0.00224046947939193644 kWh of electricity used since the beginning.\n"
     ]
    },
    {
     "name": "stdout",
     "output_type": "stream",
     "text": [
      "\u001b[1m472/782\u001b[0m \u001b[32m━━━━━━━━━━━━\u001b[0m\u001b[37m━━━━━━━━\u001b[0m \u001b[1m27s\u001b[0m 88ms/step - accuracy: 0.5809 - loss: 1.1944"
     ]
    },
    {
     "name": "stderr",
     "output_type": "stream",
     "text": [
      "[codecarbon INFO @ 14:24:19] Energy consumed for RAM : 0.000319 kWh. RAM Power : 5.883667945861816 W\n",
      "[codecarbon INFO @ 14:24:19] Energy consumed for all CPUs : 0.001762 kWh. Total CPU Power : 32.5 W\n",
      "[codecarbon INFO @ 14:24:19] 0.00208030162768042598 kWh of electricity used since the beginning.\n"
     ]
    },
    {
     "name": "stdout",
     "output_type": "stream",
     "text": [
      "\u001b[1m639/782\u001b[0m \u001b[32m━━━━━━━━━━━━━━━━\u001b[0m\u001b[37m━━━━\u001b[0m \u001b[1m12s\u001b[0m 87ms/step - accuracy: 0.5837 - loss: 1.1844"
     ]
    },
    {
     "name": "stderr",
     "output_type": "stream",
     "text": [
      "[codecarbon INFO @ 14:24:33] Energy consumed for RAM : 0.000368 kWh. RAM Power : 5.883667945861816 W\n",
      "[codecarbon INFO @ 14:24:34] Energy consumed for all CPUs : 0.002033 kWh. Total CPU Power : 32.5 W\n",
      "[codecarbon INFO @ 14:24:34] 0.00240067636176274739 kWh of electricity used since the beginning.\n"
     ]
    },
    {
     "name": "stdout",
     "output_type": "stream",
     "text": [
      "\u001b[1m646/782\u001b[0m \u001b[32m━━━━━━━━━━━━━━━━\u001b[0m\u001b[37m━━━━\u001b[0m \u001b[1m11s\u001b[0m 87ms/step - accuracy: 0.5839 - loss: 1.1840"
     ]
    },
    {
     "name": "stderr",
     "output_type": "stream",
     "text": [
      "[codecarbon INFO @ 14:24:34] Energy consumed for RAM : 0.000343 kWh. RAM Power : 5.883667945861816 W\n",
      "[codecarbon INFO @ 14:24:34] Energy consumed for all CPUs : 0.001897 kWh. Total CPU Power : 32.5 W\n",
      "[codecarbon INFO @ 14:24:34] 0.00224047131427620007 kWh of electricity used since the beginning.\n"
     ]
    },
    {
     "name": "stdout",
     "output_type": "stream",
     "text": [
      "\u001b[1m782/782\u001b[0m \u001b[32m━━━━━━━━━━━━━━━━━━━━\u001b[0m\u001b[37m\u001b[0m \u001b[1m71s\u001b[0m 90ms/step - accuracy: 0.5862 - loss: 1.1768 - val_accuracy: 0.6133 - val_loss: 1.1526 - learning_rate: 0.0010\n",
      "Epoch 4/100\n"
     ]
    },
    {
     "name": "stderr",
     "output_type": "stream",
     "text": [
      "[codecarbon INFO @ 14:24:48] Energy consumed for RAM : 0.000392 kWh. RAM Power : 5.883667945861816 W\n",
      "[codecarbon INFO @ 14:24:49] Energy consumed for all CPUs : 0.002168 kWh. Total CPU Power : 32.5 W\n",
      "[codecarbon INFO @ 14:24:49] 0.00256061315550264916 kWh of electricity used since the beginning.\n"
     ]
    },
    {
     "name": "stdout",
     "output_type": "stream",
     "text": [
      "\u001b[1m  8/782\u001b[0m \u001b[37m━━━━━━━━━━━━━━━━━━━━\u001b[0m \u001b[1m1:03\u001b[0m 82ms/step - accuracy: 0.5932 - loss: 1.1548"
     ]
    },
    {
     "name": "stderr",
     "output_type": "stream",
     "text": [
      "[codecarbon INFO @ 14:24:49] Energy consumed for RAM : 0.000368 kWh. RAM Power : 5.883667945861816 W\n",
      "[codecarbon INFO @ 14:24:49] Energy consumed for all CPUs : 0.002033 kWh. Total CPU Power : 32.5 W\n",
      "[codecarbon INFO @ 14:24:49] 0.00240029880936678923 kWh of electricity used since the beginning.\n"
     ]
    },
    {
     "name": "stdout",
     "output_type": "stream",
     "text": [
      "\u001b[1m181/782\u001b[0m \u001b[32m━━━━\u001b[0m\u001b[37m━━━━━━━━━━━━━━━━\u001b[0m \u001b[1m49s\u001b[0m 83ms/step - accuracy: 0.6204 - loss: 1.0707"
     ]
    },
    {
     "name": "stderr",
     "output_type": "stream",
     "text": [
      "[codecarbon INFO @ 14:25:04] Energy consumed for RAM : 0.000417 kWh. RAM Power : 5.883667945861816 W\n",
      "[codecarbon INFO @ 14:25:04] Energy consumed for all CPUs : 0.002304 kWh. Total CPU Power : 32.5 W\n",
      "[codecarbon INFO @ 14:25:04] 0.00272043245634701752 kWh of electricity used since the beginning.\n"
     ]
    },
    {
     "name": "stdout",
     "output_type": "stream",
     "text": [
      "\u001b[1m186/782\u001b[0m \u001b[32m━━━━\u001b[0m\u001b[37m━━━━━━━━━━━━━━━━\u001b[0m \u001b[1m49s\u001b[0m 84ms/step - accuracy: 0.6205 - loss: 1.0701"
     ]
    },
    {
     "name": "stderr",
     "output_type": "stream",
     "text": [
      "[codecarbon INFO @ 14:25:04] Energy consumed for RAM : 0.000392 kWh. RAM Power : 5.883667945861816 W\n",
      "[codecarbon INFO @ 14:25:04] Energy consumed for all CPUs : 0.002168 kWh. Total CPU Power : 32.5 W\n",
      "[codecarbon INFO @ 14:25:04] 0.00256032068964733234 kWh of electricity used since the beginning.\n"
     ]
    },
    {
     "name": "stdout",
     "output_type": "stream",
     "text": [
      "\u001b[1m353/782\u001b[0m \u001b[32m━━━━━━━━━\u001b[0m\u001b[37m━━━━━━━━━━━\u001b[0m \u001b[1m36s\u001b[0m 85ms/step - accuracy: 0.6242 - loss: 1.0551"
     ]
    },
    {
     "name": "stderr",
     "output_type": "stream",
     "text": [
      "[codecarbon INFO @ 14:25:19] Energy consumed for RAM : 0.000441 kWh. RAM Power : 5.883667945861816 W\n",
      "[codecarbon INFO @ 14:25:19] Energy consumed for all CPUs : 0.002439 kWh. Total CPU Power : 32.5 W\n",
      "[codecarbon INFO @ 14:25:19] 0.00288033382691661862 kWh of electricity used since the beginning.\n"
     ]
    },
    {
     "name": "stdout",
     "output_type": "stream",
     "text": [
      "\u001b[1m361/782\u001b[0m \u001b[32m━━━━━━━━━\u001b[0m\u001b[37m━━━━━━━━━━━\u001b[0m \u001b[1m35s\u001b[0m 85ms/step - accuracy: 0.6244 - loss: 1.0545"
     ]
    },
    {
     "name": "stderr",
     "output_type": "stream",
     "text": [
      "[codecarbon INFO @ 14:25:19] Energy consumed for RAM : 0.000417 kWh. RAM Power : 5.883667945861816 W\n",
      "[codecarbon INFO @ 14:25:19] Energy consumed for all CPUs : 0.002304 kWh. Total CPU Power : 32.5 W\n",
      "[codecarbon INFO @ 14:25:19] 0.00272037585028078125 kWh of electricity used since the beginning.\n"
     ]
    },
    {
     "name": "stdout",
     "output_type": "stream",
     "text": [
      "\u001b[1m527/782\u001b[0m \u001b[32m━━━━━━━━━━━━━\u001b[0m\u001b[37m━━━━━━━\u001b[0m \u001b[1m21s\u001b[0m 86ms/step - accuracy: 0.6276 - loss: 1.0447"
     ]
    },
    {
     "name": "stderr",
     "output_type": "stream",
     "text": [
      "[codecarbon INFO @ 14:25:34] Energy consumed for RAM : 0.000466 kWh. RAM Power : 5.883667945861816 W\n",
      "[codecarbon INFO @ 14:25:34] Energy consumed for all CPUs : 0.002575 kWh. Total CPU Power : 32.5 W\n",
      "[codecarbon INFO @ 14:25:34] 0.00304048306940739137 kWh of electricity used since the beginning.\n"
     ]
    },
    {
     "name": "stdout",
     "output_type": "stream",
     "text": [
      "\u001b[1m533/782\u001b[0m \u001b[32m━━━━━━━━━━━━━\u001b[0m\u001b[37m━━━━━━━\u001b[0m \u001b[1m21s\u001b[0m 86ms/step - accuracy: 0.6277 - loss: 1.0444"
     ]
    },
    {
     "name": "stderr",
     "output_type": "stream",
     "text": [
      "[codecarbon INFO @ 14:25:34] Energy consumed for RAM : 0.000441 kWh. RAM Power : 5.883667945861816 W\n",
      "[codecarbon INFO @ 14:25:34] Energy consumed for all CPUs : 0.002439 kWh. Total CPU Power : 32.5 W\n",
      "[codecarbon INFO @ 14:25:34] 0.00288061328827018829 kWh of electricity used since the beginning.\n"
     ]
    },
    {
     "name": "stdout",
     "output_type": "stream",
     "text": [
      "\u001b[1m699/782\u001b[0m \u001b[32m━━━━━━━━━━━━━━━━━\u001b[0m\u001b[37m━━━\u001b[0m \u001b[1m7s\u001b[0m 86ms/step - accuracy: 0.6301 - loss: 1.0379"
     ]
    },
    {
     "name": "stderr",
     "output_type": "stream",
     "text": [
      "[codecarbon INFO @ 14:25:49] Energy consumed for RAM : 0.000490 kWh. RAM Power : 5.883667945861816 W\n",
      "[codecarbon INFO @ 14:25:49] Energy consumed for all CPUs : 0.002710 kWh. Total CPU Power : 32.5 W\n",
      "[codecarbon INFO @ 14:25:49] 0.00320042168477436629 kWh of electricity used since the beginning.\n"
     ]
    },
    {
     "name": "stdout",
     "output_type": "stream",
     "text": [
      "\u001b[1m705/782\u001b[0m \u001b[32m━━━━━━━━━━━━━━━━━━\u001b[0m\u001b[37m━━\u001b[0m \u001b[1m6s\u001b[0m 86ms/step - accuracy: 0.6301 - loss: 1.0376"
     ]
    },
    {
     "name": "stderr",
     "output_type": "stream",
     "text": [
      "[codecarbon INFO @ 14:25:49] Energy consumed for RAM : 0.000466 kWh. RAM Power : 5.883667945861816 W\n",
      "[codecarbon INFO @ 14:25:49] Energy consumed for all CPUs : 0.002575 kWh. Total CPU Power : 32.5 W\n",
      "[codecarbon INFO @ 14:25:49] 0.00304053630672050743 kWh of electricity used since the beginning.\n"
     ]
    },
    {
     "name": "stdout",
     "output_type": "stream",
     "text": [
      "\u001b[1m782/782\u001b[0m \u001b[32m━━━━━━━━━━━━━━━━━━━━\u001b[0m\u001b[37m\u001b[0m \u001b[1m70s\u001b[0m 90ms/step - accuracy: 0.6314 - loss: 1.0346 - val_accuracy: 0.6060 - val_loss: 1.2208 - learning_rate: 0.0010\n",
      "Epoch 5/100\n",
      "\u001b[1m 56/782\u001b[0m \u001b[32m━\u001b[0m\u001b[37m━━━━━━━━━━━━━━━━━━━\u001b[0m \u001b[1m59s\u001b[0m 82ms/step - accuracy: 0.6758 - loss: 0.9172"
     ]
    },
    {
     "name": "stderr",
     "output_type": "stream",
     "text": [
      "[codecarbon INFO @ 14:26:04] Energy consumed for RAM : 0.000515 kWh. RAM Power : 5.883667945861816 W\n",
      "[codecarbon INFO @ 14:26:04] Energy consumed for all CPUs : 0.002846 kWh. Total CPU Power : 32.5 W\n",
      "[codecarbon INFO @ 14:26:04] 0.00336045910747076633 kWh of electricity used since the beginning.\n"
     ]
    },
    {
     "name": "stdout",
     "output_type": "stream",
     "text": [
      "\u001b[1m 64/782\u001b[0m \u001b[32m━\u001b[0m\u001b[37m━━━━━━━━━━━━━━━━━━━\u001b[0m \u001b[1m58s\u001b[0m 82ms/step - accuracy: 0.6751 - loss: 0.9181"
     ]
    },
    {
     "name": "stderr",
     "output_type": "stream",
     "text": [
      "[codecarbon INFO @ 14:26:04] Energy consumed for RAM : 0.000490 kWh. RAM Power : 5.883667945861816 W\n",
      "[codecarbon INFO @ 14:26:04] Energy consumed for all CPUs : 0.002710 kWh. Total CPU Power : 32.5 W\n",
      "[codecarbon INFO @ 14:26:04] 0.00320063045400710870 kWh of electricity used since the beginning.\n"
     ]
    },
    {
     "name": "stdout",
     "output_type": "stream",
     "text": [
      "\u001b[1m228/782\u001b[0m \u001b[32m━━━━━\u001b[0m\u001b[37m━━━━━━━━━━━━━━━\u001b[0m \u001b[1m47s\u001b[0m 86ms/step - accuracy: 0.6705 - loss: 0.9353"
     ]
    },
    {
     "name": "stderr",
     "output_type": "stream",
     "text": [
      "[codecarbon INFO @ 14:26:19] Energy consumed for RAM : 0.000539 kWh. RAM Power : 5.883667945861816 W\n",
      "[codecarbon INFO @ 14:26:19] Energy consumed for all CPUs : 0.002981 kWh. Total CPU Power : 32.5 W\n",
      "[codecarbon INFO @ 14:26:19] 0.00352017678953957074 kWh of electricity used since the beginning.\n"
     ]
    },
    {
     "name": "stdout",
     "output_type": "stream",
     "text": [
      "\u001b[1m236/782\u001b[0m \u001b[32m━━━━━━\u001b[0m\u001b[37m━━━━━━━━━━━━━━\u001b[0m \u001b[1m46s\u001b[0m 86ms/step - accuracy: 0.6705 - loss: 0.9357"
     ]
    },
    {
     "name": "stderr",
     "output_type": "stream",
     "text": [
      "[codecarbon INFO @ 14:26:19] Energy consumed for RAM : 0.000515 kWh. RAM Power : 5.883667945861816 W\n",
      "[codecarbon INFO @ 14:26:19] Energy consumed for all CPUs : 0.002846 kWh. Total CPU Power : 32.5 W\n",
      "[codecarbon INFO @ 14:26:19] 0.00336062482827406434 kWh of electricity used since the beginning.\n"
     ]
    },
    {
     "name": "stdout",
     "output_type": "stream",
     "text": [
      "\u001b[1m399/782\u001b[0m \u001b[32m━━━━━━━━━━\u001b[0m\u001b[37m━━━━━━━━━━\u001b[0m \u001b[1m33s\u001b[0m 87ms/step - accuracy: 0.6709 - loss: 0.9363"
     ]
    },
    {
     "name": "stderr",
     "output_type": "stream",
     "text": [
      "[codecarbon INFO @ 14:26:34] Energy consumed for RAM : 0.000564 kWh. RAM Power : 5.883667945861816 W\n",
      "[codecarbon INFO @ 14:26:34] Energy consumed for all CPUs : 0.003116 kWh. Total CPU Power : 32.5 W\n",
      "[codecarbon INFO @ 14:26:34] 0.00368019371767094134 kWh of electricity used since the beginning.\n"
     ]
    },
    {
     "name": "stdout",
     "output_type": "stream",
     "text": [
      "\u001b[1m407/782\u001b[0m \u001b[32m━━━━━━━━━━\u001b[0m\u001b[37m━━━━━━━━━━\u001b[0m \u001b[1m32s\u001b[0m 87ms/step - accuracy: 0.6709 - loss: 0.9363"
     ]
    },
    {
     "name": "stderr",
     "output_type": "stream",
     "text": [
      "[codecarbon INFO @ 14:26:34] Energy consumed for RAM : 0.000539 kWh. RAM Power : 5.883667945861816 W\n",
      "[codecarbon INFO @ 14:26:34] Energy consumed for all CPUs : 0.002981 kWh. Total CPU Power : 32.5 W\n",
      "[codecarbon INFO @ 14:26:34] 0.00352075814075181355 kWh of electricity used since the beginning.\n"
     ]
    },
    {
     "name": "stdout",
     "output_type": "stream",
     "text": [
      "\u001b[1m570/782\u001b[0m \u001b[32m━━━━━━━━━━━━━━\u001b[0m\u001b[37m━━━━━━\u001b[0m \u001b[1m18s\u001b[0m 87ms/step - accuracy: 0.6720 - loss: 0.9334"
     ]
    },
    {
     "name": "stderr",
     "output_type": "stream",
     "text": [
      "[codecarbon INFO @ 14:26:49] Energy consumed for RAM : 0.000588 kWh. RAM Power : 5.883667945861816 W\n",
      "[codecarbon INFO @ 14:26:49] Energy consumed for all CPUs : 0.003252 kWh. Total CPU Power : 32.5 W\n"
     ]
    },
    {
     "name": "stdout",
     "output_type": "stream",
     "text": [
      "\u001b[1m571/782\u001b[0m \u001b[32m━━━━━━━━━━━━━━\u001b[0m\u001b[37m━━━━━━\u001b[0m \u001b[1m18s\u001b[0m 87ms/step - accuracy: 0.6720 - loss: 0.9334"
     ]
    },
    {
     "name": "stderr",
     "output_type": "stream",
     "text": [
      "[codecarbon INFO @ 14:26:49] 0.00384011303933399009 kWh of electricity used since the beginning.\n"
     ]
    },
    {
     "name": "stdout",
     "output_type": "stream",
     "text": [
      "\u001b[1m578/782\u001b[0m \u001b[32m━━━━━━━━━━━━━━\u001b[0m\u001b[37m━━━━━━\u001b[0m \u001b[1m17s\u001b[0m 87ms/step - accuracy: 0.6720 - loss: 0.9333"
     ]
    },
    {
     "name": "stderr",
     "output_type": "stream",
     "text": [
      "[codecarbon INFO @ 14:26:49] Energy consumed for RAM : 0.000564 kWh. RAM Power : 5.883667945861816 W\n",
      "[codecarbon INFO @ 14:26:49] Energy consumed for all CPUs : 0.003117 kWh. Total CPU Power : 32.5 W\n",
      "[codecarbon INFO @ 14:26:49] 0.00368065441123325166 kWh of electricity used since the beginning.\n"
     ]
    },
    {
     "name": "stdout",
     "output_type": "stream",
     "text": [
      "\u001b[1m741/782\u001b[0m \u001b[32m━━━━━━━━━━━━━━━━━━\u001b[0m\u001b[37m━━\u001b[0m \u001b[1m3s\u001b[0m 87ms/step - accuracy: 0.6733 - loss: 0.9303"
     ]
    },
    {
     "name": "stderr",
     "output_type": "stream",
     "text": [
      "[codecarbon INFO @ 14:27:04] Energy consumed for RAM : 0.000613 kWh. RAM Power : 5.883667945861816 W\n",
      "[codecarbon INFO @ 14:27:04] Energy consumed for all CPUs : 0.003387 kWh. Total CPU Power : 32.5 W\n",
      "[codecarbon INFO @ 14:27:04] 0.00400011608738925443 kWh of electricity used since the beginning.\n"
     ]
    },
    {
     "name": "stdout",
     "output_type": "stream",
     "text": [
      "\u001b[1m749/782\u001b[0m \u001b[32m━━━━━━━━━━━━━━━━━━━\u001b[0m\u001b[37m━\u001b[0m \u001b[1m2s\u001b[0m 87ms/step - accuracy: 0.6733 - loss: 0.9302"
     ]
    },
    {
     "name": "stderr",
     "output_type": "stream",
     "text": [
      "[codecarbon INFO @ 14:27:04] Energy consumed for RAM : 0.000588 kWh. RAM Power : 5.883667945861816 W\n",
      "[codecarbon INFO @ 14:27:04] Energy consumed for all CPUs : 0.003252 kWh. Total CPU Power : 32.5 W\n",
      "[codecarbon INFO @ 14:27:04] 0.00384073301575939751 kWh of electricity used since the beginning.\n"
     ]
    },
    {
     "name": "stdout",
     "output_type": "stream",
     "text": [
      "\u001b[1m782/782\u001b[0m \u001b[32m━━━━━━━━━━━━━━━━━━━━\u001b[0m\u001b[37m\u001b[0m \u001b[1m71s\u001b[0m 90ms/step - accuracy: 0.6736 - loss: 0.9296 - val_accuracy: 0.7250 - val_loss: 0.7930 - learning_rate: 0.0010\n",
      "Epoch 6/100\n",
      "\u001b[1m103/782\u001b[0m \u001b[32m━━\u001b[0m\u001b[37m━━━━━━━━━━━━━━━━━━\u001b[0m \u001b[1m59s\u001b[0m 87ms/step - accuracy: 0.7095 - loss: 0.8444"
     ]
    },
    {
     "name": "stderr",
     "output_type": "stream",
     "text": [
      "[codecarbon INFO @ 14:27:19] Energy consumed for RAM : 0.000637 kWh. RAM Power : 5.883667945861816 W\n",
      "[codecarbon INFO @ 14:27:19] Energy consumed for all CPUs : 0.003523 kWh. Total CPU Power : 32.5 W\n",
      "[codecarbon INFO @ 14:27:19] 0.00416010058716149815 kWh of electricity used since the beginning.\n"
     ]
    },
    {
     "name": "stdout",
     "output_type": "stream",
     "text": [
      "\u001b[1m111/782\u001b[0m \u001b[32m━━\u001b[0m\u001b[37m━━━━━━━━━━━━━━━━━━\u001b[0m \u001b[1m58s\u001b[0m 87ms/step - accuracy: 0.7093 - loss: 0.8442"
     ]
    },
    {
     "name": "stderr",
     "output_type": "stream",
     "text": [
      "[codecarbon INFO @ 14:27:19] Energy consumed for RAM : 0.000613 kWh. RAM Power : 5.883667945861816 W\n",
      "[codecarbon INFO @ 14:27:19] Energy consumed for all CPUs : 0.003388 kWh. Total CPU Power : 32.5 W\n",
      "[codecarbon INFO @ 14:27:19] 0.00400063501897078913 kWh of electricity used since the beginning.\n"
     ]
    },
    {
     "name": "stdout",
     "output_type": "stream",
     "text": [
      "\u001b[1m274/782\u001b[0m \u001b[32m━━━━━━━\u001b[0m\u001b[37m━━━━━━━━━━━━━\u001b[0m \u001b[1m44s\u001b[0m 87ms/step - accuracy: 0.7065 - loss: 0.8450"
     ]
    },
    {
     "name": "stderr",
     "output_type": "stream",
     "text": [
      "[codecarbon INFO @ 14:27:34] Energy consumed for RAM : 0.000662 kWh. RAM Power : 5.883667945861816 W\n",
      "[codecarbon INFO @ 14:27:34] Energy consumed for all CPUs : 0.003658 kWh. Total CPU Power : 32.5 W\n",
      "[codecarbon INFO @ 14:27:34] 0.00432020914717626096 kWh of electricity used since the beginning.\n"
     ]
    },
    {
     "name": "stdout",
     "output_type": "stream",
     "text": [
      "\u001b[1m282/782\u001b[0m \u001b[32m━━━━━━━\u001b[0m\u001b[37m━━━━━━━━━━━━━\u001b[0m \u001b[1m43s\u001b[0m 87ms/step - accuracy: 0.7064 - loss: 0.8451"
     ]
    },
    {
     "name": "stderr",
     "output_type": "stream",
     "text": [
      "[codecarbon INFO @ 14:27:34] Energy consumed for RAM : 0.000637 kWh. RAM Power : 5.883667945861816 W\n",
      "[codecarbon INFO @ 14:27:34] Energy consumed for all CPUs : 0.003523 kWh. Total CPU Power : 32.5 W\n",
      "[codecarbon INFO @ 14:27:34] 0.00416069767048489990 kWh of electricity used since the beginning.\n"
     ]
    },
    {
     "name": "stdout",
     "output_type": "stream",
     "text": [
      "\u001b[1m447/782\u001b[0m \u001b[32m━━━━━━━━━━━\u001b[0m\u001b[37m━━━━━━━━━\u001b[0m \u001b[1m29s\u001b[0m 87ms/step - accuracy: 0.7044 - loss: 0.8482"
     ]
    },
    {
     "name": "stderr",
     "output_type": "stream",
     "text": [
      "[codecarbon INFO @ 14:27:49] Energy consumed for RAM : 0.000686 kWh. RAM Power : 5.883667945861816 W\n",
      "[codecarbon INFO @ 14:27:49] Energy consumed for all CPUs : 0.003794 kWh. Total CPU Power : 32.5 W\n",
      "[codecarbon INFO @ 14:27:49] 0.00448004264852281016 kWh of electricity used since the beginning.\n"
     ]
    },
    {
     "name": "stdout",
     "output_type": "stream",
     "text": [
      "\u001b[1m454/782\u001b[0m \u001b[32m━━━━━━━━━━━\u001b[0m\u001b[37m━━━━━━━━━\u001b[0m \u001b[1m28s\u001b[0m 87ms/step - accuracy: 0.7044 - loss: 0.8483"
     ]
    },
    {
     "name": "stderr",
     "output_type": "stream",
     "text": [
      "[codecarbon INFO @ 14:27:49] Energy consumed for RAM : 0.000662 kWh. RAM Power : 5.883667945861816 W\n",
      "[codecarbon INFO @ 14:27:49] Energy consumed for all CPUs : 0.003659 kWh. Total CPU Power : 32.5 W\n",
      "[codecarbon INFO @ 14:27:49] 0.00432066372244425522 kWh of electricity used since the beginning.\n"
     ]
    },
    {
     "name": "stdout",
     "output_type": "stream",
     "text": [
      "\u001b[1m621/782\u001b[0m \u001b[32m━━━━━━━━━━━━━━━\u001b[0m\u001b[37m━━━━━\u001b[0m \u001b[1m13s\u001b[0m 87ms/step - accuracy: 0.7032 - loss: 0.8502"
     ]
    },
    {
     "name": "stderr",
     "output_type": "stream",
     "text": [
      "[codecarbon INFO @ 14:28:04] Energy consumed for RAM : 0.000711 kWh. RAM Power : 5.883667945861816 W\n",
      "[codecarbon INFO @ 14:28:04] Energy consumed for all CPUs : 0.003929 kWh. Total CPU Power : 32.5 W\n",
      "[codecarbon INFO @ 14:28:04] 0.00464001948073142906 kWh of electricity used since the beginning.\n"
     ]
    },
    {
     "name": "stdout",
     "output_type": "stream",
     "text": [
      "\u001b[1m628/782\u001b[0m \u001b[32m━━━━━━━━━━━━━━━━\u001b[0m\u001b[37m━━━━\u001b[0m \u001b[1m13s\u001b[0m 87ms/step - accuracy: 0.7032 - loss: 0.8503"
     ]
    },
    {
     "name": "stderr",
     "output_type": "stream",
     "text": [
      "[codecarbon INFO @ 14:28:04] Energy consumed for RAM : 0.000686 kWh. RAM Power : 5.883667945861816 W\n",
      "[codecarbon INFO @ 14:28:04] Energy consumed for all CPUs : 0.003795 kWh. Total CPU Power : 32.5 W\n",
      "[codecarbon INFO @ 14:28:04] 0.00448100639077937245 kWh of electricity used since the beginning.\n"
     ]
    },
    {
     "name": "stdout",
     "output_type": "stream",
     "text": [
      "\u001b[1m782/782\u001b[0m \u001b[32m━━━━━━━━━━━━━━━━━━━━\u001b[0m\u001b[37m\u001b[0m \u001b[1m0s\u001b[0m 87ms/step - accuracy: 0.7025 - loss: 0.8516"
     ]
    },
    {
     "name": "stderr",
     "output_type": "stream",
     "text": [
      "[codecarbon INFO @ 14:28:19] Energy consumed for RAM : 0.000735 kWh. RAM Power : 5.883667945861816 W\n",
      "[codecarbon INFO @ 14:28:19] Energy consumed for all CPUs : 0.004065 kWh. Total CPU Power : 32.5 W\n",
      "[codecarbon INFO @ 14:28:19] 0.00479986854589238999 kWh of electricity used since the beginning.\n",
      "[codecarbon INFO @ 14:28:19] Energy consumed for RAM : 0.000711 kWh. RAM Power : 5.883667945861816 W\n",
      "[codecarbon INFO @ 14:28:19] Energy consumed for all CPUs : 0.003930 kWh. Total CPU Power : 32.5 W\n",
      "[codecarbon INFO @ 14:28:19] 0.00464074978452245351 kWh of electricity used since the beginning.\n"
     ]
    },
    {
     "name": "stdout",
     "output_type": "stream",
     "text": [
      "\u001b[1m782/782\u001b[0m \u001b[32m━━━━━━━━━━━━━━━━━━━━\u001b[0m\u001b[37m\u001b[0m \u001b[1m71s\u001b[0m 90ms/step - accuracy: 0.7025 - loss: 0.8516 - val_accuracy: 0.7091 - val_loss: 0.8646 - learning_rate: 0.0010\n",
      "Epoch 7/100\n",
      "\u001b[1m157/782\u001b[0m \u001b[32m━━━━\u001b[0m\u001b[37m━━━━━━━━━━━━━━━━\u001b[0m \u001b[1m53s\u001b[0m 86ms/step - accuracy: 0.7190 - loss: 0.8138"
     ]
    },
    {
     "name": "stderr",
     "output_type": "stream",
     "text": [
      "[codecarbon INFO @ 14:28:34] Energy consumed for RAM : 0.000760 kWh. RAM Power : 5.883667945861816 W\n",
      "[codecarbon INFO @ 14:28:34] Energy consumed for all CPUs : 0.004200 kWh. Total CPU Power : 32.5 W\n",
      "[codecarbon INFO @ 14:28:34] 0.00495988310286351285 kWh of electricity used since the beginning.\n"
     ]
    },
    {
     "name": "stdout",
     "output_type": "stream",
     "text": [
      "\u001b[1m165/782\u001b[0m \u001b[32m━━━━\u001b[0m\u001b[37m━━━━━━━━━━━━━━━━\u001b[0m \u001b[1m52s\u001b[0m 86ms/step - accuracy: 0.7187 - loss: 0.8145"
     ]
    },
    {
     "name": "stderr",
     "output_type": "stream",
     "text": [
      "[codecarbon INFO @ 14:28:34] Energy consumed for RAM : 0.000735 kWh. RAM Power : 5.883667945861816 W\n",
      "[codecarbon INFO @ 14:28:34] Energy consumed for all CPUs : 0.004065 kWh. Total CPU Power : 32.5 W\n",
      "[codecarbon INFO @ 14:28:34] 0.00480077945489744071 kWh of electricity used since the beginning.\n"
     ]
    },
    {
     "name": "stdout",
     "output_type": "stream",
     "text": [
      "\u001b[1m326/782\u001b[0m \u001b[32m━━━━━━━━\u001b[0m\u001b[37m━━━━━━━━━━━━\u001b[0m \u001b[1m39s\u001b[0m 87ms/step - accuracy: 0.7169 - loss: 0.8185"
     ]
    },
    {
     "name": "stderr",
     "output_type": "stream",
     "text": [
      "[codecarbon INFO @ 14:28:49] Energy consumed for RAM : 0.000784 kWh. RAM Power : 5.883667945861816 W\n",
      "[codecarbon INFO @ 14:28:49] Energy consumed for all CPUs : 0.004336 kWh. Total CPU Power : 32.5 W\n",
      "[codecarbon INFO @ 14:28:49] 0.00512002263370442239 kWh of electricity used since the beginning.\n"
     ]
    },
    {
     "name": "stdout",
     "output_type": "stream",
     "text": [
      "\u001b[1m334/782\u001b[0m \u001b[32m━━━━━━━━\u001b[0m\u001b[37m━━━━━━━━━━━━\u001b[0m \u001b[1m39s\u001b[0m 87ms/step - accuracy: 0.7169 - loss: 0.8186"
     ]
    },
    {
     "name": "stderr",
     "output_type": "stream",
     "text": [
      "[codecarbon INFO @ 14:28:49] Energy consumed for RAM : 0.000760 kWh. RAM Power : 5.883667945861816 W\n",
      "[codecarbon INFO @ 14:28:49] Energy consumed for all CPUs : 0.004201 kWh. Total CPU Power : 32.5 W\n",
      "[codecarbon INFO @ 14:28:49] 0.00496097906205148279 kWh of electricity used since the beginning.\n"
     ]
    },
    {
     "name": "stdout",
     "output_type": "stream",
     "text": [
      "\u001b[1m497/782\u001b[0m \u001b[32m━━━━━━━━━━━━\u001b[0m\u001b[37m━━━━━━━━\u001b[0m \u001b[1m24s\u001b[0m 87ms/step - accuracy: 0.7160 - loss: 0.8193"
     ]
    },
    {
     "name": "stderr",
     "output_type": "stream",
     "text": [
      "[codecarbon INFO @ 14:29:04] Energy consumed for RAM : 0.000809 kWh. RAM Power : 5.883667945861816 W\n",
      "[codecarbon INFO @ 14:29:04] Energy consumed for all CPUs : 0.004471 kWh. Total CPU Power : 32.5 W\n",
      "[codecarbon INFO @ 14:29:04] 0.00527992172596327119 kWh of electricity used since the beginning.\n"
     ]
    },
    {
     "name": "stdout",
     "output_type": "stream",
     "text": [
      "\u001b[1m503/782\u001b[0m \u001b[32m━━━━━━━━━━━━\u001b[0m\u001b[37m━━━━━━━━\u001b[0m \u001b[1m24s\u001b[0m 88ms/step - accuracy: 0.7160 - loss: 0.8193"
     ]
    },
    {
     "name": "stderr",
     "output_type": "stream",
     "text": [
      "[codecarbon INFO @ 14:29:04] Energy consumed for RAM : 0.000785 kWh. RAM Power : 5.883667945861816 W\n",
      "[codecarbon INFO @ 14:29:04] Energy consumed for all CPUs : 0.004336 kWh. Total CPU Power : 32.5 W\n",
      "[codecarbon INFO @ 14:29:04] 0.00512097049947695185 kWh of electricity used since the beginning.\n"
     ]
    },
    {
     "name": "stdout",
     "output_type": "stream",
     "text": [
      "\u001b[1m670/782\u001b[0m \u001b[32m━━━━━━━━━━━━━━━━━\u001b[0m\u001b[37m━━━\u001b[0m \u001b[1m9s\u001b[0m 87ms/step - accuracy: 0.7160 - loss: 0.8178"
     ]
    },
    {
     "name": "stderr",
     "output_type": "stream",
     "text": [
      "[codecarbon INFO @ 14:29:19] Energy consumed for RAM : 0.000833 kWh. RAM Power : 5.883667945861816 W\n",
      "[codecarbon INFO @ 14:29:19] Energy consumed for all CPUs : 0.004607 kWh. Total CPU Power : 32.5 W\n",
      "[codecarbon INFO @ 14:29:19] 0.00543999265905388465 kWh of electricity used since the beginning.\n"
     ]
    },
    {
     "name": "stdout",
     "output_type": "stream",
     "text": [
      "\u001b[1m678/782\u001b[0m \u001b[32m━━━━━━━━━━━━━━━━━\u001b[0m\u001b[37m━━━\u001b[0m \u001b[1m9s\u001b[0m 87ms/step - accuracy: 0.7161 - loss: 0.8177"
     ]
    },
    {
     "name": "stderr",
     "output_type": "stream",
     "text": [
      "[codecarbon INFO @ 14:29:19] Energy consumed for RAM : 0.000809 kWh. RAM Power : 5.883667945861816 W\n",
      "[codecarbon INFO @ 14:29:19] Energy consumed for all CPUs : 0.004472 kWh. Total CPU Power : 32.5 W\n",
      "[codecarbon INFO @ 14:29:19] 0.00528099256947722751 kWh of electricity used since the beginning.\n"
     ]
    },
    {
     "name": "stdout",
     "output_type": "stream",
     "text": [
      "\u001b[1m782/782\u001b[0m \u001b[32m━━━━━━━━━━━━━━━━━━━━\u001b[0m\u001b[37m\u001b[0m \u001b[1m71s\u001b[0m 90ms/step - accuracy: 0.7164 - loss: 0.8164 - val_accuracy: 0.7148 - val_loss: 0.8328 - learning_rate: 0.0010\n",
      "Epoch 8/100\n",
      "\u001b[1m 33/782\u001b[0m \u001b[37m━━━━━━━━━━━━━━━━━━━━\u001b[0m \u001b[1m1:02\u001b[0m 84ms/step - accuracy: 0.7095 - loss: 0.8149"
     ]
    },
    {
     "name": "stderr",
     "output_type": "stream",
     "text": [
      "[codecarbon INFO @ 14:29:34] Energy consumed for RAM : 0.000858 kWh. RAM Power : 5.883667945861816 W\n",
      "[codecarbon INFO @ 14:29:34] Energy consumed for all CPUs : 0.004742 kWh. Total CPU Power : 32.5 W\n",
      "[codecarbon INFO @ 14:29:34] 0.00560003533637618185 kWh of electricity used since the beginning.\n"
     ]
    },
    {
     "name": "stdout",
     "output_type": "stream",
     "text": [
      "\u001b[1m 39/782\u001b[0m \u001b[37m━━━━━━━━━━━━━━━━━━━━\u001b[0m \u001b[1m1:04\u001b[0m 87ms/step - accuracy: 0.7089 - loss: 0.8179"
     ]
    },
    {
     "name": "stderr",
     "output_type": "stream",
     "text": [
      "[codecarbon INFO @ 14:29:34] Energy consumed for RAM : 0.000834 kWh. RAM Power : 5.883667945861816 W\n",
      "[codecarbon INFO @ 14:29:34] Energy consumed for all CPUs : 0.004607 kWh. Total CPU Power : 32.5 W\n",
      "[codecarbon INFO @ 14:29:34] 0.00544098257627803877 kWh of electricity used since the beginning.\n"
     ]
    },
    {
     "name": "stdout",
     "output_type": "stream",
     "text": [
      "\u001b[1m205/782\u001b[0m \u001b[32m━━━━━\u001b[0m\u001b[37m━━━━━━━━━━━━━━━\u001b[0m \u001b[1m49s\u001b[0m 86ms/step - accuracy: 0.7172 - loss: 0.8142"
     ]
    },
    {
     "name": "stderr",
     "output_type": "stream",
     "text": [
      "[codecarbon INFO @ 14:29:49] Energy consumed for RAM : 0.000882 kWh. RAM Power : 5.883667945861816 W\n",
      "[codecarbon INFO @ 14:29:49] Energy consumed for all CPUs : 0.004878 kWh. Total CPU Power : 32.5 W\n",
      "[codecarbon INFO @ 14:29:49] 0.00576012588180326458 kWh of electricity used since the beginning.\n"
     ]
    },
    {
     "name": "stdout",
     "output_type": "stream",
     "text": [
      "\u001b[1m213/782\u001b[0m \u001b[32m━━━━━\u001b[0m\u001b[37m━━━━━━━━━━━━━━━\u001b[0m \u001b[1m49s\u001b[0m 87ms/step - accuracy: 0.7175 - loss: 0.8134"
     ]
    },
    {
     "name": "stderr",
     "output_type": "stream",
     "text": [
      "[codecarbon INFO @ 14:29:49] Energy consumed for RAM : 0.000858 kWh. RAM Power : 5.883667945861816 W\n",
      "[codecarbon INFO @ 14:29:49] Energy consumed for all CPUs : 0.004743 kWh. Total CPU Power : 32.5 W\n",
      "[codecarbon INFO @ 14:29:49] 0.00560130899417001903 kWh of electricity used since the beginning.\n"
     ]
    },
    {
     "name": "stdout",
     "output_type": "stream",
     "text": [
      "\u001b[1m374/782\u001b[0m \u001b[32m━━━━━━━━━\u001b[0m\u001b[37m━━━━━━━━━━━\u001b[0m \u001b[1m35s\u001b[0m 88ms/step - accuracy: 0.7218 - loss: 0.8030"
     ]
    },
    {
     "name": "stderr",
     "output_type": "stream",
     "text": [
      "[codecarbon INFO @ 14:30:04] Energy consumed for RAM : 0.000907 kWh. RAM Power : 5.883667945861816 W\n",
      "[codecarbon INFO @ 14:30:04] Energy consumed for all CPUs : 0.005013 kWh. Total CPU Power : 32.5 W\n",
      "[codecarbon INFO @ 14:30:04] 0.00592029462306044307 kWh of electricity used since the beginning.\n"
     ]
    },
    {
     "name": "stdout",
     "output_type": "stream",
     "text": [
      "\u001b[1m382/782\u001b[0m \u001b[32m━━━━━━━━━\u001b[0m\u001b[37m━━━━━━━━━━━\u001b[0m \u001b[1m35s\u001b[0m 88ms/step - accuracy: 0.7219 - loss: 0.8026"
     ]
    },
    {
     "name": "stderr",
     "output_type": "stream",
     "text": [
      "[codecarbon INFO @ 14:30:04] Energy consumed for RAM : 0.000883 kWh. RAM Power : 5.883667945861816 W\n",
      "[codecarbon INFO @ 14:30:04] Energy consumed for all CPUs : 0.004879 kWh. Total CPU Power : 32.5 W\n",
      "[codecarbon INFO @ 14:30:04] 0.00576114355297552803 kWh of electricity used since the beginning.\n"
     ]
    },
    {
     "name": "stdout",
     "output_type": "stream",
     "text": [
      "\u001b[1m546/782\u001b[0m \u001b[32m━━━━━━━━━━━━━\u001b[0m\u001b[37m━━━━━━━\u001b[0m \u001b[1m20s\u001b[0m 88ms/step - accuracy: 0.7248 - loss: 0.7956"
     ]
    },
    {
     "name": "stderr",
     "output_type": "stream",
     "text": [
      "[codecarbon INFO @ 14:30:19] Energy consumed for RAM : 0.000931 kWh. RAM Power : 5.883667945861816 W\n",
      "[codecarbon INFO @ 14:30:19] Energy consumed for all CPUs : 0.005149 kWh. Total CPU Power : 32.5 W\n",
      "[codecarbon INFO @ 14:30:19] 0.00608005275959976402 kWh of electricity used since the beginning.\n"
     ]
    },
    {
     "name": "stdout",
     "output_type": "stream",
     "text": [
      "\u001b[1m554/782\u001b[0m \u001b[32m━━━━━━━━━━━━━━\u001b[0m\u001b[37m━━━━━━\u001b[0m \u001b[1m19s\u001b[0m 87ms/step - accuracy: 0.7249 - loss: 0.7953"
     ]
    },
    {
     "name": "stderr",
     "output_type": "stream",
     "text": [
      "[codecarbon INFO @ 14:30:19] Energy consumed for RAM : 0.000907 kWh. RAM Power : 5.883667945861816 W\n",
      "[codecarbon INFO @ 14:30:19] Energy consumed for all CPUs : 0.005014 kWh. Total CPU Power : 32.5 W\n"
     ]
    },
    {
     "name": "stdout",
     "output_type": "stream",
     "text": [
      "\u001b[1m555/782\u001b[0m \u001b[32m━━━━━━━━━━━━━━\u001b[0m\u001b[37m━━━━━━\u001b[0m \u001b[1m19s\u001b[0m 87ms/step - accuracy: 0.7249 - loss: 0.7952"
     ]
    },
    {
     "name": "stderr",
     "output_type": "stream",
     "text": [
      "[codecarbon INFO @ 14:30:19] 0.00592131795331545235 kWh of electricity used since the beginning.\n"
     ]
    },
    {
     "name": "stdout",
     "output_type": "stream",
     "text": [
      "\u001b[1m718/782\u001b[0m \u001b[32m━━━━━━━━━━━━━━━━━━\u001b[0m\u001b[37m━━\u001b[0m \u001b[1m5s\u001b[0m 87ms/step - accuracy: 0.7271 - loss: 0.7894"
     ]
    },
    {
     "name": "stderr",
     "output_type": "stream",
     "text": [
      "[codecarbon INFO @ 14:30:34] Energy consumed for RAM : 0.000956 kWh. RAM Power : 5.883667945861816 W\n",
      "[codecarbon INFO @ 14:30:34] Energy consumed for all CPUs : 0.005284 kWh. Total CPU Power : 32.5 W\n",
      "[codecarbon INFO @ 14:30:34] 0.00624011377215914851 kWh of electricity used since the beginning.\n"
     ]
    },
    {
     "name": "stdout",
     "output_type": "stream",
     "text": [
      "\u001b[1m726/782\u001b[0m \u001b[32m━━━━━━━━━━━━━━━━━━\u001b[0m\u001b[37m━━\u001b[0m \u001b[1m4s\u001b[0m 87ms/step - accuracy: 0.7272 - loss: 0.7892"
     ]
    },
    {
     "name": "stderr",
     "output_type": "stream",
     "text": [
      "[codecarbon INFO @ 14:30:34] Energy consumed for RAM : 0.000932 kWh. RAM Power : 5.883667945861816 W\n",
      "[codecarbon INFO @ 14:30:34] Energy consumed for all CPUs : 0.005150 kWh. Total CPU Power : 32.5 W\n"
     ]
    },
    {
     "name": "stdout",
     "output_type": "stream",
     "text": [
      "\u001b[1m727/782\u001b[0m \u001b[32m━━━━━━━━━━━━━━━━━━\u001b[0m\u001b[37m━━\u001b[0m \u001b[1m4s\u001b[0m 87ms/step - accuracy: 0.7272 - loss: 0.7892"
     ]
    },
    {
     "name": "stderr",
     "output_type": "stream",
     "text": [
      "[codecarbon INFO @ 14:30:34] 0.00608111483538067293 kWh of electricity used since the beginning.\n"
     ]
    },
    {
     "name": "stdout",
     "output_type": "stream",
     "text": [
      "\u001b[1m782/782\u001b[0m \u001b[32m━━━━━━━━━━━━━━━━━━━━\u001b[0m\u001b[37m\u001b[0m \u001b[1m71s\u001b[0m 91ms/step - accuracy: 0.7278 - loss: 0.7877 - val_accuracy: 0.7369 - val_loss: 0.7988 - learning_rate: 0.0010\n",
      "Epoch 9/100\n",
      "\u001b[1m 81/782\u001b[0m \u001b[32m━━\u001b[0m\u001b[37m━━━━━━━━━━━━━━━━━━\u001b[0m \u001b[1m57s\u001b[0m 82ms/step - accuracy: 0.7518 - loss: 0.7414"
     ]
    },
    {
     "name": "stderr",
     "output_type": "stream",
     "text": [
      "[codecarbon INFO @ 14:30:49] Energy consumed for RAM : 0.000980 kWh. RAM Power : 5.883667945861816 W\n",
      "[codecarbon INFO @ 14:30:49] Energy consumed for all CPUs : 0.005420 kWh. Total CPU Power : 32.5 W\n",
      "[codecarbon INFO @ 14:30:49] 0.00640008150250226220 kWh of electricity used since the beginning.\n"
     ]
    },
    {
     "name": "stdout",
     "output_type": "stream",
     "text": [
      "\u001b[1m 89/782\u001b[0m \u001b[32m━━\u001b[0m\u001b[37m━━━━━━━━━━━━━━━━━━\u001b[0m \u001b[1m57s\u001b[0m 83ms/step - accuracy: 0.7514 - loss: 0.7414"
     ]
    },
    {
     "name": "stderr",
     "output_type": "stream",
     "text": [
      "[codecarbon INFO @ 14:30:49] Energy consumed for RAM : 0.000956 kWh. RAM Power : 5.883667945861816 W\n",
      "[codecarbon INFO @ 14:30:50] Energy consumed for all CPUs : 0.005285 kWh. Total CPU Power : 32.5 W\n",
      "[codecarbon INFO @ 14:30:50] 0.00624121902782144057 kWh of electricity used since the beginning.\n"
     ]
    },
    {
     "name": "stdout",
     "output_type": "stream",
     "text": [
      "\u001b[1m246/782\u001b[0m \u001b[32m━━━━━━\u001b[0m\u001b[37m━━━━━━━━━━━━━━\u001b[0m \u001b[1m47s\u001b[0m 88ms/step - accuracy: 0.7486 - loss: 0.7409"
     ]
    },
    {
     "name": "stderr",
     "output_type": "stream",
     "text": [
      "[codecarbon INFO @ 14:31:04] Energy consumed for RAM : 0.001005 kWh. RAM Power : 5.883667945861816 W\n",
      "[codecarbon INFO @ 14:31:04] Energy consumed for all CPUs : 0.005555 kWh. Total CPU Power : 32.5 W\n",
      "[codecarbon INFO @ 14:31:04] 0.00655988747846331793 kWh of electricity used since the beginning.\n"
     ]
    },
    {
     "name": "stdout",
     "output_type": "stream",
     "text": [
      "\u001b[1m255/782\u001b[0m \u001b[32m━━━━━━\u001b[0m\u001b[37m━━━━━━━━━━━━━━\u001b[0m \u001b[1m46s\u001b[0m 88ms/step - accuracy: 0.7485 - loss: 0.7410"
     ]
    },
    {
     "name": "stderr",
     "output_type": "stream",
     "text": [
      "[codecarbon INFO @ 14:31:05] Energy consumed for RAM : 0.000981 kWh. RAM Power : 5.883667945861816 W\n",
      "[codecarbon INFO @ 14:31:05] Energy consumed for all CPUs : 0.005420 kWh. Total CPU Power : 32.5 W\n",
      "[codecarbon INFO @ 14:31:05] 0.00640101902110659735 kWh of electricity used since the beginning.\n"
     ]
    },
    {
     "name": "stdout",
     "output_type": "stream",
     "text": [
      "\u001b[1m415/782\u001b[0m \u001b[32m━━━━━━━━━━\u001b[0m\u001b[37m━━━━━━━━━━\u001b[0m \u001b[1m32s\u001b[0m 88ms/step - accuracy: 0.7468 - loss: 0.7413"
     ]
    },
    {
     "name": "stderr",
     "output_type": "stream",
     "text": [
      "[codecarbon INFO @ 14:31:19] Energy consumed for RAM : 0.001029 kWh. RAM Power : 5.883667945861816 W\n",
      "[codecarbon INFO @ 14:31:19] Energy consumed for all CPUs : 0.005691 kWh. Total CPU Power : 32.5 W\n",
      "[codecarbon INFO @ 14:31:19] 0.00671990043382536279 kWh of electricity used since the beginning.\n"
     ]
    },
    {
     "name": "stdout",
     "output_type": "stream",
     "text": [
      "\u001b[1m423/782\u001b[0m \u001b[32m━━━━━━━━━━\u001b[0m\u001b[37m━━━━━━━━━━\u001b[0m \u001b[1m31s\u001b[0m 88ms/step - accuracy: 0.7468 - loss: 0.7412"
     ]
    },
    {
     "name": "stderr",
     "output_type": "stream",
     "text": [
      "[codecarbon INFO @ 14:31:20] Energy consumed for RAM : 0.001005 kWh. RAM Power : 5.883667945861816 W\n",
      "[codecarbon INFO @ 14:31:20] Energy consumed for all CPUs : 0.005556 kWh. Total CPU Power : 32.5 W\n"
     ]
    },
    {
     "name": "stdout",
     "output_type": "stream",
     "text": [
      "\u001b[1m424/782\u001b[0m \u001b[32m━━━━━━━━━━\u001b[0m\u001b[37m━━━━━━━━━━\u001b[0m \u001b[1m31s\u001b[0m 88ms/step - accuracy: 0.7468 - loss: 0.7412"
     ]
    },
    {
     "name": "stderr",
     "output_type": "stream",
     "text": [
      "[codecarbon INFO @ 14:31:20] 0.00656115492473969501 kWh of electricity used since the beginning.\n"
     ]
    },
    {
     "name": "stdout",
     "output_type": "stream",
     "text": [
      "\u001b[1m584/782\u001b[0m \u001b[32m━━━━━━━━━━━━━━\u001b[0m\u001b[37m━━━━━━\u001b[0m \u001b[1m17s\u001b[0m 88ms/step - accuracy: 0.7463 - loss: 0.7407"
     ]
    },
    {
     "name": "stderr",
     "output_type": "stream",
     "text": [
      "[codecarbon INFO @ 14:31:34] Energy consumed for RAM : 0.001054 kWh. RAM Power : 5.883667945861816 W\n",
      "[codecarbon INFO @ 14:31:34] Energy consumed for all CPUs : 0.005826 kWh. Total CPU Power : 32.5 W\n"
     ]
    },
    {
     "name": "stdout",
     "output_type": "stream",
     "text": [
      "\u001b[1m585/782\u001b[0m \u001b[32m━━━━━━━━━━━━━━\u001b[0m\u001b[37m━━━━━━\u001b[0m \u001b[1m17s\u001b[0m 88ms/step - accuracy: 0.7463 - loss: 0.7407"
     ]
    },
    {
     "name": "stderr",
     "output_type": "stream",
     "text": [
      "[codecarbon INFO @ 14:31:34] 0.00688001172954225745 kWh of electricity used since the beginning.\n"
     ]
    },
    {
     "name": "stdout",
     "output_type": "stream",
     "text": [
      "\u001b[1m593/782\u001b[0m \u001b[32m━━━━━━━━━━━━━━━\u001b[0m\u001b[37m━━━━━\u001b[0m \u001b[1m16s\u001b[0m 88ms/step - accuracy: 0.7463 - loss: 0.7406"
     ]
    },
    {
     "name": "stderr",
     "output_type": "stream",
     "text": [
      "[codecarbon INFO @ 14:31:35] Energy consumed for RAM : 0.001030 kWh. RAM Power : 5.883667945861816 W\n",
      "[codecarbon INFO @ 14:31:35] Energy consumed for all CPUs : 0.005692 kWh. Total CPU Power : 32.5 W\n",
      "[codecarbon INFO @ 14:31:35] 0.00672139870184906146 kWh of electricity used since the beginning.\n"
     ]
    },
    {
     "name": "stdout",
     "output_type": "stream",
     "text": [
      "\u001b[1m757/782\u001b[0m \u001b[32m━━━━━━━━━━━━━━━━━━━\u001b[0m\u001b[37m━\u001b[0m \u001b[1m2s\u001b[0m 88ms/step - accuracy: 0.7462 - loss: 0.7401"
     ]
    },
    {
     "name": "stderr",
     "output_type": "stream",
     "text": [
      "[codecarbon INFO @ 14:31:49] Energy consumed for RAM : 0.001078 kWh. RAM Power : 5.883667945861816 W\n",
      "[codecarbon INFO @ 14:31:49] Energy consumed for all CPUs : 0.005962 kWh. Total CPU Power : 32.5 W\n",
      "[codecarbon INFO @ 14:31:49] 0.00703994266589657702 kWh of electricity used since the beginning.\n"
     ]
    },
    {
     "name": "stdout",
     "output_type": "stream",
     "text": [
      "\u001b[1m765/782\u001b[0m \u001b[32m━━━━━━━━━━━━━━━━━━━\u001b[0m\u001b[37m━\u001b[0m \u001b[1m1s\u001b[0m 88ms/step - accuracy: 0.7462 - loss: 0.7401"
     ]
    },
    {
     "name": "stderr",
     "output_type": "stream",
     "text": [
      "[codecarbon INFO @ 14:31:50] Energy consumed for RAM : 0.001054 kWh. RAM Power : 5.883667945861816 W\n",
      "[codecarbon INFO @ 14:31:50] Energy consumed for all CPUs : 0.005827 kWh. Total CPU Power : 32.5 W\n",
      "[codecarbon INFO @ 14:31:50] 0.00688122117221492708 kWh of electricity used since the beginning.\n"
     ]
    },
    {
     "name": "stdout",
     "output_type": "stream",
     "text": [
      "\u001b[1m782/782\u001b[0m \u001b[32m━━━━━━━━━━━━━━━━━━━━\u001b[0m\u001b[37m\u001b[0m \u001b[1m71s\u001b[0m 91ms/step - accuracy: 0.7462 - loss: 0.7401 - val_accuracy: 0.7635 - val_loss: 0.7090 - learning_rate: 0.0010\n",
      "Epoch 10/100\n",
      "\u001b[1m117/782\u001b[0m \u001b[32m━━\u001b[0m\u001b[37m━━━━━━━━━━━━━━━━━━\u001b[0m \u001b[1m59s\u001b[0m 90ms/step - accuracy: 0.7602 - loss: 0.6936"
     ]
    },
    {
     "name": "stderr",
     "output_type": "stream",
     "text": [
      "[codecarbon INFO @ 14:32:04] Energy consumed for RAM : 0.001103 kWh. RAM Power : 5.883667945861816 W\n",
      "[codecarbon INFO @ 14:32:04] Energy consumed for all CPUs : 0.006097 kWh. Total CPU Power : 32.5 W\n",
      "[codecarbon INFO @ 14:32:04] 0.00719992868831856401 kWh of electricity used since the beginning.\n"
     ]
    },
    {
     "name": "stdout",
     "output_type": "stream",
     "text": [
      "\u001b[1m125/782\u001b[0m \u001b[32m━━━\u001b[0m\u001b[37m━━━━━━━━━━━━━━━━━\u001b[0m \u001b[1m58s\u001b[0m 89ms/step - accuracy: 0.7598 - loss: 0.6945"
     ]
    },
    {
     "name": "stderr",
     "output_type": "stream",
     "text": [
      "[codecarbon INFO @ 14:32:05] Energy consumed for RAM : 0.001079 kWh. RAM Power : 5.883667945861816 W\n",
      "[codecarbon INFO @ 14:32:05] Energy consumed for all CPUs : 0.005963 kWh. Total CPU Power : 32.5 W\n",
      "[codecarbon INFO @ 14:32:05] 0.00704124125282986658 kWh of electricity used since the beginning.\n"
     ]
    },
    {
     "name": "stdout",
     "output_type": "stream",
     "text": [
      "\u001b[1m291/782\u001b[0m \u001b[32m━━━━━━━\u001b[0m\u001b[37m━━━━━━━━━━━━━\u001b[0m \u001b[1m42s\u001b[0m 87ms/step - accuracy: 0.7546 - loss: 0.7083"
     ]
    },
    {
     "name": "stderr",
     "output_type": "stream",
     "text": [
      "[codecarbon INFO @ 14:32:19] Energy consumed for RAM : 0.001127 kWh. RAM Power : 5.883667945861816 W\n",
      "[codecarbon INFO @ 14:32:19] Energy consumed for all CPUs : 0.006233 kWh. Total CPU Power : 32.5 W\n",
      "[codecarbon INFO @ 14:32:19] 0.00735999217196141569 kWh of electricity used since the beginning.\n"
     ]
    },
    {
     "name": "stdout",
     "output_type": "stream",
     "text": [
      "\u001b[1m299/782\u001b[0m \u001b[32m━━━━━━━\u001b[0m\u001b[37m━━━━━━━━━━━━━\u001b[0m \u001b[1m42s\u001b[0m 88ms/step - accuracy: 0.7545 - loss: 0.7086"
     ]
    },
    {
     "name": "stderr",
     "output_type": "stream",
     "text": [
      "[codecarbon INFO @ 14:32:20] Energy consumed for RAM : 0.001103 kWh. RAM Power : 5.883667945861816 W\n",
      "[codecarbon INFO @ 14:32:20] Energy consumed for all CPUs : 0.006098 kWh. Total CPU Power : 32.5 W\n",
      "[codecarbon INFO @ 14:32:20] 0.00720107890712512293 kWh of electricity used since the beginning.\n"
     ]
    },
    {
     "name": "stdout",
     "output_type": "stream",
     "text": [
      "\u001b[1m465/782\u001b[0m \u001b[32m━━━━━━━━━━━\u001b[0m\u001b[37m━━━━━━━━━\u001b[0m \u001b[1m27s\u001b[0m 87ms/step - accuracy: 0.7540 - loss: 0.7114"
     ]
    },
    {
     "name": "stderr",
     "output_type": "stream",
     "text": [
      "[codecarbon INFO @ 14:32:34] Energy consumed for RAM : 0.001152 kWh. RAM Power : 5.883667945861816 W\n",
      "[codecarbon INFO @ 14:32:34] Energy consumed for all CPUs : 0.006368 kWh. Total CPU Power : 32.5 W\n",
      "[codecarbon INFO @ 14:32:34] 0.00751999933018813755 kWh of electricity used since the beginning.\n"
     ]
    },
    {
     "name": "stdout",
     "output_type": "stream",
     "text": [
      "\u001b[1m472/782\u001b[0m \u001b[32m━━━━━━━━━━━━\u001b[0m\u001b[37m━━━━━━━━\u001b[0m \u001b[1m27s\u001b[0m 87ms/step - accuracy: 0.7540 - loss: 0.7115"
     ]
    },
    {
     "name": "stderr",
     "output_type": "stream",
     "text": [
      "[codecarbon INFO @ 14:32:35] Energy consumed for RAM : 0.001128 kWh. RAM Power : 5.883667945861816 W\n",
      "[codecarbon INFO @ 14:32:35] Energy consumed for all CPUs : 0.006233 kWh. Total CPU Power : 32.5 W\n",
      "[codecarbon INFO @ 14:32:35] 0.00736108779482203684 kWh of electricity used since the beginning.\n"
     ]
    },
    {
     "name": "stdout",
     "output_type": "stream",
     "text": [
      "\u001b[1m638/782\u001b[0m \u001b[32m━━━━━━━━━━━━━━━━\u001b[0m\u001b[37m━━━━\u001b[0m \u001b[1m12s\u001b[0m 87ms/step - accuracy: 0.7540 - loss: 0.7123"
     ]
    },
    {
     "name": "stderr",
     "output_type": "stream",
     "text": [
      "[codecarbon INFO @ 14:32:49] Energy consumed for RAM : 0.001176 kWh. RAM Power : 5.883667945861816 W\n",
      "[codecarbon INFO @ 14:32:49] Energy consumed for all CPUs : 0.006504 kWh. Total CPU Power : 32.5 W\n",
      "[codecarbon INFO @ 14:32:49] 0.00768017542030414741 kWh of electricity used since the beginning.\n"
     ]
    },
    {
     "name": "stdout",
     "output_type": "stream",
     "text": [
      "\u001b[1m646/782\u001b[0m \u001b[32m━━━━━━━━━━━━━━━━\u001b[0m\u001b[37m━━━━\u001b[0m \u001b[1m11s\u001b[0m 87ms/step - accuracy: 0.7540 - loss: 0.7123"
     ]
    },
    {
     "name": "stderr",
     "output_type": "stream",
     "text": [
      "[codecarbon INFO @ 14:32:50] Energy consumed for RAM : 0.001152 kWh. RAM Power : 5.883667945861816 W\n",
      "[codecarbon INFO @ 14:32:50] Energy consumed for all CPUs : 0.006369 kWh. Total CPU Power : 32.5 W\n",
      "[codecarbon INFO @ 14:32:50] 0.00752125534988936761 kWh of electricity used since the beginning.\n"
     ]
    },
    {
     "name": "stdout",
     "output_type": "stream",
     "text": [
      "\u001b[1m782/782\u001b[0m \u001b[32m━━━━━━━━━━━━━━━━━━━━\u001b[0m\u001b[37m\u001b[0m \u001b[1m71s\u001b[0m 90ms/step - accuracy: 0.7542 - loss: 0.7123 - val_accuracy: 0.7382 - val_loss: 0.7462 - learning_rate: 0.0010\n",
      "Epoch 11/100\n"
     ]
    },
    {
     "name": "stderr",
     "output_type": "stream",
     "text": [
      "[codecarbon INFO @ 14:33:04] Energy consumed for RAM : 0.001201 kWh. RAM Power : 5.883667945861816 W\n",
      "[codecarbon INFO @ 14:33:04] Energy consumed for all CPUs : 0.006639 kWh. Total CPU Power : 32.5 W\n",
      "[codecarbon INFO @ 14:33:04] 0.00784000507632522971 kWh of electricity used since the beginning.\n"
     ]
    },
    {
     "name": "stdout",
     "output_type": "stream",
     "text": [
      "\u001b[1m  6/782\u001b[0m \u001b[37m━━━━━━━━━━━━━━━━━━━━\u001b[0m \u001b[1m1:04\u001b[0m 83ms/step - accuracy: 0.7280 - loss: 0.7673"
     ]
    },
    {
     "name": "stderr",
     "output_type": "stream",
     "text": [
      "[codecarbon INFO @ 14:33:05] Energy consumed for RAM : 0.001177 kWh. RAM Power : 5.883667945861816 W\n",
      "[codecarbon INFO @ 14:33:05] Energy consumed for all CPUs : 0.006505 kWh. Total CPU Power : 32.5 W\n"
     ]
    },
    {
     "name": "stdout",
     "output_type": "stream",
     "text": [
      "\u001b[1m  7/782\u001b[0m \u001b[37m━━━━━━━━━━━━━━━━━━━━\u001b[0m \u001b[1m1:03\u001b[0m 83ms/step - accuracy: 0.7283 - loss: 0.7623"
     ]
    },
    {
     "name": "stderr",
     "output_type": "stream",
     "text": [
      "[codecarbon INFO @ 14:33:05] 0.00768130154628827565 kWh of electricity used since the beginning.\n"
     ]
    },
    {
     "name": "stdout",
     "output_type": "stream",
     "text": [
      "\u001b[1m177/782\u001b[0m \u001b[32m━━━━\u001b[0m\u001b[37m━━━━━━━━━━━━━━━━\u001b[0m \u001b[1m50s\u001b[0m 84ms/step - accuracy: 0.7643 - loss: 0.6878"
     ]
    },
    {
     "name": "stderr",
     "output_type": "stream",
     "text": [
      "[codecarbon INFO @ 14:33:19] Energy consumed for RAM : 0.001225 kWh. RAM Power : 5.883667945861816 W\n",
      "[codecarbon INFO @ 14:33:19] Energy consumed for all CPUs : 0.006775 kWh. Total CPU Power : 32.5 W\n",
      "[codecarbon INFO @ 14:33:19] 0.00800012655570750582 kWh of electricity used since the beginning.\n"
     ]
    },
    {
     "name": "stdout",
     "output_type": "stream",
     "text": [
      "\u001b[1m185/782\u001b[0m \u001b[32m━━━━\u001b[0m\u001b[37m━━━━━━━━━━━━━━━━\u001b[0m \u001b[1m50s\u001b[0m 84ms/step - accuracy: 0.7645 - loss: 0.6873"
     ]
    },
    {
     "name": "stderr",
     "output_type": "stream",
     "text": [
      "[codecarbon INFO @ 14:33:20] Energy consumed for RAM : 0.001201 kWh. RAM Power : 5.883667945861816 W\n",
      "[codecarbon INFO @ 14:33:20] Energy consumed for all CPUs : 0.006640 kWh. Total CPU Power : 32.5 W\n",
      "[codecarbon INFO @ 14:33:20] 0.00784136121719117979 kWh of electricity used since the beginning.\n"
     ]
    },
    {
     "name": "stdout",
     "output_type": "stream",
     "text": [
      "\u001b[1m351/782\u001b[0m \u001b[32m━━━━━━━━\u001b[0m\u001b[37m━━━━━━━━━━━━\u001b[0m \u001b[1m36s\u001b[0m 85ms/step - accuracy: 0.7647 - loss: 0.6860"
     ]
    },
    {
     "name": "stderr",
     "output_type": "stream",
     "text": [
      "[codecarbon INFO @ 14:33:34] Energy consumed for RAM : 0.001250 kWh. RAM Power : 5.883667945861816 W\n",
      "[codecarbon INFO @ 14:33:34] Energy consumed for all CPUs : 0.006910 kWh. Total CPU Power : 32.5 W\n",
      "[codecarbon INFO @ 14:33:34] 0.00815994689132704815 kWh of electricity used since the beginning.\n"
     ]
    },
    {
     "name": "stdout",
     "output_type": "stream",
     "text": [
      "\u001b[1m358/782\u001b[0m \u001b[32m━━━━━━━━━\u001b[0m\u001b[37m━━━━━━━━━━━\u001b[0m \u001b[1m36s\u001b[0m 85ms/step - accuracy: 0.7646 - loss: 0.6861"
     ]
    },
    {
     "name": "stderr",
     "output_type": "stream",
     "text": [
      "[codecarbon INFO @ 14:33:35] Energy consumed for RAM : 0.001226 kWh. RAM Power : 5.883667945861816 W\n",
      "[codecarbon INFO @ 14:33:35] Energy consumed for all CPUs : 0.006776 kWh. Total CPU Power : 32.5 W\n",
      "[codecarbon INFO @ 14:33:35] 0.00800131850295475282 kWh of electricity used since the beginning.\n"
     ]
    },
    {
     "name": "stdout",
     "output_type": "stream",
     "text": [
      "\u001b[1m524/782\u001b[0m \u001b[32m━━━━━━━━━━━━━\u001b[0m\u001b[37m━━━━━━━\u001b[0m \u001b[1m22s\u001b[0m 86ms/step - accuracy: 0.7632 - loss: 0.6889"
     ]
    },
    {
     "name": "stderr",
     "output_type": "stream",
     "text": [
      "[codecarbon INFO @ 14:33:49] Energy consumed for RAM : 0.001274 kWh. RAM Power : 5.883667945861816 W\n",
      "[codecarbon INFO @ 14:33:49] Energy consumed for all CPUs : 0.007045 kWh. Total CPU Power : 32.5 W\n",
      "[codecarbon INFO @ 14:33:49] 0.00831990037259735388 kWh of electricity used since the beginning.\n"
     ]
    },
    {
     "name": "stdout",
     "output_type": "stream",
     "text": [
      "\u001b[1m532/782\u001b[0m \u001b[32m━━━━━━━━━━━━━\u001b[0m\u001b[37m━━━━━━━\u001b[0m \u001b[1m21s\u001b[0m 86ms/step - accuracy: 0.7631 - loss: 0.6890"
     ]
    },
    {
     "name": "stderr",
     "output_type": "stream",
     "text": [
      "[codecarbon INFO @ 14:33:50] Energy consumed for RAM : 0.001250 kWh. RAM Power : 5.883667945861816 W\n",
      "[codecarbon INFO @ 14:33:50] Energy consumed for all CPUs : 0.006911 kWh. Total CPU Power : 32.5 W\n",
      "[codecarbon INFO @ 14:33:50] 0.00816120676443933719 kWh of electricity used since the beginning.\n"
     ]
    },
    {
     "name": "stdout",
     "output_type": "stream",
     "text": [
      "\u001b[1m695/782\u001b[0m \u001b[32m━━━━━━━━━━━━━━━━━\u001b[0m\u001b[37m━━━\u001b[0m \u001b[1m7s\u001b[0m 86ms/step - accuracy: 0.7627 - loss: 0.6898"
     ]
    },
    {
     "name": "stderr",
     "output_type": "stream",
     "text": [
      "[codecarbon INFO @ 14:34:04] Energy consumed for RAM : 0.001299 kWh. RAM Power : 5.883667945861816 W\n",
      "[codecarbon INFO @ 14:34:04] Energy consumed for all CPUs : 0.007181 kWh. Total CPU Power : 32.5 W\n",
      "[codecarbon INFO @ 14:34:04] 0.00848004629556646169 kWh of electricity used since the beginning.\n"
     ]
    },
    {
     "name": "stdout",
     "output_type": "stream",
     "text": [
      "\u001b[1m704/782\u001b[0m \u001b[32m━━━━━━━━━━━━━━━━━━\u001b[0m\u001b[37m━━\u001b[0m \u001b[1m6s\u001b[0m 86ms/step - accuracy: 0.7626 - loss: 0.6898"
     ]
    },
    {
     "name": "stderr",
     "output_type": "stream",
     "text": [
      "[codecarbon INFO @ 14:34:05] Energy consumed for RAM : 0.001275 kWh. RAM Power : 5.883667945861816 W\n",
      "[codecarbon INFO @ 14:34:05] Energy consumed for all CPUs : 0.007047 kWh. Total CPU Power : 32.5 W\n",
      "[codecarbon INFO @ 14:34:05] 0.00832121257878524860 kWh of electricity used since the beginning.\n"
     ]
    },
    {
     "name": "stdout",
     "output_type": "stream",
     "text": [
      "\u001b[1m782/782\u001b[0m \u001b[32m━━━━━━━━━━━━━━━━━━━━\u001b[0m\u001b[37m\u001b[0m \u001b[1m70s\u001b[0m 90ms/step - accuracy: 0.7626 - loss: 0.6899 - val_accuracy: 0.7706 - val_loss: 0.6830 - learning_rate: 0.0010\n",
      "Epoch 12/100\n",
      "\u001b[1m 57/782\u001b[0m \u001b[32m━\u001b[0m\u001b[37m━━━━━━━━━━━━━━━━━━━\u001b[0m \u001b[1m58s\u001b[0m 80ms/step - accuracy: 0.7798 - loss: 0.6588"
     ]
    },
    {
     "name": "stderr",
     "output_type": "stream",
     "text": [
      "[codecarbon INFO @ 14:34:19] Energy consumed for RAM : 0.001324 kWh. RAM Power : 5.883667945861816 W\n",
      "[codecarbon INFO @ 14:34:19] Energy consumed for all CPUs : 0.007316 kWh. Total CPU Power : 32.5 W\n",
      "[codecarbon INFO @ 14:34:19] 0.00864000842921849518 kWh of electricity used since the beginning.\n"
     ]
    },
    {
     "name": "stdout",
     "output_type": "stream",
     "text": [
      "\u001b[1m 66/782\u001b[0m \u001b[32m━\u001b[0m\u001b[37m━━━━━━━━━━━━━━━━━━━\u001b[0m \u001b[1m57s\u001b[0m 81ms/step - accuracy: 0.7788 - loss: 0.6605"
     ]
    },
    {
     "name": "stderr",
     "output_type": "stream",
     "text": [
      "[codecarbon INFO @ 14:34:20] Energy consumed for RAM : 0.001299 kWh. RAM Power : 5.883667945861816 W\n",
      "[codecarbon INFO @ 14:34:20] Energy consumed for all CPUs : 0.007182 kWh. Total CPU Power : 32.5 W\n",
      "[codecarbon INFO @ 14:34:20] 0.00848124802200226832 kWh of electricity used since the beginning.\n"
     ]
    },
    {
     "name": "stdout",
     "output_type": "stream",
     "text": [
      "\u001b[1m229/782\u001b[0m \u001b[32m━━━━━\u001b[0m\u001b[37m━━━━━━━━━━━━━━━\u001b[0m \u001b[1m47s\u001b[0m 85ms/step - accuracy: 0.7763 - loss: 0.6538"
     ]
    },
    {
     "name": "stderr",
     "output_type": "stream",
     "text": [
      "[codecarbon INFO @ 14:34:34] Energy consumed for RAM : 0.001348 kWh. RAM Power : 5.883667945861816 W\n",
      "[codecarbon INFO @ 14:34:34] Energy consumed for all CPUs : 0.007452 kWh. Total CPU Power : 32.5 W\n",
      "[codecarbon INFO @ 14:34:34] 0.00879994424409481606 kWh of electricity used since the beginning.\n"
     ]
    },
    {
     "name": "stdout",
     "output_type": "stream",
     "text": [
      "\u001b[1m238/782\u001b[0m \u001b[32m━━━━━━\u001b[0m\u001b[37m━━━━━━━━━━━━━━\u001b[0m \u001b[1m46s\u001b[0m 85ms/step - accuracy: 0.7763 - loss: 0.6534"
     ]
    },
    {
     "name": "stderr",
     "output_type": "stream",
     "text": [
      "[codecarbon INFO @ 14:34:35] Energy consumed for RAM : 0.001324 kWh. RAM Power : 5.883667945861816 W\n",
      "[codecarbon INFO @ 14:34:35] Energy consumed for all CPUs : 0.007318 kWh. Total CPU Power : 32.5 W\n",
      "[codecarbon INFO @ 14:34:35] 0.00864139569222250985 kWh of electricity used since the beginning.\n"
     ]
    },
    {
     "name": "stdout",
     "output_type": "stream",
     "text": [
      "\u001b[1m401/782\u001b[0m \u001b[32m━━━━━━━━━━\u001b[0m\u001b[37m━━━━━━━━━━\u001b[0m \u001b[1m32s\u001b[0m 86ms/step - accuracy: 0.7783 - loss: 0.6458"
     ]
    },
    {
     "name": "stderr",
     "output_type": "stream",
     "text": [
      "[codecarbon INFO @ 14:34:49] Energy consumed for RAM : 0.001373 kWh. RAM Power : 5.883667945861816 W\n",
      "[codecarbon INFO @ 14:34:49] Energy consumed for all CPUs : 0.007587 kWh. Total CPU Power : 32.5 W\n",
      "[codecarbon INFO @ 14:34:49] 0.00895986413016918240 kWh of electricity used since the beginning.\n"
     ]
    },
    {
     "name": "stdout",
     "output_type": "stream",
     "text": [
      "\u001b[1m410/782\u001b[0m \u001b[32m━━━━━━━━━━\u001b[0m\u001b[37m━━━━━━━━━━\u001b[0m \u001b[1m32s\u001b[0m 86ms/step - accuracy: 0.7784 - loss: 0.6455"
     ]
    },
    {
     "name": "stderr",
     "output_type": "stream",
     "text": [
      "[codecarbon INFO @ 14:34:50] Energy consumed for RAM : 0.001348 kWh. RAM Power : 5.883667945861816 W\n",
      "[codecarbon INFO @ 14:34:50] Energy consumed for all CPUs : 0.007453 kWh. Total CPU Power : 32.5 W\n",
      "[codecarbon INFO @ 14:34:50] 0.00880137183663885596 kWh of electricity used since the beginning.\n"
     ]
    },
    {
     "name": "stdout",
     "output_type": "stream",
     "text": [
      "\u001b[1m572/782\u001b[0m \u001b[32m━━━━━━━━━━━━━━\u001b[0m\u001b[37m━━━━━━\u001b[0m \u001b[1m18s\u001b[0m 87ms/step - accuracy: 0.7798 - loss: 0.6408"
     ]
    },
    {
     "name": "stderr",
     "output_type": "stream",
     "text": [
      "[codecarbon INFO @ 14:35:04] Energy consumed for RAM : 0.001397 kWh. RAM Power : 5.883667945861816 W\n",
      "[codecarbon INFO @ 14:35:04] Energy consumed for all CPUs : 0.007723 kWh. Total CPU Power : 32.5 W\n",
      "[codecarbon INFO @ 14:35:04] 0.00911991413702564063 kWh of electricity used since the beginning.\n"
     ]
    },
    {
     "name": "stdout",
     "output_type": "stream",
     "text": [
      "\u001b[1m581/782\u001b[0m \u001b[32m━━━━━━━━━━━━━━\u001b[0m\u001b[37m━━━━━━\u001b[0m \u001b[1m17s\u001b[0m 87ms/step - accuracy: 0.7799 - loss: 0.6405"
     ]
    },
    {
     "name": "stderr",
     "output_type": "stream",
     "text": [
      "[codecarbon INFO @ 14:35:05] Energy consumed for RAM : 0.001373 kWh. RAM Power : 5.883667945861816 W\n",
      "[codecarbon INFO @ 14:35:05] Energy consumed for all CPUs : 0.007589 kWh. Total CPU Power : 32.5 W\n",
      "[codecarbon INFO @ 14:35:05] 0.00896125459447429454 kWh of electricity used since the beginning.\n"
     ]
    },
    {
     "name": "stdout",
     "output_type": "stream",
     "text": [
      "\u001b[1m743/782\u001b[0m \u001b[32m━━━━━━━━━━━━━━━━━━━\u001b[0m\u001b[37m━\u001b[0m \u001b[1m3s\u001b[0m 87ms/step - accuracy: 0.7811 - loss: 0.6364"
     ]
    },
    {
     "name": "stderr",
     "output_type": "stream",
     "text": [
      "[codecarbon INFO @ 14:35:19] Energy consumed for RAM : 0.001422 kWh. RAM Power : 5.883667945861816 W\n",
      "[codecarbon INFO @ 14:35:19] Energy consumed for all CPUs : 0.007858 kWh. Total CPU Power : 32.5 W\n",
      "[codecarbon INFO @ 14:35:19] 0.00928003680981713021 kWh of electricity used since the beginning.\n"
     ]
    },
    {
     "name": "stdout",
     "output_type": "stream",
     "text": [
      "\u001b[1m752/782\u001b[0m \u001b[32m━━━━━━━━━━━━━━━━━━━\u001b[0m\u001b[37m━\u001b[0m \u001b[1m2s\u001b[0m 87ms/step - accuracy: 0.7812 - loss: 0.6362"
     ]
    },
    {
     "name": "stderr",
     "output_type": "stream",
     "text": [
      "[codecarbon INFO @ 14:35:20] Energy consumed for RAM : 0.001397 kWh. RAM Power : 5.883667945861816 W\n",
      "[codecarbon INFO @ 14:35:20] Energy consumed for all CPUs : 0.007724 kWh. Total CPU Power : 32.5 W\n",
      "[codecarbon INFO @ 14:35:20] 0.00912137923801137861 kWh of electricity used since the beginning.\n"
     ]
    },
    {
     "name": "stdout",
     "output_type": "stream",
     "text": [
      "\u001b[1m782/782\u001b[0m \u001b[32m━━━━━━━━━━━━━━━━━━━━\u001b[0m\u001b[37m\u001b[0m \u001b[1m70s\u001b[0m 90ms/step - accuracy: 0.7814 - loss: 0.6354 - val_accuracy: 0.8122 - val_loss: 0.5591 - learning_rate: 1.0000e-04\n",
      "Epoch 13/100\n",
      "\u001b[1m102/782\u001b[0m \u001b[32m━━\u001b[0m\u001b[37m━━━━━━━━━━━━━━━━━━\u001b[0m \u001b[1m1:01\u001b[0m 90ms/step - accuracy: 0.7997 - loss: 0.5690"
     ]
    },
    {
     "name": "stderr",
     "output_type": "stream",
     "text": [
      "[codecarbon INFO @ 14:35:34] Energy consumed for RAM : 0.001446 kWh. RAM Power : 5.883667945861816 W\n",
      "[codecarbon INFO @ 14:35:34] Energy consumed for all CPUs : 0.007994 kWh. Total CPU Power : 32.5 W\n",
      "[codecarbon INFO @ 14:35:34] 0.00944006131800892434 kWh of electricity used since the beginning.\n"
     ]
    },
    {
     "name": "stdout",
     "output_type": "stream",
     "text": [
      "\u001b[1m111/782\u001b[0m \u001b[32m━━\u001b[0m\u001b[37m━━━━━━━━━━━━━━━━━━\u001b[0m \u001b[1m59s\u001b[0m 89ms/step - accuracy: 0.7992 - loss: 0.5703"
     ]
    },
    {
     "name": "stderr",
     "output_type": "stream",
     "text": [
      "[codecarbon INFO @ 14:35:35] Energy consumed for RAM : 0.001422 kWh. RAM Power : 5.883667945861816 W\n",
      "[codecarbon INFO @ 14:35:35] Energy consumed for all CPUs : 0.007860 kWh. Total CPU Power : 32.5 W\n",
      "[codecarbon INFO @ 14:35:35] 0.00928141226036130300 kWh of electricity used since the beginning.\n"
     ]
    },
    {
     "name": "stdout",
     "output_type": "stream",
     "text": [
      "\u001b[1m272/782\u001b[0m \u001b[32m━━━━━━\u001b[0m\u001b[37m━━━━━━━━━━━━━━\u001b[0m \u001b[1m45s\u001b[0m 89ms/step - accuracy: 0.7947 - loss: 0.5821"
     ]
    },
    {
     "name": "stderr",
     "output_type": "stream",
     "text": [
      "[codecarbon INFO @ 14:35:49] Energy consumed for RAM : 0.001471 kWh. RAM Power : 5.883667945861816 W\n",
      "[codecarbon INFO @ 14:35:49] Energy consumed for all CPUs : 0.008129 kWh. Total CPU Power : 32.5 W\n",
      "[codecarbon INFO @ 14:35:49] 0.00959996650473286979 kWh of electricity used since the beginning.\n"
     ]
    },
    {
     "name": "stdout",
     "output_type": "stream",
     "text": [
      "\u001b[1m280/782\u001b[0m \u001b[32m━━━━━━━\u001b[0m\u001b[37m━━━━━━━━━━━━━\u001b[0m \u001b[1m44s\u001b[0m 89ms/step - accuracy: 0.7946 - loss: 0.5824"
     ]
    },
    {
     "name": "stderr",
     "output_type": "stream",
     "text": [
      "[codecarbon INFO @ 14:35:50] Energy consumed for RAM : 0.001446 kWh. RAM Power : 5.883667945861816 W\n",
      "[codecarbon INFO @ 14:35:50] Energy consumed for all CPUs : 0.007995 kWh. Total CPU Power : 32.5 W\n",
      "[codecarbon INFO @ 14:35:50] 0.00944125379788758948 kWh of electricity used since the beginning.\n"
     ]
    },
    {
     "name": "stdout",
     "output_type": "stream",
     "text": [
      "\u001b[1m438/782\u001b[0m \u001b[32m━━━━━━━━━━━\u001b[0m\u001b[37m━━━━━━━━━\u001b[0m \u001b[1m30s\u001b[0m 89ms/step - accuracy: 0.7943 - loss: 0.5857"
     ]
    },
    {
     "name": "stderr",
     "output_type": "stream",
     "text": [
      "[codecarbon INFO @ 14:36:04] Energy consumed for RAM : 0.001495 kWh. RAM Power : 5.883667945861816 W\n",
      "[codecarbon INFO @ 14:36:04] Energy consumed for all CPUs : 0.008265 kWh. Total CPU Power : 32.5 W\n",
      "[codecarbon INFO @ 14:36:04] 0.00975998524803634547 kWh of electricity used since the beginning.\n"
     ]
    },
    {
     "name": "stdout",
     "output_type": "stream",
     "text": [
      "\u001b[1m446/782\u001b[0m \u001b[32m━━━━━━━━━━━\u001b[0m\u001b[37m━━━━━━━━━\u001b[0m \u001b[1m30s\u001b[0m 89ms/step - accuracy: 0.7943 - loss: 0.5857"
     ]
    },
    {
     "name": "stderr",
     "output_type": "stream",
     "text": [
      "[codecarbon INFO @ 14:36:05] Energy consumed for RAM : 0.001471 kWh. RAM Power : 5.883667945861816 W\n",
      "[codecarbon INFO @ 14:36:05] Energy consumed for all CPUs : 0.008131 kWh. Total CPU Power : 32.5 W\n"
     ]
    },
    {
     "name": "stdout",
     "output_type": "stream",
     "text": [
      "\u001b[1m447/782\u001b[0m \u001b[32m━━━━━━━━━━━\u001b[0m\u001b[37m━━━━━━━━━\u001b[0m \u001b[1m29s\u001b[0m 89ms/step - accuracy: 0.7943 - loss: 0.5858"
     ]
    },
    {
     "name": "stderr",
     "output_type": "stream",
     "text": [
      "[codecarbon INFO @ 14:36:05] 0.00960131275130959513 kWh of electricity used since the beginning.\n"
     ]
    },
    {
     "name": "stdout",
     "output_type": "stream",
     "text": [
      "\u001b[1m610/782\u001b[0m \u001b[32m━━━━━━━━━━━━━━━\u001b[0m\u001b[37m━━━━━\u001b[0m \u001b[1m15s\u001b[0m 89ms/step - accuracy: 0.7947 - loss: 0.5871"
     ]
    },
    {
     "name": "stderr",
     "output_type": "stream",
     "text": [
      "[codecarbon INFO @ 14:36:19] Energy consumed for RAM : 0.001520 kWh. RAM Power : 5.883667945861816 W\n",
      "[codecarbon INFO @ 14:36:19] Energy consumed for all CPUs : 0.008400 kWh. Total CPU Power : 32.5 W\n",
      "[codecarbon INFO @ 14:36:19] 0.00991999321272039186 kWh of electricity used since the beginning.\n"
     ]
    },
    {
     "name": "stdout",
     "output_type": "stream",
     "text": [
      "\u001b[1m618/782\u001b[0m \u001b[32m━━━━━━━━━━━━━━━\u001b[0m\u001b[37m━━━━━\u001b[0m \u001b[1m14s\u001b[0m 89ms/step - accuracy: 0.7947 - loss: 0.5871"
     ]
    },
    {
     "name": "stderr",
     "output_type": "stream",
     "text": [
      "[codecarbon INFO @ 14:36:20] Energy consumed for RAM : 0.001495 kWh. RAM Power : 5.883667945861816 W\n",
      "[codecarbon INFO @ 14:36:20] Energy consumed for all CPUs : 0.008266 kWh. Total CPU Power : 32.5 W\n",
      "[codecarbon INFO @ 14:36:20] 0.00976133024517956971 kWh of electricity used since the beginning.\n"
     ]
    },
    {
     "name": "stdout",
     "output_type": "stream",
     "text": [
      "\u001b[1m782/782\u001b[0m \u001b[32m━━━━━━━━━━━━━━━━━━━━\u001b[0m\u001b[37m\u001b[0m \u001b[1m0s\u001b[0m 88ms/step - accuracy: 0.7953 - loss: 0.5870"
     ]
    },
    {
     "name": "stderr",
     "output_type": "stream",
     "text": [
      "[codecarbon INFO @ 14:36:34] Energy consumed for RAM : 0.001544 kWh. RAM Power : 5.883667945861816 W\n",
      "[codecarbon INFO @ 14:36:34] Energy consumed for all CPUs : 0.008536 kWh. Total CPU Power : 32.5 W\n",
      "[codecarbon INFO @ 14:36:34] 0.01007997659275306108 kWh of electricity used since the beginning.\n",
      "[codecarbon INFO @ 14:36:35] Energy consumed for RAM : 0.001520 kWh. RAM Power : 5.883667945861816 W\n",
      "[codecarbon INFO @ 14:36:35] Energy consumed for all CPUs : 0.008401 kWh. Total CPU Power : 32.5 W\n",
      "[codecarbon INFO @ 14:36:35] 0.00992135258977568969 kWh of electricity used since the beginning.\n"
     ]
    },
    {
     "name": "stdout",
     "output_type": "stream",
     "text": [
      "\u001b[1m782/782\u001b[0m \u001b[32m━━━━━━━━━━━━━━━━━━━━\u001b[0m\u001b[37m\u001b[0m \u001b[1m72s\u001b[0m 91ms/step - accuracy: 0.7953 - loss: 0.5870 - val_accuracy: 0.8202 - val_loss: 0.5328 - learning_rate: 1.0000e-04\n",
      "Epoch 14/100\n",
      "\u001b[1m145/782\u001b[0m \u001b[32m━━━\u001b[0m\u001b[37m━━━━━━━━━━━━━━━━━\u001b[0m \u001b[1m54s\u001b[0m 86ms/step - accuracy: 0.8015 - loss: 0.5755"
     ]
    },
    {
     "name": "stderr",
     "output_type": "stream",
     "text": [
      "[codecarbon INFO @ 14:36:49] Energy consumed for RAM : 0.001569 kWh. RAM Power : 5.883667945861816 W\n",
      "[codecarbon INFO @ 14:36:49] Energy consumed for all CPUs : 0.008671 kWh. Total CPU Power : 32.5 W\n"
     ]
    },
    {
     "name": "stdout",
     "output_type": "stream",
     "text": [
      "\u001b[1m146/782\u001b[0m \u001b[32m━━━\u001b[0m\u001b[37m━━━━━━━━━━━━━━━━━\u001b[0m \u001b[1m54s\u001b[0m 86ms/step - accuracy: 0.8015 - loss: 0.5754"
     ]
    },
    {
     "name": "stderr",
     "output_type": "stream",
     "text": [
      "[codecarbon INFO @ 14:36:49] 0.01024015401737335060 kWh of electricity used since the beginning.\n"
     ]
    },
    {
     "name": "stdout",
     "output_type": "stream",
     "text": [
      "\u001b[1m154/782\u001b[0m \u001b[32m━━━\u001b[0m\u001b[37m━━━━━━━━━━━━━━━━━\u001b[0m \u001b[1m54s\u001b[0m 86ms/step - accuracy: 0.8015 - loss: 0.5752"
     ]
    },
    {
     "name": "stderr",
     "output_type": "stream",
     "text": [
      "[codecarbon INFO @ 14:36:50] Energy consumed for RAM : 0.001544 kWh. RAM Power : 5.883667945861816 W\n",
      "[codecarbon INFO @ 14:36:50] Energy consumed for all CPUs : 0.008537 kWh. Total CPU Power : 32.5 W\n",
      "[codecarbon INFO @ 14:36:50] 0.01008173264953546137 kWh of electricity used since the beginning.\n"
     ]
    },
    {
     "name": "stdout",
     "output_type": "stream",
     "text": [
      "\u001b[1m319/782\u001b[0m \u001b[32m━━━━━━━━\u001b[0m\u001b[37m━━━━━━━━━━━━\u001b[0m \u001b[1m39s\u001b[0m 86ms/step - accuracy: 0.8022 - loss: 0.5759"
     ]
    },
    {
     "name": "stderr",
     "output_type": "stream",
     "text": [
      "[codecarbon INFO @ 14:37:04] Energy consumed for RAM : 0.001593 kWh. RAM Power : 5.883667945861816 W\n",
      "[codecarbon INFO @ 14:37:04] Energy consumed for all CPUs : 0.008807 kWh. Total CPU Power : 32.5 W\n",
      "[codecarbon INFO @ 14:37:04] 0.01040027934702679804 kWh of electricity used since the beginning.\n"
     ]
    },
    {
     "name": "stdout",
     "output_type": "stream",
     "text": [
      "\u001b[1m327/782\u001b[0m \u001b[32m━━━━━━━━\u001b[0m\u001b[37m━━━━━━━━━━━━\u001b[0m \u001b[1m39s\u001b[0m 86ms/step - accuracy: 0.8022 - loss: 0.5759"
     ]
    },
    {
     "name": "stderr",
     "output_type": "stream",
     "text": [
      "[codecarbon INFO @ 14:37:05] Energy consumed for RAM : 0.001569 kWh. RAM Power : 5.883667945861816 W\n",
      "[codecarbon INFO @ 14:37:05] Energy consumed for all CPUs : 0.008673 kWh. Total CPU Power : 32.5 W\n",
      "[codecarbon INFO @ 14:37:05] 0.01024158520908645745 kWh of electricity used since the beginning.\n"
     ]
    },
    {
     "name": "stdout",
     "output_type": "stream",
     "text": [
      "\u001b[1m492/782\u001b[0m \u001b[32m━━━━━━━━━━━━\u001b[0m\u001b[37m━━━━━━━━\u001b[0m \u001b[1m25s\u001b[0m 86ms/step - accuracy: 0.8028 - loss: 0.5754"
     ]
    },
    {
     "name": "stderr",
     "output_type": "stream",
     "text": [
      "[codecarbon INFO @ 14:37:19] Energy consumed for RAM : 0.001618 kWh. RAM Power : 5.883667945861816 W\n",
      "[codecarbon INFO @ 14:37:19] Energy consumed for all CPUs : 0.008942 kWh. Total CPU Power : 32.5 W\n",
      "[codecarbon INFO @ 14:37:19] 0.01055999738360369027 kWh of electricity used since the beginning.\n"
     ]
    },
    {
     "name": "stdout",
     "output_type": "stream",
     "text": [
      "\u001b[1m501/782\u001b[0m \u001b[32m━━━━━━━━━━━━\u001b[0m\u001b[37m━━━━━━━━\u001b[0m \u001b[1m24s\u001b[0m 87ms/step - accuracy: 0.8028 - loss: 0.5754"
     ]
    },
    {
     "name": "stderr",
     "output_type": "stream",
     "text": [
      "[codecarbon INFO @ 14:37:20] Energy consumed for RAM : 0.001593 kWh. RAM Power : 5.883667945861816 W\n",
      "[codecarbon INFO @ 14:37:20] Energy consumed for all CPUs : 0.008808 kWh. Total CPU Power : 32.5 W\n",
      "[codecarbon INFO @ 14:37:20] 0.01040165869710462342 kWh of electricity used since the beginning.\n"
     ]
    },
    {
     "name": "stdout",
     "output_type": "stream",
     "text": [
      "\u001b[1m665/782\u001b[0m \u001b[32m━━━━━━━━━━━━━━━━━\u001b[0m\u001b[37m━━━\u001b[0m \u001b[1m10s\u001b[0m 87ms/step - accuracy: 0.8024 - loss: 0.5764"
     ]
    },
    {
     "name": "stderr",
     "output_type": "stream",
     "text": [
      "[codecarbon INFO @ 14:37:34] Energy consumed for RAM : 0.001642 kWh. RAM Power : 5.883667945861816 W\n",
      "[codecarbon INFO @ 14:37:34] Energy consumed for all CPUs : 0.009078 kWh. Total CPU Power : 32.5 W\n",
      "[codecarbon INFO @ 14:37:34] 0.01072017931815710638 kWh of electricity used since the beginning.\n"
     ]
    },
    {
     "name": "stdout",
     "output_type": "stream",
     "text": [
      "\u001b[1m673/782\u001b[0m \u001b[32m━━━━━━━━━━━━━━━━━\u001b[0m\u001b[37m━━━\u001b[0m \u001b[1m9s\u001b[0m 87ms/step - accuracy: 0.8024 - loss: 0.5764"
     ]
    },
    {
     "name": "stderr",
     "output_type": "stream",
     "text": [
      "[codecarbon INFO @ 14:37:35] Energy consumed for RAM : 0.001618 kWh. RAM Power : 5.883667945861816 W\n",
      "[codecarbon INFO @ 14:37:35] Energy consumed for all CPUs : 0.008944 kWh. Total CPU Power : 32.5 W\n",
      "[codecarbon INFO @ 14:37:35] 0.01056171943846869951 kWh of electricity used since the beginning.\n"
     ]
    },
    {
     "name": "stdout",
     "output_type": "stream",
     "text": [
      "\u001b[1m782/782\u001b[0m \u001b[32m━━━━━━━━━━━━━━━━━━━━\u001b[0m\u001b[37m\u001b[0m \u001b[1m70s\u001b[0m 90ms/step - accuracy: 0.8022 - loss: 0.5770 - val_accuracy: 0.8186 - val_loss: 0.5373 - learning_rate: 1.0000e-04\n",
      "Epoch 15/100\n",
      "\u001b[1m 26/782\u001b[0m \u001b[37m━━━━━━━━━━━━━━━━━━━━\u001b[0m \u001b[1m1:03\u001b[0m 84ms/step - accuracy: 0.8050 - loss: 0.5614"
     ]
    },
    {
     "name": "stderr",
     "output_type": "stream",
     "text": [
      "[codecarbon INFO @ 14:37:49] Energy consumed for RAM : 0.001667 kWh. RAM Power : 5.883667945861816 W\n",
      "[codecarbon INFO @ 14:37:49] Energy consumed for all CPUs : 0.009213 kWh. Total CPU Power : 32.5 W\n",
      "[codecarbon INFO @ 14:37:49] 0.01088025739728697844 kWh of electricity used since the beginning.\n"
     ]
    },
    {
     "name": "stdout",
     "output_type": "stream",
     "text": [
      "\u001b[1m 34/782\u001b[0m \u001b[37m━━━━━━━━━━━━━━━━━━━━\u001b[0m \u001b[1m1:04\u001b[0m 86ms/step - accuracy: 0.8042 - loss: 0.5651"
     ]
    },
    {
     "name": "stderr",
     "output_type": "stream",
     "text": [
      "[codecarbon INFO @ 14:37:50] Energy consumed for RAM : 0.001642 kWh. RAM Power : 5.883667945861816 W\n",
      "[codecarbon INFO @ 14:37:50] Energy consumed for all CPUs : 0.009079 kWh. Total CPU Power : 32.5 W\n",
      "[codecarbon INFO @ 14:37:50] 0.01072155088145316897 kWh of electricity used since the beginning.\n"
     ]
    },
    {
     "name": "stdout",
     "output_type": "stream",
     "text": [
      "\u001b[1m198/782\u001b[0m \u001b[32m━━━━━\u001b[0m\u001b[37m━━━━━━━━━━━━━━━\u001b[0m \u001b[1m50s\u001b[0m 87ms/step - accuracy: 0.8017 - loss: 0.5716"
     ]
    },
    {
     "name": "stderr",
     "output_type": "stream",
     "text": [
      "[codecarbon INFO @ 14:38:04] Energy consumed for RAM : 0.001691 kWh. RAM Power : 5.883667945861816 W\n",
      "[codecarbon INFO @ 14:38:04] Energy consumed for all CPUs : 0.009349 kWh. Total CPU Power : 32.5 W\n",
      "[codecarbon INFO @ 14:38:04] 0.01104016893166092153 kWh of electricity used since the beginning.\n"
     ]
    },
    {
     "name": "stdout",
     "output_type": "stream",
     "text": [
      "\u001b[1m207/782\u001b[0m \u001b[32m━━━━━\u001b[0m\u001b[37m━━━━━━━━━━━━━━━\u001b[0m \u001b[1m49s\u001b[0m 87ms/step - accuracy: 0.8017 - loss: 0.5715"
     ]
    },
    {
     "name": "stderr",
     "output_type": "stream",
     "text": [
      "[codecarbon INFO @ 14:38:05] Energy consumed for RAM : 0.001667 kWh. RAM Power : 5.883667945861816 W\n",
      "[codecarbon INFO @ 14:38:05] Energy consumed for all CPUs : 0.009215 kWh. Total CPU Power : 32.5 W\n"
     ]
    },
    {
     "name": "stdout",
     "output_type": "stream",
     "text": [
      "\u001b[1m208/782\u001b[0m \u001b[32m━━━━━\u001b[0m\u001b[37m━━━━━━━━━━━━━━━\u001b[0m \u001b[1m49s\u001b[0m 87ms/step - accuracy: 0.8017 - loss: 0.5715"
     ]
    },
    {
     "name": "stderr",
     "output_type": "stream",
     "text": [
      "[codecarbon INFO @ 14:38:05] 0.01088204263161991758 kWh of electricity used since the beginning.\n"
     ]
    },
    {
     "name": "stdout",
     "output_type": "stream",
     "text": [
      "\u001b[1m369/782\u001b[0m \u001b[32m━━━━━━━━━\u001b[0m\u001b[37m━━━━━━━━━━━\u001b[0m \u001b[1m36s\u001b[0m 87ms/step - accuracy: 0.8020 - loss: 0.5722"
     ]
    },
    {
     "name": "stderr",
     "output_type": "stream",
     "text": [
      "[codecarbon INFO @ 14:38:19] Energy consumed for RAM : 0.001716 kWh. RAM Power : 5.883667945861816 W\n",
      "[codecarbon INFO @ 14:38:19] Energy consumed for all CPUs : 0.009484 kWh. Total CPU Power : 32.5 W\n",
      "[codecarbon INFO @ 14:38:19] 0.01120003478497614939 kWh of electricity used since the beginning.\n"
     ]
    },
    {
     "name": "stdout",
     "output_type": "stream",
     "text": [
      "\u001b[1m379/782\u001b[0m \u001b[32m━━━━━━━━━\u001b[0m\u001b[37m━━━━━━━━━━━\u001b[0m \u001b[1m35s\u001b[0m 87ms/step - accuracy: 0.8020 - loss: 0.5723"
     ]
    },
    {
     "name": "stderr",
     "output_type": "stream",
     "text": [
      "[codecarbon INFO @ 14:38:20] Energy consumed for RAM : 0.001691 kWh. RAM Power : 5.883667945861816 W\n",
      "[codecarbon INFO @ 14:38:20] Energy consumed for all CPUs : 0.009350 kWh. Total CPU Power : 32.5 W\n",
      "[codecarbon INFO @ 14:38:20] 0.01104170834176470238 kWh of electricity used since the beginning.\n"
     ]
    },
    {
     "name": "stdout",
     "output_type": "stream",
     "text": [
      "\u001b[1m540/782\u001b[0m \u001b[32m━━━━━━━━━━━━━\u001b[0m\u001b[37m━━━━━━━\u001b[0m \u001b[1m21s\u001b[0m 88ms/step - accuracy: 0.8018 - loss: 0.5730"
     ]
    },
    {
     "name": "stderr",
     "output_type": "stream",
     "text": [
      "[codecarbon INFO @ 14:38:34] Energy consumed for RAM : 0.001740 kWh. RAM Power : 5.883667945861816 W\n",
      "[codecarbon INFO @ 14:38:34] Energy consumed for all CPUs : 0.009620 kWh. Total CPU Power : 32.5 W\n",
      "[codecarbon INFO @ 14:38:34] 0.01136005842518102854 kWh of electricity used since the beginning.\n"
     ]
    },
    {
     "name": "stdout",
     "output_type": "stream",
     "text": [
      "\u001b[1m549/782\u001b[0m \u001b[32m━━━━━━━━━━━━━━\u001b[0m\u001b[37m━━━━━━\u001b[0m \u001b[1m20s\u001b[0m 87ms/step - accuracy: 0.8018 - loss: 0.5730"
     ]
    },
    {
     "name": "stderr",
     "output_type": "stream",
     "text": [
      "[codecarbon INFO @ 14:38:35] Energy consumed for RAM : 0.001716 kWh. RAM Power : 5.883667945861816 W\n",
      "[codecarbon INFO @ 14:38:35] Energy consumed for all CPUs : 0.009486 kWh. Total CPU Power : 32.5 W\n",
      "[codecarbon INFO @ 14:38:35] 0.01120169250923689318 kWh of electricity used since the beginning.\n"
     ]
    },
    {
     "name": "stdout",
     "output_type": "stream",
     "text": [
      "\u001b[1m711/782\u001b[0m \u001b[32m━━━━━━━━━━━━━━━━━━\u001b[0m\u001b[37m━━\u001b[0m \u001b[1m6s\u001b[0m 88ms/step - accuracy: 0.8018 - loss: 0.5731"
     ]
    },
    {
     "name": "stderr",
     "output_type": "stream",
     "text": [
      "[codecarbon INFO @ 14:38:49] Energy consumed for RAM : 0.001765 kWh. RAM Power : 5.883667945861816 W\n",
      "[codecarbon INFO @ 14:38:49] Energy consumed for all CPUs : 0.009755 kWh. Total CPU Power : 32.5 W\n",
      "[codecarbon INFO @ 14:38:49] 0.01151993958038293950 kWh of electricity used since the beginning.\n"
     ]
    },
    {
     "name": "stdout",
     "output_type": "stream",
     "text": [
      "\u001b[1m720/782\u001b[0m \u001b[32m━━━━━━━━━━━━━━━━━━\u001b[0m\u001b[37m━━\u001b[0m \u001b[1m5s\u001b[0m 88ms/step - accuracy: 0.8018 - loss: 0.5731"
     ]
    },
    {
     "name": "stderr",
     "output_type": "stream",
     "text": [
      "[codecarbon INFO @ 14:38:50] Energy consumed for RAM : 0.001740 kWh. RAM Power : 5.883667945861816 W\n",
      "[codecarbon INFO @ 14:38:50] Energy consumed for all CPUs : 0.009621 kWh. Total CPU Power : 32.5 W\n"
     ]
    },
    {
     "name": "stdout",
     "output_type": "stream",
     "text": [
      "\u001b[1m721/782\u001b[0m \u001b[32m━━━━━━━━━━━━━━━━━━\u001b[0m\u001b[37m━━\u001b[0m \u001b[1m5s\u001b[0m 88ms/step - accuracy: 0.8018 - loss: 0.5731"
     ]
    },
    {
     "name": "stderr",
     "output_type": "stream",
     "text": [
      "[codecarbon INFO @ 14:38:50] 0.01136179132781177555 kWh of electricity used since the beginning.\n"
     ]
    },
    {
     "name": "stdout",
     "output_type": "stream",
     "text": [
      "\u001b[1m782/782\u001b[0m \u001b[32m━━━━━━━━━━━━━━━━━━━━\u001b[0m\u001b[37m\u001b[0m \u001b[1m71s\u001b[0m 91ms/step - accuracy: 0.8018 - loss: 0.5730 - val_accuracy: 0.8193 - val_loss: 0.5467 - learning_rate: 1.0000e-04\n",
      "Epoch 16/100\n",
      "\u001b[1m 73/782\u001b[0m \u001b[32m━\u001b[0m\u001b[37m━━━━━━━━━━━━━━━━━━━\u001b[0m \u001b[1m58s\u001b[0m 82ms/step - accuracy: 0.8075 - loss: 0.5780"
     ]
    },
    {
     "name": "stderr",
     "output_type": "stream",
     "text": [
      "[codecarbon INFO @ 14:39:04] Energy consumed for RAM : 0.001789 kWh. RAM Power : 5.883667945861816 W\n",
      "[codecarbon INFO @ 14:39:04] Energy consumed for all CPUs : 0.009891 kWh. Total CPU Power : 32.5 W\n",
      "[codecarbon INFO @ 14:39:04] 0.01167983585178133422 kWh of electricity used since the beginning.\n"
     ]
    },
    {
     "name": "stdout",
     "output_type": "stream",
     "text": [
      "\u001b[1m 82/782\u001b[0m \u001b[32m━━\u001b[0m\u001b[37m━━━━━━━━━━━━━━━━━━\u001b[0m \u001b[1m57s\u001b[0m 82ms/step - accuracy: 0.8078 - loss: 0.5762"
     ]
    },
    {
     "name": "stderr",
     "output_type": "stream",
     "text": [
      "[codecarbon INFO @ 14:39:05] Energy consumed for RAM : 0.001765 kWh. RAM Power : 5.883667945861816 W\n",
      "[codecarbon INFO @ 14:39:05] Energy consumed for all CPUs : 0.009757 kWh. Total CPU Power : 32.5 W\n",
      "[codecarbon INFO @ 14:39:05] 0.01152172212406280850 kWh of electricity used since the beginning.\n"
     ]
    },
    {
     "name": "stdout",
     "output_type": "stream",
     "text": [
      "\u001b[1m243/782\u001b[0m \u001b[32m━━━━━━\u001b[0m\u001b[37m━━━━━━━━━━━━━━\u001b[0m \u001b[1m46s\u001b[0m 86ms/step - accuracy: 0.8081 - loss: 0.5690"
     ]
    },
    {
     "name": "stderr",
     "output_type": "stream",
     "text": [
      "[codecarbon INFO @ 14:39:19] Energy consumed for RAM : 0.001814 kWh. RAM Power : 5.883667945861816 W\n",
      "[codecarbon INFO @ 14:39:19] Energy consumed for all CPUs : 0.010026 kWh. Total CPU Power : 32.5 W\n",
      "[codecarbon INFO @ 14:39:19] 0.01183979839177603556 kWh of electricity used since the beginning.\n"
     ]
    },
    {
     "name": "stdout",
     "output_type": "stream",
     "text": [
      "\u001b[1m252/782\u001b[0m \u001b[32m━━━━━━\u001b[0m\u001b[37m━━━━━━━━━━━━━━\u001b[0m \u001b[1m45s\u001b[0m 86ms/step - accuracy: 0.8081 - loss: 0.5687"
     ]
    },
    {
     "name": "stderr",
     "output_type": "stream",
     "text": [
      "[codecarbon INFO @ 14:39:20] Energy consumed for RAM : 0.001789 kWh. RAM Power : 5.883667945861816 W\n",
      "[codecarbon INFO @ 14:39:20] Energy consumed for all CPUs : 0.009892 kWh. Total CPU Power : 32.5 W\n"
     ]
    },
    {
     "name": "stdout",
     "output_type": "stream",
     "text": [
      "\u001b[1m253/782\u001b[0m \u001b[32m━━━━━━\u001b[0m\u001b[37m━━━━━━━━━━━━━━\u001b[0m \u001b[1m45s\u001b[0m 86ms/step - accuracy: 0.8081 - loss: 0.5687"
     ]
    },
    {
     "name": "stderr",
     "output_type": "stream",
     "text": [
      "[codecarbon INFO @ 14:39:20] 0.01168164964609040221 kWh of electricity used since the beginning.\n"
     ]
    },
    {
     "name": "stdout",
     "output_type": "stream",
     "text": [
      "\u001b[1m415/782\u001b[0m \u001b[32m━━━━━━━━━━\u001b[0m\u001b[37m━━━━━━━━━━\u001b[0m \u001b[1m31s\u001b[0m 87ms/step - accuracy: 0.8088 - loss: 0.5639"
     ]
    },
    {
     "name": "stderr",
     "output_type": "stream",
     "text": [
      "[codecarbon INFO @ 14:39:34] Energy consumed for RAM : 0.001838 kWh. RAM Power : 5.883667945861816 W\n",
      "[codecarbon INFO @ 14:39:34] Energy consumed for all CPUs : 0.010161 kWh. Total CPU Power : 32.5 W\n",
      "[codecarbon INFO @ 14:39:34] 0.01199980740971598112 kWh of electricity used since the beginning.\n"
     ]
    },
    {
     "name": "stdout",
     "output_type": "stream",
     "text": [
      "\u001b[1m424/782\u001b[0m \u001b[32m━━━━━━━━━━\u001b[0m\u001b[37m━━━━━━━━━━\u001b[0m \u001b[1m31s\u001b[0m 87ms/step - accuracy: 0.8088 - loss: 0.5638"
     ]
    },
    {
     "name": "stderr",
     "output_type": "stream",
     "text": [
      "[codecarbon INFO @ 14:39:35] Energy consumed for RAM : 0.001814 kWh. RAM Power : 5.883667945861816 W\n",
      "[codecarbon INFO @ 14:39:35] Energy consumed for all CPUs : 0.010028 kWh. Total CPU Power : 32.5 W\n",
      "[codecarbon INFO @ 14:39:35] 0.01184194887089004382 kWh of electricity used since the beginning.\n"
     ]
    },
    {
     "name": "stdout",
     "output_type": "stream",
     "text": [
      "\u001b[1m578/782\u001b[0m \u001b[32m━━━━━━━━━━━━━━\u001b[0m\u001b[37m━━━━━━\u001b[0m \u001b[1m17s\u001b[0m 88ms/step - accuracy: 0.8087 - loss: 0.5627"
     ]
    },
    {
     "name": "stderr",
     "output_type": "stream",
     "text": [
      "[codecarbon INFO @ 14:39:49] Energy consumed for RAM : 0.001863 kWh. RAM Power : 5.883667945861816 W\n",
      "[codecarbon INFO @ 14:39:49] Energy consumed for all CPUs : 0.010297 kWh. Total CPU Power : 32.5 W\n",
      "[codecarbon INFO @ 14:39:49] 0.01215989955300949936 kWh of electricity used since the beginning.\n"
     ]
    },
    {
     "name": "stdout",
     "output_type": "stream",
     "text": [
      "\u001b[1m588/782\u001b[0m \u001b[32m━━━━━━━━━━━━━━━\u001b[0m\u001b[37m━━━━━\u001b[0m \u001b[1m17s\u001b[0m 88ms/step - accuracy: 0.8087 - loss: 0.5627"
     ]
    },
    {
     "name": "stderr",
     "output_type": "stream",
     "text": [
      "[codecarbon INFO @ 14:39:50] Energy consumed for RAM : 0.001838 kWh. RAM Power : 5.883667945861816 W\n",
      "[codecarbon INFO @ 14:39:50] Energy consumed for all CPUs : 0.010163 kWh. Total CPU Power : 32.5 W\n",
      "[codecarbon INFO @ 14:39:50] 0.01200162065542897082 kWh of electricity used since the beginning.\n"
     ]
    },
    {
     "name": "stdout",
     "output_type": "stream",
     "text": [
      "\u001b[1m747/782\u001b[0m \u001b[32m━━━━━━━━━━━━━━━━━━━\u001b[0m\u001b[37m━\u001b[0m \u001b[1m3s\u001b[0m 88ms/step - accuracy: 0.8083 - loss: 0.5622"
     ]
    },
    {
     "name": "stderr",
     "output_type": "stream",
     "text": [
      "[codecarbon INFO @ 14:40:04] Energy consumed for RAM : 0.001887 kWh. RAM Power : 5.883667945861816 W\n",
      "[codecarbon INFO @ 14:40:04] Energy consumed for all CPUs : 0.010433 kWh. Total CPU Power : 32.5 W\n",
      "[codecarbon INFO @ 14:40:04] 0.01232014535798613836 kWh of electricity used since the beginning.\n"
     ]
    },
    {
     "name": "stdout",
     "output_type": "stream",
     "text": [
      "\u001b[1m756/782\u001b[0m \u001b[32m━━━━━━━━━━━━━━━━━━━\u001b[0m\u001b[37m━\u001b[0m \u001b[1m2s\u001b[0m 88ms/step - accuracy: 0.8083 - loss: 0.5622"
     ]
    },
    {
     "name": "stderr",
     "output_type": "stream",
     "text": [
      "[codecarbon INFO @ 14:40:05] Energy consumed for RAM : 0.001863 kWh. RAM Power : 5.883667945861816 W\n",
      "[codecarbon INFO @ 14:40:05] Energy consumed for all CPUs : 0.010299 kWh. Total CPU Power : 32.5 W\n"
     ]
    },
    {
     "name": "stdout",
     "output_type": "stream",
     "text": [
      "\u001b[1m757/782\u001b[0m \u001b[32m━━━━━━━━━━━━━━━━━━━\u001b[0m\u001b[37m━\u001b[0m \u001b[1m2s\u001b[0m 88ms/step - accuracy: 0.8083 - loss: 0.5622"
     ]
    },
    {
     "name": "stderr",
     "output_type": "stream",
     "text": [
      "[codecarbon INFO @ 14:40:05] 0.01216174099674999579 kWh of electricity used since the beginning.\n"
     ]
    },
    {
     "name": "stdout",
     "output_type": "stream",
     "text": [
      "\u001b[1m782/782\u001b[0m \u001b[32m━━━━━━━━━━━━━━━━━━━━\u001b[0m\u001b[37m\u001b[0m \u001b[1m71s\u001b[0m 91ms/step - accuracy: 0.8083 - loss: 0.5622 - val_accuracy: 0.8232 - val_loss: 0.5259 - learning_rate: 1.0000e-04\n",
      "Epoch 17/100\n",
      "\u001b[1m107/782\u001b[0m \u001b[32m━━\u001b[0m\u001b[37m━━━━━━━━━━━━━━━━━━\u001b[0m \u001b[1m1:00\u001b[0m 90ms/step - accuracy: 0.8174 - loss: 0.5300"
     ]
    },
    {
     "name": "stderr",
     "output_type": "stream",
     "text": [
      "[codecarbon INFO @ 14:40:19] Energy consumed for RAM : 0.001912 kWh. RAM Power : 5.883667945861816 W\n",
      "[codecarbon INFO @ 14:40:19] Energy consumed for all CPUs : 0.010568 kWh. Total CPU Power : 32.5 W\n",
      "[codecarbon INFO @ 14:40:19] 0.01247994429974438012 kWh of electricity used since the beginning.\n"
     ]
    },
    {
     "name": "stdout",
     "output_type": "stream",
     "text": [
      "\u001b[1m116/782\u001b[0m \u001b[32m━━\u001b[0m\u001b[37m━━━━━━━━━━━━━━━━━━\u001b[0m \u001b[1m59s\u001b[0m 90ms/step - accuracy: 0.8169 - loss: 0.5314"
     ]
    },
    {
     "name": "stderr",
     "output_type": "stream",
     "text": [
      "[codecarbon INFO @ 14:40:20] Energy consumed for RAM : 0.001888 kWh. RAM Power : 5.883667945861816 W\n",
      "[codecarbon INFO @ 14:40:20] Energy consumed for all CPUs : 0.010434 kWh. Total CPU Power : 32.5 W\n",
      "[codecarbon INFO @ 14:40:20] 0.01232193915913686912 kWh of electricity used since the beginning.\n"
     ]
    },
    {
     "name": "stdout",
     "output_type": "stream",
     "text": [
      "\u001b[1m282/782\u001b[0m \u001b[32m━━━━━━━\u001b[0m\u001b[37m━━━━━━━━━━━━━\u001b[0m \u001b[1m43s\u001b[0m 87ms/step - accuracy: 0.8133 - loss: 0.5446"
     ]
    },
    {
     "name": "stderr",
     "output_type": "stream",
     "text": [
      "[codecarbon INFO @ 14:40:34] Energy consumed for RAM : 0.001936 kWh. RAM Power : 5.883667945861816 W\n",
      "[codecarbon INFO @ 14:40:34] Energy consumed for all CPUs : 0.010704 kWh. Total CPU Power : 32.5 W\n",
      "[codecarbon INFO @ 14:40:34] 0.01263991160979873081 kWh of electricity used since the beginning.\n"
     ]
    },
    {
     "name": "stdout",
     "output_type": "stream",
     "text": [
      "\u001b[1m290/782\u001b[0m \u001b[32m━━━━━━━\u001b[0m\u001b[37m━━━━━━━━━━━━━\u001b[0m \u001b[1m43s\u001b[0m 88ms/step - accuracy: 0.8133 - loss: 0.5448"
     ]
    },
    {
     "name": "stderr",
     "output_type": "stream",
     "text": [
      "[codecarbon INFO @ 14:40:35] Energy consumed for RAM : 0.001912 kWh. RAM Power : 5.883667945861816 W\n",
      "[codecarbon INFO @ 14:40:35] Energy consumed for all CPUs : 0.010570 kWh. Total CPU Power : 32.5 W\n",
      "[codecarbon INFO @ 14:40:35] 0.01248192734976145621 kWh of electricity used since the beginning.\n"
     ]
    },
    {
     "name": "stdout",
     "output_type": "stream",
     "text": [
      "\u001b[1m454/782\u001b[0m \u001b[32m━━━━━━━━━━━\u001b[0m\u001b[37m━━━━━━━━━\u001b[0m \u001b[1m28s\u001b[0m 87ms/step - accuracy: 0.8125 - loss: 0.5484"
     ]
    },
    {
     "name": "stderr",
     "output_type": "stream",
     "text": [
      "[codecarbon INFO @ 14:40:49] Energy consumed for RAM : 0.001961 kWh. RAM Power : 5.883667945861816 W\n",
      "[codecarbon INFO @ 14:40:49] Energy consumed for all CPUs : 0.010839 kWh. Total CPU Power : 32.5 W\n",
      "[codecarbon INFO @ 14:40:49] 0.01280007115966009384 kWh of electricity used since the beginning.\n"
     ]
    },
    {
     "name": "stdout",
     "output_type": "stream",
     "text": [
      "\u001b[1m463/782\u001b[0m \u001b[32m━━━━━━━━━━━\u001b[0m\u001b[37m━━━━━━━━━\u001b[0m \u001b[1m27s\u001b[0m 87ms/step - accuracy: 0.8125 - loss: 0.5485"
     ]
    },
    {
     "name": "stderr",
     "output_type": "stream",
     "text": [
      "[codecarbon INFO @ 14:40:50] Energy consumed for RAM : 0.001937 kWh. RAM Power : 5.883667945861816 W\n",
      "[codecarbon INFO @ 14:40:50] Energy consumed for all CPUs : 0.010705 kWh. Total CPU Power : 32.5 W\n",
      "[codecarbon INFO @ 14:40:50] 0.01264199672399484581 kWh of electricity used since the beginning.\n"
     ]
    },
    {
     "name": "stdout",
     "output_type": "stream",
     "text": [
      "\u001b[1m624/782\u001b[0m \u001b[32m━━━━━━━━━━━━━━━\u001b[0m\u001b[37m━━━━━\u001b[0m \u001b[1m13s\u001b[0m 88ms/step - accuracy: 0.8121 - loss: 0.5493"
     ]
    },
    {
     "name": "stderr",
     "output_type": "stream",
     "text": [
      "[codecarbon INFO @ 14:41:04] Energy consumed for RAM : 0.001985 kWh. RAM Power : 5.883667945861816 W\n",
      "[codecarbon INFO @ 14:41:04] Energy consumed for all CPUs : 0.010975 kWh. Total CPU Power : 32.5 W\n",
      "[codecarbon INFO @ 14:41:04] 0.01296007461241623256 kWh of electricity used since the beginning.\n"
     ]
    },
    {
     "name": "stdout",
     "output_type": "stream",
     "text": [
      "\u001b[1m633/782\u001b[0m \u001b[32m━━━━━━━━━━━━━━━━\u001b[0m\u001b[37m━━━━\u001b[0m \u001b[1m13s\u001b[0m 88ms/step - accuracy: 0.8121 - loss: 0.5493"
     ]
    },
    {
     "name": "stderr",
     "output_type": "stream",
     "text": [
      "[codecarbon INFO @ 14:41:05] Energy consumed for RAM : 0.001961 kWh. RAM Power : 5.883667945861816 W\n",
      "[codecarbon INFO @ 14:41:05] Energy consumed for all CPUs : 0.010841 kWh. Total CPU Power : 32.5 W\n",
      "[codecarbon INFO @ 14:41:05] 0.01280200885860597292 kWh of electricity used since the beginning.\n"
     ]
    },
    {
     "name": "stdout",
     "output_type": "stream",
     "text": [
      "\u001b[1m782/782\u001b[0m \u001b[32m━━━━━━━━━━━━━━━━━━━━\u001b[0m\u001b[37m\u001b[0m \u001b[1m0s\u001b[0m 87ms/step - accuracy: 0.8118 - loss: 0.5496"
     ]
    },
    {
     "name": "stderr",
     "output_type": "stream",
     "text": [
      "[codecarbon INFO @ 14:41:19] Energy consumed for RAM : 0.002010 kWh. RAM Power : 5.883667945861816 W\n",
      "[codecarbon INFO @ 14:41:19] Energy consumed for all CPUs : 0.011110 kWh. Total CPU Power : 32.5 W\n",
      "[codecarbon INFO @ 14:41:19] 0.01311999606104870437 kWh of electricity used since the beginning.\n",
      "[codecarbon INFO @ 14:41:20] Energy consumed for RAM : 0.001986 kWh. RAM Power : 5.883667945861816 W\n",
      "[codecarbon INFO @ 14:41:20] Energy consumed for all CPUs : 0.010976 kWh. Total CPU Power : 32.5 W\n",
      "[codecarbon INFO @ 14:41:20] 0.01296187719447912043 kWh of electricity used since the beginning.\n"
     ]
    },
    {
     "name": "stdout",
     "output_type": "stream",
     "text": [
      "\u001b[1m782/782\u001b[0m \u001b[32m━━━━━━━━━━━━━━━━━━━━\u001b[0m\u001b[37m\u001b[0m \u001b[1m71s\u001b[0m 91ms/step - accuracy: 0.8118 - loss: 0.5496 - val_accuracy: 0.8299 - val_loss: 0.5107 - learning_rate: 1.0000e-04\n",
      "Epoch 18/100\n",
      "\u001b[1m162/782\u001b[0m \u001b[32m━━━━\u001b[0m\u001b[37m━━━━━━━━━━━━━━━━\u001b[0m \u001b[1m52s\u001b[0m 84ms/step - accuracy: 0.8059 - loss: 0.5520"
     ]
    },
    {
     "name": "stderr",
     "output_type": "stream",
     "text": [
      "[codecarbon INFO @ 14:41:34] Energy consumed for RAM : 0.002034 kWh. RAM Power : 5.883667945861816 W\n",
      "[codecarbon INFO @ 14:41:34] Energy consumed for all CPUs : 0.011246 kWh. Total CPU Power : 32.5 W\n",
      "[codecarbon INFO @ 14:41:34] 0.01327995386800327922 kWh of electricity used since the beginning.\n"
     ]
    },
    {
     "name": "stdout",
     "output_type": "stream",
     "text": [
      "\u001b[1m171/782\u001b[0m \u001b[32m━━━━\u001b[0m\u001b[37m━━━━━━━━━━━━━━━━\u001b[0m \u001b[1m51s\u001b[0m 85ms/step - accuracy: 0.8060 - loss: 0.5518"
     ]
    },
    {
     "name": "stderr",
     "output_type": "stream",
     "text": [
      "[codecarbon INFO @ 14:41:35] Energy consumed for RAM : 0.002010 kWh. RAM Power : 5.883667945861816 W\n",
      "[codecarbon INFO @ 14:41:35] Energy consumed for all CPUs : 0.011112 kWh. Total CPU Power : 32.5 W\n",
      "[codecarbon INFO @ 14:41:35] 0.01312216184310332698 kWh of electricity used since the beginning.\n"
     ]
    },
    {
     "name": "stdout",
     "output_type": "stream",
     "text": [
      "\u001b[1m331/782\u001b[0m \u001b[32m━━━━━━━━\u001b[0m\u001b[37m━━━━━━━━━━━━\u001b[0m \u001b[1m39s\u001b[0m 87ms/step - accuracy: 0.8082 - loss: 0.5507"
     ]
    },
    {
     "name": "stderr",
     "output_type": "stream",
     "text": [
      "[codecarbon INFO @ 14:41:49] Energy consumed for RAM : 0.002059 kWh. RAM Power : 5.883667945861816 W\n",
      "[codecarbon INFO @ 14:41:49] Energy consumed for all CPUs : 0.011381 kWh. Total CPU Power : 32.5 W\n",
      "[codecarbon INFO @ 14:41:49] 0.01344006030459580538 kWh of electricity used since the beginning.\n"
     ]
    },
    {
     "name": "stdout",
     "output_type": "stream",
     "text": [
      "\u001b[1m339/782\u001b[0m \u001b[32m━━━━━━━━\u001b[0m\u001b[37m━━━━━━━━━━━━\u001b[0m \u001b[1m38s\u001b[0m 87ms/step - accuracy: 0.8082 - loss: 0.5507"
     ]
    },
    {
     "name": "stderr",
     "output_type": "stream",
     "text": [
      "[codecarbon INFO @ 14:41:50] Energy consumed for RAM : 0.002035 kWh. RAM Power : 5.883667945861816 W\n",
      "[codecarbon INFO @ 14:41:50] Energy consumed for all CPUs : 0.011247 kWh. Total CPU Power : 32.5 W\n",
      "[codecarbon INFO @ 14:41:50] 0.01328206292826139903 kWh of electricity used since the beginning.\n"
     ]
    },
    {
     "name": "stdout",
     "output_type": "stream",
     "text": [
      "\u001b[1m502/782\u001b[0m \u001b[32m━━━━━━━━━━━━\u001b[0m\u001b[37m━━━━━━━━\u001b[0m \u001b[1m24s\u001b[0m 87ms/step - accuracy: 0.8090 - loss: 0.5509"
     ]
    },
    {
     "name": "stderr",
     "output_type": "stream",
     "text": [
      "[codecarbon INFO @ 14:42:04] Energy consumed for RAM : 0.002083 kWh. RAM Power : 5.883667945861816 W\n",
      "[codecarbon INFO @ 14:42:04] Energy consumed for all CPUs : 0.011517 kWh. Total CPU Power : 32.5 W\n",
      "[codecarbon INFO @ 14:42:04] 0.01360008721297441270 kWh of electricity used since the beginning.\n"
     ]
    },
    {
     "name": "stdout",
     "output_type": "stream",
     "text": [
      "\u001b[1m512/782\u001b[0m \u001b[32m━━━━━━━━━━━━━\u001b[0m\u001b[37m━━━━━━━\u001b[0m \u001b[1m23s\u001b[0m 87ms/step - accuracy: 0.8090 - loss: 0.5509"
     ]
    },
    {
     "name": "stderr",
     "output_type": "stream",
     "text": [
      "[codecarbon INFO @ 14:42:05] Energy consumed for RAM : 0.002059 kWh. RAM Power : 5.883667945861816 W\n",
      "[codecarbon INFO @ 14:42:05] Energy consumed for all CPUs : 0.011383 kWh. Total CPU Power : 32.5 W\n",
      "[codecarbon INFO @ 14:42:05] 0.01344198424612974389 kWh of electricity used since the beginning.\n"
     ]
    },
    {
     "name": "stdout",
     "output_type": "stream",
     "text": [
      "\u001b[1m674/782\u001b[0m \u001b[32m━━━━━━━━━━━━━━━━━\u001b[0m\u001b[37m━━━\u001b[0m \u001b[1m9s\u001b[0m 87ms/step - accuracy: 0.8092 - loss: 0.5510"
     ]
    },
    {
     "name": "stderr",
     "output_type": "stream",
     "text": [
      "[codecarbon INFO @ 14:42:19] Energy consumed for RAM : 0.002108 kWh. RAM Power : 5.883667945861816 W\n",
      "[codecarbon INFO @ 14:42:19] Energy consumed for all CPUs : 0.011652 kWh. Total CPU Power : 32.5 W\n",
      "[codecarbon INFO @ 14:42:19] 0.01375993186580352565 kWh of electricity used since the beginning.\n"
     ]
    },
    {
     "name": "stdout",
     "output_type": "stream",
     "text": [
      "\u001b[1m684/782\u001b[0m \u001b[32m━━━━━━━━━━━━━━━━━\u001b[0m\u001b[37m━━━\u001b[0m \u001b[1m8s\u001b[0m 87ms/step - accuracy: 0.8092 - loss: 0.5510"
     ]
    },
    {
     "name": "stderr",
     "output_type": "stream",
     "text": [
      "[codecarbon INFO @ 14:42:20] Energy consumed for RAM : 0.002084 kWh. RAM Power : 5.883667945861816 W\n",
      "[codecarbon INFO @ 14:42:20] Energy consumed for all CPUs : 0.011518 kWh. Total CPU Power : 32.5 W\n",
      "[codecarbon INFO @ 14:42:20] 0.01360205610407696358 kWh of electricity used since the beginning.\n"
     ]
    },
    {
     "name": "stdout",
     "output_type": "stream",
     "text": [
      "\u001b[1m782/782\u001b[0m \u001b[32m━━━━━━━━━━━━━━━━━━━━\u001b[0m\u001b[37m\u001b[0m \u001b[1m71s\u001b[0m 90ms/step - accuracy: 0.8094 - loss: 0.5509 - val_accuracy: 0.8276 - val_loss: 0.5193 - learning_rate: 1.0000e-04\n",
      "Epoch 19/100\n",
      "\u001b[1m 30/782\u001b[0m \u001b[37m━━━━━━━━━━━━━━━━━━━━\u001b[0m \u001b[1m1:07\u001b[0m 90ms/step - accuracy: 0.7850 - loss: 0.6100"
     ]
    },
    {
     "name": "stderr",
     "output_type": "stream",
     "text": [
      "[codecarbon INFO @ 14:42:34] Energy consumed for RAM : 0.002132 kWh. RAM Power : 5.883667945861816 W\n",
      "[codecarbon INFO @ 14:42:34] Energy consumed for all CPUs : 0.011787 kWh. Total CPU Power : 32.5 W\n",
      "[codecarbon INFO @ 14:42:34] 0.01391996502147924315 kWh of electricity used since the beginning.\n"
     ]
    },
    {
     "name": "stdout",
     "output_type": "stream",
     "text": [
      "\u001b[1m 40/782\u001b[0m \u001b[32m━\u001b[0m\u001b[37m━━━━━━━━━━━━━━━━━━━\u001b[0m \u001b[1m1:07\u001b[0m 91ms/step - accuracy: 0.7902 - loss: 0.5960"
     ]
    },
    {
     "name": "stderr",
     "output_type": "stream",
     "text": [
      "[codecarbon INFO @ 14:42:35] Energy consumed for RAM : 0.002108 kWh. RAM Power : 5.883667945861816 W\n",
      "[codecarbon INFO @ 14:42:35] Energy consumed for all CPUs : 0.011654 kWh. Total CPU Power : 32.5 W\n",
      "[codecarbon INFO @ 14:42:35] 0.01376197118189267932 kWh of electricity used since the beginning.\n"
     ]
    },
    {
     "name": "stdout",
     "output_type": "stream",
     "text": [
      "\u001b[1m200/782\u001b[0m \u001b[32m━━━━━\u001b[0m\u001b[37m━━━━━━━━━━━━━━━\u001b[0m \u001b[1m51s\u001b[0m 89ms/step - accuracy: 0.8020 - loss: 0.5668"
     ]
    },
    {
     "name": "stderr",
     "output_type": "stream",
     "text": [
      "[codecarbon INFO @ 14:42:49] Energy consumed for RAM : 0.002157 kWh. RAM Power : 5.883667945861816 W\n",
      "[codecarbon INFO @ 14:42:49] Energy consumed for all CPUs : 0.011923 kWh. Total CPU Power : 32.5 W\n",
      "[codecarbon INFO @ 14:42:49] 0.01408006615093326114 kWh of electricity used since the beginning.\n"
     ]
    },
    {
     "name": "stdout",
     "output_type": "stream",
     "text": [
      "\u001b[1m210/782\u001b[0m \u001b[32m━━━━━\u001b[0m\u001b[37m━━━━━━━━━━━━━━━\u001b[0m \u001b[1m50s\u001b[0m 88ms/step - accuracy: 0.8023 - loss: 0.5660"
     ]
    },
    {
     "name": "stderr",
     "output_type": "stream",
     "text": [
      "[codecarbon INFO @ 14:42:50] Energy consumed for RAM : 0.002133 kWh. RAM Power : 5.883667945861816 W\n",
      "[codecarbon INFO @ 14:42:50] Energy consumed for all CPUs : 0.011789 kWh. Total CPU Power : 32.5 W\n"
     ]
    },
    {
     "name": "stdout",
     "output_type": "stream",
     "text": [
      "\u001b[1m211/782\u001b[0m \u001b[32m━━━━━\u001b[0m\u001b[37m━━━━━━━━━━━━━━━\u001b[0m \u001b[1m50s\u001b[0m 88ms/step - accuracy: 0.8023 - loss: 0.5660"
     ]
    },
    {
     "name": "stderr",
     "output_type": "stream",
     "text": [
      "[codecarbon INFO @ 14:42:50] 0.01392199540100037651 kWh of electricity used since the beginning.\n"
     ]
    },
    {
     "name": "stdout",
     "output_type": "stream",
     "text": [
      "\u001b[1m372/782\u001b[0m \u001b[32m━━━━━━━━━\u001b[0m\u001b[37m━━━━━━━━━━━\u001b[0m \u001b[1m36s\u001b[0m 88ms/step - accuracy: 0.8059 - loss: 0.5572"
     ]
    },
    {
     "name": "stderr",
     "output_type": "stream",
     "text": [
      "[codecarbon INFO @ 14:43:04] Energy consumed for RAM : 0.002182 kWh. RAM Power : 5.883667945861816 W\n",
      "[codecarbon INFO @ 14:43:04] Energy consumed for all CPUs : 0.012059 kWh. Total CPU Power : 32.5 W\n",
      "[codecarbon INFO @ 14:43:04] 0.01424022336247839950 kWh of electricity used since the beginning.\n"
     ]
    },
    {
     "name": "stdout",
     "output_type": "stream",
     "text": [
      "\u001b[1m382/782\u001b[0m \u001b[32m━━━━━━━━━\u001b[0m\u001b[37m━━━━━━━━━━━\u001b[0m \u001b[1m35s\u001b[0m 88ms/step - accuracy: 0.8060 - loss: 0.5569"
     ]
    },
    {
     "name": "stderr",
     "output_type": "stream",
     "text": [
      "[codecarbon INFO @ 14:43:05] Energy consumed for RAM : 0.002157 kWh. RAM Power : 5.883667945861816 W\n",
      "[codecarbon INFO @ 14:43:05] Energy consumed for all CPUs : 0.011925 kWh. Total CPU Power : 32.5 W\n",
      "[codecarbon INFO @ 14:43:05] 0.01408210311931445795 kWh of electricity used since the beginning.\n"
     ]
    },
    {
     "name": "stdout",
     "output_type": "stream",
     "text": [
      "\u001b[1m544/782\u001b[0m \u001b[32m━━━━━━━━━━━━━\u001b[0m\u001b[37m━━━━━━━\u001b[0m \u001b[1m20s\u001b[0m 88ms/step - accuracy: 0.8076 - loss: 0.5524"
     ]
    },
    {
     "name": "stderr",
     "output_type": "stream",
     "text": [
      "[codecarbon INFO @ 14:43:19] Energy consumed for RAM : 0.002206 kWh. RAM Power : 5.883667945861816 W\n",
      "[codecarbon INFO @ 14:43:19] Energy consumed for all CPUs : 0.012194 kWh. Total CPU Power : 32.5 W\n",
      "[codecarbon INFO @ 14:43:19] 0.01440016980361383085 kWh of electricity used since the beginning.\n"
     ]
    },
    {
     "name": "stdout",
     "output_type": "stream",
     "text": [
      "\u001b[1m554/782\u001b[0m \u001b[32m━━━━━━━━━━━━━━\u001b[0m\u001b[37m━━━━━━\u001b[0m \u001b[1m20s\u001b[0m 88ms/step - accuracy: 0.8077 - loss: 0.5522"
     ]
    },
    {
     "name": "stderr",
     "output_type": "stream",
     "text": [
      "[codecarbon INFO @ 14:43:20] Energy consumed for RAM : 0.002182 kWh. RAM Power : 5.883667945861816 W\n",
      "[codecarbon INFO @ 14:43:20] Energy consumed for all CPUs : 0.012060 kWh. Total CPU Power : 32.5 W\n",
      "[codecarbon INFO @ 14:43:20] 0.01424195562984381658 kWh of electricity used since the beginning.\n"
     ]
    },
    {
     "name": "stdout",
     "output_type": "stream",
     "text": [
      "\u001b[1m715/782\u001b[0m \u001b[32m━━━━━━━━━━━━━━━━━━\u001b[0m\u001b[37m━━\u001b[0m \u001b[1m5s\u001b[0m 88ms/step - accuracy: 0.8086 - loss: 0.5495"
     ]
    },
    {
     "name": "stderr",
     "output_type": "stream",
     "text": [
      "[codecarbon INFO @ 14:43:34] Energy consumed for RAM : 0.002231 kWh. RAM Power : 5.883667945861816 W\n",
      "[codecarbon INFO @ 14:43:34] Energy consumed for all CPUs : 0.012330 kWh. Total CPU Power : 32.5 W\n",
      "[codecarbon INFO @ 14:43:34] 0.01456021610806470211 kWh of electricity used since the beginning.\n"
     ]
    },
    {
     "name": "stdout",
     "output_type": "stream",
     "text": [
      "\u001b[1m725/782\u001b[0m \u001b[32m━━━━━━━━━━━━━━━━━━\u001b[0m\u001b[37m━━\u001b[0m \u001b[1m5s\u001b[0m 88ms/step - accuracy: 0.8087 - loss: 0.5493"
     ]
    },
    {
     "name": "stderr",
     "output_type": "stream",
     "text": [
      "[codecarbon INFO @ 14:43:35] Energy consumed for RAM : 0.002206 kWh. RAM Power : 5.883667945861816 W\n",
      "[codecarbon INFO @ 14:43:35] Energy consumed for all CPUs : 0.012196 kWh. Total CPU Power : 32.5 W\n",
      "[codecarbon INFO @ 14:43:35] 0.01440206415923736723 kWh of electricity used since the beginning.\n"
     ]
    },
    {
     "name": "stdout",
     "output_type": "stream",
     "text": [
      "\u001b[1m782/782\u001b[0m \u001b[32m━━━━━━━━━━━━━━━━━━━━\u001b[0m\u001b[37m\u001b[0m \u001b[1m72s\u001b[0m 91ms/step - accuracy: 0.8088 - loss: 0.5487 - val_accuracy: 0.8310 - val_loss: 0.5148 - learning_rate: 1.0000e-04\n",
      "Epoch 20/100\n",
      "\u001b[1m 71/782\u001b[0m \u001b[32m━\u001b[0m\u001b[37m━━━━━━━━━━━━━━━━━━━\u001b[0m \u001b[1m1:02\u001b[0m 88ms/step - accuracy: 0.8168 - loss: 0.5337"
     ]
    },
    {
     "name": "stderr",
     "output_type": "stream",
     "text": [
      "[codecarbon INFO @ 14:43:49] Energy consumed for RAM : 0.002255 kWh. RAM Power : 5.883667945861816 W\n",
      "[codecarbon INFO @ 14:43:49] Energy consumed for all CPUs : 0.012465 kWh. Total CPU Power : 32.5 W\n",
      "[codecarbon INFO @ 14:43:49] 0.01472011966456261006 kWh of electricity used since the beginning.\n"
     ]
    },
    {
     "name": "stdout",
     "output_type": "stream",
     "text": [
      "\u001b[1m 81/782\u001b[0m \u001b[32m━━\u001b[0m\u001b[37m━━━━━━━━━━━━━━━━━━\u001b[0m \u001b[1m1:01\u001b[0m 88ms/step - accuracy: 0.8160 - loss: 0.5344"
     ]
    },
    {
     "name": "stderr",
     "output_type": "stream",
     "text": [
      "[codecarbon INFO @ 14:43:50] Energy consumed for RAM : 0.002231 kWh. RAM Power : 5.883667945861816 W\n",
      "[codecarbon INFO @ 14:43:50] Energy consumed for all CPUs : 0.012332 kWh. Total CPU Power : 32.5 W\n",
      "[codecarbon INFO @ 14:43:50] 0.01456226136461293702 kWh of electricity used since the beginning.\n"
     ]
    },
    {
     "name": "stdout",
     "output_type": "stream",
     "text": [
      "\u001b[1m241/782\u001b[0m \u001b[32m━━━━━━\u001b[0m\u001b[37m━━━━━━━━━━━━━━\u001b[0m \u001b[1m47s\u001b[0m 88ms/step - accuracy: 0.8148 - loss: 0.5283"
     ]
    },
    {
     "name": "stderr",
     "output_type": "stream",
     "text": [
      "[codecarbon INFO @ 14:44:04] Energy consumed for RAM : 0.002280 kWh. RAM Power : 5.883667945861816 W\n",
      "[codecarbon INFO @ 14:44:04] Energy consumed for all CPUs : 0.012601 kWh. Total CPU Power : 32.5 W\n",
      "[codecarbon INFO @ 14:44:04] 0.01488024747304402332 kWh of electricity used since the beginning.\n"
     ]
    },
    {
     "name": "stdout",
     "output_type": "stream",
     "text": [
      "\u001b[1m251/782\u001b[0m \u001b[32m━━━━━━\u001b[0m\u001b[37m━━━━━━━━━━━━━━\u001b[0m \u001b[1m46s\u001b[0m 88ms/step - accuracy: 0.8149 - loss: 0.5281"
     ]
    },
    {
     "name": "stderr",
     "output_type": "stream",
     "text": [
      "[codecarbon INFO @ 14:44:05] Energy consumed for RAM : 0.002255 kWh. RAM Power : 5.883667945861816 W\n",
      "[codecarbon INFO @ 14:44:05] Energy consumed for all CPUs : 0.012467 kWh. Total CPU Power : 32.5 W\n",
      "[codecarbon INFO @ 14:44:05] 0.01472210898810731930 kWh of electricity used since the beginning.\n"
     ]
    },
    {
     "name": "stdout",
     "output_type": "stream",
     "text": [
      "\u001b[1m414/782\u001b[0m \u001b[32m━━━━━━━━━━\u001b[0m\u001b[37m━━━━━━━━━━\u001b[0m \u001b[1m32s\u001b[0m 88ms/step - accuracy: 0.8150 - loss: 0.5282"
     ]
    },
    {
     "name": "stderr",
     "output_type": "stream",
     "text": [
      "[codecarbon INFO @ 14:44:19] Energy consumed for RAM : 0.002304 kWh. RAM Power : 5.883667945861816 W\n",
      "[codecarbon INFO @ 14:44:19] Energy consumed for all CPUs : 0.012736 kWh. Total CPU Power : 32.5 W\n",
      "[codecarbon INFO @ 14:44:19] 0.01504026774630018957 kWh of electricity used since the beginning.\n"
     ]
    },
    {
     "name": "stdout",
     "output_type": "stream",
     "text": [
      "\u001b[1m423/782\u001b[0m \u001b[32m━━━━━━━━━━\u001b[0m\u001b[37m━━━━━━━━━━\u001b[0m \u001b[1m31s\u001b[0m 88ms/step - accuracy: 0.8150 - loss: 0.5282"
     ]
    },
    {
     "name": "stderr",
     "output_type": "stream",
     "text": [
      "[codecarbon INFO @ 14:44:20] Energy consumed for RAM : 0.002280 kWh. RAM Power : 5.883667945861816 W\n",
      "[codecarbon INFO @ 14:44:20] Energy consumed for all CPUs : 0.012602 kWh. Total CPU Power : 32.5 W\n"
     ]
    },
    {
     "name": "stdout",
     "output_type": "stream",
     "text": [
      "\u001b[1m424/782\u001b[0m \u001b[32m━━━━━━━━━━\u001b[0m\u001b[37m━━━━━━━━━━\u001b[0m \u001b[1m31s\u001b[0m 88ms/step - accuracy: 0.8150 - loss: 0.5282"
     ]
    },
    {
     "name": "stderr",
     "output_type": "stream",
     "text": [
      "[codecarbon INFO @ 14:44:20] 0.01488222567996383416 kWh of electricity used since the beginning.\n"
     ]
    },
    {
     "name": "stdout",
     "output_type": "stream",
     "text": [
      "\u001b[1m587/782\u001b[0m \u001b[32m━━━━━━━━━━━━━━━\u001b[0m\u001b[37m━━━━━\u001b[0m \u001b[1m17s\u001b[0m 87ms/step - accuracy: 0.8147 - loss: 0.5291"
     ]
    },
    {
     "name": "stderr",
     "output_type": "stream",
     "text": [
      "[codecarbon INFO @ 14:44:34] Energy consumed for RAM : 0.002329 kWh. RAM Power : 5.883667945861816 W\n",
      "[codecarbon INFO @ 14:44:34] Energy consumed for all CPUs : 0.012872 kWh. Total CPU Power : 32.5 W\n",
      "[codecarbon INFO @ 14:44:34] 0.01520026074881347146 kWh of electricity used since the beginning.\n"
     ]
    },
    {
     "name": "stdout",
     "output_type": "stream",
     "text": [
      "\u001b[1m596/782\u001b[0m \u001b[32m━━━━━━━━━━━━━━━\u001b[0m\u001b[37m━━━━━\u001b[0m \u001b[1m16s\u001b[0m 88ms/step - accuracy: 0.8147 - loss: 0.5291"
     ]
    },
    {
     "name": "stderr",
     "output_type": "stream",
     "text": [
      "[codecarbon INFO @ 14:44:35] Energy consumed for RAM : 0.002304 kWh. RAM Power : 5.883667945861816 W\n",
      "[codecarbon INFO @ 14:44:35] Energy consumed for all CPUs : 0.012738 kWh. Total CPU Power : 32.5 W\n",
      "[codecarbon INFO @ 14:44:35] 0.01504230341380159361 kWh of electricity used since the beginning.\n"
     ]
    },
    {
     "name": "stdout",
     "output_type": "stream",
     "text": [
      "\u001b[1m760/782\u001b[0m \u001b[32m━━━━━━━━━━━━━━━━━━━\u001b[0m\u001b[37m━\u001b[0m \u001b[1m1s\u001b[0m 87ms/step - accuracy: 0.8145 - loss: 0.5299"
     ]
    },
    {
     "name": "stderr",
     "output_type": "stream",
     "text": [
      "[codecarbon INFO @ 14:44:49] Energy consumed for RAM : 0.002353 kWh. RAM Power : 5.883667945861816 W\n",
      "[codecarbon INFO @ 14:44:49] Energy consumed for all CPUs : 0.013007 kWh. Total CPU Power : 32.5 W\n",
      "[codecarbon INFO @ 14:44:49] 0.01536023202896506963 kWh of electricity used since the beginning.\n"
     ]
    },
    {
     "name": "stdout",
     "output_type": "stream",
     "text": [
      "\u001b[1m769/782\u001b[0m \u001b[32m━━━━━━━━━━━━━━━━━━━\u001b[0m\u001b[37m━\u001b[0m \u001b[1m1s\u001b[0m 87ms/step - accuracy: 0.8145 - loss: 0.5300"
     ]
    },
    {
     "name": "stderr",
     "output_type": "stream",
     "text": [
      "[codecarbon INFO @ 14:44:50] Energy consumed for RAM : 0.002329 kWh. RAM Power : 5.883667945861816 W\n",
      "[codecarbon INFO @ 14:44:50] Energy consumed for all CPUs : 0.012873 kWh. Total CPU Power : 32.5 W\n",
      "[codecarbon INFO @ 14:44:50] 0.01520230537699784890 kWh of electricity used since the beginning.\n"
     ]
    },
    {
     "name": "stdout",
     "output_type": "stream",
     "text": [
      "\u001b[1m782/782\u001b[0m \u001b[32m━━━━━━━━━━━━━━━━━━━━\u001b[0m\u001b[37m\u001b[0m \u001b[1m71s\u001b[0m 91ms/step - accuracy: 0.8144 - loss: 0.5301 - val_accuracy: 0.8332 - val_loss: 0.5032 - learning_rate: 1.0000e-04\n",
      "Epoch 21/100\n",
      "\u001b[1m119/782\u001b[0m \u001b[32m━━━\u001b[0m\u001b[37m━━━━━━━━━━━━━━━━━\u001b[0m \u001b[1m57s\u001b[0m 86ms/step - accuracy: 0.8125 - loss: 0.5280"
     ]
    },
    {
     "name": "stderr",
     "output_type": "stream",
     "text": [
      "[codecarbon INFO @ 14:45:04] Energy consumed for RAM : 0.002378 kWh. RAM Power : 5.883667945861816 W\n",
      "[codecarbon INFO @ 14:45:05] Energy consumed for all CPUs : 0.013143 kWh. Total CPU Power : 32.5 W\n"
     ]
    },
    {
     "name": "stdout",
     "output_type": "stream",
     "text": [
      "\u001b[1m120/782\u001b[0m \u001b[32m━━━\u001b[0m\u001b[37m━━━━━━━━━━━━━━━━━\u001b[0m \u001b[1m57s\u001b[0m 87ms/step - accuracy: 0.8125 - loss: 0.5280"
     ]
    },
    {
     "name": "stderr",
     "output_type": "stream",
     "text": [
      "[codecarbon INFO @ 14:45:05] 0.01552027788182080634 kWh of electricity used since the beginning.\n"
     ]
    },
    {
     "name": "stdout",
     "output_type": "stream",
     "text": [
      "\u001b[1m129/782\u001b[0m \u001b[32m━━━\u001b[0m\u001b[37m━━━━━━━━━━━━━━━━━\u001b[0m \u001b[1m56s\u001b[0m 87ms/step - accuracy: 0.8124 - loss: 0.5285"
     ]
    },
    {
     "name": "stderr",
     "output_type": "stream",
     "text": [
      "[codecarbon INFO @ 14:45:05] Energy consumed for RAM : 0.002353 kWh. RAM Power : 5.883667945861816 W\n",
      "[codecarbon INFO @ 14:45:05] Energy consumed for all CPUs : 0.013009 kWh. Total CPU Power : 32.5 W\n"
     ]
    },
    {
     "name": "stdout",
     "output_type": "stream",
     "text": [
      "\u001b[1m130/782\u001b[0m \u001b[32m━━━\u001b[0m\u001b[37m━━━━━━━━━━━━━━━━━\u001b[0m \u001b[1m56s\u001b[0m 87ms/step - accuracy: 0.8124 - loss: 0.5285"
     ]
    },
    {
     "name": "stderr",
     "output_type": "stream",
     "text": [
      "[codecarbon INFO @ 14:45:05] 0.01536246867169158842 kWh of electricity used since the beginning.\n"
     ]
    },
    {
     "name": "stdout",
     "output_type": "stream",
     "text": [
      "\u001b[1m295/782\u001b[0m \u001b[32m━━━━━━━\u001b[0m\u001b[37m━━━━━━━━━━━━━\u001b[0m \u001b[1m41s\u001b[0m 86ms/step - accuracy: 0.8131 - loss: 0.5330"
     ]
    },
    {
     "name": "stderr",
     "output_type": "stream",
     "text": [
      "[codecarbon INFO @ 14:45:20] Energy consumed for RAM : 0.002402 kWh. RAM Power : 5.883667945861816 W\n",
      "[codecarbon INFO @ 14:45:20] Energy consumed for all CPUs : 0.013278 kWh. Total CPU Power : 32.5 W\n",
      "[codecarbon INFO @ 14:45:20] 0.01568025122908710614 kWh of electricity used since the beginning.\n"
     ]
    },
    {
     "name": "stdout",
     "output_type": "stream",
     "text": [
      "\u001b[1m303/782\u001b[0m \u001b[32m━━━━━━━\u001b[0m\u001b[37m━━━━━━━━━━━━━\u001b[0m \u001b[1m41s\u001b[0m 87ms/step - accuracy: 0.8131 - loss: 0.5331"
     ]
    },
    {
     "name": "stderr",
     "output_type": "stream",
     "text": [
      "[codecarbon INFO @ 14:45:20] Energy consumed for RAM : 0.002378 kWh. RAM Power : 5.883667945861816 W\n",
      "[codecarbon INFO @ 14:45:20] Energy consumed for all CPUs : 0.013145 kWh. Total CPU Power : 32.5 W\n",
      "[codecarbon INFO @ 14:45:20] 0.01552253193149822838 kWh of electricity used since the beginning.\n"
     ]
    },
    {
     "name": "stdout",
     "output_type": "stream",
     "text": [
      "\u001b[1m467/782\u001b[0m \u001b[32m━━━━━━━━━━━\u001b[0m\u001b[37m━━━━━━━━━\u001b[0m \u001b[1m27s\u001b[0m 86ms/step - accuracy: 0.8134 - loss: 0.5352"
     ]
    },
    {
     "name": "stderr",
     "output_type": "stream",
     "text": [
      "[codecarbon INFO @ 14:45:35] Energy consumed for RAM : 0.002427 kWh. RAM Power : 5.883667945861816 W\n",
      "[codecarbon INFO @ 14:45:35] Energy consumed for all CPUs : 0.013414 kWh. Total CPU Power : 32.5 W\n",
      "[codecarbon INFO @ 14:45:35] 0.01584043245742499523 kWh of electricity used since the beginning.\n"
     ]
    },
    {
     "name": "stdout",
     "output_type": "stream",
     "text": [
      "\u001b[1m477/782\u001b[0m \u001b[32m━━━━━━━━━━━━\u001b[0m\u001b[37m━━━━━━━━\u001b[0m \u001b[1m26s\u001b[0m 86ms/step - accuracy: 0.8135 - loss: 0.5353"
     ]
    },
    {
     "name": "stderr",
     "output_type": "stream",
     "text": [
      "[codecarbon INFO @ 14:45:35] Energy consumed for RAM : 0.002402 kWh. RAM Power : 5.883667945861816 W\n",
      "[codecarbon INFO @ 14:45:35] Energy consumed for all CPUs : 0.013280 kWh. Total CPU Power : 32.5 W\n",
      "[codecarbon INFO @ 14:45:35] 0.01568264035720736901 kWh of electricity used since the beginning.\n"
     ]
    },
    {
     "name": "stdout",
     "output_type": "stream",
     "text": [
      "\u001b[1m638/782\u001b[0m \u001b[32m━━━━━━━━━━━━━━━━\u001b[0m\u001b[37m━━━━\u001b[0m \u001b[1m12s\u001b[0m 87ms/step - accuracy: 0.8138 - loss: 0.5359"
     ]
    },
    {
     "name": "stderr",
     "output_type": "stream",
     "text": [
      "[codecarbon INFO @ 14:45:50] Energy consumed for RAM : 0.002451 kWh. RAM Power : 5.883667945861816 W\n"
     ]
    },
    {
     "name": "stdout",
     "output_type": "stream",
     "text": [
      "\u001b[1m639/782\u001b[0m \u001b[32m━━━━━━━━━━━━━━━━\u001b[0m\u001b[37m━━━━\u001b[0m \u001b[1m12s\u001b[0m 87ms/step - accuracy: 0.8138 - loss: 0.5359"
     ]
    },
    {
     "name": "stderr",
     "output_type": "stream",
     "text": [
      "[codecarbon INFO @ 14:45:50] Energy consumed for all CPUs : 0.013549 kWh. Total CPU Power : 32.5 W\n",
      "[codecarbon INFO @ 14:45:50] 0.01600011769610248935 kWh of electricity used since the beginning.\n"
     ]
    },
    {
     "name": "stdout",
     "output_type": "stream",
     "text": [
      "\u001b[1m647/782\u001b[0m \u001b[32m━━━━━━━━━━━━━━━━\u001b[0m\u001b[37m━━━━\u001b[0m \u001b[1m11s\u001b[0m 87ms/step - accuracy: 0.8138 - loss: 0.5359"
     ]
    },
    {
     "name": "stderr",
     "output_type": "stream",
     "text": [
      "[codecarbon INFO @ 14:45:50] Energy consumed for RAM : 0.002427 kWh. RAM Power : 5.883667945861816 W\n",
      "[codecarbon INFO @ 14:45:50] Energy consumed for all CPUs : 0.013416 kWh. Total CPU Power : 32.5 W\n",
      "[codecarbon INFO @ 14:45:50] 0.01584274826354852006 kWh of electricity used since the beginning.\n"
     ]
    },
    {
     "name": "stdout",
     "output_type": "stream",
     "text": [
      "\u001b[1m782/782\u001b[0m \u001b[32m━━━━━━━━━━━━━━━━━━━━\u001b[0m\u001b[37m\u001b[0m \u001b[1m0s\u001b[0m 87ms/step - accuracy: 0.8142 - loss: 0.5354"
     ]
    },
    {
     "name": "stderr",
     "output_type": "stream",
     "text": [
      "[codecarbon INFO @ 14:46:05] Energy consumed for RAM : 0.002476 kWh. RAM Power : 5.883667945861816 W\n",
      "[codecarbon INFO @ 14:46:05] Energy consumed for all CPUs : 0.013684 kWh. Total CPU Power : 32.5 W\n",
      "[codecarbon INFO @ 14:46:05] 0.01616008309781637869 kWh of electricity used since the beginning.\n"
     ]
    },
    {
     "name": "stdout",
     "output_type": "stream",
     "text": [
      "\u001b[1m782/782\u001b[0m \u001b[32m━━━━━━━━━━━━━━━━━━━━\u001b[0m\u001b[37m\u001b[0m \u001b[1m71s\u001b[0m 90ms/step - accuracy: 0.8142 - loss: 0.5354 - val_accuracy: 0.8340 - val_loss: 0.5004 - learning_rate: 1.0000e-04\n",
      "Epoch 22/100\n",
      "\u001b[1m  6/782\u001b[0m \u001b[37m━━━━━━━━━━━━━━━━━━━━\u001b[0m \u001b[1m1:20\u001b[0m 103ms/step - accuracy: 0.8056 - loss: 0.5869"
     ]
    },
    {
     "name": "stderr",
     "output_type": "stream",
     "text": [
      "[codecarbon INFO @ 14:46:05] Energy consumed for RAM : 0.002451 kWh. RAM Power : 5.883667945861816 W\n",
      "[codecarbon INFO @ 14:46:05] Energy consumed for all CPUs : 0.013551 kWh. Total CPU Power : 32.5 W\n",
      "[codecarbon INFO @ 14:46:05] 0.01600248517051233027 kWh of electricity used since the beginning.\n"
     ]
    },
    {
     "name": "stdout",
     "output_type": "stream",
     "text": [
      "\u001b[1m167/782\u001b[0m \u001b[32m━━━━\u001b[0m\u001b[37m━━━━━━━━━━━━━━━━\u001b[0m \u001b[1m54s\u001b[0m 88ms/step - accuracy: 0.8210 - loss: 0.5126"
     ]
    },
    {
     "name": "stderr",
     "output_type": "stream",
     "text": [
      "[codecarbon INFO @ 14:46:20] Energy consumed for RAM : 0.002500 kWh. RAM Power : 5.883667945861816 W\n",
      "[codecarbon INFO @ 14:46:20] Energy consumed for all CPUs : 0.013820 kWh. Total CPU Power : 32.5 W\n",
      "[codecarbon INFO @ 14:46:20] 0.01632010481079662623 kWh of electricity used since the beginning.\n"
     ]
    },
    {
     "name": "stdout",
     "output_type": "stream",
     "text": [
      "\u001b[1m178/782\u001b[0m \u001b[32m━━━━\u001b[0m\u001b[37m━━━━━━━━━━━━━━━━\u001b[0m \u001b[1m52s\u001b[0m 88ms/step - accuracy: 0.8210 - loss: 0.5127"
     ]
    },
    {
     "name": "stderr",
     "output_type": "stream",
     "text": [
      "[codecarbon INFO @ 14:46:20] Energy consumed for RAM : 0.002476 kWh. RAM Power : 5.883667945861816 W\n",
      "[codecarbon INFO @ 14:46:20] Energy consumed for all CPUs : 0.013687 kWh. Total CPU Power : 32.5 W\n",
      "[codecarbon INFO @ 14:46:20] 0.01616245953508919919 kWh of electricity used since the beginning.\n"
     ]
    },
    {
     "name": "stdout",
     "output_type": "stream",
     "text": [
      "\u001b[1m338/782\u001b[0m \u001b[32m━━━━━━━━\u001b[0m\u001b[37m━━━━━━━━━━━━\u001b[0m \u001b[1m39s\u001b[0m 88ms/step - accuracy: 0.8202 - loss: 0.5160"
     ]
    },
    {
     "name": "stderr",
     "output_type": "stream",
     "text": [
      "[codecarbon INFO @ 14:46:35] Energy consumed for RAM : 0.002525 kWh. RAM Power : 5.883667945861816 W\n",
      "[codecarbon INFO @ 14:46:35] Energy consumed for all CPUs : 0.013955 kWh. Total CPU Power : 32.5 W\n"
     ]
    },
    {
     "name": "stdout",
     "output_type": "stream",
     "text": [
      "\u001b[1m339/782\u001b[0m \u001b[32m━━━━━━━━\u001b[0m\u001b[37m━━━━━━━━━━━━\u001b[0m \u001b[1m38s\u001b[0m 88ms/step - accuracy: 0.8202 - loss: 0.5161"
     ]
    },
    {
     "name": "stderr",
     "output_type": "stream",
     "text": [
      "[codecarbon INFO @ 14:46:35] 0.01648020158276826408 kWh of electricity used since the beginning.\n"
     ]
    },
    {
     "name": "stdout",
     "output_type": "stream",
     "text": [
      "\u001b[1m349/782\u001b[0m \u001b[32m━━━━━━━━\u001b[0m\u001b[37m━━━━━━━━━━━━\u001b[0m \u001b[1m37s\u001b[0m 88ms/step - accuracy: 0.8201 - loss: 0.5163"
     ]
    },
    {
     "name": "stderr",
     "output_type": "stream",
     "text": [
      "[codecarbon INFO @ 14:46:35] Energy consumed for RAM : 0.002500 kWh. RAM Power : 5.883667945861816 W\n",
      "[codecarbon INFO @ 14:46:35] Energy consumed for all CPUs : 0.013822 kWh. Total CPU Power : 32.5 W\n",
      "[codecarbon INFO @ 14:46:35] 0.01632251129627606059 kWh of electricity used since the beginning.\n"
     ]
    },
    {
     "name": "stdout",
     "output_type": "stream",
     "text": [
      "\u001b[1m509/782\u001b[0m \u001b[32m━━━━━━━━━━━━━\u001b[0m\u001b[37m━━━━━━━\u001b[0m \u001b[1m23s\u001b[0m 88ms/step - accuracy: 0.8192 - loss: 0.5194"
     ]
    },
    {
     "name": "stderr",
     "output_type": "stream",
     "text": [
      "[codecarbon INFO @ 14:46:50] Energy consumed for RAM : 0.002549 kWh. RAM Power : 5.883667945861816 W\n",
      "[codecarbon INFO @ 14:46:50] Energy consumed for all CPUs : 0.014091 kWh. Total CPU Power : 32.5 W\n",
      "[codecarbon INFO @ 14:46:50] 0.01664023391916310407 kWh of electricity used since the beginning.\n"
     ]
    },
    {
     "name": "stdout",
     "output_type": "stream",
     "text": [
      "\u001b[1m520/782\u001b[0m \u001b[32m━━━━━━━━━━━━━\u001b[0m\u001b[37m━━━━━━━\u001b[0m \u001b[1m22s\u001b[0m 88ms/step - accuracy: 0.8192 - loss: 0.5196"
     ]
    },
    {
     "name": "stderr",
     "output_type": "stream",
     "text": [
      "[codecarbon INFO @ 14:46:50] Energy consumed for RAM : 0.002525 kWh. RAM Power : 5.883667945861816 W\n",
      "[codecarbon INFO @ 14:46:50] Energy consumed for all CPUs : 0.013957 kWh. Total CPU Power : 32.5 W\n",
      "[codecarbon INFO @ 14:46:50] 0.01648232666439602631 kWh of electricity used since the beginning.\n"
     ]
    },
    {
     "name": "stdout",
     "output_type": "stream",
     "text": [
      "\u001b[1m680/782\u001b[0m \u001b[32m━━━━━━━━━━━━━━━━━\u001b[0m\u001b[37m━━━\u001b[0m \u001b[1m8s\u001b[0m 88ms/step - accuracy: 0.8185 - loss: 0.5220"
     ]
    },
    {
     "name": "stderr",
     "output_type": "stream",
     "text": [
      "[codecarbon INFO @ 14:47:05] Energy consumed for RAM : 0.002574 kWh. RAM Power : 5.883667945861816 W\n",
      "[codecarbon INFO @ 14:47:05] Energy consumed for all CPUs : 0.014226 kWh. Total CPU Power : 32.5 W\n",
      "[codecarbon INFO @ 14:47:05] 0.01679997628511910313 kWh of electricity used since the beginning.\n"
     ]
    },
    {
     "name": "stdout",
     "output_type": "stream",
     "text": [
      "\u001b[1m691/782\u001b[0m \u001b[32m━━━━━━━━━━━━━━━━━\u001b[0m\u001b[37m━━━\u001b[0m \u001b[1m7s\u001b[0m 88ms/step - accuracy: 0.8185 - loss: 0.5221"
     ]
    },
    {
     "name": "stderr",
     "output_type": "stream",
     "text": [
      "[codecarbon INFO @ 14:47:05] Energy consumed for RAM : 0.002549 kWh. RAM Power : 5.883667945861816 W\n",
      "[codecarbon INFO @ 14:47:05] Energy consumed for all CPUs : 0.014093 kWh. Total CPU Power : 32.5 W\n",
      "[codecarbon INFO @ 14:47:05] 0.01664230921168620772 kWh of electricity used since the beginning.\n"
     ]
    },
    {
     "name": "stdout",
     "output_type": "stream",
     "text": [
      "\u001b[1m782/782\u001b[0m \u001b[32m━━━━━━━━━━━━━━━━━━━━\u001b[0m\u001b[37m\u001b[0m \u001b[1m71s\u001b[0m 91ms/step - accuracy: 0.8183 - loss: 0.5230 - val_accuracy: 0.8317 - val_loss: 0.5052 - learning_rate: 1.0000e-04\n",
      "Epoch 23/100\n",
      "\u001b[1m 40/782\u001b[0m \u001b[32m━\u001b[0m\u001b[37m━━━━━━━━━━━━━━━━━━━\u001b[0m \u001b[1m1:01\u001b[0m 83ms/step - accuracy: 0.8066 - loss: 0.5587"
     ]
    },
    {
     "name": "stderr",
     "output_type": "stream",
     "text": [
      "[codecarbon INFO @ 14:47:20] Energy consumed for RAM : 0.002598 kWh. RAM Power : 5.883667945861816 W\n",
      "[codecarbon INFO @ 14:47:20] Energy consumed for all CPUs : 0.014362 kWh. Total CPU Power : 32.5 W\n",
      "[codecarbon INFO @ 14:47:20] 0.01696012317083005899 kWh of electricity used since the beginning.\n"
     ]
    },
    {
     "name": "stdout",
     "output_type": "stream",
     "text": [
      "\u001b[1m 51/782\u001b[0m \u001b[32m━\u001b[0m\u001b[37m━━━━━━━━━━━━━━━━━━━\u001b[0m \u001b[1m1:00\u001b[0m 83ms/step - accuracy: 0.8067 - loss: 0.5558"
     ]
    },
    {
     "name": "stderr",
     "output_type": "stream",
     "text": [
      "[codecarbon INFO @ 14:47:20] Energy consumed for RAM : 0.002574 kWh. RAM Power : 5.883667945861816 W\n",
      "[codecarbon INFO @ 14:47:20] Energy consumed for all CPUs : 0.014228 kWh. Total CPU Power : 32.5 W\n",
      "[codecarbon INFO @ 14:47:20] 0.01680220543201881370 kWh of electricity used since the beginning.\n"
     ]
    },
    {
     "name": "stdout",
     "output_type": "stream",
     "text": [
      "\u001b[1m210/782\u001b[0m \u001b[32m━━━━━\u001b[0m\u001b[37m━━━━━━━━━━━━━━━\u001b[0m \u001b[1m50s\u001b[0m 87ms/step - accuracy: 0.8096 - loss: 0.5456"
     ]
    },
    {
     "name": "stderr",
     "output_type": "stream",
     "text": [
      "[codecarbon INFO @ 14:47:35] Energy consumed for RAM : 0.002623 kWh. RAM Power : 5.883667945861816 W\n",
      "[codecarbon INFO @ 14:47:35] Energy consumed for all CPUs : 0.014497 kWh. Total CPU Power : 32.5 W\n",
      "[codecarbon INFO @ 14:47:35] 0.01711998689416313960 kWh of electricity used since the beginning.\n"
     ]
    },
    {
     "name": "stdout",
     "output_type": "stream",
     "text": [
      "\u001b[1m220/782\u001b[0m \u001b[32m━━━━━\u001b[0m\u001b[37m━━━━━━━━━━━━━━━\u001b[0m \u001b[1m49s\u001b[0m 87ms/step - accuracy: 0.8097 - loss: 0.5452"
     ]
    },
    {
     "name": "stderr",
     "output_type": "stream",
     "text": [
      "[codecarbon INFO @ 14:47:35] Energy consumed for RAM : 0.002598 kWh. RAM Power : 5.883667945861816 W\n",
      "[codecarbon INFO @ 14:47:36] Energy consumed for all CPUs : 0.014364 kWh. Total CPU Power : 32.5 W\n",
      "[codecarbon INFO @ 14:47:36] 0.01696243903452085769 kWh of electricity used since the beginning.\n"
     ]
    },
    {
     "name": "stdout",
     "output_type": "stream",
     "text": [
      "\u001b[1m378/782\u001b[0m \u001b[32m━━━━━━━━━\u001b[0m\u001b[37m━━━━━━━━━━━\u001b[0m \u001b[1m35s\u001b[0m 88ms/step - accuracy: 0.8119 - loss: 0.5394"
     ]
    },
    {
     "name": "stderr",
     "output_type": "stream",
     "text": [
      "[codecarbon INFO @ 14:47:50] Energy consumed for RAM : 0.002647 kWh. RAM Power : 5.883667945861816 W\n",
      "[codecarbon INFO @ 14:47:50] Energy consumed for all CPUs : 0.014633 kWh. Total CPU Power : 32.5 W\n",
      "[codecarbon INFO @ 14:47:50] 0.01727993353619858286 kWh of electricity used since the beginning.\n"
     ]
    },
    {
     "name": "stdout",
     "output_type": "stream",
     "text": [
      "\u001b[1m389/782\u001b[0m \u001b[32m━━━━━━━━━\u001b[0m\u001b[37m━━━━━━━━━━━\u001b[0m \u001b[1m34s\u001b[0m 88ms/step - accuracy: 0.8121 - loss: 0.5390"
     ]
    },
    {
     "name": "stderr",
     "output_type": "stream",
     "text": [
      "[codecarbon INFO @ 14:47:50] Energy consumed for RAM : 0.002623 kWh. RAM Power : 5.883667945861816 W\n",
      "[codecarbon INFO @ 14:47:51] Energy consumed for all CPUs : 0.014499 kWh. Total CPU Power : 32.5 W\n",
      "[codecarbon INFO @ 14:47:51] 0.01712231691552625057 kWh of electricity used since the beginning.\n"
     ]
    },
    {
     "name": "stdout",
     "output_type": "stream",
     "text": [
      "\u001b[1m549/782\u001b[0m \u001b[32m━━━━━━━━━━━━━━\u001b[0m\u001b[37m━━━━━━\u001b[0m \u001b[1m20s\u001b[0m 88ms/step - accuracy: 0.8135 - loss: 0.5351"
     ]
    },
    {
     "name": "stderr",
     "output_type": "stream",
     "text": [
      "[codecarbon INFO @ 14:48:05] Energy consumed for RAM : 0.002672 kWh. RAM Power : 5.883667945861816 W\n",
      "[codecarbon INFO @ 14:48:05] Energy consumed for all CPUs : 0.014768 kWh. Total CPU Power : 32.5 W\n",
      "[codecarbon INFO @ 14:48:05] 0.01744000211458946945 kWh of electricity used since the beginning.\n"
     ]
    },
    {
     "name": "stdout",
     "output_type": "stream",
     "text": [
      "\u001b[1m560/782\u001b[0m \u001b[32m━━━━━━━━━━━━━━\u001b[0m\u001b[37m━━━━━━\u001b[0m \u001b[1m19s\u001b[0m 88ms/step - accuracy: 0.8136 - loss: 0.5348"
     ]
    },
    {
     "name": "stderr",
     "output_type": "stream",
     "text": [
      "[codecarbon INFO @ 14:48:06] Energy consumed for RAM : 0.002647 kWh. RAM Power : 5.883667945861816 W\n",
      "[codecarbon INFO @ 14:48:06] Energy consumed for all CPUs : 0.014635 kWh. Total CPU Power : 32.5 W\n",
      "[codecarbon INFO @ 14:48:06] 0.01728237951390279581 kWh of electricity used since the beginning.\n"
     ]
    },
    {
     "name": "stdout",
     "output_type": "stream",
     "text": [
      "\u001b[1m718/782\u001b[0m \u001b[32m━━━━━━━━━━━━━━━━━━\u001b[0m\u001b[37m━━\u001b[0m \u001b[1m5s\u001b[0m 88ms/step - accuracy: 0.8147 - loss: 0.5319"
     ]
    },
    {
     "name": "stderr",
     "output_type": "stream",
     "text": [
      "[codecarbon INFO @ 14:48:20] Energy consumed for RAM : 0.002696 kWh. RAM Power : 5.883667945861816 W\n",
      "[codecarbon INFO @ 14:48:20] Energy consumed for all CPUs : 0.014904 kWh. Total CPU Power : 32.5 W\n",
      "[codecarbon INFO @ 14:48:20] 0.01760001229505856260 kWh of electricity used since the beginning.\n"
     ]
    },
    {
     "name": "stdout",
     "output_type": "stream",
     "text": [
      "\u001b[1m728/782\u001b[0m \u001b[32m━━━━━━━━━━━━━━━━━━\u001b[0m\u001b[37m━━\u001b[0m \u001b[1m4s\u001b[0m 88ms/step - accuracy: 0.8148 - loss: 0.5318"
     ]
    },
    {
     "name": "stderr",
     "output_type": "stream",
     "text": [
      "[codecarbon INFO @ 14:48:21] Energy consumed for RAM : 0.002672 kWh. RAM Power : 5.883667945861816 W\n",
      "[codecarbon INFO @ 14:48:21] Energy consumed for all CPUs : 0.014770 kWh. Total CPU Power : 32.5 W\n",
      "[codecarbon INFO @ 14:48:21] 0.01744234782096873437 kWh of electricity used since the beginning.\n"
     ]
    },
    {
     "name": "stdout",
     "output_type": "stream",
     "text": [
      "\u001b[1m782/782\u001b[0m \u001b[32m━━━━━━━━━━━━━━━━━━━━\u001b[0m\u001b[37m\u001b[0m \u001b[1m71s\u001b[0m 91ms/step - accuracy: 0.8150 - loss: 0.5312 - val_accuracy: 0.8347 - val_loss: 0.5062 - learning_rate: 1.0000e-04\n",
      "Epoch 24/100\n",
      "\u001b[1m 78/782\u001b[0m \u001b[32m━\u001b[0m\u001b[37m━━━━━━━━━━━━━━━━━━━\u001b[0m \u001b[1m1:04\u001b[0m 92ms/step - accuracy: 0.8281 - loss: 0.5086"
     ]
    },
    {
     "name": "stderr",
     "output_type": "stream",
     "text": [
      "[codecarbon INFO @ 14:48:35] Energy consumed for RAM : 0.002721 kWh. RAM Power : 5.883667945861816 W\n",
      "[codecarbon INFO @ 14:48:35] Energy consumed for all CPUs : 0.015039 kWh. Total CPU Power : 32.5 W\n",
      "[codecarbon INFO @ 14:48:35] 0.01776007687683682501 kWh of electricity used since the beginning.\n"
     ]
    },
    {
     "name": "stdout",
     "output_type": "stream",
     "text": [
      "\u001b[1m 87/782\u001b[0m \u001b[32m━━\u001b[0m\u001b[37m━━━━━━━━━━━━━━━━━━\u001b[0m \u001b[1m1:04\u001b[0m 92ms/step - accuracy: 0.8274 - loss: 0.5088"
     ]
    },
    {
     "name": "stderr",
     "output_type": "stream",
     "text": [
      "[codecarbon INFO @ 14:48:36] Energy consumed for RAM : 0.002696 kWh. RAM Power : 5.883667945861816 W\n",
      "[codecarbon INFO @ 14:48:36] Energy consumed for all CPUs : 0.014906 kWh. Total CPU Power : 32.5 W\n",
      "[codecarbon INFO @ 14:48:36] 0.01760229239151134967 kWh of electricity used since the beginning.\n"
     ]
    },
    {
     "name": "stdout",
     "output_type": "stream",
     "text": [
      "\u001b[1m251/782\u001b[0m \u001b[32m━━━━━━\u001b[0m\u001b[37m━━━━━━━━━━━━━━\u001b[0m \u001b[1m46s\u001b[0m 88ms/step - accuracy: 0.8235 - loss: 0.5116"
     ]
    },
    {
     "name": "stderr",
     "output_type": "stream",
     "text": [
      "[codecarbon INFO @ 14:48:50] Energy consumed for RAM : 0.002745 kWh. RAM Power : 5.883667945861816 W\n",
      "[codecarbon INFO @ 14:48:50] Energy consumed for all CPUs : 0.015175 kWh. Total CPU Power : 32.5 W\n"
     ]
    },
    {
     "name": "stdout",
     "output_type": "stream",
     "text": [
      "\u001b[1m252/782\u001b[0m \u001b[32m━━━━━━\u001b[0m\u001b[37m━━━━━━━━━━━━━━\u001b[0m \u001b[1m46s\u001b[0m 88ms/step - accuracy: 0.8235 - loss: 0.5116"
     ]
    },
    {
     "name": "stderr",
     "output_type": "stream",
     "text": [
      "[codecarbon INFO @ 14:48:50] 0.01792023924309118013 kWh of electricity used since the beginning.\n"
     ]
    },
    {
     "name": "stdout",
     "output_type": "stream",
     "text": [
      "\u001b[1m261/782\u001b[0m \u001b[32m━━━━━━\u001b[0m\u001b[37m━━━━━━━━━━━━━━\u001b[0m \u001b[1m46s\u001b[0m 88ms/step - accuracy: 0.8235 - loss: 0.5115"
     ]
    },
    {
     "name": "stderr",
     "output_type": "stream",
     "text": [
      "[codecarbon INFO @ 14:48:51] Energy consumed for RAM : 0.002721 kWh. RAM Power : 5.883667945861816 W\n",
      "[codecarbon INFO @ 14:48:51] Energy consumed for all CPUs : 0.015041 kWh. Total CPU Power : 32.5 W\n",
      "[codecarbon INFO @ 14:48:51] 0.01776226628896005258 kWh of electricity used since the beginning.\n"
     ]
    },
    {
     "name": "stdout",
     "output_type": "stream",
     "text": [
      "\u001b[1m422/782\u001b[0m \u001b[32m━━━━━━━━━━\u001b[0m\u001b[37m━━━━━━━━━━\u001b[0m \u001b[1m31s\u001b[0m 88ms/step - accuracy: 0.8228 - loss: 0.5124"
     ]
    },
    {
     "name": "stderr",
     "output_type": "stream",
     "text": [
      "[codecarbon INFO @ 14:49:05] Energy consumed for RAM : 0.002770 kWh. RAM Power : 5.883667945861816 W\n",
      "[codecarbon INFO @ 14:49:05] Energy consumed for all CPUs : 0.015311 kWh. Total CPU Power : 32.5 W\n",
      "[codecarbon INFO @ 14:49:05] 0.01808046370575781131 kWh of electricity used since the beginning.\n"
     ]
    },
    {
     "name": "stdout",
     "output_type": "stream",
     "text": [
      "\u001b[1m432/782\u001b[0m \u001b[32m━━━━━━━━━━━\u001b[0m\u001b[37m━━━━━━━━━\u001b[0m \u001b[1m30s\u001b[0m 88ms/step - accuracy: 0.8228 - loss: 0.5126"
     ]
    },
    {
     "name": "stderr",
     "output_type": "stream",
     "text": [
      "[codecarbon INFO @ 14:49:06] Energy consumed for RAM : 0.002746 kWh. RAM Power : 5.883667945861816 W\n",
      "[codecarbon INFO @ 14:49:06] Energy consumed for all CPUs : 0.015177 kWh. Total CPU Power : 32.5 W\n",
      "[codecarbon INFO @ 14:49:06] 0.01792222965394254380 kWh of electricity used since the beginning.\n"
     ]
    },
    {
     "name": "stdout",
     "output_type": "stream",
     "text": [
      "\u001b[1m595/782\u001b[0m \u001b[32m━━━━━━━━━━━━━━━\u001b[0m\u001b[37m━━━━━\u001b[0m \u001b[1m16s\u001b[0m 88ms/step - accuracy: 0.8222 - loss: 0.5139"
     ]
    },
    {
     "name": "stderr",
     "output_type": "stream",
     "text": [
      "[codecarbon INFO @ 14:49:20] Energy consumed for RAM : 0.002794 kWh. RAM Power : 5.883667945861816 W\n",
      "[codecarbon INFO @ 14:49:20] Energy consumed for all CPUs : 0.015446 kWh. Total CPU Power : 32.5 W\n",
      "[codecarbon INFO @ 14:49:20] 0.01824040545009040018 kWh of electricity used since the beginning.\n"
     ]
    },
    {
     "name": "stdout",
     "output_type": "stream",
     "text": [
      "\u001b[1m603/782\u001b[0m \u001b[32m━━━━━━━━━━━━━━━\u001b[0m\u001b[37m━━━━━\u001b[0m \u001b[1m15s\u001b[0m 88ms/step - accuracy: 0.8222 - loss: 0.5140"
     ]
    },
    {
     "name": "stderr",
     "output_type": "stream",
     "text": [
      "[codecarbon INFO @ 14:49:21] Energy consumed for RAM : 0.002770 kWh. RAM Power : 5.883667945861816 W\n",
      "[codecarbon INFO @ 14:49:21] Energy consumed for all CPUs : 0.015313 kWh. Total CPU Power : 32.5 W\n"
     ]
    },
    {
     "name": "stdout",
     "output_type": "stream",
     "text": [
      "\u001b[1m604/782\u001b[0m \u001b[32m━━━━━━━━━━━━━━━\u001b[0m\u001b[37m━━━━━\u001b[0m \u001b[1m15s\u001b[0m 88ms/step - accuracy: 0.8222 - loss: 0.5140"
     ]
    },
    {
     "name": "stderr",
     "output_type": "stream",
     "text": [
      "[codecarbon INFO @ 14:49:21] 0.01808255937346345266 kWh of electricity used since the beginning.\n"
     ]
    },
    {
     "name": "stdout",
     "output_type": "stream",
     "text": [
      "\u001b[1m767/782\u001b[0m \u001b[32m━━━━━━━━━━━━━━━━━━━\u001b[0m\u001b[37m━\u001b[0m \u001b[1m1s\u001b[0m 88ms/step - accuracy: 0.8216 - loss: 0.5149"
     ]
    },
    {
     "name": "stderr",
     "output_type": "stream",
     "text": [
      "[codecarbon INFO @ 14:49:35] Energy consumed for RAM : 0.002819 kWh. RAM Power : 5.883667945861816 W\n",
      "[codecarbon INFO @ 14:49:35] Energy consumed for all CPUs : 0.015582 kWh. Total CPU Power : 32.5 W\n",
      "[codecarbon INFO @ 14:49:35] 0.01840048677839686495 kWh of electricity used since the beginning.\n"
     ]
    },
    {
     "name": "stdout",
     "output_type": "stream",
     "text": [
      "\u001b[1m777/782\u001b[0m \u001b[32m━━━━━━━━━━━━━━━━━━━\u001b[0m\u001b[37m━\u001b[0m \u001b[1m0s\u001b[0m 88ms/step - accuracy: 0.8216 - loss: 0.5150"
     ]
    },
    {
     "name": "stderr",
     "output_type": "stream",
     "text": [
      "[codecarbon INFO @ 14:49:36] Energy consumed for RAM : 0.002795 kWh. RAM Power : 5.883667945861816 W\n",
      "[codecarbon INFO @ 14:49:36] Energy consumed for all CPUs : 0.015448 kWh. Total CPU Power : 32.5 W\n",
      "[codecarbon INFO @ 14:49:36] 0.01824235473695677567 kWh of electricity used since the beginning.\n"
     ]
    },
    {
     "name": "stdout",
     "output_type": "stream",
     "text": [
      "\u001b[1m782/782\u001b[0m \u001b[32m━━━━━━━━━━━━━━━━━━━━\u001b[0m\u001b[37m\u001b[0m \u001b[1m71s\u001b[0m 91ms/step - accuracy: 0.8216 - loss: 0.5150 - val_accuracy: 0.8316 - val_loss: 0.5074 - learning_rate: 1.0000e-04\n",
      "Epoch 25/100\n",
      "\u001b[1m131/782\u001b[0m \u001b[32m━━━\u001b[0m\u001b[37m━━━━━━━━━━━━━━━━━\u001b[0m \u001b[1m53s\u001b[0m 83ms/step - accuracy: 0.8284 - loss: 0.5147"
     ]
    },
    {
     "name": "stderr",
     "output_type": "stream",
     "text": [
      "[codecarbon INFO @ 14:49:50] Energy consumed for RAM : 0.002843 kWh. RAM Power : 5.883667945861816 W\n",
      "[codecarbon INFO @ 14:49:50] Energy consumed for all CPUs : 0.015717 kWh. Total CPU Power : 32.5 W\n",
      "[codecarbon INFO @ 14:49:50] 0.01856059770475210202 kWh of electricity used since the beginning.\n"
     ]
    },
    {
     "name": "stdout",
     "output_type": "stream",
     "text": [
      "\u001b[1m140/782\u001b[0m \u001b[32m━━━\u001b[0m\u001b[37m━━━━━━━━━━━━━━━━━\u001b[0m \u001b[1m53s\u001b[0m 84ms/step - accuracy: 0.8281 - loss: 0.5147"
     ]
    },
    {
     "name": "stderr",
     "output_type": "stream",
     "text": [
      "[codecarbon INFO @ 14:49:51] Energy consumed for RAM : 0.002819 kWh. RAM Power : 5.883667945861816 W\n",
      "[codecarbon INFO @ 14:49:51] Energy consumed for all CPUs : 0.015583 kWh. Total CPU Power : 32.5 W\n",
      "[codecarbon INFO @ 14:49:51] 0.01840238643058779433 kWh of electricity used since the beginning.\n"
     ]
    },
    {
     "name": "stdout",
     "output_type": "stream",
     "text": [
      "\u001b[1m305/782\u001b[0m \u001b[32m━━━━━━━\u001b[0m\u001b[37m━━━━━━━━━━━━━\u001b[0m \u001b[1m40s\u001b[0m 85ms/step - accuracy: 0.8268 - loss: 0.5100"
     ]
    },
    {
     "name": "stderr",
     "output_type": "stream",
     "text": [
      "[codecarbon INFO @ 14:50:05] Energy consumed for RAM : 0.002868 kWh. RAM Power : 5.883667945861816 W\n",
      "[codecarbon INFO @ 14:50:05] Energy consumed for all CPUs : 0.015852 kWh. Total CPU Power : 32.5 W\n",
      "[codecarbon INFO @ 14:50:05] 0.01872046075003768947 kWh of electricity used since the beginning.\n"
     ]
    },
    {
     "name": "stdout",
     "output_type": "stream",
     "text": [
      "\u001b[1m314/782\u001b[0m \u001b[32m━━━━━━━━\u001b[0m\u001b[37m━━━━━━━━━━━━\u001b[0m \u001b[1m39s\u001b[0m 85ms/step - accuracy: 0.8268 - loss: 0.5098"
     ]
    },
    {
     "name": "stderr",
     "output_type": "stream",
     "text": [
      "[codecarbon INFO @ 14:50:06] Energy consumed for RAM : 0.002844 kWh. RAM Power : 5.883667945861816 W\n",
      "[codecarbon INFO @ 14:50:06] Energy consumed for all CPUs : 0.015719 kWh. Total CPU Power : 32.5 W\n",
      "[codecarbon INFO @ 14:50:06] 0.01856238058709440419 kWh of electricity used since the beginning.\n"
     ]
    },
    {
     "name": "stdout",
     "output_type": "stream",
     "text": [
      "\u001b[1m477/782\u001b[0m \u001b[32m━━━━━━━━━━━━\u001b[0m\u001b[37m━━━━━━━━\u001b[0m \u001b[1m26s\u001b[0m 86ms/step - accuracy: 0.8262 - loss: 0.5086"
     ]
    },
    {
     "name": "stderr",
     "output_type": "stream",
     "text": [
      "[codecarbon INFO @ 14:50:20] Energy consumed for RAM : 0.002893 kWh. RAM Power : 5.883667945861816 W\n",
      "[codecarbon INFO @ 14:50:20] Energy consumed for all CPUs : 0.015988 kWh. Total CPU Power : 32.5 W\n",
      "[codecarbon INFO @ 14:50:20] 0.01888062001328945708 kWh of electricity used since the beginning.\n"
     ]
    },
    {
     "name": "stdout",
     "output_type": "stream",
     "text": [
      "\u001b[1m488/782\u001b[0m \u001b[32m━━━━━━━━━━━━\u001b[0m\u001b[37m━━━━━━━━\u001b[0m \u001b[1m25s\u001b[0m 86ms/step - accuracy: 0.8262 - loss: 0.5087"
     ]
    },
    {
     "name": "stderr",
     "output_type": "stream",
     "text": [
      "[codecarbon INFO @ 14:50:21] Energy consumed for RAM : 0.002868 kWh. RAM Power : 5.883667945861816 W\n",
      "[codecarbon INFO @ 14:50:21] Energy consumed for all CPUs : 0.015854 kWh. Total CPU Power : 32.5 W\n",
      "[codecarbon INFO @ 14:50:21] 0.01872231149621718382 kWh of electricity used since the beginning.\n"
     ]
    },
    {
     "name": "stdout",
     "output_type": "stream",
     "text": [
      "\u001b[1m646/782\u001b[0m \u001b[32m━━━━━━━━━━━━━━━━\u001b[0m\u001b[37m━━━━\u001b[0m \u001b[1m11s\u001b[0m 87ms/step - accuracy: 0.8254 - loss: 0.5102"
     ]
    },
    {
     "name": "stderr",
     "output_type": "stream",
     "text": [
      "[codecarbon INFO @ 14:50:35] Energy consumed for RAM : 0.002917 kWh. RAM Power : 5.883667945861816 W\n",
      "[codecarbon INFO @ 14:50:35] Energy consumed for all CPUs : 0.016124 kWh. Total CPU Power : 32.5 W\n",
      "[codecarbon INFO @ 14:50:35] 0.01904058069397477140 kWh of electricity used since the beginning.\n"
     ]
    },
    {
     "name": "stdout",
     "output_type": "stream",
     "text": [
      "\u001b[1m656/782\u001b[0m \u001b[32m━━━━━━━━━━━━━━━━\u001b[0m\u001b[37m━━━━\u001b[0m \u001b[1m10s\u001b[0m 87ms/step - accuracy: 0.8254 - loss: 0.5103"
     ]
    },
    {
     "name": "stderr",
     "output_type": "stream",
     "text": [
      "[codecarbon INFO @ 14:50:36] Energy consumed for RAM : 0.002893 kWh. RAM Power : 5.883667945861816 W\n",
      "[codecarbon INFO @ 14:50:36] Energy consumed for all CPUs : 0.015990 kWh. Total CPU Power : 32.5 W\n",
      "[codecarbon INFO @ 14:50:36] 0.01888240194054440629 kWh of electricity used since the beginning.\n"
     ]
    },
    {
     "name": "stdout",
     "output_type": "stream",
     "text": [
      "\u001b[1m782/782\u001b[0m \u001b[32m━━━━━━━━━━━━━━━━━━━━\u001b[0m\u001b[37m\u001b[0m \u001b[1m71s\u001b[0m 90ms/step - accuracy: 0.8248 - loss: 0.5115 - val_accuracy: 0.8254 - val_loss: 0.5207 - learning_rate: 1.0000e-04\n",
      "Epoch 26/100\n",
      "\u001b[1m  2/782\u001b[0m \u001b[37m━━━━━━━━━━━━━━━━━━━━\u001b[0m \u001b[1m1:09\u001b[0m 90ms/step - accuracy: 0.8164 - loss: 0.5054 "
     ]
    },
    {
     "name": "stderr",
     "output_type": "stream",
     "text": [
      "[codecarbon INFO @ 14:50:50] Energy consumed for RAM : 0.002942 kWh. RAM Power : 5.883667945861816 W\n",
      "[codecarbon INFO @ 14:50:50] Energy consumed for all CPUs : 0.016259 kWh. Total CPU Power : 32.5 W\n",
      "[codecarbon INFO @ 14:50:50] 0.01920067233669659271 kWh of electricity used since the beginning.\n"
     ]
    },
    {
     "name": "stdout",
     "output_type": "stream",
     "text": [
      "\u001b[1m 12/782\u001b[0m \u001b[37m━━━━━━━━━━━━━━━━━━━━\u001b[0m \u001b[1m1:04\u001b[0m 84ms/step - accuracy: 0.8132 - loss: 0.5242"
     ]
    },
    {
     "name": "stderr",
     "output_type": "stream",
     "text": [
      "[codecarbon INFO @ 14:50:51] Energy consumed for RAM : 0.002917 kWh. RAM Power : 5.883667945861816 W\n",
      "[codecarbon INFO @ 14:50:51] Energy consumed for all CPUs : 0.016125 kWh. Total CPU Power : 32.5 W\n",
      "[codecarbon INFO @ 14:50:51] 0.01904234032706334304 kWh of electricity used since the beginning.\n"
     ]
    },
    {
     "name": "stdout",
     "output_type": "stream",
     "text": [
      "\u001b[1m173/782\u001b[0m \u001b[32m━━━━\u001b[0m\u001b[37m━━━━━━━━━━━━━━━━\u001b[0m \u001b[1m53s\u001b[0m 88ms/step - accuracy: 0.8213 - loss: 0.5113"
     ]
    },
    {
     "name": "stderr",
     "output_type": "stream",
     "text": [
      "[codecarbon INFO @ 14:51:05] Energy consumed for RAM : 0.002966 kWh. RAM Power : 5.883667945861816 W\n",
      "[codecarbon INFO @ 14:51:05] Energy consumed for all CPUs : 0.016394 kWh. Total CPU Power : 32.5 W\n",
      "[codecarbon INFO @ 14:51:05] 0.01936043393555579237 kWh of electricity used since the beginning.\n"
     ]
    },
    {
     "name": "stdout",
     "output_type": "stream",
     "text": [
      "\u001b[1m183/782\u001b[0m \u001b[32m━━━━\u001b[0m\u001b[37m━━━━━━━━━━━━━━━━\u001b[0m \u001b[1m52s\u001b[0m 88ms/step - accuracy: 0.8213 - loss: 0.5114"
     ]
    },
    {
     "name": "stderr",
     "output_type": "stream",
     "text": [
      "[codecarbon INFO @ 14:51:06] Energy consumed for RAM : 0.002942 kWh. RAM Power : 5.883667945861816 W\n",
      "[codecarbon INFO @ 14:51:06] Energy consumed for all CPUs : 0.016261 kWh. Total CPU Power : 32.5 W\n",
      "[codecarbon INFO @ 14:51:06] 0.01920254232040219389 kWh of electricity used since the beginning.\n"
     ]
    },
    {
     "name": "stdout",
     "output_type": "stream",
     "text": [
      "\u001b[1m344/782\u001b[0m \u001b[32m━━━━━━━━\u001b[0m\u001b[37m━━━━━━━━━━━━\u001b[0m \u001b[1m38s\u001b[0m 88ms/step - accuracy: 0.8205 - loss: 0.5143"
     ]
    },
    {
     "name": "stderr",
     "output_type": "stream",
     "text": [
      "[codecarbon INFO @ 14:51:20] Energy consumed for RAM : 0.002991 kWh. RAM Power : 5.883667945861816 W\n",
      "[codecarbon INFO @ 14:51:20] Energy consumed for all CPUs : 0.016530 kWh. Total CPU Power : 32.5 W\n",
      "[codecarbon INFO @ 14:51:20] 0.01952047164214576469 kWh of electricity used since the beginning.\n"
     ]
    },
    {
     "name": "stdout",
     "output_type": "stream",
     "text": [
      "\u001b[1m355/782\u001b[0m \u001b[32m━━━━━━━━━\u001b[0m\u001b[37m━━━━━━━━━━━\u001b[0m \u001b[1m37s\u001b[0m 88ms/step - accuracy: 0.8204 - loss: 0.5145"
     ]
    },
    {
     "name": "stderr",
     "output_type": "stream",
     "text": [
      "[codecarbon INFO @ 14:51:21] Energy consumed for RAM : 0.002966 kWh. RAM Power : 5.883667945861816 W\n",
      "[codecarbon INFO @ 14:51:21] Energy consumed for all CPUs : 0.016396 kWh. Total CPU Power : 32.5 W\n",
      "[codecarbon INFO @ 14:51:21] 0.01936224719195841701 kWh of electricity used since the beginning.\n"
     ]
    },
    {
     "name": "stdout",
     "output_type": "stream",
     "text": [
      "\u001b[1m515/782\u001b[0m \u001b[32m━━━━━━━━━━━━━\u001b[0m\u001b[37m━━━━━━━\u001b[0m \u001b[1m23s\u001b[0m 88ms/step - accuracy: 0.8202 - loss: 0.5157"
     ]
    },
    {
     "name": "stderr",
     "output_type": "stream",
     "text": [
      "[codecarbon INFO @ 14:51:35] Energy consumed for RAM : 0.003015 kWh. RAM Power : 5.883667945861816 W\n",
      "[codecarbon INFO @ 14:51:35] Energy consumed for all CPUs : 0.016666 kWh. Total CPU Power : 32.5 W\n",
      "[codecarbon INFO @ 14:51:35] 0.01968056256029839315 kWh of electricity used since the beginning.\n"
     ]
    },
    {
     "name": "stdout",
     "output_type": "stream",
     "text": [
      "\u001b[1m526/782\u001b[0m \u001b[32m━━━━━━━━━━━━━\u001b[0m\u001b[37m━━━━━━━\u001b[0m \u001b[1m22s\u001b[0m 88ms/step - accuracy: 0.8202 - loss: 0.5157"
     ]
    },
    {
     "name": "stderr",
     "output_type": "stream",
     "text": [
      "[codecarbon INFO @ 14:51:36] Energy consumed for RAM : 0.002991 kWh. RAM Power : 5.883667945861816 W\n",
      "[codecarbon INFO @ 14:51:36] Energy consumed for all CPUs : 0.016532 kWh. Total CPU Power : 32.5 W\n",
      "[codecarbon INFO @ 14:51:36] 0.01952229913860376032 kWh of electricity used since the beginning.\n"
     ]
    },
    {
     "name": "stdout",
     "output_type": "stream",
     "text": [
      "\u001b[1m686/782\u001b[0m \u001b[32m━━━━━━━━━━━━━━━━━\u001b[0m\u001b[37m━━━\u001b[0m \u001b[1m8s\u001b[0m 88ms/step - accuracy: 0.8204 - loss: 0.5155"
     ]
    },
    {
     "name": "stderr",
     "output_type": "stream",
     "text": [
      "[codecarbon INFO @ 14:51:50] Energy consumed for RAM : 0.003040 kWh. RAM Power : 5.883667945861816 W\n",
      "[codecarbon INFO @ 14:51:50] Energy consumed for all CPUs : 0.016801 kWh. Total CPU Power : 32.5 W\n",
      "[codecarbon INFO @ 14:51:50] 0.01984029650270619297 kWh of electricity used since the beginning.\n"
     ]
    },
    {
     "name": "stdout",
     "output_type": "stream",
     "text": [
      "\u001b[1m696/782\u001b[0m \u001b[32m━━━━━━━━━━━━━━━━━\u001b[0m\u001b[37m━━━\u001b[0m \u001b[1m7s\u001b[0m 88ms/step - accuracy: 0.8204 - loss: 0.5154"
     ]
    },
    {
     "name": "stderr",
     "output_type": "stream",
     "text": [
      "[codecarbon INFO @ 14:51:51] Energy consumed for RAM : 0.003015 kWh. RAM Power : 5.883667945861816 W\n",
      "[codecarbon INFO @ 14:51:51] Energy consumed for all CPUs : 0.016667 kWh. Total CPU Power : 32.5 W\n",
      "[codecarbon INFO @ 14:51:51] 0.01968239255209680572 kWh of electricity used since the beginning.\n"
     ]
    },
    {
     "name": "stdout",
     "output_type": "stream",
     "text": [
      "\u001b[1m782/782\u001b[0m \u001b[32m━━━━━━━━━━━━━━━━━━━━\u001b[0m\u001b[37m\u001b[0m \u001b[1m71s\u001b[0m 91ms/step - accuracy: 0.8204 - loss: 0.5155 - val_accuracy: 0.8333 - val_loss: 0.5002 - learning_rate: 1.0000e-04\n",
      "Epoch 27/100\n",
      "\u001b[1m 45/782\u001b[0m \u001b[32m━\u001b[0m\u001b[37m━━━━━━━━━━━━━━━━━━━\u001b[0m \u001b[1m1:02\u001b[0m 84ms/step - accuracy: 0.8177 - loss: 0.5280"
     ]
    },
    {
     "name": "stderr",
     "output_type": "stream",
     "text": [
      "[codecarbon INFO @ 14:52:05] Energy consumed for RAM : 0.003064 kWh. RAM Power : 5.883667945861816 W\n",
      "[codecarbon INFO @ 14:52:05] Energy consumed for all CPUs : 0.016936 kWh. Total CPU Power : 32.5 W\n",
      "[codecarbon INFO @ 14:52:05] 0.02000033442209258813 kWh of electricity used since the beginning.\n"
     ]
    },
    {
     "name": "stdout",
     "output_type": "stream",
     "text": [
      "\u001b[1m 55/782\u001b[0m \u001b[32m━\u001b[0m\u001b[37m━━━━━━━━━━━━━━━━━━━\u001b[0m \u001b[1m1:01\u001b[0m 84ms/step - accuracy: 0.8191 - loss: 0.5249"
     ]
    },
    {
     "name": "stderr",
     "output_type": "stream",
     "text": [
      "[codecarbon INFO @ 14:52:06] Energy consumed for RAM : 0.003040 kWh. RAM Power : 5.883667945861816 W\n",
      "[codecarbon INFO @ 14:52:06] Energy consumed for all CPUs : 0.016803 kWh. Total CPU Power : 32.5 W\n",
      "[codecarbon INFO @ 14:52:06] 0.01984254954987407088 kWh of electricity used since the beginning.\n"
     ]
    },
    {
     "name": "stdout",
     "output_type": "stream",
     "text": [
      "\u001b[1m216/782\u001b[0m \u001b[32m━━━━━\u001b[0m\u001b[37m━━━━━━━━━━━━━━━\u001b[0m \u001b[1m49s\u001b[0m 87ms/step - accuracy: 0.8225 - loss: 0.5105"
     ]
    },
    {
     "name": "stderr",
     "output_type": "stream",
     "text": [
      "[codecarbon INFO @ 14:52:20] Energy consumed for RAM : 0.003089 kWh. RAM Power : 5.883667945861816 W\n",
      "[codecarbon INFO @ 14:52:20] Energy consumed for all CPUs : 0.017072 kWh. Total CPU Power : 32.5 W\n",
      "[codecarbon INFO @ 14:52:20] 0.02016054687837364953 kWh of electricity used since the beginning.\n"
     ]
    },
    {
     "name": "stdout",
     "output_type": "stream",
     "text": [
      "\u001b[1m227/782\u001b[0m \u001b[32m━━━━━\u001b[0m\u001b[37m━━━━━━━━━━━━━━━\u001b[0m \u001b[1m48s\u001b[0m 87ms/step - accuracy: 0.8226 - loss: 0.5101"
     ]
    },
    {
     "name": "stderr",
     "output_type": "stream",
     "text": [
      "[codecarbon INFO @ 14:52:21] Energy consumed for RAM : 0.003064 kWh. RAM Power : 5.883667945861816 W\n",
      "[codecarbon INFO @ 14:52:21] Energy consumed for all CPUs : 0.016938 kWh. Total CPU Power : 32.5 W\n",
      "[codecarbon INFO @ 14:52:21] 0.02000252979438481293 kWh of electricity used since the beginning.\n"
     ]
    },
    {
     "name": "stdout",
     "output_type": "stream",
     "text": [
      "\u001b[1m390/782\u001b[0m \u001b[32m━━━━━━━━━\u001b[0m\u001b[37m━━━━━━━━━━━\u001b[0m \u001b[1m34s\u001b[0m 87ms/step - accuracy: 0.8227 - loss: 0.5095"
     ]
    },
    {
     "name": "stderr",
     "output_type": "stream",
     "text": [
      "[codecarbon INFO @ 14:52:35] Energy consumed for RAM : 0.003113 kWh. RAM Power : 5.883667945861816 W\n",
      "[codecarbon INFO @ 14:52:35] Energy consumed for all CPUs : 0.017207 kWh. Total CPU Power : 32.5 W\n",
      "[codecarbon INFO @ 14:52:35] 0.02032048166435525965 kWh of electricity used since the beginning.\n"
     ]
    },
    {
     "name": "stdout",
     "output_type": "stream",
     "text": [
      "\u001b[1m398/782\u001b[0m \u001b[32m━━━━━━━━━━\u001b[0m\u001b[37m━━━━━━━━━━\u001b[0m \u001b[1m33s\u001b[0m 87ms/step - accuracy: 0.8227 - loss: 0.5096"
     ]
    },
    {
     "name": "stderr",
     "output_type": "stream",
     "text": [
      "[codecarbon INFO @ 14:52:36] Energy consumed for RAM : 0.003089 kWh. RAM Power : 5.883667945861816 W\n",
      "[codecarbon INFO @ 14:52:36] Energy consumed for all CPUs : 0.017074 kWh. Total CPU Power : 32.5 W\n",
      "[codecarbon INFO @ 14:52:36] 0.02016259283813935654 kWh of electricity used since the beginning.\n"
     ]
    },
    {
     "name": "stdout",
     "output_type": "stream",
     "text": [
      "\u001b[1m564/782\u001b[0m \u001b[32m━━━━━━━━━━━━━━\u001b[0m\u001b[37m━━━━━━\u001b[0m \u001b[1m18s\u001b[0m 87ms/step - accuracy: 0.8228 - loss: 0.5105"
     ]
    },
    {
     "name": "stderr",
     "output_type": "stream",
     "text": [
      "[codecarbon INFO @ 14:52:50] Energy consumed for RAM : 0.003138 kWh. RAM Power : 5.883667945861816 W\n",
      "[codecarbon INFO @ 14:52:50] Energy consumed for all CPUs : 0.017343 kWh. Total CPU Power : 32.5 W\n",
      "[codecarbon INFO @ 14:52:50] 0.02048053039910967266 kWh of electricity used since the beginning.\n"
     ]
    },
    {
     "name": "stdout",
     "output_type": "stream",
     "text": [
      "\u001b[1m573/782\u001b[0m \u001b[32m━━━━━━━━━━━━━━\u001b[0m\u001b[37m━━━━━━\u001b[0m \u001b[1m18s\u001b[0m 87ms/step - accuracy: 0.8228 - loss: 0.5105"
     ]
    },
    {
     "name": "stderr",
     "output_type": "stream",
     "text": [
      "[codecarbon INFO @ 14:52:51] Energy consumed for RAM : 0.003113 kWh. RAM Power : 5.883667945861816 W\n",
      "[codecarbon INFO @ 14:52:51] Energy consumed for all CPUs : 0.017209 kWh. Total CPU Power : 32.5 W\n",
      "[codecarbon INFO @ 14:52:51] 0.02032254337405195108 kWh of electricity used since the beginning.\n"
     ]
    },
    {
     "name": "stdout",
     "output_type": "stream",
     "text": [
      "\u001b[1m735/782\u001b[0m \u001b[32m━━━━━━━━━━━━━━━━━━\u001b[0m\u001b[37m━━\u001b[0m \u001b[1m4s\u001b[0m 87ms/step - accuracy: 0.8232 - loss: 0.5107"
     ]
    },
    {
     "name": "stderr",
     "output_type": "stream",
     "text": [
      "[codecarbon INFO @ 14:53:05] Energy consumed for RAM : 0.003162 kWh. RAM Power : 5.883667945861816 W\n",
      "[codecarbon INFO @ 14:53:05] Energy consumed for all CPUs : 0.017478 kWh. Total CPU Power : 32.5 W\n",
      "[codecarbon INFO @ 14:53:05] 0.02064058892816766216 kWh of electricity used since the beginning.\n"
     ]
    },
    {
     "name": "stdout",
     "output_type": "stream",
     "text": [
      "\u001b[1m745/782\u001b[0m \u001b[32m━━━━━━━━━━━━━━━━━━━\u001b[0m\u001b[37m━\u001b[0m \u001b[1m3s\u001b[0m 87ms/step - accuracy: 0.8232 - loss: 0.5108"
     ]
    },
    {
     "name": "stderr",
     "output_type": "stream",
     "text": [
      "[codecarbon INFO @ 14:53:06] Energy consumed for RAM : 0.003138 kWh. RAM Power : 5.883667945861816 W\n",
      "[codecarbon INFO @ 14:53:06] Energy consumed for all CPUs : 0.017345 kWh. Total CPU Power : 32.5 W\n",
      "[codecarbon INFO @ 14:53:06] 0.02048248086574427571 kWh of electricity used since the beginning.\n"
     ]
    },
    {
     "name": "stdout",
     "output_type": "stream",
     "text": [
      "\u001b[1m782/782\u001b[0m \u001b[32m━━━━━━━━━━━━━━━━━━━━\u001b[0m\u001b[37m\u001b[0m \u001b[1m71s\u001b[0m 90ms/step - accuracy: 0.8233 - loss: 0.5108 - val_accuracy: 0.8379 - val_loss: 0.4859 - learning_rate: 1.0000e-05\n",
      "Epoch 28/100\n",
      "\u001b[1m 95/782\u001b[0m \u001b[32m━━\u001b[0m\u001b[37m━━━━━━━━━━━━━━━━━━\u001b[0m \u001b[1m59s\u001b[0m 86ms/step - accuracy: 0.8246 - loss: 0.5123"
     ]
    },
    {
     "name": "stderr",
     "output_type": "stream",
     "text": [
      "[codecarbon INFO @ 14:53:20] Energy consumed for RAM : 0.003187 kWh. RAM Power : 5.883667945861816 W\n",
      "[codecarbon INFO @ 14:53:20] Energy consumed for all CPUs : 0.017614 kWh. Total CPU Power : 32.5 W\n",
      "[codecarbon INFO @ 14:53:20] 0.02080069350772481909 kWh of electricity used since the beginning.\n"
     ]
    },
    {
     "name": "stdout",
     "output_type": "stream",
     "text": [
      "\u001b[1m104/782\u001b[0m \u001b[32m━━\u001b[0m\u001b[37m━━━━━━━━━━━━━━━━━━\u001b[0m \u001b[1m59s\u001b[0m 88ms/step - accuracy: 0.8244 - loss: 0.5133"
     ]
    },
    {
     "name": "stderr",
     "output_type": "stream",
     "text": [
      "[codecarbon INFO @ 14:53:21] Energy consumed for RAM : 0.003162 kWh. RAM Power : 5.883667945861816 W\n",
      "[codecarbon INFO @ 14:53:21] Energy consumed for all CPUs : 0.017480 kWh. Total CPU Power : 32.5 W\n",
      "[codecarbon INFO @ 14:53:21] 0.02064246813137647976 kWh of electricity used since the beginning.\n"
     ]
    },
    {
     "name": "stdout",
     "output_type": "stream",
     "text": [
      "\u001b[1m266/782\u001b[0m \u001b[32m━━━━━━\u001b[0m\u001b[37m━━━━━━━━━━━━━━\u001b[0m \u001b[1m45s\u001b[0m 88ms/step - accuracy: 0.8233 - loss: 0.5157"
     ]
    },
    {
     "name": "stderr",
     "output_type": "stream",
     "text": [
      "[codecarbon INFO @ 14:53:35] Energy consumed for RAM : 0.003211 kWh. RAM Power : 5.883667945861816 W\n",
      "[codecarbon INFO @ 14:53:35] Energy consumed for all CPUs : 0.017750 kWh. Total CPU Power : 32.5 W\n",
      "[codecarbon INFO @ 14:53:35] 0.02096072422521443740 kWh of electricity used since the beginning.\n"
     ]
    },
    {
     "name": "stdout",
     "output_type": "stream",
     "text": [
      "\u001b[1m275/782\u001b[0m \u001b[32m━━━━━━━\u001b[0m\u001b[37m━━━━━━━━━━━━━\u001b[0m \u001b[1m44s\u001b[0m 88ms/step - accuracy: 0.8232 - loss: 0.5156"
     ]
    },
    {
     "name": "stderr",
     "output_type": "stream",
     "text": [
      "[codecarbon INFO @ 14:53:36] Energy consumed for RAM : 0.003187 kWh. RAM Power : 5.883667945861816 W\n",
      "[codecarbon INFO @ 14:53:36] Energy consumed for all CPUs : 0.017616 kWh. Total CPU Power : 32.5 W\n",
      "[codecarbon INFO @ 14:53:36] 0.02080244211231264267 kWh of electricity used since the beginning.\n"
     ]
    },
    {
     "name": "stdout",
     "output_type": "stream",
     "text": [
      "\u001b[1m440/782\u001b[0m \u001b[32m━━━━━━━━━━━\u001b[0m\u001b[37m━━━━━━━━━\u001b[0m \u001b[1m29s\u001b[0m 87ms/step - accuracy: 0.8235 - loss: 0.5137"
     ]
    },
    {
     "name": "stderr",
     "output_type": "stream",
     "text": [
      "[codecarbon INFO @ 14:53:50] Energy consumed for RAM : 0.003236 kWh. RAM Power : 5.883667945861816 W\n",
      "[codecarbon INFO @ 14:53:50] Energy consumed for all CPUs : 0.017885 kWh. Total CPU Power : 32.5 W\n",
      "[codecarbon INFO @ 14:53:50] 0.02112086380967909821 kWh of electricity used since the beginning.\n"
     ]
    },
    {
     "name": "stdout",
     "output_type": "stream",
     "text": [
      "\u001b[1m449/782\u001b[0m \u001b[32m━━━━━━━━━━━\u001b[0m\u001b[37m━━━━━━━━━\u001b[0m \u001b[1m29s\u001b[0m 87ms/step - accuracy: 0.8235 - loss: 0.5136"
     ]
    },
    {
     "name": "stderr",
     "output_type": "stream",
     "text": [
      "[codecarbon INFO @ 14:53:51] Energy consumed for RAM : 0.003211 kWh. RAM Power : 5.883667945861816 W\n",
      "[codecarbon INFO @ 14:53:51] Energy consumed for all CPUs : 0.017751 kWh. Total CPU Power : 32.5 W\n",
      "[codecarbon INFO @ 14:53:51] 0.02096261769516735360 kWh of electricity used since the beginning.\n"
     ]
    },
    {
     "name": "stdout",
     "output_type": "stream",
     "text": [
      "\u001b[1m613/782\u001b[0m \u001b[32m━━━━━━━━━━━━━━━\u001b[0m\u001b[37m━━━━━\u001b[0m \u001b[1m14s\u001b[0m 87ms/step - accuracy: 0.8237 - loss: 0.5130"
     ]
    },
    {
     "name": "stderr",
     "output_type": "stream",
     "text": [
      "[codecarbon INFO @ 14:54:05] Energy consumed for RAM : 0.003260 kWh. RAM Power : 5.883667945861816 W\n",
      "[codecarbon INFO @ 14:54:05] Energy consumed for all CPUs : 0.018021 kWh. Total CPU Power : 32.5 W\n",
      "[codecarbon INFO @ 14:54:05] 0.02128080192110102381 kWh of electricity used since the beginning.\n"
     ]
    },
    {
     "name": "stdout",
     "output_type": "stream",
     "text": [
      "\u001b[1m622/782\u001b[0m \u001b[32m━━━━━━━━━━━━━━━\u001b[0m\u001b[37m━━━━━\u001b[0m \u001b[1m13s\u001b[0m 87ms/step - accuracy: 0.8237 - loss: 0.5130"
     ]
    },
    {
     "name": "stderr",
     "output_type": "stream",
     "text": [
      "[codecarbon INFO @ 14:54:06] Energy consumed for RAM : 0.003236 kWh. RAM Power : 5.883667945861816 W\n",
      "[codecarbon INFO @ 14:54:06] Energy consumed for all CPUs : 0.017887 kWh. Total CPU Power : 32.5 W\n",
      "[codecarbon INFO @ 14:54:06] 0.02112250187296248888 kWh of electricity used since the beginning.\n"
     ]
    },
    {
     "name": "stdout",
     "output_type": "stream",
     "text": [
      "\u001b[1m782/782\u001b[0m \u001b[32m━━━━━━━━━━━━━━━━━━━━\u001b[0m\u001b[37m\u001b[0m \u001b[1m0s\u001b[0m 87ms/step - accuracy: 0.8238 - loss: 0.5125"
     ]
    },
    {
     "name": "stderr",
     "output_type": "stream",
     "text": [
      "[codecarbon INFO @ 14:54:20] Energy consumed for RAM : 0.003285 kWh. RAM Power : 5.883667945861816 W\n",
      "[codecarbon INFO @ 14:54:20] Energy consumed for all CPUs : 0.018156 kWh. Total CPU Power : 32.5 W\n",
      "[codecarbon INFO @ 14:54:20] 0.02144070731985407013 kWh of electricity used since the beginning.\n",
      "[codecarbon INFO @ 14:54:21] Energy consumed for RAM : 0.003260 kWh. RAM Power : 5.883667945861816 W\n",
      "[codecarbon INFO @ 14:54:21] Energy consumed for all CPUs : 0.018022 kWh. Total CPU Power : 32.5 W\n",
      "[codecarbon INFO @ 14:54:21] 0.02128233272427322229 kWh of electricity used since the beginning.\n"
     ]
    },
    {
     "name": "stdout",
     "output_type": "stream",
     "text": [
      "\u001b[1m782/782\u001b[0m \u001b[32m━━━━━━━━━━━━━━━━━━━━\u001b[0m\u001b[37m\u001b[0m \u001b[1m71s\u001b[0m 91ms/step - accuracy: 0.8238 - loss: 0.5125 - val_accuracy: 0.8374 - val_loss: 0.4881 - learning_rate: 1.0000e-05\n",
      "Epoch 29/100\n",
      "\u001b[1m148/782\u001b[0m \u001b[32m━━━\u001b[0m\u001b[37m━━━━━━━━━━━━━━━━━\u001b[0m \u001b[1m52s\u001b[0m 83ms/step - accuracy: 0.8297 - loss: 0.5002"
     ]
    },
    {
     "name": "stderr",
     "output_type": "stream",
     "text": [
      "[codecarbon INFO @ 14:54:35] Energy consumed for RAM : 0.003309 kWh. RAM Power : 5.883667945861816 W\n",
      "[codecarbon INFO @ 14:54:35] Energy consumed for all CPUs : 0.018292 kWh. Total CPU Power : 32.5 W\n",
      "[codecarbon INFO @ 14:54:35] 0.02160079504655964058 kWh of electricity used since the beginning.\n"
     ]
    },
    {
     "name": "stdout",
     "output_type": "stream",
     "text": [
      "\u001b[1m158/782\u001b[0m \u001b[32m━━━━\u001b[0m\u001b[37m━━━━━━━━━━━━━━━━\u001b[0m \u001b[1m52s\u001b[0m 83ms/step - accuracy: 0.8296 - loss: 0.5003"
     ]
    },
    {
     "name": "stderr",
     "output_type": "stream",
     "text": [
      "[codecarbon INFO @ 14:54:36] Energy consumed for RAM : 0.003285 kWh. RAM Power : 5.883667945861816 W\n",
      "[codecarbon INFO @ 14:54:36] Energy consumed for all CPUs : 0.018158 kWh. Total CPU Power : 32.5 W\n"
     ]
    },
    {
     "name": "stdout",
     "output_type": "stream",
     "text": [
      "\u001b[1m159/782\u001b[0m \u001b[32m━━━━\u001b[0m\u001b[37m━━━━━━━━━━━━━━━━\u001b[0m \u001b[1m51s\u001b[0m 83ms/step - accuracy: 0.8295 - loss: 0.5003"
     ]
    },
    {
     "name": "stderr",
     "output_type": "stream",
     "text": [
      "[codecarbon INFO @ 14:54:36] 0.02144245199972252477 kWh of electricity used since the beginning.\n"
     ]
    },
    {
     "name": "stdout",
     "output_type": "stream",
     "text": [
      "\u001b[1m319/782\u001b[0m \u001b[32m━━━━━━━━\u001b[0m\u001b[37m━━━━━━━━━━━━\u001b[0m \u001b[1m39s\u001b[0m 86ms/step - accuracy: 0.8276 - loss: 0.5024"
     ]
    },
    {
     "name": "stderr",
     "output_type": "stream",
     "text": [
      "[codecarbon INFO @ 14:54:50] Energy consumed for RAM : 0.003334 kWh. RAM Power : 5.883667945861816 W\n",
      "[codecarbon INFO @ 14:54:50] Energy consumed for all CPUs : 0.018427 kWh. Total CPU Power : 32.5 W\n",
      "[codecarbon INFO @ 14:54:50] 0.02176064285413948501 kWh of electricity used since the beginning.\n"
     ]
    },
    {
     "name": "stdout",
     "output_type": "stream",
     "text": [
      "\u001b[1m329/782\u001b[0m \u001b[32m━━━━━━━━\u001b[0m\u001b[37m━━━━━━━━━━━━\u001b[0m \u001b[1m38s\u001b[0m 86ms/step - accuracy: 0.8276 - loss: 0.5024"
     ]
    },
    {
     "name": "stderr",
     "output_type": "stream",
     "text": [
      "[codecarbon INFO @ 14:54:51] Energy consumed for RAM : 0.003309 kWh. RAM Power : 5.883667945861816 W\n",
      "[codecarbon INFO @ 14:54:51] Energy consumed for all CPUs : 0.018293 kWh. Total CPU Power : 32.5 W\n",
      "[codecarbon INFO @ 14:54:51] 0.02160241149704511532 kWh of electricity used since the beginning.\n"
     ]
    },
    {
     "name": "stdout",
     "output_type": "stream",
     "text": [
      "\u001b[1m490/782\u001b[0m \u001b[32m━━━━━━━━━━━━\u001b[0m\u001b[37m━━━━━━━━\u001b[0m \u001b[1m25s\u001b[0m 86ms/step - accuracy: 0.8276 - loss: 0.5017"
     ]
    },
    {
     "name": "stderr",
     "output_type": "stream",
     "text": [
      "[codecarbon INFO @ 14:55:05] Energy consumed for RAM : 0.003358 kWh. RAM Power : 5.883667945861816 W\n",
      "[codecarbon INFO @ 14:55:05] Energy consumed for all CPUs : 0.018562 kWh. Total CPU Power : 32.5 W\n",
      "[codecarbon INFO @ 14:55:05] 0.02192069989146268674 kWh of electricity used since the beginning.\n"
     ]
    },
    {
     "name": "stdout",
     "output_type": "stream",
     "text": [
      "\u001b[1m501/782\u001b[0m \u001b[32m━━━━━━━━━━━━\u001b[0m\u001b[37m━━━━━━━━\u001b[0m \u001b[1m24s\u001b[0m 86ms/step - accuracy: 0.8276 - loss: 0.5016"
     ]
    },
    {
     "name": "stderr",
     "output_type": "stream",
     "text": [
      "[codecarbon INFO @ 14:55:06] Energy consumed for RAM : 0.003334 kWh. RAM Power : 5.883667945861816 W\n",
      "[codecarbon INFO @ 14:55:06] Energy consumed for all CPUs : 0.018429 kWh. Total CPU Power : 32.5 W\n",
      "[codecarbon INFO @ 14:55:06] 0.02176245935818307137 kWh of electricity used since the beginning.\n"
     ]
    },
    {
     "name": "stdout",
     "output_type": "stream",
     "text": [
      "\u001b[1m662/782\u001b[0m \u001b[32m━━━━━━━━━━━━━━━━\u001b[0m\u001b[37m━━━━\u001b[0m \u001b[1m10s\u001b[0m 87ms/step - accuracy: 0.8277 - loss: 0.5018"
     ]
    },
    {
     "name": "stderr",
     "output_type": "stream",
     "text": [
      "[codecarbon INFO @ 14:55:20] Energy consumed for RAM : 0.003383 kWh. RAM Power : 5.883667945861816 W\n",
      "[codecarbon INFO @ 14:55:20] Energy consumed for all CPUs : 0.018698 kWh. Total CPU Power : 32.5 W\n",
      "[codecarbon INFO @ 14:55:20] 0.02208067305430326185 kWh of electricity used since the beginning.\n"
     ]
    },
    {
     "name": "stdout",
     "output_type": "stream",
     "text": [
      "\u001b[1m672/782\u001b[0m \u001b[32m━━━━━━━━━━━━━━━━━\u001b[0m\u001b[37m━━━\u001b[0m \u001b[1m9s\u001b[0m 87ms/step - accuracy: 0.8277 - loss: 0.5018"
     ]
    },
    {
     "name": "stderr",
     "output_type": "stream",
     "text": [
      "[codecarbon INFO @ 14:55:21] Energy consumed for RAM : 0.003358 kWh. RAM Power : 5.883667945861816 W\n",
      "[codecarbon INFO @ 14:55:21] Energy consumed for all CPUs : 0.018564 kWh. Total CPU Power : 32.5 W\n",
      "[codecarbon INFO @ 14:55:21] 0.02192249439324164134 kWh of electricity used since the beginning.\n"
     ]
    },
    {
     "name": "stdout",
     "output_type": "stream",
     "text": [
      "\u001b[1m782/782\u001b[0m \u001b[32m━━━━━━━━━━━━━━━━━━━━\u001b[0m\u001b[37m\u001b[0m \u001b[1m71s\u001b[0m 90ms/step - accuracy: 0.8277 - loss: 0.5022 - val_accuracy: 0.8384 - val_loss: 0.4855 - learning_rate: 1.0000e-05\n",
      "Epoch 30/100\n",
      "\u001b[1m 22/782\u001b[0m \u001b[37m━━━━━━━━━━━━━━━━━━━━\u001b[0m \u001b[1m1:02\u001b[0m 82ms/step - accuracy: 0.8282 - loss: 0.5259"
     ]
    },
    {
     "name": "stderr",
     "output_type": "stream",
     "text": [
      "[codecarbon INFO @ 14:55:35] Energy consumed for RAM : 0.003407 kWh. RAM Power : 5.883667945861816 W\n",
      "[codecarbon INFO @ 14:55:35] Energy consumed for all CPUs : 0.018833 kWh. Total CPU Power : 32.5 W\n",
      "[codecarbon INFO @ 14:55:35] 0.02224076436334290405 kWh of electricity used since the beginning.\n"
     ]
    },
    {
     "name": "stdout",
     "output_type": "stream",
     "text": [
      "\u001b[1m 33/782\u001b[0m \u001b[37m━━━━━━━━━━━━━━━━━━━━\u001b[0m \u001b[1m1:01\u001b[0m 82ms/step - accuracy: 0.8220 - loss: 0.5315"
     ]
    },
    {
     "name": "stderr",
     "output_type": "stream",
     "text": [
      "[codecarbon INFO @ 14:55:36] Energy consumed for RAM : 0.003383 kWh. RAM Power : 5.883667945861816 W\n",
      "[codecarbon INFO @ 14:55:36] Energy consumed for all CPUs : 0.018700 kWh. Total CPU Power : 32.5 W\n",
      "[codecarbon INFO @ 14:55:36] 0.02208259009177205093 kWh of electricity used since the beginning.\n"
     ]
    },
    {
     "name": "stdout",
     "output_type": "stream",
     "text": [
      "\u001b[1m191/782\u001b[0m \u001b[32m━━━━\u001b[0m\u001b[37m━━━━━━━━━━━━━━━━\u001b[0m \u001b[1m51s\u001b[0m 88ms/step - accuracy: 0.8206 - loss: 0.5211"
     ]
    },
    {
     "name": "stderr",
     "output_type": "stream",
     "text": [
      "[codecarbon INFO @ 14:55:50] Energy consumed for RAM : 0.003432 kWh. RAM Power : 5.883667945861816 W\n",
      "[codecarbon INFO @ 14:55:50] Energy consumed for all CPUs : 0.018969 kWh. Total CPU Power : 32.5 W\n",
      "[codecarbon INFO @ 14:55:50] 0.02240068214008348116 kWh of electricity used since the beginning.\n"
     ]
    },
    {
     "name": "stdout",
     "output_type": "stream",
     "text": [
      "\u001b[1m201/782\u001b[0m \u001b[32m━━━━━\u001b[0m\u001b[37m━━━━━━━━━━━━━━━\u001b[0m \u001b[1m51s\u001b[0m 88ms/step - accuracy: 0.8207 - loss: 0.5204"
     ]
    },
    {
     "name": "stderr",
     "output_type": "stream",
     "text": [
      "[codecarbon INFO @ 14:55:51] Energy consumed for RAM : 0.003407 kWh. RAM Power : 5.883667945861816 W\n",
      "[codecarbon INFO @ 14:55:51] Energy consumed for all CPUs : 0.018835 kWh. Total CPU Power : 32.5 W\n",
      "[codecarbon INFO @ 14:55:51] 0.02224270545913163699 kWh of electricity used since the beginning.\n"
     ]
    },
    {
     "name": "stdout",
     "output_type": "stream",
     "text": [
      "\u001b[1m360/782\u001b[0m \u001b[32m━━━━━━━━━\u001b[0m\u001b[37m━━━━━━━━━━━\u001b[0m \u001b[1m37s\u001b[0m 88ms/step - accuracy: 0.8231 - loss: 0.5132"
     ]
    },
    {
     "name": "stderr",
     "output_type": "stream",
     "text": [
      "[codecarbon INFO @ 14:56:05] Energy consumed for RAM : 0.003456 kWh. RAM Power : 5.883667945861816 W\n",
      "[codecarbon INFO @ 14:56:05] Energy consumed for all CPUs : 0.019104 kWh. Total CPU Power : 32.5 W\n",
      "[codecarbon INFO @ 14:56:05] 0.02256064496986063747 kWh of electricity used since the beginning.\n"
     ]
    },
    {
     "name": "stdout",
     "output_type": "stream",
     "text": [
      "\u001b[1m371/782\u001b[0m \u001b[32m━━━━━━━━━\u001b[0m\u001b[37m━━━━━━━━━━━\u001b[0m \u001b[1m36s\u001b[0m 88ms/step - accuracy: 0.8232 - loss: 0.5129"
     ]
    },
    {
     "name": "stderr",
     "output_type": "stream",
     "text": [
      "[codecarbon INFO @ 14:56:06] Energy consumed for RAM : 0.003432 kWh. RAM Power : 5.883667945861816 W\n",
      "[codecarbon INFO @ 14:56:06] Energy consumed for all CPUs : 0.018971 kWh. Total CPU Power : 32.5 W\n",
      "[codecarbon INFO @ 14:56:06] 0.02240250520800487338 kWh of electricity used since the beginning.\n"
     ]
    },
    {
     "name": "stdout",
     "output_type": "stream",
     "text": [
      "\u001b[1m532/782\u001b[0m \u001b[32m━━━━━━━━━━━━━\u001b[0m\u001b[37m━━━━━━━\u001b[0m \u001b[1m22s\u001b[0m 88ms/step - accuracy: 0.8242 - loss: 0.5101"
     ]
    },
    {
     "name": "stderr",
     "output_type": "stream",
     "text": [
      "[codecarbon INFO @ 14:56:20] Energy consumed for RAM : 0.003481 kWh. RAM Power : 5.883667945861816 W\n",
      "[codecarbon INFO @ 14:56:20] Energy consumed for all CPUs : 0.019240 kWh. Total CPU Power : 32.5 W\n",
      "[codecarbon INFO @ 14:56:20] 0.02272097022414342957 kWh of electricity used since the beginning.\n"
     ]
    },
    {
     "name": "stdout",
     "output_type": "stream",
     "text": [
      "\u001b[1m542/782\u001b[0m \u001b[32m━━━━━━━━━━━━━\u001b[0m\u001b[37m━━━━━━━\u001b[0m \u001b[1m21s\u001b[0m 88ms/step - accuracy: 0.8242 - loss: 0.5100"
     ]
    },
    {
     "name": "stderr",
     "output_type": "stream",
     "text": [
      "[codecarbon INFO @ 14:56:21] Energy consumed for RAM : 0.003456 kWh. RAM Power : 5.883667945861816 W\n",
      "[codecarbon INFO @ 14:56:21] Energy consumed for all CPUs : 0.019106 kWh. Total CPU Power : 32.5 W\n"
     ]
    },
    {
     "name": "stdout",
     "output_type": "stream",
     "text": [
      "\u001b[1m543/782\u001b[0m \u001b[32m━━━━━━━━━━━━━\u001b[0m\u001b[37m━━━━━━━\u001b[0m \u001b[1m21s\u001b[0m 88ms/step - accuracy: 0.8242 - loss: 0.5100"
     ]
    },
    {
     "name": "stderr",
     "output_type": "stream",
     "text": [
      "[codecarbon INFO @ 14:56:21] 0.02256258356196806647 kWh of electricity used since the beginning.\n"
     ]
    },
    {
     "name": "stdout",
     "output_type": "stream",
     "text": [
      "\u001b[1m704/782\u001b[0m \u001b[32m━━━━━━━━━━━━━━━━━━\u001b[0m\u001b[37m━━\u001b[0m \u001b[1m6s\u001b[0m 88ms/step - accuracy: 0.8247 - loss: 0.5087"
     ]
    },
    {
     "name": "stderr",
     "output_type": "stream",
     "text": [
      "[codecarbon INFO @ 14:56:35] Energy consumed for RAM : 0.003505 kWh. RAM Power : 5.883667945861816 W\n",
      "[codecarbon INFO @ 14:56:35] Energy consumed for all CPUs : 0.019375 kWh. Total CPU Power : 32.5 W\n"
     ]
    },
    {
     "name": "stdout",
     "output_type": "stream",
     "text": [
      "\u001b[1m705/782\u001b[0m \u001b[32m━━━━━━━━━━━━━━━━━━\u001b[0m\u001b[37m━━\u001b[0m \u001b[1m6s\u001b[0m 88ms/step - accuracy: 0.8247 - loss: 0.5086"
     ]
    },
    {
     "name": "stderr",
     "output_type": "stream",
     "text": [
      "[codecarbon INFO @ 14:56:35] 0.02288077591711260711 kWh of electricity used since the beginning.\n"
     ]
    },
    {
     "name": "stdout",
     "output_type": "stream",
     "text": [
      "\u001b[1m713/782\u001b[0m \u001b[32m━━━━━━━━━━━━━━━━━━\u001b[0m\u001b[37m━━\u001b[0m \u001b[1m6s\u001b[0m 88ms/step - accuracy: 0.8247 - loss: 0.5086"
     ]
    },
    {
     "name": "stderr",
     "output_type": "stream",
     "text": [
      "[codecarbon INFO @ 14:56:36] Energy consumed for RAM : 0.003481 kWh. RAM Power : 5.883667945861816 W\n",
      "[codecarbon INFO @ 14:56:36] Energy consumed for all CPUs : 0.019242 kWh. Total CPU Power : 32.5 W\n",
      "[codecarbon INFO @ 14:56:36] 0.02272259046444640232 kWh of electricity used since the beginning.\n"
     ]
    },
    {
     "name": "stdout",
     "output_type": "stream",
     "text": [
      "\u001b[1m782/782\u001b[0m \u001b[32m━━━━━━━━━━━━━━━━━━━━\u001b[0m\u001b[37m\u001b[0m \u001b[1m71s\u001b[0m 90ms/step - accuracy: 0.8248 - loss: 0.5082 - val_accuracy: 0.8388 - val_loss: 0.4859 - learning_rate: 1.0000e-05\n",
      "Epoch 31/100\n",
      "\u001b[1m 65/782\u001b[0m \u001b[32m━\u001b[0m\u001b[37m━━━━━━━━━━━━━━━━━━━\u001b[0m \u001b[1m1:06\u001b[0m 93ms/step - accuracy: 0.8281 - loss: 0.4955"
     ]
    },
    {
     "name": "stderr",
     "output_type": "stream",
     "text": [
      "[codecarbon INFO @ 14:56:50] Energy consumed for RAM : 0.003530 kWh. RAM Power : 5.883667945861816 W\n"
     ]
    },
    {
     "name": "stdout",
     "output_type": "stream",
     "text": [
      "\u001b[1m 66/782\u001b[0m \u001b[32m━\u001b[0m\u001b[37m━━━━━━━━━━━━━━━━━━━\u001b[0m \u001b[1m1:06\u001b[0m 93ms/step - accuracy: 0.8281 - loss: 0.4955"
     ]
    },
    {
     "name": "stderr",
     "output_type": "stream",
     "text": [
      "[codecarbon INFO @ 14:56:50] Energy consumed for all CPUs : 0.019511 kWh. Total CPU Power : 32.5 W\n",
      "[codecarbon INFO @ 14:56:50] 0.02304068839869281154 kWh of electricity used since the beginning.\n"
     ]
    },
    {
     "name": "stdout",
     "output_type": "stream",
     "text": [
      "\u001b[1m 75/782\u001b[0m \u001b[32m━\u001b[0m\u001b[37m━━━━━━━━━━━━━━━━━━━\u001b[0m \u001b[1m1:05\u001b[0m 93ms/step - accuracy: 0.8283 - loss: 0.4954"
     ]
    },
    {
     "name": "stderr",
     "output_type": "stream",
     "text": [
      "[codecarbon INFO @ 14:56:51] Energy consumed for RAM : 0.003505 kWh. RAM Power : 5.883667945861816 W\n",
      "[codecarbon INFO @ 14:56:51] Energy consumed for all CPUs : 0.019377 kWh. Total CPU Power : 32.5 W\n",
      "[codecarbon INFO @ 14:56:51] 0.02288265625870584963 kWh of electricity used since the beginning.\n"
     ]
    },
    {
     "name": "stdout",
     "output_type": "stream",
     "text": [
      "\u001b[1m237/782\u001b[0m \u001b[32m━━━━━━\u001b[0m\u001b[37m━━━━━━━━━━━━━━\u001b[0m \u001b[1m48s\u001b[0m 89ms/step - accuracy: 0.8280 - loss: 0.5004"
     ]
    },
    {
     "name": "stderr",
     "output_type": "stream",
     "text": [
      "[codecarbon INFO @ 14:57:05] Energy consumed for RAM : 0.003554 kWh. RAM Power : 5.883667945861816 W\n",
      "[codecarbon INFO @ 14:57:05] Energy consumed for all CPUs : 0.019646 kWh. Total CPU Power : 32.5 W\n",
      "[codecarbon INFO @ 14:57:05] 0.02320069221818321994 kWh of electricity used since the beginning.\n"
     ]
    },
    {
     "name": "stdout",
     "output_type": "stream",
     "text": [
      "\u001b[1m247/782\u001b[0m \u001b[32m━━━━━━\u001b[0m\u001b[37m━━━━━━━━━━━━━━\u001b[0m \u001b[1m47s\u001b[0m 89ms/step - accuracy: 0.8279 - loss: 0.5005"
     ]
    },
    {
     "name": "stderr",
     "output_type": "stream",
     "text": [
      "[codecarbon INFO @ 14:57:06] Energy consumed for RAM : 0.003530 kWh. RAM Power : 5.883667945861816 W\n",
      "[codecarbon INFO @ 14:57:06] Energy consumed for all CPUs : 0.019513 kWh. Total CPU Power : 32.5 W\n",
      "[codecarbon INFO @ 14:57:06] 0.02304256194263695767 kWh of electricity used since the beginning.\n"
     ]
    },
    {
     "name": "stdout",
     "output_type": "stream",
     "text": [
      "\u001b[1m409/782\u001b[0m \u001b[32m━━━━━━━━━━\u001b[0m\u001b[37m━━━━━━━━━━\u001b[0m \u001b[1m32s\u001b[0m 88ms/step - accuracy: 0.8273 - loss: 0.5017"
     ]
    },
    {
     "name": "stderr",
     "output_type": "stream",
     "text": [
      "[codecarbon INFO @ 14:57:20] Energy consumed for RAM : 0.003579 kWh. RAM Power : 5.883667945861816 W\n",
      "[codecarbon INFO @ 14:57:20] Energy consumed for all CPUs : 0.019782 kWh. Total CPU Power : 32.5 W\n",
      "[codecarbon INFO @ 14:57:20] 0.02336106593625078554 kWh of electricity used since the beginning.\n"
     ]
    },
    {
     "name": "stdout",
     "output_type": "stream",
     "text": [
      "\u001b[1m418/782\u001b[0m \u001b[32m━━━━━━━━━━\u001b[0m\u001b[37m━━━━━━━━━━\u001b[0m \u001b[1m32s\u001b[0m 88ms/step - accuracy: 0.8273 - loss: 0.5018"
     ]
    },
    {
     "name": "stderr",
     "output_type": "stream",
     "text": [
      "[codecarbon INFO @ 14:57:21] Energy consumed for RAM : 0.003554 kWh. RAM Power : 5.883667945861816 W\n",
      "[codecarbon INFO @ 14:57:21] Energy consumed for all CPUs : 0.019648 kWh. Total CPU Power : 32.5 W\n",
      "[codecarbon INFO @ 14:57:21] 0.02320266293439435940 kWh of electricity used since the beginning.\n"
     ]
    },
    {
     "name": "stdout",
     "output_type": "stream",
     "text": [
      "\u001b[1m580/782\u001b[0m \u001b[32m━━━━━━━━━━━━━━\u001b[0m\u001b[37m━━━━━━\u001b[0m \u001b[1m17s\u001b[0m 88ms/step - accuracy: 0.8272 - loss: 0.5019"
     ]
    },
    {
     "name": "stderr",
     "output_type": "stream",
     "text": [
      "[codecarbon INFO @ 14:57:35] Energy consumed for RAM : 0.003603 kWh. RAM Power : 5.883667945861816 W\n",
      "[codecarbon INFO @ 14:57:35] Energy consumed for all CPUs : 0.019918 kWh. Total CPU Power : 32.5 W\n",
      "[codecarbon INFO @ 14:57:35] 0.02352103531653351384 kWh of electricity used since the beginning.\n"
     ]
    },
    {
     "name": "stdout",
     "output_type": "stream",
     "text": [
      "\u001b[1m589/782\u001b[0m \u001b[32m━━━━━━━━━━━━━━━\u001b[0m\u001b[37m━━━━━\u001b[0m \u001b[1m17s\u001b[0m 88ms/step - accuracy: 0.8271 - loss: 0.5019"
     ]
    },
    {
     "name": "stderr",
     "output_type": "stream",
     "text": [
      "[codecarbon INFO @ 14:57:36] Energy consumed for RAM : 0.003579 kWh. RAM Power : 5.883667945861816 W\n",
      "[codecarbon INFO @ 14:57:36] Energy consumed for all CPUs : 0.019784 kWh. Total CPU Power : 32.5 W\n",
      "[codecarbon INFO @ 14:57:36] 0.02336278205039104411 kWh of electricity used since the beginning.\n"
     ]
    },
    {
     "name": "stdout",
     "output_type": "stream",
     "text": [
      "\u001b[1m752/782\u001b[0m \u001b[32m━━━━━━━━━━━━━━━━━━━\u001b[0m\u001b[37m━\u001b[0m \u001b[1m2s\u001b[0m 88ms/step - accuracy: 0.8270 - loss: 0.5022"
     ]
    },
    {
     "name": "stderr",
     "output_type": "stream",
     "text": [
      "[codecarbon INFO @ 14:57:50] Energy consumed for RAM : 0.003628 kWh. RAM Power : 5.883667945861816 W\n",
      "[codecarbon INFO @ 14:57:50] Energy consumed for all CPUs : 0.020053 kWh. Total CPU Power : 32.5 W\n",
      "[codecarbon INFO @ 14:57:50] 0.02368098854801582373 kWh of electricity used since the beginning.\n"
     ]
    },
    {
     "name": "stdout",
     "output_type": "stream",
     "text": [
      "\u001b[1m762/782\u001b[0m \u001b[32m━━━━━━━━━━━━━━━━━━━\u001b[0m\u001b[37m━\u001b[0m \u001b[1m1s\u001b[0m 88ms/step - accuracy: 0.8270 - loss: 0.5022"
     ]
    },
    {
     "name": "stderr",
     "output_type": "stream",
     "text": [
      "[codecarbon INFO @ 14:57:51] Energy consumed for RAM : 0.003603 kWh. RAM Power : 5.883667945861816 W\n",
      "[codecarbon INFO @ 14:57:51] Energy consumed for all CPUs : 0.019919 kWh. Total CPU Power : 32.5 W\n",
      "[codecarbon INFO @ 14:57:51] 0.02352297149258193026 kWh of electricity used since the beginning.\n"
     ]
    },
    {
     "name": "stdout",
     "output_type": "stream",
     "text": [
      "\u001b[1m782/782\u001b[0m \u001b[32m━━━━━━━━━━━━━━━━━━━━\u001b[0m\u001b[37m\u001b[0m \u001b[1m72s\u001b[0m 91ms/step - accuracy: 0.8270 - loss: 0.5023 - val_accuracy: 0.8386 - val_loss: 0.4831 - learning_rate: 1.0000e-05\n",
      "Epoch 32/100\n",
      "\u001b[1m116/782\u001b[0m \u001b[32m━━\u001b[0m\u001b[37m━━━━━━━━━━━━━━━━━━\u001b[0m \u001b[1m54s\u001b[0m 82ms/step - accuracy: 0.8374 - loss: 0.4772"
     ]
    },
    {
     "name": "stderr",
     "output_type": "stream",
     "text": [
      "[codecarbon INFO @ 14:58:05] Energy consumed for RAM : 0.003652 kWh. RAM Power : 5.883667945861816 W\n",
      "[codecarbon INFO @ 14:58:05] Energy consumed for all CPUs : 0.020189 kWh. Total CPU Power : 32.5 W\n",
      "[codecarbon INFO @ 14:58:05] 0.02384103395729257266 kWh of electricity used since the beginning.\n"
     ]
    },
    {
     "name": "stdout",
     "output_type": "stream",
     "text": [
      "\u001b[1m125/782\u001b[0m \u001b[32m━━━\u001b[0m\u001b[37m━━━━━━━━━━━━━━━━━\u001b[0m \u001b[1m54s\u001b[0m 83ms/step - accuracy: 0.8374 - loss: 0.4773"
     ]
    },
    {
     "name": "stderr",
     "output_type": "stream",
     "text": [
      "[codecarbon INFO @ 14:58:06] Energy consumed for RAM : 0.003628 kWh. RAM Power : 5.883667945861816 W\n",
      "[codecarbon INFO @ 14:58:06] Energy consumed for all CPUs : 0.020055 kWh. Total CPU Power : 32.5 W\n",
      "[codecarbon INFO @ 14:58:06] 0.02368308716334391328 kWh of electricity used since the beginning.\n"
     ]
    },
    {
     "name": "stdout",
     "output_type": "stream",
     "text": [
      "\u001b[1m288/782\u001b[0m \u001b[32m━━━━━━━\u001b[0m\u001b[37m━━━━━━━━━━━━━\u001b[0m \u001b[1m42s\u001b[0m 85ms/step - accuracy: 0.8368 - loss: 0.4784"
     ]
    },
    {
     "name": "stderr",
     "output_type": "stream",
     "text": [
      "[codecarbon INFO @ 14:58:20] Energy consumed for RAM : 0.003677 kWh. RAM Power : 5.883667945861816 W\n",
      "[codecarbon INFO @ 14:58:20] Energy consumed for all CPUs : 0.020324 kWh. Total CPU Power : 32.5 W\n",
      "[codecarbon INFO @ 14:58:20] 0.02400089094039928317 kWh of electricity used since the beginning.\n"
     ]
    },
    {
     "name": "stdout",
     "output_type": "stream",
     "text": [
      "\u001b[1m299/782\u001b[0m \u001b[32m━━━━━━━\u001b[0m\u001b[37m━━━━━━━━━━━━━\u001b[0m \u001b[1m41s\u001b[0m 85ms/step - accuracy: 0.8367 - loss: 0.4787"
     ]
    },
    {
     "name": "stderr",
     "output_type": "stream",
     "text": [
      "[codecarbon INFO @ 14:58:21] Energy consumed for RAM : 0.003652 kWh. RAM Power : 5.883667945861816 W\n",
      "[codecarbon INFO @ 14:58:21] Energy consumed for all CPUs : 0.020190 kWh. Total CPU Power : 32.5 W\n",
      "[codecarbon INFO @ 14:58:21] 0.02384296653807993840 kWh of electricity used since the beginning.\n"
     ]
    },
    {
     "name": "stdout",
     "output_type": "stream",
     "text": [
      "\u001b[1m459/782\u001b[0m \u001b[32m━━━━━━━━━━━\u001b[0m\u001b[37m━━━━━━━━━\u001b[0m \u001b[1m27s\u001b[0m 86ms/step - accuracy: 0.8345 - loss: 0.4838"
     ]
    },
    {
     "name": "stderr",
     "output_type": "stream",
     "text": [
      "[codecarbon INFO @ 14:58:35] Energy consumed for RAM : 0.003701 kWh. RAM Power : 5.883667945861816 W\n",
      "[codecarbon INFO @ 14:58:35] Energy consumed for all CPUs : 0.020460 kWh. Total CPU Power : 32.5 W\n",
      "[codecarbon INFO @ 14:58:35] 0.02416105617675906939 kWh of electricity used since the beginning.\n"
     ]
    },
    {
     "name": "stdout",
     "output_type": "stream",
     "text": [
      "\u001b[1m470/782\u001b[0m \u001b[32m━━━━━━━━━━━━\u001b[0m\u001b[37m━━━━━━━━\u001b[0m \u001b[1m26s\u001b[0m 86ms/step - accuracy: 0.8344 - loss: 0.4840"
     ]
    },
    {
     "name": "stderr",
     "output_type": "stream",
     "text": [
      "[codecarbon INFO @ 14:58:36] Energy consumed for RAM : 0.003677 kWh. RAM Power : 5.883667945861816 W\n",
      "[codecarbon INFO @ 14:58:36] Energy consumed for all CPUs : 0.020326 kWh. Total CPU Power : 32.5 W\n",
      "[codecarbon INFO @ 14:58:36] 0.02400298830724023960 kWh of electricity used since the beginning.\n"
     ]
    },
    {
     "name": "stdout",
     "output_type": "stream",
     "text": [
      "\u001b[1m630/782\u001b[0m \u001b[32m━━━━━━━━━━━━━━━━\u001b[0m\u001b[37m━━━━\u001b[0m \u001b[1m13s\u001b[0m 87ms/step - accuracy: 0.8334 - loss: 0.4866"
     ]
    },
    {
     "name": "stderr",
     "output_type": "stream",
     "text": [
      "[codecarbon INFO @ 14:58:50] Energy consumed for RAM : 0.003726 kWh. RAM Power : 5.883667945861816 W\n",
      "[codecarbon INFO @ 14:58:50] Energy consumed for all CPUs : 0.020595 kWh. Total CPU Power : 32.5 W\n",
      "[codecarbon INFO @ 14:58:50] 0.02432080784614771424 kWh of electricity used since the beginning.\n"
     ]
    },
    {
     "name": "stdout",
     "output_type": "stream",
     "text": [
      "\u001b[1m641/782\u001b[0m \u001b[32m━━━━━━━━━━━━━━━━\u001b[0m\u001b[37m━━━━\u001b[0m \u001b[1m12s\u001b[0m 87ms/step - accuracy: 0.8333 - loss: 0.4868"
     ]
    },
    {
     "name": "stderr",
     "output_type": "stream",
     "text": [
      "[codecarbon INFO @ 14:58:51] Energy consumed for RAM : 0.003702 kWh. RAM Power : 5.883667945861816 W\n",
      "[codecarbon INFO @ 14:58:51] Energy consumed for all CPUs : 0.020462 kWh. Total CPU Power : 32.5 W\n",
      "[codecarbon INFO @ 14:58:51] 0.02416319261025401052 kWh of electricity used since the beginning.\n"
     ]
    },
    {
     "name": "stdout",
     "output_type": "stream",
     "text": [
      "\u001b[1m782/782\u001b[0m \u001b[32m━━━━━━━━━━━━━━━━━━━━\u001b[0m\u001b[37m\u001b[0m \u001b[1m0s\u001b[0m 87ms/step - accuracy: 0.8328 - loss: 0.4885"
     ]
    },
    {
     "name": "stderr",
     "output_type": "stream",
     "text": [
      "[codecarbon INFO @ 14:59:05] Energy consumed for RAM : 0.003750 kWh. RAM Power : 5.883667945861816 W\n",
      "[codecarbon INFO @ 14:59:05] Energy consumed for all CPUs : 0.020730 kWh. Total CPU Power : 32.5 W\n",
      "[codecarbon INFO @ 14:59:05] 0.02448085325276690150 kWh of electricity used since the beginning.\n"
     ]
    },
    {
     "name": "stdout",
     "output_type": "stream",
     "text": [
      "\u001b[1m782/782\u001b[0m \u001b[32m━━━━━━━━━━━━━━━━━━━━\u001b[0m\u001b[37m\u001b[0m \u001b[1m70s\u001b[0m 90ms/step - accuracy: 0.8327 - loss: 0.4885 - val_accuracy: 0.8391 - val_loss: 0.4855 - learning_rate: 1.0000e-05\n",
      "Epoch 33/100\n",
      "\u001b[1m  1/782\u001b[0m \u001b[37m━━━━━━━━━━━━━━━━━━━━\u001b[0m \u001b[1m3:33\u001b[0m 273ms/step - accuracy: 0.8750 - loss: 0.4283"
     ]
    },
    {
     "name": "stderr",
     "output_type": "stream",
     "text": [
      "[codecarbon INFO @ 14:59:06] Energy consumed for RAM : 0.003726 kWh. RAM Power : 5.883667945861816 W\n",
      "[codecarbon INFO @ 14:59:06] Energy consumed for all CPUs : 0.020597 kWh. Total CPU Power : 32.5 W\n",
      "[codecarbon INFO @ 14:59:06] 0.02432295894571002287 kWh of electricity used since the beginning.\n"
     ]
    },
    {
     "name": "stdout",
     "output_type": "stream",
     "text": [
      "\u001b[1m161/782\u001b[0m \u001b[32m━━━━\u001b[0m\u001b[37m━━━━━━━━━━━━━━━━\u001b[0m \u001b[1m54s\u001b[0m 88ms/step - accuracy: 0.8251 - loss: 0.5014"
     ]
    },
    {
     "name": "stderr",
     "output_type": "stream",
     "text": [
      "[codecarbon INFO @ 14:59:20] Energy consumed for RAM : 0.003775 kWh. RAM Power : 5.883667945861816 W\n",
      "[codecarbon INFO @ 14:59:20] Energy consumed for all CPUs : 0.020866 kWh. Total CPU Power : 32.5 W\n",
      "[codecarbon INFO @ 14:59:20] 0.02464080904489128476 kWh of electricity used since the beginning.\n"
     ]
    },
    {
     "name": "stdout",
     "output_type": "stream",
     "text": [
      "\u001b[1m172/782\u001b[0m \u001b[32m━━━━\u001b[0m\u001b[37m━━━━━━━━━━━━━━━━\u001b[0m \u001b[1m53s\u001b[0m 88ms/step - accuracy: 0.8251 - loss: 0.5013"
     ]
    },
    {
     "name": "stderr",
     "output_type": "stream",
     "text": [
      "[codecarbon INFO @ 14:59:21] Energy consumed for RAM : 0.003751 kWh. RAM Power : 5.883667945861816 W\n",
      "[codecarbon INFO @ 14:59:21] Energy consumed for all CPUs : 0.020732 kWh. Total CPU Power : 32.5 W\n",
      "[codecarbon INFO @ 14:59:21] 0.02448288898642207376 kWh of electricity used since the beginning.\n"
     ]
    },
    {
     "name": "stdout",
     "output_type": "stream",
     "text": [
      "\u001b[1m332/782\u001b[0m \u001b[32m━━━━━━━━\u001b[0m\u001b[37m━━━━━━━━━━━━\u001b[0m \u001b[1m39s\u001b[0m 88ms/step - accuracy: 0.8260 - loss: 0.4996"
     ]
    },
    {
     "name": "stderr",
     "output_type": "stream",
     "text": [
      "[codecarbon INFO @ 14:59:35] Energy consumed for RAM : 0.003800 kWh. RAM Power : 5.883667945861816 W\n",
      "[codecarbon INFO @ 14:59:35] Energy consumed for all CPUs : 0.021001 kWh. Total CPU Power : 32.5 W\n",
      "[codecarbon INFO @ 14:59:35] 0.02480081933532148064 kWh of electricity used since the beginning.\n"
     ]
    },
    {
     "name": "stdout",
     "output_type": "stream",
     "text": [
      "\u001b[1m342/782\u001b[0m \u001b[32m━━━━━━━━\u001b[0m\u001b[37m━━━━━━━━━━━━\u001b[0m \u001b[1m38s\u001b[0m 88ms/step - accuracy: 0.8261 - loss: 0.4995"
     ]
    },
    {
     "name": "stderr",
     "output_type": "stream",
     "text": [
      "[codecarbon INFO @ 14:59:36] Energy consumed for RAM : 0.003775 kWh. RAM Power : 5.883667945861816 W\n",
      "[codecarbon INFO @ 14:59:36] Energy consumed for all CPUs : 0.020868 kWh. Total CPU Power : 32.5 W\n",
      "[codecarbon INFO @ 14:59:36] 0.02464284856525730816 kWh of electricity used since the beginning.\n"
     ]
    },
    {
     "name": "stdout",
     "output_type": "stream",
     "text": [
      "\u001b[1m502/782\u001b[0m \u001b[32m━━━━━━━━━━━━\u001b[0m\u001b[37m━━━━━━━━\u001b[0m \u001b[1m24s\u001b[0m 88ms/step - accuracy: 0.8266 - loss: 0.4991"
     ]
    },
    {
     "name": "stderr",
     "output_type": "stream",
     "text": [
      "[codecarbon INFO @ 14:59:50] Energy consumed for RAM : 0.003824 kWh. RAM Power : 5.883667945861816 W\n",
      "[codecarbon INFO @ 14:59:50] Energy consumed for all CPUs : 0.021137 kWh. Total CPU Power : 32.5 W\n",
      "[codecarbon INFO @ 14:59:50] 0.02496095060162957166 kWh of electricity used since the beginning.\n"
     ]
    },
    {
     "name": "stdout",
     "output_type": "stream",
     "text": [
      "\u001b[1m513/782\u001b[0m \u001b[32m━━━━━━━━━━━━━\u001b[0m\u001b[37m━━━━━━━\u001b[0m \u001b[1m23s\u001b[0m 88ms/step - accuracy: 0.8266 - loss: 0.4991"
     ]
    },
    {
     "name": "stderr",
     "output_type": "stream",
     "text": [
      "[codecarbon INFO @ 14:59:51] Energy consumed for RAM : 0.003800 kWh. RAM Power : 5.883667945861816 W\n",
      "[codecarbon INFO @ 14:59:51] Energy consumed for all CPUs : 0.021003 kWh. Total CPU Power : 32.5 W\n",
      "[codecarbon INFO @ 14:59:51] 0.02480300510482174106 kWh of electricity used since the beginning.\n"
     ]
    },
    {
     "name": "stdout",
     "output_type": "stream",
     "text": [
      "\u001b[1m664/782\u001b[0m \u001b[32m━━━━━━━━━━━━━━━━\u001b[0m\u001b[37m━━━━\u001b[0m \u001b[1m10s\u001b[0m 89ms/step - accuracy: 0.8267 - loss: 0.4997"
     ]
    },
    {
     "name": "stderr",
     "output_type": "stream",
     "text": [
      "[codecarbon INFO @ 15:00:05] Energy consumed for RAM : 0.003849 kWh. RAM Power : 5.883667945861816 W\n",
      "[codecarbon INFO @ 15:00:05] Energy consumed for all CPUs : 0.021272 kWh. Total CPU Power : 32.5 W\n",
      "[codecarbon INFO @ 15:00:05] 0.02512073972210472628 kWh of electricity used since the beginning.\n"
     ]
    },
    {
     "name": "stdout",
     "output_type": "stream",
     "text": [
      "\u001b[1m674/782\u001b[0m \u001b[32m━━━━━━━━━━━━━━━━━\u001b[0m\u001b[37m━━━\u001b[0m \u001b[1m9s\u001b[0m 89ms/step - accuracy: 0.8267 - loss: 0.4998"
     ]
    },
    {
     "name": "stderr",
     "output_type": "stream",
     "text": [
      "[codecarbon INFO @ 15:00:06] Energy consumed for RAM : 0.003824 kWh. RAM Power : 5.883667945861816 W\n",
      "[codecarbon INFO @ 15:00:06] Energy consumed for all CPUs : 0.021139 kWh. Total CPU Power : 32.5 W\n",
      "[codecarbon INFO @ 15:00:06] 0.02496298297774124722 kWh of electricity used since the beginning.\n"
     ]
    },
    {
     "name": "stdout",
     "output_type": "stream",
     "text": [
      "\u001b[1m782/782\u001b[0m \u001b[32m━━━━━━━━━━━━━━━━━━━━\u001b[0m\u001b[37m\u001b[0m \u001b[1m72s\u001b[0m 92ms/step - accuracy: 0.8265 - loss: 0.5006 - val_accuracy: 0.8383 - val_loss: 0.4846 - learning_rate: 1.0000e-05\n",
      "Epoch 34/100\n",
      "\u001b[1m 20/782\u001b[0m \u001b[37m━━━━━━━━━━━━━━━━━━━━\u001b[0m \u001b[1m1:07\u001b[0m 88ms/step - accuracy: 0.8216 - loss: 0.5263"
     ]
    },
    {
     "name": "stderr",
     "output_type": "stream",
     "text": [
      "[codecarbon INFO @ 15:00:20] Energy consumed for RAM : 0.003873 kWh. RAM Power : 5.883667945861816 W\n",
      "[codecarbon INFO @ 15:00:20] Energy consumed for all CPUs : 0.021408 kWh. Total CPU Power : 32.5 W\n",
      "[codecarbon INFO @ 15:00:20] 0.02528092706880182006 kWh of electricity used since the beginning.\n"
     ]
    },
    {
     "name": "stdout",
     "output_type": "stream",
     "text": [
      "\u001b[1m 29/782\u001b[0m \u001b[37m━━━━━━━━━━━━━━━━━━━━\u001b[0m \u001b[1m1:07\u001b[0m 90ms/step - accuracy: 0.8225 - loss: 0.5252"
     ]
    },
    {
     "name": "stderr",
     "output_type": "stream",
     "text": [
      "[codecarbon INFO @ 15:00:21] Energy consumed for RAM : 0.003849 kWh. RAM Power : 5.883667945861816 W\n",
      "[codecarbon INFO @ 15:00:21] Energy consumed for all CPUs : 0.021274 kWh. Total CPU Power : 32.5 W\n"
     ]
    },
    {
     "name": "stdout",
     "output_type": "stream",
     "text": [
      "\u001b[1m 30/782\u001b[0m \u001b[37m━━━━━━━━━━━━━━━━━━━━\u001b[0m \u001b[1m1:07\u001b[0m 90ms/step - accuracy: 0.8226 - loss: 0.5251"
     ]
    },
    {
     "name": "stderr",
     "output_type": "stream",
     "text": [
      "[codecarbon INFO @ 15:00:21] 0.02512292966608739575 kWh of electricity used since the beginning.\n"
     ]
    },
    {
     "name": "stdout",
     "output_type": "stream",
     "text": [
      "\u001b[1m171/782\u001b[0m \u001b[32m━━━━\u001b[0m\u001b[37m━━━━━━━━━━━━━━━━\u001b[0m \u001b[1m1:00\u001b[0m 98ms/step - accuracy: 0.8271 - loss: 0.5064"
     ]
    },
    {
     "name": "stderr",
     "output_type": "stream",
     "text": [
      "[codecarbon INFO @ 15:00:35] Energy consumed for RAM : 0.003898 kWh. RAM Power : 5.883667945861816 W\n",
      "[codecarbon INFO @ 15:00:35] Energy consumed for all CPUs : 0.021543 kWh. Total CPU Power : 32.5 W\n",
      "[codecarbon INFO @ 15:00:35] 0.02544079904684598548 kWh of electricity used since the beginning.\n"
     ]
    },
    {
     "name": "stdout",
     "output_type": "stream",
     "text": [
      "\u001b[1m179/782\u001b[0m \u001b[32m━━━━\u001b[0m\u001b[37m━━━━━━━━━━━━━━━━\u001b[0m \u001b[1m59s\u001b[0m 99ms/step - accuracy: 0.8270 - loss: 0.5061"
     ]
    },
    {
     "name": "stderr",
     "output_type": "stream",
     "text": [
      "[codecarbon INFO @ 15:00:36] Energy consumed for RAM : 0.003873 kWh. RAM Power : 5.883667945861816 W\n",
      "[codecarbon INFO @ 15:00:37] Energy consumed for all CPUs : 0.021417 kWh. Total CPU Power : 32.5 W\n"
     ]
    },
    {
     "name": "stdout",
     "output_type": "stream",
     "text": [
      "\u001b[1m180/782\u001b[0m \u001b[32m━━━━\u001b[0m\u001b[37m━━━━━━━━━━━━━━━━\u001b[0m \u001b[1m1:01\u001b[0m 103ms/step - accuracy: 0.8270 - loss: 0.5061"
     ]
    },
    {
     "name": "stderr",
     "output_type": "stream",
     "text": [
      "[codecarbon INFO @ 15:00:37] 0.02528975416649310859 kWh of electricity used since the beginning.\n"
     ]
    },
    {
     "name": "stdout",
     "output_type": "stream",
     "text": [
      "\u001b[1m314/782\u001b[0m \u001b[32m━━━━━━━━\u001b[0m\u001b[37m━━━━━━━━━━━━\u001b[0m \u001b[1m47s\u001b[0m 101ms/step - accuracy: 0.8260 - loss: 0.5064"
     ]
    },
    {
     "name": "stderr",
     "output_type": "stream",
     "text": [
      "[codecarbon INFO @ 15:00:50] Energy consumed for RAM : 0.003922 kWh. RAM Power : 5.883667945861816 W\n",
      "[codecarbon INFO @ 15:00:50] Energy consumed for all CPUs : 0.021679 kWh. Total CPU Power : 32.5 W\n",
      "[codecarbon INFO @ 15:00:50] 0.02560090727154325230 kWh of electricity used since the beginning.\n"
     ]
    },
    {
     "name": "stdout",
     "output_type": "stream",
     "text": [
      "\u001b[1m321/782\u001b[0m \u001b[32m━━━━━━━━\u001b[0m\u001b[37m━━━━━━━━━━━━\u001b[0m \u001b[1m46s\u001b[0m 102ms/step - accuracy: 0.8260 - loss: 0.5063"
     ]
    },
    {
     "name": "stderr",
     "output_type": "stream",
     "text": [
      "[codecarbon INFO @ 15:00:51] Energy consumed for RAM : 0.003896 kWh. RAM Power : 5.883667945861816 W\n",
      "[codecarbon INFO @ 15:00:51] Energy consumed for all CPUs : 0.021545 kWh. Total CPU Power : 32.5 W\n",
      "[codecarbon INFO @ 15:00:51] 0.02544183400033319178 kWh of electricity used since the beginning.\n"
     ]
    },
    {
     "name": "stdout",
     "output_type": "stream",
     "text": [
      "\u001b[1m464/782\u001b[0m \u001b[32m━━━━━━━━━━━\u001b[0m\u001b[37m━━━━━━━━━\u001b[0m \u001b[1m32s\u001b[0m 101ms/step - accuracy: 0.8262 - loss: 0.5051"
     ]
    },
    {
     "name": "stderr",
     "output_type": "stream",
     "text": [
      "[codecarbon INFO @ 15:01:05] Energy consumed for RAM : 0.003947 kWh. RAM Power : 5.883667945861816 W\n",
      "[codecarbon INFO @ 15:01:05] Energy consumed for all CPUs : 0.021815 kWh. Total CPU Power : 32.5 W\n",
      "[codecarbon INFO @ 15:01:05] 0.02576112272648554274 kWh of electricity used since the beginning.\n"
     ]
    },
    {
     "name": "stdout",
     "output_type": "stream",
     "text": [
      "\u001b[1m474/782\u001b[0m \u001b[32m━━━━━━━━━━━━\u001b[0m\u001b[37m━━━━━━━━\u001b[0m \u001b[1m31s\u001b[0m 101ms/step - accuracy: 0.8262 - loss: 0.5051"
     ]
    },
    {
     "name": "stderr",
     "output_type": "stream",
     "text": [
      "[codecarbon INFO @ 15:01:06] Energy consumed for RAM : 0.003921 kWh. RAM Power : 5.883667945861816 W\n",
      "[codecarbon INFO @ 15:01:06] Energy consumed for all CPUs : 0.021681 kWh. Total CPU Power : 32.5 W\n",
      "[codecarbon INFO @ 15:01:06] 0.02560162686593092998 kWh of electricity used since the beginning.\n"
     ]
    },
    {
     "name": "stdout",
     "output_type": "stream",
     "text": [
      "\u001b[1m627/782\u001b[0m \u001b[32m━━━━━━━━━━━━━━━━\u001b[0m\u001b[37m━━━━\u001b[0m \u001b[1m15s\u001b[0m 99ms/step - accuracy: 0.8262 - loss: 0.5043"
     ]
    },
    {
     "name": "stderr",
     "output_type": "stream",
     "text": [
      "[codecarbon INFO @ 15:01:20] Energy consumed for RAM : 0.003971 kWh. RAM Power : 5.883667945861816 W\n",
      "[codecarbon INFO @ 15:01:20] Energy consumed for all CPUs : 0.021950 kWh. Total CPU Power : 32.5 W\n",
      "[codecarbon INFO @ 15:01:20] 0.02592107548054874491 kWh of electricity used since the beginning.\n"
     ]
    },
    {
     "name": "stdout",
     "output_type": "stream",
     "text": [
      "\u001b[1m636/782\u001b[0m \u001b[32m━━━━━━━━━━━━━━━━\u001b[0m\u001b[37m━━━━\u001b[0m \u001b[1m14s\u001b[0m 99ms/step - accuracy: 0.8262 - loss: 0.5042"
     ]
    },
    {
     "name": "stderr",
     "output_type": "stream",
     "text": [
      "[codecarbon INFO @ 15:01:21] Energy consumed for RAM : 0.003945 kWh. RAM Power : 5.883667945861816 W\n",
      "[codecarbon INFO @ 15:01:21] Energy consumed for all CPUs : 0.021816 kWh. Total CPU Power : 32.5 W\n",
      "[codecarbon INFO @ 15:01:21] 0.02576159474931375912 kWh of electricity used since the beginning.\n"
     ]
    },
    {
     "name": "stdout",
     "output_type": "stream",
     "text": [
      "\u001b[1m782/782\u001b[0m \u001b[32m━━━━━━━━━━━━━━━━━━━━\u001b[0m\u001b[37m\u001b[0m \u001b[1m0s\u001b[0m 98ms/step - accuracy: 0.8264 - loss: 0.5034"
     ]
    },
    {
     "name": "stderr",
     "output_type": "stream",
     "text": [
      "[codecarbon INFO @ 15:01:35] Energy consumed for RAM : 0.003996 kWh. RAM Power : 5.883667945861816 W\n",
      "[codecarbon INFO @ 15:01:35] Energy consumed for all CPUs : 0.022085 kWh. Total CPU Power : 32.5 W\n",
      "[codecarbon INFO @ 15:01:35] 0.02608100984440120049 kWh of electricity used since the beginning.\n",
      "[codecarbon INFO @ 15:01:36] Energy consumed for RAM : 0.003970 kWh. RAM Power : 5.883667945861816 W\n",
      "[codecarbon INFO @ 15:01:36] Energy consumed for all CPUs : 0.021952 kWh. Total CPU Power : 32.5 W\n",
      "[codecarbon INFO @ 15:01:36] 0.02592163543059486028 kWh of electricity used since the beginning.\n"
     ]
    },
    {
     "name": "stdout",
     "output_type": "stream",
     "text": [
      "\u001b[1m782/782\u001b[0m \u001b[32m━━━━━━━━━━━━━━━━━━━━\u001b[0m\u001b[37m\u001b[0m \u001b[1m79s\u001b[0m 101ms/step - accuracy: 0.8264 - loss: 0.5034 - val_accuracy: 0.8406 - val_loss: 0.4817 - learning_rate: 1.0000e-05\n",
      "Epoch 35/100\n",
      "\u001b[1m142/782\u001b[0m \u001b[32m━━━\u001b[0m\u001b[37m━━━━━━━━━━━━━━━━━\u001b[0m \u001b[1m56s\u001b[0m 88ms/step - accuracy: 0.8245 - loss: 0.5003"
     ]
    },
    {
     "name": "stderr",
     "output_type": "stream",
     "text": [
      "[codecarbon INFO @ 15:01:50] Energy consumed for RAM : 0.004020 kWh. RAM Power : 5.883667945861816 W\n",
      "[codecarbon INFO @ 15:01:50] Energy consumed for all CPUs : 0.022221 kWh. Total CPU Power : 32.5 W\n",
      "[codecarbon INFO @ 15:01:50] 0.02624111947334571357 kWh of electricity used since the beginning.\n"
     ]
    },
    {
     "name": "stdout",
     "output_type": "stream",
     "text": [
      "\u001b[1m150/782\u001b[0m \u001b[32m━━━\u001b[0m\u001b[37m━━━━━━━━━━━━━━━━━\u001b[0m \u001b[1m56s\u001b[0m 89ms/step - accuracy: 0.8243 - loss: 0.5010"
     ]
    },
    {
     "name": "stderr",
     "output_type": "stream",
     "text": [
      "[codecarbon INFO @ 15:01:51] Energy consumed for RAM : 0.003994 kWh. RAM Power : 5.883667945861816 W\n",
      "[codecarbon INFO @ 15:01:51] Energy consumed for all CPUs : 0.022087 kWh. Total CPU Power : 32.5 W\n"
     ]
    },
    {
     "name": "stdout",
     "output_type": "stream",
     "text": [
      "\u001b[1m151/782\u001b[0m \u001b[32m━━━\u001b[0m\u001b[37m━━━━━━━━━━━━━━━━━\u001b[0m \u001b[1m56s\u001b[0m 89ms/step - accuracy: 0.8243 - loss: 0.5010"
     ]
    },
    {
     "name": "stderr",
     "output_type": "stream",
     "text": [
      "[codecarbon INFO @ 15:01:51] 0.02608161730386521909 kWh of electricity used since the beginning.\n"
     ]
    },
    {
     "name": "stdout",
     "output_type": "stream",
     "text": [
      "\u001b[1m302/782\u001b[0m \u001b[32m━━━━━━━\u001b[0m\u001b[37m━━━━━━━━━━━━━\u001b[0m \u001b[1m43s\u001b[0m 91ms/step - accuracy: 0.8253 - loss: 0.5032"
     ]
    },
    {
     "name": "stderr",
     "output_type": "stream",
     "text": [
      "[codecarbon INFO @ 15:02:05] Energy consumed for RAM : 0.004045 kWh. RAM Power : 5.883667945861816 W\n",
      "[codecarbon INFO @ 15:02:05] Energy consumed for all CPUs : 0.022357 kWh. Total CPU Power : 32.5 W\n",
      "[codecarbon INFO @ 15:02:05] 0.02640131281453818313 kWh of electricity used since the beginning.\n"
     ]
    },
    {
     "name": "stdout",
     "output_type": "stream",
     "text": [
      "\u001b[1m310/782\u001b[0m \u001b[32m━━━━━━━\u001b[0m\u001b[37m━━━━━━━━━━━━━\u001b[0m \u001b[1m43s\u001b[0m 91ms/step - accuracy: 0.8254 - loss: 0.5033"
     ]
    },
    {
     "name": "stderr",
     "output_type": "stream",
     "text": [
      "[codecarbon INFO @ 15:02:06] Energy consumed for RAM : 0.004019 kWh. RAM Power : 5.883667945861816 W\n",
      "[codecarbon INFO @ 15:02:06] Energy consumed for all CPUs : 0.022223 kWh. Total CPU Power : 32.5 W\n",
      "[codecarbon INFO @ 15:02:06] 0.02624183738433128604 kWh of electricity used since the beginning.\n"
     ]
    },
    {
     "name": "stdout",
     "output_type": "stream",
     "text": [
      "\u001b[1m441/782\u001b[0m \u001b[32m━━━━━━━━━━━\u001b[0m\u001b[37m━━━━━━━━━\u001b[0m \u001b[1m32s\u001b[0m 96ms/step - accuracy: 0.8258 - loss: 0.5040"
     ]
    },
    {
     "name": "stderr",
     "output_type": "stream",
     "text": [
      "[codecarbon INFO @ 15:02:21] Energy consumed for RAM : 0.004069 kWh. RAM Power : 5.883667945861816 W\n",
      "[codecarbon INFO @ 15:02:21] Energy consumed for all CPUs : 0.022492 kWh. Total CPU Power : 32.5 W\n",
      "[codecarbon INFO @ 15:02:21] 0.02656156989883122835 kWh of electricity used since the beginning.\n"
     ]
    },
    {
     "name": "stdout",
     "output_type": "stream",
     "text": [
      "\u001b[1m448/782\u001b[0m \u001b[32m━━━━━━━━━━━\u001b[0m\u001b[37m━━━━━━━━━\u001b[0m \u001b[1m32s\u001b[0m 97ms/step - accuracy: 0.8258 - loss: 0.5040"
     ]
    },
    {
     "name": "stderr",
     "output_type": "stream",
     "text": [
      "[codecarbon INFO @ 15:02:21] Energy consumed for RAM : 0.004043 kWh. RAM Power : 5.883667945861816 W\n",
      "[codecarbon INFO @ 15:02:21] Energy consumed for all CPUs : 0.022358 kWh. Total CPU Power : 32.5 W\n",
      "[codecarbon INFO @ 15:02:21] 0.02640188602405011895 kWh of electricity used since the beginning.\n"
     ]
    },
    {
     "name": "stdout",
     "output_type": "stream",
     "text": [
      "\u001b[1m582/782\u001b[0m \u001b[32m━━━━━━━━━━━━━━\u001b[0m\u001b[37m━━━━━━\u001b[0m \u001b[1m19s\u001b[0m 99ms/step - accuracy: 0.8260 - loss: 0.5038"
     ]
    },
    {
     "name": "stderr",
     "output_type": "stream",
     "text": [
      "[codecarbon INFO @ 15:02:36] Energy consumed for RAM : 0.004094 kWh. RAM Power : 5.883667945861816 W\n"
     ]
    },
    {
     "name": "stdout",
     "output_type": "stream",
     "text": [
      "\u001b[1m583/782\u001b[0m \u001b[32m━━━━━━━━━━━━━━\u001b[0m\u001b[37m━━━━━━\u001b[0m \u001b[1m19s\u001b[0m 99ms/step - accuracy: 0.8260 - loss: 0.5038"
     ]
    },
    {
     "name": "stderr",
     "output_type": "stream",
     "text": [
      "[codecarbon INFO @ 15:02:36] Energy consumed for all CPUs : 0.022628 kWh. Total CPU Power : 32.5 W\n",
      "[codecarbon INFO @ 15:02:36] 0.02672135480909655289 kWh of electricity used since the beginning.\n"
     ]
    },
    {
     "name": "stdout",
     "output_type": "stream",
     "text": [
      "\u001b[1m592/782\u001b[0m \u001b[32m━━━━━━━━━━━━━━━\u001b[0m\u001b[37m━━━━━\u001b[0m \u001b[1m18s\u001b[0m 99ms/step - accuracy: 0.8261 - loss: 0.5038"
     ]
    },
    {
     "name": "stderr",
     "output_type": "stream",
     "text": [
      "[codecarbon INFO @ 15:02:36] Energy consumed for RAM : 0.004068 kWh. RAM Power : 5.883667945861816 W\n",
      "[codecarbon INFO @ 15:02:36] Energy consumed for all CPUs : 0.022494 kWh. Total CPU Power : 32.5 W\n",
      "[codecarbon INFO @ 15:02:36] 0.02656169934179370209 kWh of electricity used since the beginning.\n"
     ]
    },
    {
     "name": "stdout",
     "output_type": "stream",
     "text": [
      "\u001b[1m739/782\u001b[0m \u001b[32m━━━━━━━━━━━━━━━━━━\u001b[0m\u001b[37m━━\u001b[0m \u001b[1m4s\u001b[0m 98ms/step - accuracy: 0.8264 - loss: 0.5037"
     ]
    },
    {
     "name": "stderr",
     "output_type": "stream",
     "text": [
      "[codecarbon INFO @ 15:02:51] Energy consumed for RAM : 0.004118 kWh. RAM Power : 5.883667945861816 W\n",
      "[codecarbon INFO @ 15:02:51] Energy consumed for all CPUs : 0.022763 kWh. Total CPU Power : 32.5 W\n",
      "[codecarbon INFO @ 15:02:51] 0.02688166069948615469 kWh of electricity used since the beginning.\n"
     ]
    },
    {
     "name": "stdout",
     "output_type": "stream",
     "text": [
      "\u001b[1m749/782\u001b[0m \u001b[32m━━━━━━━━━━━━━━━━━━━\u001b[0m\u001b[37m━\u001b[0m \u001b[1m3s\u001b[0m 98ms/step - accuracy: 0.8264 - loss: 0.5037"
     ]
    },
    {
     "name": "stderr",
     "output_type": "stream",
     "text": [
      "[codecarbon INFO @ 15:02:51] Energy consumed for RAM : 0.004092 kWh. RAM Power : 5.883667945861816 W\n",
      "[codecarbon INFO @ 15:02:51] Energy consumed for all CPUs : 0.022629 kWh. Total CPU Power : 32.5 W\n",
      "[codecarbon INFO @ 15:02:51] 0.02672161574805053882 kWh of electricity used since the beginning.\n"
     ]
    },
    {
     "name": "stdout",
     "output_type": "stream",
     "text": [
      "\u001b[1m782/782\u001b[0m \u001b[32m━━━━━━━━━━━━━━━━━━━━\u001b[0m\u001b[37m\u001b[0m \u001b[1m79s\u001b[0m 101ms/step - accuracy: 0.8264 - loss: 0.5037 - val_accuracy: 0.8403 - val_loss: 0.4826 - learning_rate: 1.0000e-05\n",
      "Epoch 36/100\n",
      "\u001b[1m 92/782\u001b[0m \u001b[32m━━\u001b[0m\u001b[37m━━━━━━━━━━━━━━━━━━\u001b[0m \u001b[1m1:02\u001b[0m 91ms/step - accuracy: 0.8192 - loss: 0.4999"
     ]
    },
    {
     "name": "stderr",
     "output_type": "stream",
     "text": [
      "[codecarbon INFO @ 15:03:06] Energy consumed for RAM : 0.004143 kWh. RAM Power : 5.883667945861816 W\n",
      "[codecarbon INFO @ 15:03:06] Energy consumed for all CPUs : 0.022899 kWh. Total CPU Power : 32.5 W\n",
      "[codecarbon INFO @ 15:03:06] 0.02704153732426966064 kWh of electricity used since the beginning.\n"
     ]
    },
    {
     "name": "stdout",
     "output_type": "stream",
     "text": [
      "\u001b[1m101/782\u001b[0m \u001b[32m━━\u001b[0m\u001b[37m━━━━━━━━━━━━━━━━━━\u001b[0m \u001b[1m1:02\u001b[0m 91ms/step - accuracy: 0.8192 - loss: 0.5005"
     ]
    },
    {
     "name": "stderr",
     "output_type": "stream",
     "text": [
      "[codecarbon INFO @ 15:03:06] Energy consumed for RAM : 0.004117 kWh. RAM Power : 5.883667945861816 W\n",
      "[codecarbon INFO @ 15:03:06] Energy consumed for all CPUs : 0.022765 kWh. Total CPU Power : 32.5 W\n",
      "[codecarbon INFO @ 15:03:06] 0.02688160135289180755 kWh of electricity used since the beginning.\n"
     ]
    },
    {
     "name": "stdout",
     "output_type": "stream",
     "text": [
      "\u001b[1m246/782\u001b[0m \u001b[32m━━━━━━\u001b[0m\u001b[37m━━━━━━━━━━━━━━\u001b[0m \u001b[1m50s\u001b[0m 95ms/step - accuracy: 0.8203 - loss: 0.5032"
     ]
    },
    {
     "name": "stderr",
     "output_type": "stream",
     "text": [
      "[codecarbon INFO @ 15:03:21] Energy consumed for RAM : 0.004167 kWh. RAM Power : 5.883667945861816 W\n",
      "[codecarbon INFO @ 15:03:21] Energy consumed for all CPUs : 0.023034 kWh. Total CPU Power : 32.5 W\n",
      "[codecarbon INFO @ 15:03:21] 0.02720143879046539939 kWh of electricity used since the beginning.\n"
     ]
    },
    {
     "name": "stdout",
     "output_type": "stream",
     "text": [
      "\u001b[1m255/782\u001b[0m \u001b[32m━━━━━━\u001b[0m\u001b[37m━━━━━━━━━━━━━━\u001b[0m \u001b[1m50s\u001b[0m 95ms/step - accuracy: 0.8205 - loss: 0.5031"
     ]
    },
    {
     "name": "stderr",
     "output_type": "stream",
     "text": [
      "[codecarbon INFO @ 15:03:21] Energy consumed for RAM : 0.004141 kWh. RAM Power : 5.883667945861816 W\n",
      "[codecarbon INFO @ 15:03:21] Energy consumed for all CPUs : 0.022900 kWh. Total CPU Power : 32.5 W\n",
      "[codecarbon INFO @ 15:03:21] 0.02704150298962095661 kWh of electricity used since the beginning.\n"
     ]
    },
    {
     "name": "stdout",
     "output_type": "stream",
     "text": [
      "\u001b[1m399/782\u001b[0m \u001b[32m━━━━━━━━━━\u001b[0m\u001b[37m━━━━━━━━━━\u001b[0m \u001b[1m36s\u001b[0m 96ms/step - accuracy: 0.8220 - loss: 0.5024"
     ]
    },
    {
     "name": "stderr",
     "output_type": "stream",
     "text": [
      "[codecarbon INFO @ 15:03:36] Energy consumed for RAM : 0.004192 kWh. RAM Power : 5.883667945861816 W\n",
      "[codecarbon INFO @ 15:03:36] Energy consumed for all CPUs : 0.023170 kWh. Total CPU Power : 32.5 W\n",
      "[codecarbon INFO @ 15:03:36] 0.02736149675948984852 kWh of electricity used since the beginning.\n"
     ]
    },
    {
     "name": "stdout",
     "output_type": "stream",
     "text": [
      "\u001b[1m408/782\u001b[0m \u001b[32m━━━━━━━━━━\u001b[0m\u001b[37m━━━━━━━━━━\u001b[0m \u001b[1m35s\u001b[0m 96ms/step - accuracy: 0.8220 - loss: 0.5024"
     ]
    },
    {
     "name": "stderr",
     "output_type": "stream",
     "text": [
      "[codecarbon INFO @ 15:03:36] Energy consumed for RAM : 0.004166 kWh. RAM Power : 5.883667945861816 W\n",
      "[codecarbon INFO @ 15:03:36] Energy consumed for all CPUs : 0.023035 kWh. Total CPU Power : 32.5 W\n"
     ]
    },
    {
     "name": "stdout",
     "output_type": "stream",
     "text": [
      "\u001b[1m409/782\u001b[0m \u001b[32m━━━━━━━━━━\u001b[0m\u001b[37m━━━━━━━━━━\u001b[0m \u001b[1m35s\u001b[0m 96ms/step - accuracy: 0.8220 - loss: 0.5024"
     ]
    },
    {
     "name": "stderr",
     "output_type": "stream",
     "text": [
      "[codecarbon INFO @ 15:03:36] 0.02720136809121316557 kWh of electricity used since the beginning.\n"
     ]
    },
    {
     "name": "stdout",
     "output_type": "stream",
     "text": [
      "\u001b[1m556/782\u001b[0m \u001b[32m━━━━━━━━━━━━━━\u001b[0m\u001b[37m━━━━━━\u001b[0m \u001b[1m21s\u001b[0m 96ms/step - accuracy: 0.8230 - loss: 0.5014"
     ]
    },
    {
     "name": "stderr",
     "output_type": "stream",
     "text": [
      "[codecarbon INFO @ 15:03:51] Energy consumed for RAM : 0.004216 kWh. RAM Power : 5.883667945861816 W\n",
      "[codecarbon INFO @ 15:03:51] Energy consumed for all CPUs : 0.023305 kWh. Total CPU Power : 32.5 W\n",
      "[codecarbon INFO @ 15:03:51] 0.02752137839444121145 kWh of electricity used since the beginning.\n"
     ]
    },
    {
     "name": "stdout",
     "output_type": "stream",
     "text": [
      "\u001b[1m564/782\u001b[0m \u001b[32m━━━━━━━━━━━━━━\u001b[0m\u001b[37m━━━━━━\u001b[0m \u001b[1m20s\u001b[0m 96ms/step - accuracy: 0.8230 - loss: 0.5014"
     ]
    },
    {
     "name": "stderr",
     "output_type": "stream",
     "text": [
      "[codecarbon INFO @ 15:03:51] Energy consumed for RAM : 0.004191 kWh. RAM Power : 5.883667945861816 W\n",
      "[codecarbon INFO @ 15:03:51] Energy consumed for all CPUs : 0.023171 kWh. Total CPU Power : 32.5 W\n",
      "[codecarbon INFO @ 15:03:51] 0.02736159671632957743 kWh of electricity used since the beginning.\n"
     ]
    },
    {
     "name": "stdout",
     "output_type": "stream",
     "text": [
      "\u001b[1m710/782\u001b[0m \u001b[32m━━━━━━━━━━━━━━━━━━\u001b[0m\u001b[37m━━\u001b[0m \u001b[1m6s\u001b[0m 96ms/step - accuracy: 0.8237 - loss: 0.5006"
     ]
    },
    {
     "name": "stderr",
     "output_type": "stream",
     "text": [
      "[codecarbon INFO @ 15:04:06] Energy consumed for RAM : 0.004241 kWh. RAM Power : 5.883667945861816 W\n",
      "[codecarbon INFO @ 15:04:06] Energy consumed for all CPUs : 0.023441 kWh. Total CPU Power : 32.5 W\n",
      "[codecarbon INFO @ 15:04:06] 0.02768138665563687345 kWh of electricity used since the beginning.\n"
     ]
    },
    {
     "name": "stdout",
     "output_type": "stream",
     "text": [
      "\u001b[1m718/782\u001b[0m \u001b[32m━━━━━━━━━━━━━━━━━━\u001b[0m\u001b[37m━━\u001b[0m \u001b[1m6s\u001b[0m 96ms/step - accuracy: 0.8237 - loss: 0.5005"
     ]
    },
    {
     "name": "stderr",
     "output_type": "stream",
     "text": [
      "[codecarbon INFO @ 15:04:06] Energy consumed for RAM : 0.004215 kWh. RAM Power : 5.883667945861816 W\n",
      "[codecarbon INFO @ 15:04:06] Energy consumed for all CPUs : 0.023307 kWh. Total CPU Power : 32.5 W\n",
      "[codecarbon INFO @ 15:04:06] 0.02752166966942273460 kWh of electricity used since the beginning.\n"
     ]
    },
    {
     "name": "stdout",
     "output_type": "stream",
     "text": [
      "\u001b[1m782/782\u001b[0m \u001b[32m━━━━━━━━━━━━━━━━━━━━\u001b[0m\u001b[37m\u001b[0m \u001b[1m78s\u001b[0m 99ms/step - accuracy: 0.8239 - loss: 0.5004 - val_accuracy: 0.8404 - val_loss: 0.4828 - learning_rate: 1.0000e-05\n",
      "Epoch 37/100\n",
      "\u001b[1m 62/782\u001b[0m \u001b[32m━\u001b[0m\u001b[37m━━━━━━━━━━━━━━━━━━━\u001b[0m \u001b[1m1:02\u001b[0m 87ms/step - accuracy: 0.8139 - loss: 0.5237"
     ]
    },
    {
     "name": "stderr",
     "output_type": "stream",
     "text": [
      "[codecarbon INFO @ 15:04:21] Energy consumed for RAM : 0.004265 kWh. RAM Power : 5.883667945861816 W\n",
      "[codecarbon INFO @ 15:04:21] Energy consumed for all CPUs : 0.023576 kWh. Total CPU Power : 32.5 W\n"
     ]
    },
    {
     "name": "stdout",
     "output_type": "stream",
     "text": [
      "\u001b[1m 63/782\u001b[0m \u001b[32m━\u001b[0m\u001b[37m━━━━━━━━━━━━━━━━━━━\u001b[0m \u001b[1m1:02\u001b[0m 87ms/step - accuracy: 0.8140 - loss: 0.5235"
     ]
    },
    {
     "name": "stderr",
     "output_type": "stream",
     "text": [
      "[codecarbon INFO @ 15:04:21] 0.02784133255290726153 kWh of electricity used since the beginning.\n"
     ]
    },
    {
     "name": "stdout",
     "output_type": "stream",
     "text": [
      "\u001b[1m 73/782\u001b[0m \u001b[32m━\u001b[0m\u001b[37m━━━━━━━━━━━━━━━━━━━\u001b[0m \u001b[1m1:00\u001b[0m 86ms/step - accuracy: 0.8148 - loss: 0.5212"
     ]
    },
    {
     "name": "stderr",
     "output_type": "stream",
     "text": [
      "[codecarbon INFO @ 15:04:21] Energy consumed for RAM : 0.004240 kWh. RAM Power : 5.883667945861816 W\n",
      "[codecarbon INFO @ 15:04:21] Energy consumed for all CPUs : 0.023442 kWh. Total CPU Power : 32.5 W\n",
      "[codecarbon INFO @ 15:04:21] 0.02768187811569276791 kWh of electricity used since the beginning.\n"
     ]
    },
    {
     "name": "stdout",
     "output_type": "stream",
     "text": [
      "\u001b[1m229/782\u001b[0m \u001b[32m━━━━━\u001b[0m\u001b[37m━━━━━━━━━━━━━━━\u001b[0m \u001b[1m49s\u001b[0m 89ms/step - accuracy: 0.8228 - loss: 0.5037"
     ]
    },
    {
     "name": "stderr",
     "output_type": "stream",
     "text": [
      "[codecarbon INFO @ 15:04:36] Energy consumed for RAM : 0.004290 kWh. RAM Power : 5.883667945861816 W\n",
      "[codecarbon INFO @ 15:04:36] Energy consumed for all CPUs : 0.023712 kWh. Total CPU Power : 32.5 W\n",
      "[codecarbon INFO @ 15:04:36] 0.02800144454204014574 kWh of electricity used since the beginning.\n"
     ]
    },
    {
     "name": "stdout",
     "output_type": "stream",
     "text": [
      "\u001b[1m237/782\u001b[0m \u001b[32m━━━━━━\u001b[0m\u001b[37m━━━━━━━━━━━━━━\u001b[0m \u001b[1m48s\u001b[0m 90ms/step - accuracy: 0.8230 - loss: 0.5036"
     ]
    },
    {
     "name": "stderr",
     "output_type": "stream",
     "text": [
      "[codecarbon INFO @ 15:04:36] Energy consumed for RAM : 0.004264 kWh. RAM Power : 5.883667945861816 W\n",
      "[codecarbon INFO @ 15:04:36] Energy consumed for all CPUs : 0.023578 kWh. Total CPU Power : 32.5 W\n",
      "[codecarbon INFO @ 15:04:36] 0.02784168906843551353 kWh of electricity used since the beginning.\n"
     ]
    },
    {
     "name": "stdout",
     "output_type": "stream",
     "text": [
      "\u001b[1m390/782\u001b[0m \u001b[32m━━━━━━━━━\u001b[0m\u001b[37m━━━━━━━━━━━\u001b[0m \u001b[1m35s\u001b[0m 91ms/step - accuracy: 0.8244 - loss: 0.5024"
     ]
    },
    {
     "name": "stderr",
     "output_type": "stream",
     "text": [
      "[codecarbon INFO @ 15:04:51] Energy consumed for RAM : 0.004314 kWh. RAM Power : 5.883667945861816 W\n",
      "[codecarbon INFO @ 15:04:51] Energy consumed for all CPUs : 0.023847 kWh. Total CPU Power : 32.5 W\n",
      "[codecarbon INFO @ 15:04:51] 0.02816147694215906730 kWh of electricity used since the beginning.\n"
     ]
    },
    {
     "name": "stdout",
     "output_type": "stream",
     "text": [
      "\u001b[1m398/782\u001b[0m \u001b[32m━━━━━━━━━━\u001b[0m\u001b[37m━━━━━━━━━━\u001b[0m \u001b[1m34s\u001b[0m 91ms/step - accuracy: 0.8244 - loss: 0.5024"
     ]
    },
    {
     "name": "stderr",
     "output_type": "stream",
     "text": [
      "[codecarbon INFO @ 15:04:51] Energy consumed for RAM : 0.004289 kWh. RAM Power : 5.883667945861816 W\n",
      "[codecarbon INFO @ 15:04:51] Energy consumed for all CPUs : 0.023713 kWh. Total CPU Power : 32.5 W\n"
     ]
    },
    {
     "name": "stdout",
     "output_type": "stream",
     "text": [
      "\u001b[1m399/782\u001b[0m \u001b[32m━━━━━━━━━━\u001b[0m\u001b[37m━━━━━━━━━━\u001b[0m \u001b[1m34s\u001b[0m 91ms/step - accuracy: 0.8244 - loss: 0.5024"
     ]
    },
    {
     "name": "stderr",
     "output_type": "stream",
     "text": [
      "[codecarbon INFO @ 15:04:51] 0.02800168109119082968 kWh of electricity used since the beginning.\n"
     ]
    },
    {
     "name": "stdout",
     "output_type": "stream",
     "text": [
      "\u001b[1m545/782\u001b[0m \u001b[32m━━━━━━━━━━━━━\u001b[0m\u001b[37m━━━━━━━\u001b[0m \u001b[1m21s\u001b[0m 93ms/step - accuracy: 0.8252 - loss: 0.5016"
     ]
    },
    {
     "name": "stderr",
     "output_type": "stream",
     "text": [
      "[codecarbon INFO @ 15:05:06] Energy consumed for RAM : 0.004339 kWh. RAM Power : 5.883667945861816 W\n",
      "[codecarbon INFO @ 15:05:06] Energy consumed for all CPUs : 0.023983 kWh. Total CPU Power : 32.5 W\n",
      "[codecarbon INFO @ 15:05:06] 0.02832161291074916307 kWh of electricity used since the beginning.\n"
     ]
    },
    {
     "name": "stdout",
     "output_type": "stream",
     "text": [
      "\u001b[1m554/782\u001b[0m \u001b[32m━━━━━━━━━━━━━━\u001b[0m\u001b[37m━━━━━━\u001b[0m \u001b[1m21s\u001b[0m 93ms/step - accuracy: 0.8253 - loss: 0.5015"
     ]
    },
    {
     "name": "stderr",
     "output_type": "stream",
     "text": [
      "[codecarbon INFO @ 15:05:06] Energy consumed for RAM : 0.004313 kWh. RAM Power : 5.883667945861816 W\n",
      "[codecarbon INFO @ 15:05:06] Energy consumed for all CPUs : 0.023849 kWh. Total CPU Power : 32.5 W\n",
      "[codecarbon INFO @ 15:05:06] 0.02816166855251437534 kWh of electricity used since the beginning.\n"
     ]
    },
    {
     "name": "stdout",
     "output_type": "stream",
     "text": [
      "\u001b[1m694/782\u001b[0m \u001b[32m━━━━━━━━━━━━━━━━━\u001b[0m\u001b[37m━━━\u001b[0m \u001b[1m8s\u001b[0m 94ms/step - accuracy: 0.8257 - loss: 0.5006"
     ]
    },
    {
     "name": "stderr",
     "output_type": "stream",
     "text": [
      "[codecarbon INFO @ 15:05:21] Energy consumed for RAM : 0.004363 kWh. RAM Power : 5.883667945861816 W\n",
      "[codecarbon INFO @ 15:05:21] Energy consumed for all CPUs : 0.024118 kWh. Total CPU Power : 32.5 W\n",
      "[codecarbon INFO @ 15:05:21] 0.02848183021716410579 kWh of electricity used since the beginning.\n"
     ]
    },
    {
     "name": "stdout",
     "output_type": "stream",
     "text": [
      "\u001b[1m702/782\u001b[0m \u001b[32m━━━━━━━━━━━━━━━━━\u001b[0m\u001b[37m━━━\u001b[0m \u001b[1m7s\u001b[0m 95ms/step - accuracy: 0.8257 - loss: 0.5006"
     ]
    },
    {
     "name": "stderr",
     "output_type": "stream",
     "text": [
      "[codecarbon INFO @ 15:05:21] Energy consumed for RAM : 0.004338 kWh. RAM Power : 5.883667945861816 W\n",
      "[codecarbon INFO @ 15:05:21] Energy consumed for all CPUs : 0.023984 kWh. Total CPU Power : 32.5 W\n",
      "[codecarbon INFO @ 15:05:22] 0.02832166539435059666 kWh of electricity used since the beginning.\n"
     ]
    },
    {
     "name": "stdout",
     "output_type": "stream",
     "text": [
      "\u001b[1m782/782\u001b[0m \u001b[32m━━━━━━━━━━━━━━━━━━━━\u001b[0m\u001b[37m\u001b[0m \u001b[1m77s\u001b[0m 99ms/step - accuracy: 0.8259 - loss: 0.5003 - val_accuracy: 0.8404 - val_loss: 0.4830 - learning_rate: 1.0000e-05\n",
      "Epoch 38/100\n",
      "\u001b[1m 28/782\u001b[0m \u001b[37m━━━━━━━━━━━━━━━━━━━━\u001b[0m \u001b[1m1:22\u001b[0m 109ms/step - accuracy: 0.8233 - loss: 0.5269"
     ]
    },
    {
     "name": "stderr",
     "output_type": "stream",
     "text": [
      "[codecarbon INFO @ 15:05:36] Energy consumed for RAM : 0.004388 kWh. RAM Power : 5.883667945861816 W\n",
      "[codecarbon INFO @ 15:05:36] Energy consumed for all CPUs : 0.024254 kWh. Total CPU Power : 32.5 W\n",
      "[codecarbon INFO @ 15:05:36] 0.02864180268096822371 kWh of electricity used since the beginning.\n"
     ]
    },
    {
     "name": "stdout",
     "output_type": "stream",
     "text": [
      "\u001b[1m 34/782\u001b[0m \u001b[37m━━━━━━━━━━━━━━━━━━━━\u001b[0m \u001b[1m1:25\u001b[0m 115ms/step - accuracy: 0.8220 - loss: 0.5249"
     ]
    },
    {
     "name": "stderr",
     "output_type": "stream",
     "text": [
      "[codecarbon INFO @ 15:05:37] Energy consumed for RAM : 0.004362 kWh. RAM Power : 5.883667945861816 W\n",
      "[codecarbon INFO @ 15:05:37] Energy consumed for all CPUs : 0.024120 kWh. Total CPU Power : 32.5 W\n",
      "[codecarbon INFO @ 15:05:37] 0.02848163274125704511 kWh of electricity used since the beginning.\n"
     ]
    },
    {
     "name": "stdout",
     "output_type": "stream",
     "text": [
      "\u001b[1m165/782\u001b[0m \u001b[32m━━━━\u001b[0m\u001b[37m━━━━━━━━━━━━━━━━\u001b[0m \u001b[1m1:07\u001b[0m 110ms/step - accuracy: 0.8192 - loss: 0.5076"
     ]
    },
    {
     "name": "stderr",
     "output_type": "stream",
     "text": [
      "[codecarbon INFO @ 15:05:51] Energy consumed for RAM : 0.004412 kWh. RAM Power : 5.883667945861816 W\n",
      "[codecarbon INFO @ 15:05:51] Energy consumed for all CPUs : 0.024389 kWh. Total CPU Power : 32.5 W\n",
      "[codecarbon INFO @ 15:05:51] 0.02880162811244052490 kWh of electricity used since the beginning.\n"
     ]
    },
    {
     "name": "stdout",
     "output_type": "stream",
     "text": [
      "\u001b[1m172/782\u001b[0m \u001b[32m━━━━\u001b[0m\u001b[37m━━━━━━━━━━━━━━━━\u001b[0m \u001b[1m1:06\u001b[0m 110ms/step - accuracy: 0.8193 - loss: 0.5075"
     ]
    },
    {
     "name": "stderr",
     "output_type": "stream",
     "text": [
      "[codecarbon INFO @ 15:05:52] Energy consumed for RAM : 0.004387 kWh. RAM Power : 5.883667945861816 W\n",
      "[codecarbon INFO @ 15:05:52] Energy consumed for all CPUs : 0.024255 kWh. Total CPU Power : 32.5 W\n",
      "[codecarbon INFO @ 15:05:52] 0.02864170105885977327 kWh of electricity used since the beginning.\n"
     ]
    },
    {
     "name": "stdout",
     "output_type": "stream",
     "text": [
      "\u001b[1m319/782\u001b[0m \u001b[32m━━━━━━━━\u001b[0m\u001b[37m━━━━━━━━━━━━\u001b[0m \u001b[1m48s\u001b[0m 104ms/step - accuracy: 0.8213 - loss: 0.5041"
     ]
    },
    {
     "name": "stderr",
     "output_type": "stream",
     "text": [
      "[codecarbon INFO @ 15:06:06] Energy consumed for RAM : 0.004437 kWh. RAM Power : 5.883667945861816 W\n",
      "[codecarbon INFO @ 15:06:06] Energy consumed for all CPUs : 0.024525 kWh. Total CPU Power : 32.5 W\n",
      "[codecarbon INFO @ 15:06:06] 0.02896150623321057035 kWh of electricity used since the beginning.\n"
     ]
    },
    {
     "name": "stdout",
     "output_type": "stream",
     "text": [
      "\u001b[1m326/782\u001b[0m \u001b[32m━━━━━━━━\u001b[0m\u001b[37m━━━━━━━━━━━━\u001b[0m \u001b[1m47s\u001b[0m 104ms/step - accuracy: 0.8214 - loss: 0.5040"
     ]
    },
    {
     "name": "stderr",
     "output_type": "stream",
     "text": [
      "[codecarbon INFO @ 15:06:07] Energy consumed for RAM : 0.004411 kWh. RAM Power : 5.883667945861816 W\n",
      "[codecarbon INFO @ 15:06:07] Energy consumed for all CPUs : 0.024391 kWh. Total CPU Power : 32.5 W\n",
      "[codecarbon INFO @ 15:06:07] 0.02880187007862611281 kWh of electricity used since the beginning.\n"
     ]
    },
    {
     "name": "stdout",
     "output_type": "stream",
     "text": [
      "\u001b[1m478/782\u001b[0m \u001b[32m━━━━━━━━━━━━\u001b[0m\u001b[37m━━━━━━━━\u001b[0m \u001b[1m30s\u001b[0m 101ms/step - accuracy: 0.8233 - loss: 0.5005"
     ]
    },
    {
     "name": "stderr",
     "output_type": "stream",
     "text": [
      "[codecarbon INFO @ 15:06:21] Energy consumed for RAM : 0.004461 kWh. RAM Power : 5.883667945861816 W\n",
      "[codecarbon INFO @ 15:06:21] Energy consumed for all CPUs : 0.024660 kWh. Total CPU Power : 32.5 W\n",
      "[codecarbon INFO @ 15:06:21] 0.02912167811006335233 kWh of electricity used since the beginning.\n"
     ]
    },
    {
     "name": "stdout",
     "output_type": "stream",
     "text": [
      "\u001b[1m486/782\u001b[0m \u001b[32m━━━━━━━━━━━━\u001b[0m\u001b[37m━━━━━━━━\u001b[0m \u001b[1m29s\u001b[0m 101ms/step - accuracy: 0.8234 - loss: 0.5003"
     ]
    },
    {
     "name": "stderr",
     "output_type": "stream",
     "text": [
      "[codecarbon INFO @ 15:06:22] Energy consumed for RAM : 0.004436 kWh. RAM Power : 5.883667945861816 W\n",
      "[codecarbon INFO @ 15:06:22] Energy consumed for all CPUs : 0.024526 kWh. Total CPU Power : 32.5 W\n",
      "[codecarbon INFO @ 15:06:22] 0.02896168994117197942 kWh of electricity used since the beginning.\n"
     ]
    },
    {
     "name": "stdout",
     "output_type": "stream",
     "text": [
      "\u001b[1m627/782\u001b[0m \u001b[32m━━━━━━━━━━━━━━━━\u001b[0m\u001b[37m━━━━\u001b[0m \u001b[1m15s\u001b[0m 101ms/step - accuracy: 0.8245 - loss: 0.4981"
     ]
    },
    {
     "name": "stderr",
     "output_type": "stream",
     "text": [
      "[codecarbon INFO @ 15:06:36] Energy consumed for RAM : 0.004486 kWh. RAM Power : 5.883667945861816 W\n",
      "[codecarbon INFO @ 15:06:36] Energy consumed for all CPUs : 0.024796 kWh. Total CPU Power : 32.5 W\n"
     ]
    },
    {
     "name": "stdout",
     "output_type": "stream",
     "text": [
      "\u001b[1m628/782\u001b[0m \u001b[32m━━━━━━━━━━━━━━━━\u001b[0m\u001b[37m━━━━\u001b[0m \u001b[1m15s\u001b[0m 101ms/step - accuracy: 0.8245 - loss: 0.4981"
     ]
    },
    {
     "name": "stderr",
     "output_type": "stream",
     "text": [
      "[codecarbon INFO @ 15:06:36] 0.02928157026588770404 kWh of electricity used since the beginning.\n"
     ]
    },
    {
     "name": "stdout",
     "output_type": "stream",
     "text": [
      "\u001b[1m637/782\u001b[0m \u001b[32m━━━━━━━━━━━━━━━━\u001b[0m\u001b[37m━━━━\u001b[0m \u001b[1m14s\u001b[0m 100ms/step - accuracy: 0.8246 - loss: 0.4980"
     ]
    },
    {
     "name": "stderr",
     "output_type": "stream",
     "text": [
      "[codecarbon INFO @ 15:06:37] Energy consumed for RAM : 0.004460 kWh. RAM Power : 5.883667945861816 W\n",
      "[codecarbon INFO @ 15:06:37] Energy consumed for all CPUs : 0.024662 kWh. Total CPU Power : 32.5 W\n"
     ]
    },
    {
     "name": "stdout",
     "output_type": "stream",
     "text": [
      "\u001b[1m638/782\u001b[0m \u001b[32m━━━━━━━━━━━━━━━━\u001b[0m\u001b[37m━━━━\u001b[0m \u001b[1m14s\u001b[0m 100ms/step - accuracy: 0.8246 - loss: 0.4980"
     ]
    },
    {
     "name": "stderr",
     "output_type": "stream",
     "text": [
      "[codecarbon INFO @ 15:06:37] 0.02912211609017076666 kWh of electricity used since the beginning.\n"
     ]
    },
    {
     "name": "stdout",
     "output_type": "stream",
     "text": [
      "\u001b[1m774/782\u001b[0m \u001b[32m━━━━━━━━━━━━━━━━━━━\u001b[0m\u001b[37m━\u001b[0m \u001b[1m0s\u001b[0m 101ms/step - accuracy: 0.8253 - loss: 0.4968"
     ]
    },
    {
     "name": "stderr",
     "output_type": "stream",
     "text": [
      "[codecarbon INFO @ 15:06:51] Energy consumed for RAM : 0.004510 kWh. RAM Power : 5.883667945861816 W\n",
      "[codecarbon INFO @ 15:06:51] Energy consumed for all CPUs : 0.024931 kWh. Total CPU Power : 32.5 W\n",
      "[codecarbon INFO @ 15:06:51] 0.02944190924764513578 kWh of electricity used since the beginning.\n"
     ]
    },
    {
     "name": "stdout",
     "output_type": "stream",
     "text": [
      "\u001b[1m782/782\u001b[0m \u001b[32m━━━━━━━━━━━━━━━━━━━━\u001b[0m\u001b[37m\u001b[0m \u001b[1m0s\u001b[0m 101ms/step - accuracy: 0.8254 - loss: 0.4968"
     ]
    },
    {
     "name": "stderr",
     "output_type": "stream",
     "text": [
      "[codecarbon INFO @ 15:06:52] Energy consumed for RAM : 0.004485 kWh. RAM Power : 5.883667945861816 W\n",
      "[codecarbon INFO @ 15:06:52] Energy consumed for all CPUs : 0.024797 kWh. Total CPU Power : 32.5 W\n",
      "[codecarbon INFO @ 15:06:52] 0.02928156386330106956 kWh of electricity used since the beginning.\n"
     ]
    },
    {
     "name": "stdout",
     "output_type": "stream",
     "text": [
      "\u001b[1m782/782\u001b[0m \u001b[32m━━━━━━━━━━━━━━━━━━━━\u001b[0m\u001b[37m\u001b[0m \u001b[1m82s\u001b[0m 104ms/step - accuracy: 0.8254 - loss: 0.4968 - val_accuracy: 0.8411 - val_loss: 0.4791 - learning_rate: 1.0000e-05\n",
      "Epoch 39/100\n",
      "\u001b[1m128/782\u001b[0m \u001b[32m━━━\u001b[0m\u001b[37m━━━━━━━━━━━━━━━━━\u001b[0m \u001b[1m58s\u001b[0m 89ms/step - accuracy: 0.8216 - loss: 0.5093"
     ]
    },
    {
     "name": "stderr",
     "output_type": "stream",
     "text": [
      "[codecarbon INFO @ 15:07:06] Energy consumed for RAM : 0.004535 kWh. RAM Power : 5.883667945861816 W\n",
      "[codecarbon INFO @ 15:07:06] Energy consumed for all CPUs : 0.025067 kWh. Total CPU Power : 32.5 W\n",
      "[codecarbon INFO @ 15:07:06] 0.02960175445246149978 kWh of electricity used since the beginning.\n"
     ]
    },
    {
     "name": "stdout",
     "output_type": "stream",
     "text": [
      "\u001b[1m137/782\u001b[0m \u001b[32m━━━\u001b[0m\u001b[37m━━━━━━━━━━━━━━━━━\u001b[0m \u001b[1m57s\u001b[0m 90ms/step - accuracy: 0.8216 - loss: 0.5094"
     ]
    },
    {
     "name": "stderr",
     "output_type": "stream",
     "text": [
      "[codecarbon INFO @ 15:07:07] Energy consumed for RAM : 0.004509 kWh. RAM Power : 5.883667945861816 W\n",
      "[codecarbon INFO @ 15:07:07] Energy consumed for all CPUs : 0.024933 kWh. Total CPU Power : 32.5 W\n",
      "[codecarbon INFO @ 15:07:07] 0.02944168227423120399 kWh of electricity used since the beginning.\n"
     ]
    },
    {
     "name": "stdout",
     "output_type": "stream",
     "text": [
      "\u001b[1m287/782\u001b[0m \u001b[32m━━━━━━━\u001b[0m\u001b[37m━━━━━━━━━━━━━\u001b[0m \u001b[1m45s\u001b[0m 92ms/step - accuracy: 0.8236 - loss: 0.5072"
     ]
    },
    {
     "name": "stderr",
     "output_type": "stream",
     "text": [
      "[codecarbon INFO @ 15:07:21] Energy consumed for RAM : 0.004559 kWh. RAM Power : 5.883667945861816 W\n",
      "[codecarbon INFO @ 15:07:21] Energy consumed for all CPUs : 0.025202 kWh. Total CPU Power : 32.5 W\n",
      "[codecarbon INFO @ 15:07:21] 0.02976189083078214018 kWh of electricity used since the beginning.\n"
     ]
    },
    {
     "name": "stdout",
     "output_type": "stream",
     "text": [
      "\u001b[1m296/782\u001b[0m \u001b[32m━━━━━━━\u001b[0m\u001b[37m━━━━━━━━━━━━━\u001b[0m \u001b[1m44s\u001b[0m 92ms/step - accuracy: 0.8237 - loss: 0.5070"
     ]
    },
    {
     "name": "stderr",
     "output_type": "stream",
     "text": [
      "[codecarbon INFO @ 15:07:22] Energy consumed for RAM : 0.004534 kWh. RAM Power : 5.883667945861816 W\n",
      "[codecarbon INFO @ 15:07:22] Energy consumed for all CPUs : 0.025068 kWh. Total CPU Power : 32.5 W\n"
     ]
    },
    {
     "name": "stdout",
     "output_type": "stream",
     "text": [
      "\u001b[1m297/782\u001b[0m \u001b[32m━━━━━━━\u001b[0m\u001b[37m━━━━━━━━━━━━━\u001b[0m \u001b[1m44s\u001b[0m 92ms/step - accuracy: 0.8237 - loss: 0.5070"
     ]
    },
    {
     "name": "stderr",
     "output_type": "stream",
     "text": [
      "[codecarbon INFO @ 15:07:22] 0.02960170769416695449 kWh of electricity used since the beginning.\n"
     ]
    },
    {
     "name": "stdout",
     "output_type": "stream",
     "text": [
      "\u001b[1m441/782\u001b[0m \u001b[32m━━━━━━━━━━━\u001b[0m\u001b[37m━━━━━━━━━\u001b[0m \u001b[1m32s\u001b[0m 94ms/step - accuracy: 0.8250 - loss: 0.5049"
     ]
    },
    {
     "name": "stderr",
     "output_type": "stream",
     "text": [
      "[codecarbon INFO @ 15:07:36] Energy consumed for RAM : 0.004584 kWh. RAM Power : 5.883667945861816 W\n",
      "[codecarbon INFO @ 15:07:36] Energy consumed for all CPUs : 0.025338 kWh. Total CPU Power : 32.5 W\n",
      "[codecarbon INFO @ 15:07:36] 0.02992194978146965265 kWh of electricity used since the beginning.\n"
     ]
    },
    {
     "name": "stdout",
     "output_type": "stream",
     "text": [
      "\u001b[1m449/782\u001b[0m \u001b[32m━━━━━━━━━━━\u001b[0m\u001b[37m━━━━━━━━━\u001b[0m \u001b[1m31s\u001b[0m 94ms/step - accuracy: 0.8250 - loss: 0.5049"
     ]
    },
    {
     "name": "stderr",
     "output_type": "stream",
     "text": [
      "[codecarbon INFO @ 15:07:37] Energy consumed for RAM : 0.004558 kWh. RAM Power : 5.883667945861816 W\n",
      "[codecarbon INFO @ 15:07:37] Energy consumed for all CPUs : 0.025204 kWh. Total CPU Power : 32.5 W\n",
      "[codecarbon INFO @ 15:07:37] 0.02976186782822914240 kWh of electricity used since the beginning.\n"
     ]
    },
    {
     "name": "stdout",
     "output_type": "stream",
     "text": [
      "\u001b[1m597/782\u001b[0m \u001b[32m━━━━━━━━━━━━━━━\u001b[0m\u001b[37m━━━━━\u001b[0m \u001b[1m17s\u001b[0m 95ms/step - accuracy: 0.8257 - loss: 0.5037"
     ]
    },
    {
     "name": "stderr",
     "output_type": "stream",
     "text": [
      "[codecarbon INFO @ 15:07:51] Energy consumed for RAM : 0.004609 kWh. RAM Power : 5.883667945861816 W\n",
      "[codecarbon INFO @ 15:07:51] Energy consumed for all CPUs : 0.025473 kWh. Total CPU Power : 32.5 W\n"
     ]
    },
    {
     "name": "stdout",
     "output_type": "stream",
     "text": [
      "\u001b[1m598/782\u001b[0m \u001b[32m━━━━━━━━━━━━━━━\u001b[0m\u001b[37m━━━━━\u001b[0m \u001b[1m17s\u001b[0m 95ms/step - accuracy: 0.8257 - loss: 0.5037"
     ]
    },
    {
     "name": "stderr",
     "output_type": "stream",
     "text": [
      "[codecarbon INFO @ 15:07:51] 0.03008189246551240537 kWh of electricity used since the beginning.\n"
     ]
    },
    {
     "name": "stdout",
     "output_type": "stream",
     "text": [
      "\u001b[1m606/782\u001b[0m \u001b[32m━━━━━━━━━━━━━━━\u001b[0m\u001b[37m━━━━━\u001b[0m \u001b[1m16s\u001b[0m 95ms/step - accuracy: 0.8257 - loss: 0.5036"
     ]
    },
    {
     "name": "stderr",
     "output_type": "stream",
     "text": [
      "[codecarbon INFO @ 15:07:52] Energy consumed for RAM : 0.004583 kWh. RAM Power : 5.883667945861816 W\n",
      "[codecarbon INFO @ 15:07:52] Energy consumed for all CPUs : 0.025339 kWh. Total CPU Power : 32.5 W\n",
      "[codecarbon INFO @ 15:07:52] 0.02992198857902794717 kWh of electricity used since the beginning.\n"
     ]
    },
    {
     "name": "stdout",
     "output_type": "stream",
     "text": [
      "\u001b[1m759/782\u001b[0m \u001b[32m━━━━━━━━━━━━━━━━━━━\u001b[0m\u001b[37m━\u001b[0m \u001b[1m2s\u001b[0m 94ms/step - accuracy: 0.8262 - loss: 0.5025"
     ]
    },
    {
     "name": "stderr",
     "output_type": "stream",
     "text": [
      "[codecarbon INFO @ 15:08:06] Energy consumed for RAM : 0.004633 kWh. RAM Power : 5.883667945861816 W\n",
      "[codecarbon INFO @ 15:08:06] Energy consumed for all CPUs : 0.025609 kWh. Total CPU Power : 32.5 W\n",
      "[codecarbon INFO @ 15:08:06] 0.03024186939043247910 kWh of electricity used since the beginning.\n"
     ]
    },
    {
     "name": "stdout",
     "output_type": "stream",
     "text": [
      "\u001b[1m768/782\u001b[0m \u001b[32m━━━━━━━━━━━━━━━━━━━\u001b[0m\u001b[37m━\u001b[0m \u001b[1m1s\u001b[0m 94ms/step - accuracy: 0.8262 - loss: 0.5024"
     ]
    },
    {
     "name": "stderr",
     "output_type": "stream",
     "text": [
      "[codecarbon INFO @ 15:08:07] Energy consumed for RAM : 0.004607 kWh. RAM Power : 5.883667945861816 W\n",
      "[codecarbon INFO @ 15:08:07] Energy consumed for all CPUs : 0.025475 kWh. Total CPU Power : 32.5 W\n"
     ]
    },
    {
     "name": "stdout",
     "output_type": "stream",
     "text": [
      "\u001b[1m769/782\u001b[0m \u001b[32m━━━━━━━━━━━━━━━━━━━\u001b[0m\u001b[37m━\u001b[0m \u001b[1m1s\u001b[0m 94ms/step - accuracy: 0.8262 - loss: 0.5024"
     ]
    },
    {
     "name": "stderr",
     "output_type": "stream",
     "text": [
      "[codecarbon INFO @ 15:08:07] 0.03008203156619125920 kWh of electricity used since the beginning.\n"
     ]
    },
    {
     "name": "stdout",
     "output_type": "stream",
     "text": [
      "\u001b[1m782/782\u001b[0m \u001b[32m━━━━━━━━━━━━━━━━━━━━\u001b[0m\u001b[37m\u001b[0m \u001b[1m76s\u001b[0m 97ms/step - accuracy: 0.8263 - loss: 0.5023 - val_accuracy: 0.8378 - val_loss: 0.4870 - learning_rate: 1.0000e-05\n",
      "Epoch 40/100\n",
      "\u001b[1m113/782\u001b[0m \u001b[32m━━\u001b[0m\u001b[37m━━━━━━━━━━━━━━━━━━\u001b[0m \u001b[1m1:02\u001b[0m 93ms/step - accuracy: 0.8315 - loss: 0.4884"
     ]
    },
    {
     "name": "stderr",
     "output_type": "stream",
     "text": [
      "[codecarbon INFO @ 15:08:21] Energy consumed for RAM : 0.004658 kWh. RAM Power : 5.883667945861816 W\n",
      "[codecarbon INFO @ 15:08:21] Energy consumed for all CPUs : 0.025745 kWh. Total CPU Power : 32.5 W\n",
      "[codecarbon INFO @ 15:08:21] 0.03040211964164867345 kWh of electricity used since the beginning.\n"
     ]
    },
    {
     "name": "stdout",
     "output_type": "stream",
     "text": [
      "\u001b[1m122/782\u001b[0m \u001b[32m━━━\u001b[0m\u001b[37m━━━━━━━━━━━━━━━━━\u001b[0m \u001b[1m1:00\u001b[0m 92ms/step - accuracy: 0.8314 - loss: 0.4881"
     ]
    },
    {
     "name": "stderr",
     "output_type": "stream",
     "text": [
      "[codecarbon INFO @ 15:08:22] Energy consumed for RAM : 0.004632 kWh. RAM Power : 5.883667945861816 W\n",
      "[codecarbon INFO @ 15:08:22] Energy consumed for all CPUs : 0.025610 kWh. Total CPU Power : 32.5 W\n",
      "[codecarbon INFO @ 15:08:22] 0.03024190707993807195 kWh of electricity used since the beginning.\n"
     ]
    },
    {
     "name": "stdout",
     "output_type": "stream",
     "text": [
      "\u001b[1m282/782\u001b[0m \u001b[32m━━━━━━━\u001b[0m\u001b[37m━━━━━━━━━━━━━\u001b[0m \u001b[1m45s\u001b[0m 91ms/step - accuracy: 0.8316 - loss: 0.4910"
     ]
    },
    {
     "name": "stderr",
     "output_type": "stream",
     "text": [
      "[codecarbon INFO @ 15:08:36] Energy consumed for RAM : 0.004682 kWh. RAM Power : 5.883667945861816 W\n",
      "[codecarbon INFO @ 15:08:36] Energy consumed for all CPUs : 0.025880 kWh. Total CPU Power : 32.5 W\n",
      "[codecarbon INFO @ 15:08:36] 0.03056186193608084051 kWh of electricity used since the beginning.\n"
     ]
    },
    {
     "name": "stdout",
     "output_type": "stream",
     "text": [
      "\u001b[1m291/782\u001b[0m \u001b[32m━━━━━━━\u001b[0m\u001b[37m━━━━━━━━━━━━━\u001b[0m \u001b[1m44s\u001b[0m 90ms/step - accuracy: 0.8315 - loss: 0.4912"
     ]
    },
    {
     "name": "stderr",
     "output_type": "stream",
     "text": [
      "[codecarbon INFO @ 15:08:37] Energy consumed for RAM : 0.004656 kWh. RAM Power : 5.883667945861816 W\n",
      "[codecarbon INFO @ 15:08:37] Energy consumed for all CPUs : 0.025746 kWh. Total CPU Power : 32.5 W\n",
      "[codecarbon INFO @ 15:08:37] 0.03040190840035305458 kWh of electricity used since the beginning.\n"
     ]
    },
    {
     "name": "stdout",
     "output_type": "stream",
     "text": [
      "\u001b[1m450/782\u001b[0m \u001b[32m━━━━━━━━━━━\u001b[0m\u001b[37m━━━━━━━━━\u001b[0m \u001b[1m29s\u001b[0m 90ms/step - accuracy: 0.8306 - loss: 0.4949"
     ]
    },
    {
     "name": "stderr",
     "output_type": "stream",
     "text": [
      "[codecarbon INFO @ 15:08:51] Energy consumed for RAM : 0.004707 kWh. RAM Power : 5.883667945861816 W\n",
      "[codecarbon INFO @ 15:08:51] Energy consumed for all CPUs : 0.026015 kWh. Total CPU Power : 32.5 W\n",
      "[codecarbon INFO @ 15:08:51] 0.03072196971367694221 kWh of electricity used since the beginning.\n"
     ]
    },
    {
     "name": "stdout",
     "output_type": "stream",
     "text": [
      "\u001b[1m459/782\u001b[0m \u001b[32m━━━━━━━━━━━\u001b[0m\u001b[37m━━━━━━━━━\u001b[0m \u001b[1m29s\u001b[0m 90ms/step - accuracy: 0.8305 - loss: 0.4950"
     ]
    },
    {
     "name": "stderr",
     "output_type": "stream",
     "text": [
      "[codecarbon INFO @ 15:08:52] Energy consumed for RAM : 0.004681 kWh. RAM Power : 5.883667945861816 W\n",
      "[codecarbon INFO @ 15:08:52] Energy consumed for all CPUs : 0.025881 kWh. Total CPU Power : 32.5 W\n",
      "[codecarbon INFO @ 15:08:52] 0.03056201486759399163 kWh of electricity used since the beginning.\n"
     ]
    },
    {
     "name": "stdout",
     "output_type": "stream",
     "text": [
      "\u001b[1m619/782\u001b[0m \u001b[32m━━━━━━━━━━━━━━━\u001b[0m\u001b[37m━━━━━\u001b[0m \u001b[1m14s\u001b[0m 90ms/step - accuracy: 0.8302 - loss: 0.4963"
     ]
    },
    {
     "name": "stderr",
     "output_type": "stream",
     "text": [
      "[codecarbon INFO @ 15:09:06] Energy consumed for RAM : 0.004731 kWh. RAM Power : 5.883667945861816 W\n",
      "[codecarbon INFO @ 15:09:06] Energy consumed for all CPUs : 0.026151 kWh. Total CPU Power : 32.5 W\n",
      "[codecarbon INFO @ 15:09:06] 0.03088192097040230039 kWh of electricity used since the beginning.\n"
     ]
    },
    {
     "name": "stdout",
     "output_type": "stream",
     "text": [
      "\u001b[1m628/782\u001b[0m \u001b[32m━━━━━━━━━━━━━━━━\u001b[0m\u001b[37m━━━━\u001b[0m \u001b[1m13s\u001b[0m 90ms/step - accuracy: 0.8302 - loss: 0.4963"
     ]
    },
    {
     "name": "stderr",
     "output_type": "stream",
     "text": [
      "[codecarbon INFO @ 15:09:07] Energy consumed for RAM : 0.004705 kWh. RAM Power : 5.883667945861816 W\n",
      "[codecarbon INFO @ 15:09:07] Energy consumed for all CPUs : 0.026017 kWh. Total CPU Power : 32.5 W\n",
      "[codecarbon INFO @ 15:09:07] 0.03072199763572042858 kWh of electricity used since the beginning.\n"
     ]
    },
    {
     "name": "stdout",
     "output_type": "stream",
     "text": [
      "\u001b[1m782/782\u001b[0m \u001b[32m━━━━━━━━━━━━━━━━━━━━\u001b[0m\u001b[37m\u001b[0m \u001b[1m0s\u001b[0m 90ms/step - accuracy: 0.8300 - loss: 0.4970"
     ]
    },
    {
     "name": "stderr",
     "output_type": "stream",
     "text": [
      "[codecarbon INFO @ 15:09:21] Energy consumed for RAM : 0.004756 kWh. RAM Power : 5.883667945861816 W\n",
      "[codecarbon INFO @ 15:09:21] Energy consumed for all CPUs : 0.026286 kWh. Total CPU Power : 32.5 W\n",
      "[codecarbon INFO @ 15:09:21] 0.03104191215698190107 kWh of electricity used since the beginning.\n",
      "[codecarbon INFO @ 15:09:22] Energy consumed for RAM : 0.004730 kWh. RAM Power : 5.883667945861816 W\n",
      "[codecarbon INFO @ 15:09:22] Energy consumed for all CPUs : 0.026152 kWh. Total CPU Power : 32.5 W\n",
      "[codecarbon INFO @ 15:09:22] 0.03088179441100829745 kWh of electricity used since the beginning.\n"
     ]
    },
    {
     "name": "stdout",
     "output_type": "stream",
     "text": [
      "\u001b[1m782/782\u001b[0m \u001b[32m━━━━━━━━━━━━━━━━━━━━\u001b[0m\u001b[37m\u001b[0m \u001b[1m73s\u001b[0m 93ms/step - accuracy: 0.8300 - loss: 0.4970 - val_accuracy: 0.8389 - val_loss: 0.4840 - learning_rate: 1.0000e-05\n",
      "Epoch 41/100\n",
      "\u001b[1m148/782\u001b[0m \u001b[32m━━━\u001b[0m\u001b[37m━━━━━━━━━━━━━━━━━\u001b[0m \u001b[1m54s\u001b[0m 85ms/step - accuracy: 0.8341 - loss: 0.4891"
     ]
    },
    {
     "name": "stderr",
     "output_type": "stream",
     "text": [
      "[codecarbon INFO @ 15:09:36] Energy consumed for RAM : 0.004780 kWh. RAM Power : 5.883667945861816 W\n",
      "[codecarbon INFO @ 15:09:36] Energy consumed for all CPUs : 0.026422 kWh. Total CPU Power : 32.5 W\n",
      "[codecarbon INFO @ 15:09:36] 0.03120222276495666219 kWh of electricity used since the beginning.\n"
     ]
    },
    {
     "name": "stdout",
     "output_type": "stream",
     "text": [
      "\u001b[1m156/782\u001b[0m \u001b[32m━━━\u001b[0m\u001b[37m━━━━━━━━━━━━━━━━━\u001b[0m \u001b[1m54s\u001b[0m 87ms/step - accuracy: 0.8338 - loss: 0.4900"
     ]
    },
    {
     "name": "stderr",
     "output_type": "stream",
     "text": [
      "[codecarbon INFO @ 15:09:37] Energy consumed for RAM : 0.004754 kWh. RAM Power : 5.883667945861816 W\n",
      "[codecarbon INFO @ 15:09:37] Energy consumed for all CPUs : 0.026288 kWh. Total CPU Power : 32.5 W\n",
      "[codecarbon INFO @ 15:09:37] 0.03104188390813067411 kWh of electricity used since the beginning.\n"
     ]
    },
    {
     "name": "stdout",
     "output_type": "stream",
     "text": [
      "\u001b[1m318/782\u001b[0m \u001b[32m━━━━━━━━\u001b[0m\u001b[37m━━━━━━━━━━━━\u001b[0m \u001b[1m40s\u001b[0m 87ms/step - accuracy: 0.8306 - loss: 0.4969"
     ]
    },
    {
     "name": "stderr",
     "output_type": "stream",
     "text": [
      "[codecarbon INFO @ 15:09:51] Energy consumed for RAM : 0.004805 kWh. RAM Power : 5.883667945861816 W\n",
      "[codecarbon INFO @ 15:09:51] Energy consumed for all CPUs : 0.026557 kWh. Total CPU Power : 32.5 W\n",
      "[codecarbon INFO @ 15:09:51] 0.03136197090327570020 kWh of electricity used since the beginning.\n"
     ]
    },
    {
     "name": "stdout",
     "output_type": "stream",
     "text": [
      "\u001b[1m326/782\u001b[0m \u001b[32m━━━━━━━━\u001b[0m\u001b[37m━━━━━━━━━━━━\u001b[0m \u001b[1m39s\u001b[0m 87ms/step - accuracy: 0.8305 - loss: 0.4971"
     ]
    },
    {
     "name": "stderr",
     "output_type": "stream",
     "text": [
      "[codecarbon INFO @ 15:09:52] Energy consumed for RAM : 0.004779 kWh. RAM Power : 5.883667945861816 W\n",
      "[codecarbon INFO @ 15:09:52] Energy consumed for all CPUs : 0.026423 kWh. Total CPU Power : 32.5 W\n",
      "[codecarbon INFO @ 15:09:52] 0.03120217844076191016 kWh of electricity used since the beginning.\n"
     ]
    },
    {
     "name": "stdout",
     "output_type": "stream",
     "text": [
      "\u001b[1m482/782\u001b[0m \u001b[32m━━━━━━━━━━━━\u001b[0m\u001b[37m━━━━━━━━\u001b[0m \u001b[1m26s\u001b[0m 89ms/step - accuracy: 0.8293 - loss: 0.4984"
     ]
    },
    {
     "name": "stderr",
     "output_type": "stream",
     "text": [
      "[codecarbon INFO @ 15:10:06] Energy consumed for RAM : 0.004829 kWh. RAM Power : 5.883667945861816 W\n",
      "[codecarbon INFO @ 15:10:06] Energy consumed for all CPUs : 0.026693 kWh. Total CPU Power : 32.5 W\n",
      "[codecarbon INFO @ 15:10:06] 0.03152209879572107076 kWh of electricity used since the beginning.\n"
     ]
    },
    {
     "name": "stdout",
     "output_type": "stream",
     "text": [
      "\u001b[1m490/782\u001b[0m \u001b[32m━━━━━━━━━━━━\u001b[0m\u001b[37m━━━━━━━━\u001b[0m \u001b[1m25s\u001b[0m 89ms/step - accuracy: 0.8293 - loss: 0.4984"
     ]
    },
    {
     "name": "stderr",
     "output_type": "stream",
     "text": [
      "[codecarbon INFO @ 15:10:07] Energy consumed for RAM : 0.004803 kWh. RAM Power : 5.883667945861816 W\n",
      "[codecarbon INFO @ 15:10:07] Energy consumed for all CPUs : 0.026559 kWh. Total CPU Power : 32.5 W\n",
      "[codecarbon INFO @ 15:10:07] 0.03136222876469914322 kWh of electricity used since the beginning.\n"
     ]
    },
    {
     "name": "stdout",
     "output_type": "stream",
     "text": [
      "\u001b[1m648/782\u001b[0m \u001b[32m━━━━━━━━━━━━━━━━\u001b[0m\u001b[37m━━━━\u001b[0m \u001b[1m11s\u001b[0m 89ms/step - accuracy: 0.8288 - loss: 0.4985"
     ]
    },
    {
     "name": "stderr",
     "output_type": "stream",
     "text": [
      "[codecarbon INFO @ 15:10:21] Energy consumed for RAM : 0.004854 kWh. RAM Power : 5.883667945861816 W\n",
      "[codecarbon INFO @ 15:10:21] Energy consumed for all CPUs : 0.026828 kWh. Total CPU Power : 32.5 W\n",
      "[codecarbon INFO @ 15:10:21] 0.03168203899197360313 kWh of electricity used since the beginning.\n"
     ]
    },
    {
     "name": "stdout",
     "output_type": "stream",
     "text": [
      "\u001b[1m657/782\u001b[0m \u001b[32m━━━━━━━━━━━━━━━━\u001b[0m\u001b[37m━━━━\u001b[0m \u001b[1m11s\u001b[0m 89ms/step - accuracy: 0.8288 - loss: 0.4985"
     ]
    },
    {
     "name": "stderr",
     "output_type": "stream",
     "text": [
      "[codecarbon INFO @ 15:10:22] Energy consumed for RAM : 0.004828 kWh. RAM Power : 5.883667945861816 W\n",
      "[codecarbon INFO @ 15:10:22] Energy consumed for all CPUs : 0.026695 kWh. Total CPU Power : 32.5 W\n",
      "[codecarbon INFO @ 15:10:22] 0.03152244398797318659 kWh of electricity used since the beginning.\n"
     ]
    },
    {
     "name": "stdout",
     "output_type": "stream",
     "text": [
      "\u001b[1m782/782\u001b[0m \u001b[32m━━━━━━━━━━━━━━━━━━━━\u001b[0m\u001b[37m\u001b[0m \u001b[1m72s\u001b[0m 92ms/step - accuracy: 0.8285 - loss: 0.4987 - val_accuracy: 0.8404 - val_loss: 0.4784 - learning_rate: 1.0000e-05\n",
      "Epoch 42/100\n",
      "\u001b[1m  4/782\u001b[0m \u001b[37m━━━━━━━━━━━━━━━━━━━━\u001b[0m \u001b[1m1:05\u001b[0m 84ms/step - accuracy: 0.8503 - loss: 0.4625"
     ]
    },
    {
     "name": "stderr",
     "output_type": "stream",
     "text": [
      "[codecarbon INFO @ 15:10:36] Energy consumed for RAM : 0.004878 kWh. RAM Power : 5.883667945861816 W\n",
      "[codecarbon INFO @ 15:10:36] Energy consumed for all CPUs : 0.026964 kWh. Total CPU Power : 32.5 W\n",
      "[codecarbon INFO @ 15:10:36] 0.03184196734568766479 kWh of electricity used since the beginning.\n"
     ]
    },
    {
     "name": "stdout",
     "output_type": "stream",
     "text": [
      "\u001b[1m 14/782\u001b[0m \u001b[37m━━━━━━━━━━━━━━━━━━━━\u001b[0m \u001b[1m1:06\u001b[0m 87ms/step - accuracy: 0.8393 - loss: 0.4921"
     ]
    },
    {
     "name": "stderr",
     "output_type": "stream",
     "text": [
      "[codecarbon INFO @ 15:10:37] Energy consumed for RAM : 0.004852 kWh. RAM Power : 5.883667945861816 W\n",
      "[codecarbon INFO @ 15:10:37] Energy consumed for all CPUs : 0.026830 kWh. Total CPU Power : 32.5 W\n",
      "[codecarbon INFO @ 15:10:37] 0.03168224797424493838 kWh of electricity used since the beginning.\n"
     ]
    },
    {
     "name": "stdout",
     "output_type": "stream",
     "text": [
      "\u001b[1m169/782\u001b[0m \u001b[32m━━━━\u001b[0m\u001b[37m━━━━━━━━━━━━━━━━\u001b[0m \u001b[1m55s\u001b[0m 91ms/step - accuracy: 0.8307 - loss: 0.4934"
     ]
    },
    {
     "name": "stderr",
     "output_type": "stream",
     "text": [
      "[codecarbon INFO @ 15:10:51] Energy consumed for RAM : 0.004903 kWh. RAM Power : 5.883667945861816 W\n",
      "[codecarbon INFO @ 15:10:51] Energy consumed for all CPUs : 0.027099 kWh. Total CPU Power : 32.5 W\n",
      "[codecarbon INFO @ 15:10:51] 0.03200193881200192464 kWh of electricity used since the beginning.\n"
     ]
    },
    {
     "name": "stdout",
     "output_type": "stream",
     "text": [
      "\u001b[1m178/782\u001b[0m \u001b[32m━━━━\u001b[0m\u001b[37m━━━━━━━━━━━━━━━━\u001b[0m \u001b[1m54s\u001b[0m 91ms/step - accuracy: 0.8308 - loss: 0.4929"
     ]
    },
    {
     "name": "stderr",
     "output_type": "stream",
     "text": [
      "[codecarbon INFO @ 15:10:52] Energy consumed for RAM : 0.004877 kWh. RAM Power : 5.883667945861816 W\n",
      "[codecarbon INFO @ 15:10:52] Energy consumed for all CPUs : 0.026966 kWh. Total CPU Power : 32.5 W\n",
      "[codecarbon INFO @ 15:10:52] 0.03184246233468519816 kWh of electricity used since the beginning.\n"
     ]
    },
    {
     "name": "stdout",
     "output_type": "stream",
     "text": [
      "\u001b[1m335/782\u001b[0m \u001b[32m━━━━━━━━\u001b[0m\u001b[37m━━━━━━━━━━━━\u001b[0m \u001b[1m40s\u001b[0m 91ms/step - accuracy: 0.8320 - loss: 0.4874"
     ]
    },
    {
     "name": "stderr",
     "output_type": "stream",
     "text": [
      "[codecarbon INFO @ 15:11:06] Energy consumed for RAM : 0.004927 kWh. RAM Power : 5.883667945861816 W\n",
      "[codecarbon INFO @ 15:11:06] Energy consumed for all CPUs : 0.027235 kWh. Total CPU Power : 32.5 W\n",
      "[codecarbon INFO @ 15:11:06] 0.03216187586187470998 kWh of electricity used since the beginning.\n"
     ]
    },
    {
     "name": "stdout",
     "output_type": "stream",
     "text": [
      "\u001b[1m345/782\u001b[0m \u001b[32m━━━━━━━━\u001b[0m\u001b[37m━━━━━━━━━━━━\u001b[0m \u001b[1m39s\u001b[0m 90ms/step - accuracy: 0.8320 - loss: 0.4874"
     ]
    },
    {
     "name": "stderr",
     "output_type": "stream",
     "text": [
      "[codecarbon INFO @ 15:11:07] Energy consumed for RAM : 0.004901 kWh. RAM Power : 5.883667945861816 W\n",
      "[codecarbon INFO @ 15:11:07] Energy consumed for all CPUs : 0.027101 kWh. Total CPU Power : 32.5 W\n",
      "[codecarbon INFO @ 15:11:07] 0.03200226605199537472 kWh of electricity used since the beginning.\n"
     ]
    },
    {
     "name": "stdout",
     "output_type": "stream",
     "text": [
      "\u001b[1m502/782\u001b[0m \u001b[32m━━━━━━━━━━━━\u001b[0m\u001b[37m━━━━━━━━\u001b[0m \u001b[1m25s\u001b[0m 90ms/step - accuracy: 0.8316 - loss: 0.4880"
     ]
    },
    {
     "name": "stderr",
     "output_type": "stream",
     "text": [
      "[codecarbon INFO @ 15:11:21] Energy consumed for RAM : 0.004952 kWh. RAM Power : 5.883667945861816 W\n",
      "[codecarbon INFO @ 15:11:21] Energy consumed for all CPUs : 0.027370 kWh. Total CPU Power : 32.5 W\n",
      "[codecarbon INFO @ 15:11:21] 0.03232198042592539233 kWh of electricity used since the beginning.\n"
     ]
    },
    {
     "name": "stdout",
     "output_type": "stream",
     "text": [
      "\u001b[1m512/782\u001b[0m \u001b[32m━━━━━━━━━━━━━\u001b[0m\u001b[37m━━━━━━━\u001b[0m \u001b[1m24s\u001b[0m 90ms/step - accuracy: 0.8315 - loss: 0.4880"
     ]
    },
    {
     "name": "stderr",
     "output_type": "stream",
     "text": [
      "[codecarbon INFO @ 15:11:22] Energy consumed for RAM : 0.004926 kWh. RAM Power : 5.883667945861816 W\n",
      "[codecarbon INFO @ 15:11:22] Energy consumed for all CPUs : 0.027236 kWh. Total CPU Power : 32.5 W\n",
      "[codecarbon INFO @ 15:11:22] 0.03216216045637616816 kWh of electricity used since the beginning.\n"
     ]
    },
    {
     "name": "stdout",
     "output_type": "stream",
     "text": [
      "\u001b[1m670/782\u001b[0m \u001b[32m━━━━━━━━━━━━━━━━━\u001b[0m\u001b[37m━━━\u001b[0m \u001b[1m10s\u001b[0m 90ms/step - accuracy: 0.8313 - loss: 0.4891"
     ]
    },
    {
     "name": "stderr",
     "output_type": "stream",
     "text": [
      "[codecarbon INFO @ 15:11:36] Energy consumed for RAM : 0.004976 kWh. RAM Power : 5.883667945861816 W\n",
      "[codecarbon INFO @ 15:11:36] Energy consumed for all CPUs : 0.027506 kWh. Total CPU Power : 32.5 W\n",
      "[codecarbon INFO @ 15:11:36] 0.03248206278371195549 kWh of electricity used since the beginning.\n"
     ]
    },
    {
     "name": "stdout",
     "output_type": "stream",
     "text": [
      "\u001b[1m680/782\u001b[0m \u001b[32m━━━━━━━━━━━━━━━━━\u001b[0m\u001b[37m━━━\u001b[0m \u001b[1m9s\u001b[0m 90ms/step - accuracy: 0.8313 - loss: 0.4892"
     ]
    },
    {
     "name": "stderr",
     "output_type": "stream",
     "text": [
      "[codecarbon INFO @ 15:11:37] Energy consumed for RAM : 0.004950 kWh. RAM Power : 5.883667945861816 W\n",
      "[codecarbon INFO @ 15:11:37] Energy consumed for all CPUs : 0.027372 kWh. Total CPU Power : 32.5 W\n",
      "[codecarbon INFO @ 15:11:37] 0.03232227900377332430 kWh of electricity used since the beginning.\n"
     ]
    },
    {
     "name": "stdout",
     "output_type": "stream",
     "text": [
      "\u001b[1m782/782\u001b[0m \u001b[32m━━━━━━━━━━━━━━━━━━━━\u001b[0m\u001b[37m\u001b[0m \u001b[1m73s\u001b[0m 93ms/step - accuracy: 0.8313 - loss: 0.4896 - val_accuracy: 0.8391 - val_loss: 0.4854 - learning_rate: 1.0000e-05\n",
      "Epoch 43/100\n",
      "\u001b[1m 29/782\u001b[0m \u001b[37m━━━━━━━━━━━━━━━━━━━━\u001b[0m \u001b[1m1:00\u001b[0m 81ms/step - accuracy: 0.8221 - loss: 0.4902"
     ]
    },
    {
     "name": "stderr",
     "output_type": "stream",
     "text": [
      "[codecarbon INFO @ 15:11:51] Energy consumed for RAM : 0.005001 kWh. RAM Power : 5.883667945861816 W\n",
      "[codecarbon INFO @ 15:11:51] Energy consumed for all CPUs : 0.027641 kWh. Total CPU Power : 32.5 W\n",
      "[codecarbon INFO @ 15:11:51] 0.03264193757815526259 kWh of electricity used since the beginning.\n"
     ]
    },
    {
     "name": "stdout",
     "output_type": "stream",
     "text": [
      "\u001b[1m 39/782\u001b[0m \u001b[37m━━━━━━━━━━━━━━━━━━━━\u001b[0m \u001b[1m1:00\u001b[0m 81ms/step - accuracy: 0.8204 - loss: 0.4927"
     ]
    },
    {
     "name": "stderr",
     "output_type": "stream",
     "text": [
      "[codecarbon INFO @ 15:11:52] Energy consumed for RAM : 0.004975 kWh. RAM Power : 5.883667945861816 W\n",
      "[codecarbon INFO @ 15:11:52] Energy consumed for all CPUs : 0.027507 kWh. Total CPU Power : 32.5 W\n"
     ]
    },
    {
     "name": "stdout",
     "output_type": "stream",
     "text": [
      "\u001b[1m 40/782\u001b[0m \u001b[32m━\u001b[0m\u001b[37m━━━━━━━━━━━━━━━━━━━\u001b[0m \u001b[1m1:00\u001b[0m 81ms/step - accuracy: 0.8203 - loss: 0.4929"
     ]
    },
    {
     "name": "stderr",
     "output_type": "stream",
     "text": [
      "[codecarbon INFO @ 15:11:52] 0.03248238739713345258 kWh of electricity used since the beginning.\n"
     ]
    },
    {
     "name": "stdout",
     "output_type": "stream",
     "text": [
      "\u001b[1m195/782\u001b[0m \u001b[32m━━━━\u001b[0m\u001b[37m━━━━━━━━━━━━━━━━\u001b[0m \u001b[1m52s\u001b[0m 89ms/step - accuracy: 0.8223 - loss: 0.4944"
     ]
    },
    {
     "name": "stderr",
     "output_type": "stream",
     "text": [
      "[codecarbon INFO @ 15:12:06] Energy consumed for RAM : 0.005025 kWh. RAM Power : 5.883667945861816 W\n",
      "[codecarbon INFO @ 15:12:06] Energy consumed for all CPUs : 0.027777 kWh. Total CPU Power : 32.5 W\n",
      "[codecarbon INFO @ 15:12:06] 0.03280191924992242880 kWh of electricity used since the beginning.\n"
     ]
    },
    {
     "name": "stdout",
     "output_type": "stream",
     "text": [
      "\u001b[1m206/782\u001b[0m \u001b[32m━━━━━\u001b[0m\u001b[37m━━━━━━━━━━━━━━━\u001b[0m \u001b[1m51s\u001b[0m 89ms/step - accuracy: 0.8225 - loss: 0.4943"
     ]
    },
    {
     "name": "stderr",
     "output_type": "stream",
     "text": [
      "[codecarbon INFO @ 15:12:07] Energy consumed for RAM : 0.004999 kWh. RAM Power : 5.883667945861816 W\n",
      "[codecarbon INFO @ 15:12:07] Energy consumed for all CPUs : 0.027643 kWh. Total CPU Power : 32.5 W\n",
      "[codecarbon INFO @ 15:12:07] 0.03264235662963991397 kWh of electricity used since the beginning.\n"
     ]
    },
    {
     "name": "stdout",
     "output_type": "stream",
     "text": [
      "\u001b[1m356/782\u001b[0m \u001b[32m━━━━━━━━━\u001b[0m\u001b[37m━━━━━━━━━━━\u001b[0m \u001b[1m38s\u001b[0m 91ms/step - accuracy: 0.8246 - loss: 0.4925"
     ]
    },
    {
     "name": "stderr",
     "output_type": "stream",
     "text": [
      "[codecarbon INFO @ 15:12:21] Energy consumed for RAM : 0.005050 kWh. RAM Power : 5.883667945861816 W\n",
      "[codecarbon INFO @ 15:12:21] Energy consumed for all CPUs : 0.027912 kWh. Total CPU Power : 32.5 W\n",
      "[codecarbon INFO @ 15:12:21] 0.03296208695657982385 kWh of electricity used since the beginning.\n"
     ]
    },
    {
     "name": "stdout",
     "output_type": "stream",
     "text": [
      "\u001b[1m366/782\u001b[0m \u001b[32m━━━━━━━━━\u001b[0m\u001b[37m━━━━━━━━━━━\u001b[0m \u001b[1m37s\u001b[0m 91ms/step - accuracy: 0.8247 - loss: 0.4925"
     ]
    },
    {
     "name": "stderr",
     "output_type": "stream",
     "text": [
      "[codecarbon INFO @ 15:12:22] Energy consumed for RAM : 0.005024 kWh. RAM Power : 5.883667945861816 W\n",
      "[codecarbon INFO @ 15:12:22] Energy consumed for all CPUs : 0.027778 kWh. Total CPU Power : 32.5 W\n",
      "[codecarbon INFO @ 15:12:22] 0.03280240110869310499 kWh of electricity used since the beginning.\n"
     ]
    },
    {
     "name": "stdout",
     "output_type": "stream",
     "text": [
      "\u001b[1m520/782\u001b[0m \u001b[32m━━━━━━━━━━━━━\u001b[0m\u001b[37m━━━━━━━\u001b[0m \u001b[1m23s\u001b[0m 91ms/step - accuracy: 0.8258 - loss: 0.4914"
     ]
    },
    {
     "name": "stderr",
     "output_type": "stream",
     "text": [
      "[codecarbon INFO @ 15:12:36] Energy consumed for RAM : 0.005074 kWh. RAM Power : 5.883667945861816 W\n",
      "[codecarbon INFO @ 15:12:36] Energy consumed for all CPUs : 0.028048 kWh. Total CPU Power : 32.5 W\n"
     ]
    },
    {
     "name": "stdout",
     "output_type": "stream",
     "text": [
      "\u001b[1m521/782\u001b[0m \u001b[32m━━━━━━━━━━━━━\u001b[0m\u001b[37m━━━━━━━\u001b[0m \u001b[1m23s\u001b[0m 91ms/step - accuracy: 0.8259 - loss: 0.4914"
     ]
    },
    {
     "name": "stderr",
     "output_type": "stream",
     "text": [
      "[codecarbon INFO @ 15:12:36] 0.03312206042549808993 kWh of electricity used since the beginning.\n"
     ]
    },
    {
     "name": "stdout",
     "output_type": "stream",
     "text": [
      "\u001b[1m530/782\u001b[0m \u001b[32m━━━━━━━━━━━━━\u001b[0m\u001b[37m━━━━━━━\u001b[0m \u001b[1m22s\u001b[0m 91ms/step - accuracy: 0.8259 - loss: 0.4914"
     ]
    },
    {
     "name": "stderr",
     "output_type": "stream",
     "text": [
      "[codecarbon INFO @ 15:12:37] Energy consumed for RAM : 0.005048 kWh. RAM Power : 5.883667945861816 W\n",
      "[codecarbon INFO @ 15:12:37] Energy consumed for all CPUs : 0.027914 kWh. Total CPU Power : 32.5 W\n",
      "[codecarbon INFO @ 15:12:37] 0.03296225009053548732 kWh of electricity used since the beginning.\n"
     ]
    },
    {
     "name": "stdout",
     "output_type": "stream",
     "text": [
      "\u001b[1m685/782\u001b[0m \u001b[32m━━━━━━━━━━━━━━━━━\u001b[0m\u001b[37m━━━\u001b[0m \u001b[1m8s\u001b[0m 91ms/step - accuracy: 0.8266 - loss: 0.4914"
     ]
    },
    {
     "name": "stderr",
     "output_type": "stream",
     "text": [
      "[codecarbon INFO @ 15:12:51] Energy consumed for RAM : 0.005099 kWh. RAM Power : 5.883667945861816 W\n",
      "[codecarbon INFO @ 15:12:51] Energy consumed for all CPUs : 0.028183 kWh. Total CPU Power : 32.5 W\n",
      "[codecarbon INFO @ 15:12:51] 0.03328222175018563656 kWh of electricity used since the beginning.\n"
     ]
    },
    {
     "name": "stdout",
     "output_type": "stream",
     "text": [
      "\u001b[1m693/782\u001b[0m \u001b[32m━━━━━━━━━━━━━━━━━\u001b[0m\u001b[37m━━━\u001b[0m \u001b[1m8s\u001b[0m 91ms/step - accuracy: 0.8266 - loss: 0.4914"
     ]
    },
    {
     "name": "stderr",
     "output_type": "stream",
     "text": [
      "[codecarbon INFO @ 15:12:52] Energy consumed for RAM : 0.005073 kWh. RAM Power : 5.883667945861816 W\n",
      "[codecarbon INFO @ 15:12:52] Energy consumed for all CPUs : 0.028049 kWh. Total CPU Power : 32.5 W\n",
      "[codecarbon INFO @ 15:12:52] 0.03312236256243958343 kWh of electricity used since the beginning.\n"
     ]
    },
    {
     "name": "stdout",
     "output_type": "stream",
     "text": [
      "\u001b[1m782/782\u001b[0m \u001b[32m━━━━━━━━━━━━━━━━━━━━\u001b[0m\u001b[37m\u001b[0m \u001b[1m74s\u001b[0m 94ms/step - accuracy: 0.8268 - loss: 0.4917 - val_accuracy: 0.8389 - val_loss: 0.4844 - learning_rate: 1.0000e-05\n",
      "Epoch 44/100\n",
      "\u001b[1m 38/782\u001b[0m \u001b[37m━━━━━━━━━━━━━━━━━━━━\u001b[0m \u001b[1m1:09\u001b[0m 93ms/step - accuracy: 0.8188 - loss: 0.5122"
     ]
    },
    {
     "name": "stderr",
     "output_type": "stream",
     "text": [
      "[codecarbon INFO @ 15:13:06] Energy consumed for RAM : 0.005123 kWh. RAM Power : 5.883667945861816 W\n",
      "[codecarbon INFO @ 15:13:06] Energy consumed for all CPUs : 0.028319 kWh. Total CPU Power : 32.5 W\n",
      "[codecarbon INFO @ 15:13:06] 0.03344209718156859745 kWh of electricity used since the beginning.\n"
     ]
    },
    {
     "name": "stdout",
     "output_type": "stream",
     "text": [
      "\u001b[1m 48/782\u001b[0m \u001b[32m━\u001b[0m\u001b[37m━━━━━━━━━━━━━━━━━━━\u001b[0m \u001b[1m1:06\u001b[0m 91ms/step - accuracy: 0.8181 - loss: 0.5121"
     ]
    },
    {
     "name": "stderr",
     "output_type": "stream",
     "text": [
      "[codecarbon INFO @ 15:13:07] Energy consumed for RAM : 0.005097 kWh. RAM Power : 5.883667945861816 W\n",
      "[codecarbon INFO @ 15:13:07] Energy consumed for all CPUs : 0.028185 kWh. Total CPU Power : 32.5 W\n",
      "[codecarbon INFO @ 15:13:07] 0.03328240913502953507 kWh of electricity used since the beginning.\n"
     ]
    },
    {
     "name": "stdout",
     "output_type": "stream",
     "text": [
      "\u001b[1m210/782\u001b[0m \u001b[32m━━━━━\u001b[0m\u001b[37m━━━━━━━━━━━━━━━\u001b[0m \u001b[1m50s\u001b[0m 89ms/step - accuracy: 0.8200 - loss: 0.5026"
     ]
    },
    {
     "name": "stderr",
     "output_type": "stream",
     "text": [
      "[codecarbon INFO @ 15:13:21] Energy consumed for RAM : 0.005148 kWh. RAM Power : 5.883667945861816 W\n",
      "[codecarbon INFO @ 15:13:21] Energy consumed for all CPUs : 0.028454 kWh. Total CPU Power : 32.5 W\n",
      "[codecarbon INFO @ 15:13:21] 0.03360213775769563260 kWh of electricity used since the beginning.\n"
     ]
    },
    {
     "name": "stdout",
     "output_type": "stream",
     "text": [
      "\u001b[1m219/782\u001b[0m \u001b[32m━━━━━\u001b[0m\u001b[37m━━━━━━━━━━━━━━━\u001b[0m \u001b[1m49s\u001b[0m 89ms/step - accuracy: 0.8202 - loss: 0.5023"
     ]
    },
    {
     "name": "stderr",
     "output_type": "stream",
     "text": [
      "[codecarbon INFO @ 15:13:22] Energy consumed for RAM : 0.005122 kWh. RAM Power : 5.883667945861816 W\n",
      "[codecarbon INFO @ 15:13:22] Energy consumed for all CPUs : 0.028321 kWh. Total CPU Power : 32.5 W\n",
      "[codecarbon INFO @ 15:13:22] 0.03344258334565045759 kWh of electricity used since the beginning.\n"
     ]
    },
    {
     "name": "stdout",
     "output_type": "stream",
     "text": [
      "\u001b[1m379/782\u001b[0m \u001b[32m━━━━━━━━━\u001b[0m\u001b[37m━━━━━━━━━━━\u001b[0m \u001b[1m35s\u001b[0m 89ms/step - accuracy: 0.8230 - loss: 0.4992"
     ]
    },
    {
     "name": "stderr",
     "output_type": "stream",
     "text": [
      "[codecarbon INFO @ 15:13:36] Energy consumed for RAM : 0.005172 kWh. RAM Power : 5.883667945861816 W\n",
      "[codecarbon INFO @ 15:13:36] Energy consumed for all CPUs : 0.028590 kWh. Total CPU Power : 32.5 W\n",
      "[codecarbon INFO @ 15:13:36] 0.03376218190049516676 kWh of electricity used since the beginning.\n"
     ]
    },
    {
     "name": "stdout",
     "output_type": "stream",
     "text": [
      "\u001b[1m387/782\u001b[0m \u001b[32m━━━━━━━━━\u001b[0m\u001b[37m━━━━━━━━━━━\u001b[0m \u001b[1m35s\u001b[0m 89ms/step - accuracy: 0.8231 - loss: 0.4991"
     ]
    },
    {
     "name": "stderr",
     "output_type": "stream",
     "text": [
      "[codecarbon INFO @ 15:13:37] Energy consumed for RAM : 0.005147 kWh. RAM Power : 5.883667945861816 W\n",
      "[codecarbon INFO @ 15:13:37] Energy consumed for all CPUs : 0.028456 kWh. Total CPU Power : 32.5 W\n",
      "[codecarbon INFO @ 15:13:37] 0.03360262932790018114 kWh of electricity used since the beginning.\n"
     ]
    },
    {
     "name": "stdout",
     "output_type": "stream",
     "text": [
      "\u001b[1m548/782\u001b[0m \u001b[32m━━━━━━━━━━━━━━\u001b[0m\u001b[37m━━━━━━\u001b[0m \u001b[1m20s\u001b[0m 89ms/step - accuracy: 0.8248 - loss: 0.4978"
     ]
    },
    {
     "name": "stderr",
     "output_type": "stream",
     "text": [
      "[codecarbon INFO @ 15:13:51] Energy consumed for RAM : 0.005197 kWh. RAM Power : 5.883667945861816 W\n",
      "[codecarbon INFO @ 15:13:51] Energy consumed for all CPUs : 0.028725 kWh. Total CPU Power : 32.5 W\n",
      "[codecarbon INFO @ 15:13:51] 0.03392218216331752828 kWh of electricity used since the beginning.\n"
     ]
    },
    {
     "name": "stdout",
     "output_type": "stream",
     "text": [
      "\u001b[1m556/782\u001b[0m \u001b[32m━━━━━━━━━━━━━━\u001b[0m\u001b[37m━━━━━━\u001b[0m \u001b[1m20s\u001b[0m 89ms/step - accuracy: 0.8248 - loss: 0.4978"
     ]
    },
    {
     "name": "stderr",
     "output_type": "stream",
     "text": [
      "[codecarbon INFO @ 15:13:52] Energy consumed for RAM : 0.005171 kWh. RAM Power : 5.883667945861816 W\n",
      "[codecarbon INFO @ 15:13:52] Energy consumed for all CPUs : 0.028592 kWh. Total CPU Power : 32.5 W\n",
      "[codecarbon INFO @ 15:13:52] 0.03376268267713759125 kWh of electricity used since the beginning.\n"
     ]
    },
    {
     "name": "stdout",
     "output_type": "stream",
     "text": [
      "\u001b[1m716/782\u001b[0m \u001b[32m━━━━━━━━━━━━━━━━━━\u001b[0m\u001b[37m━━\u001b[0m \u001b[1m5s\u001b[0m 89ms/step - accuracy: 0.8254 - loss: 0.4980"
     ]
    },
    {
     "name": "stderr",
     "output_type": "stream",
     "text": [
      "[codecarbon INFO @ 15:14:06] Energy consumed for RAM : 0.005221 kWh. RAM Power : 5.883667945861816 W\n",
      "[codecarbon INFO @ 15:14:06] Energy consumed for all CPUs : 0.028861 kWh. Total CPU Power : 32.5 W\n",
      "[codecarbon INFO @ 15:14:06] 0.03408232743340544602 kWh of electricity used since the beginning.\n"
     ]
    },
    {
     "name": "stdout",
     "output_type": "stream",
     "text": [
      "\u001b[1m726/782\u001b[0m \u001b[32m━━━━━━━━━━━━━━━━━━\u001b[0m\u001b[37m━━\u001b[0m \u001b[1m4s\u001b[0m 89ms/step - accuracy: 0.8255 - loss: 0.4980"
     ]
    },
    {
     "name": "stderr",
     "output_type": "stream",
     "text": [
      "[codecarbon INFO @ 15:14:07] Energy consumed for RAM : 0.005196 kWh. RAM Power : 5.883667945861816 W\n",
      "[codecarbon INFO @ 15:14:07] Energy consumed for all CPUs : 0.028727 kWh. Total CPU Power : 32.5 W\n"
     ]
    },
    {
     "name": "stdout",
     "output_type": "stream",
     "text": [
      "\u001b[1m727/782\u001b[0m \u001b[32m━━━━━━━━━━━━━━━━━━\u001b[0m\u001b[37m━━\u001b[0m \u001b[1m4s\u001b[0m 89ms/step - accuracy: 0.8255 - loss: 0.4980"
     ]
    },
    {
     "name": "stderr",
     "output_type": "stream",
     "text": [
      "[codecarbon INFO @ 15:14:07] 0.03392257509320650150 kWh of electricity used since the beginning.\n"
     ]
    },
    {
     "name": "stdout",
     "output_type": "stream",
     "text": [
      "\u001b[1m782/782\u001b[0m \u001b[32m━━━━━━━━━━━━━━━━━━━━\u001b[0m\u001b[37m\u001b[0m \u001b[1m72s\u001b[0m 92ms/step - accuracy: 0.8256 - loss: 0.4981 - val_accuracy: 0.8399 - val_loss: 0.4798 - learning_rate: 1.0000e-05\n",
      "Epoch 45/100\n",
      "\u001b[1m 74/782\u001b[0m \u001b[32m━\u001b[0m\u001b[37m━━━━━━━━━━━━━━━━━━━\u001b[0m \u001b[1m1:00\u001b[0m 85ms/step - accuracy: 0.8327 - loss: 0.4840"
     ]
    },
    {
     "name": "stderr",
     "output_type": "stream",
     "text": [
      "[codecarbon INFO @ 15:14:21] Energy consumed for RAM : 0.005246 kWh. RAM Power : 5.883667945861816 W\n",
      "[codecarbon INFO @ 15:14:21] Energy consumed for all CPUs : 0.028997 kWh. Total CPU Power : 32.5 W\n",
      "[codecarbon INFO @ 15:14:21] 0.03424239116141302580 kWh of electricity used since the beginning.\n"
     ]
    },
    {
     "name": "stdout",
     "output_type": "stream",
     "text": [
      "\u001b[1m 83/782\u001b[0m \u001b[32m━━\u001b[0m\u001b[37m━━━━━━━━━━━━━━━━━━\u001b[0m \u001b[1m1:00\u001b[0m 87ms/step - accuracy: 0.8325 - loss: 0.4850"
     ]
    },
    {
     "name": "stderr",
     "output_type": "stream",
     "text": [
      "[codecarbon INFO @ 15:14:22] Energy consumed for RAM : 0.005220 kWh. RAM Power : 5.883667945861816 W\n",
      "[codecarbon INFO @ 15:14:22] Energy consumed for all CPUs : 0.028863 kWh. Total CPU Power : 32.5 W\n",
      "[codecarbon INFO @ 15:14:22] 0.03408272602978108107 kWh of electricity used since the beginning.\n"
     ]
    },
    {
     "name": "stdout",
     "output_type": "stream",
     "text": [
      "\u001b[1m241/782\u001b[0m \u001b[32m━━━━━━\u001b[0m\u001b[37m━━━━━━━━━━━━━━\u001b[0m \u001b[1m47s\u001b[0m 89ms/step - accuracy: 0.8320 - loss: 0.4877"
     ]
    },
    {
     "name": "stderr",
     "output_type": "stream",
     "text": [
      "[codecarbon INFO @ 15:14:36] Energy consumed for RAM : 0.005270 kWh. RAM Power : 5.883667945861816 W\n",
      "[codecarbon INFO @ 15:14:36] Energy consumed for all CPUs : 0.029132 kWh. Total CPU Power : 32.5 W\n",
      "[codecarbon INFO @ 15:14:36] 0.03440243266970431646 kWh of electricity used since the beginning.\n"
     ]
    },
    {
     "name": "stdout",
     "output_type": "stream",
     "text": [
      "\u001b[1m251/782\u001b[0m \u001b[32m━━━━━━\u001b[0m\u001b[37m━━━━━━━━━━━━━━\u001b[0m \u001b[1m47s\u001b[0m 89ms/step - accuracy: 0.8320 - loss: 0.4877"
     ]
    },
    {
     "name": "stderr",
     "output_type": "stream",
     "text": [
      "[codecarbon INFO @ 15:14:37] Energy consumed for RAM : 0.005245 kWh. RAM Power : 5.883667945861816 W\n",
      "[codecarbon INFO @ 15:14:37] Energy consumed for all CPUs : 0.028998 kWh. Total CPU Power : 32.5 W\n",
      "[codecarbon INFO @ 15:14:37] 0.03424249188674449718 kWh of electricity used since the beginning.\n"
     ]
    },
    {
     "name": "stdout",
     "output_type": "stream",
     "text": [
      "\u001b[1m408/782\u001b[0m \u001b[32m━━━━━━━━━━\u001b[0m\u001b[37m━━━━━━━━━━\u001b[0m \u001b[1m33s\u001b[0m 89ms/step - accuracy: 0.8321 - loss: 0.4873"
     ]
    },
    {
     "name": "stderr",
     "output_type": "stream",
     "text": [
      "[codecarbon INFO @ 15:14:51] Energy consumed for RAM : 0.005295 kWh. RAM Power : 5.883667945861816 W\n",
      "[codecarbon INFO @ 15:14:51] Energy consumed for all CPUs : 0.029268 kWh. Total CPU Power : 32.5 W\n",
      "[codecarbon INFO @ 15:14:51] 0.03456266686393057175 kWh of electricity used since the beginning.\n"
     ]
    },
    {
     "name": "stdout",
     "output_type": "stream",
     "text": [
      "\u001b[1m418/782\u001b[0m \u001b[32m━━━━━━━━━━\u001b[0m\u001b[37m━━━━━━━━━━\u001b[0m \u001b[1m32s\u001b[0m 89ms/step - accuracy: 0.8321 - loss: 0.4873"
     ]
    },
    {
     "name": "stderr",
     "output_type": "stream",
     "text": [
      "[codecarbon INFO @ 15:14:52] Energy consumed for RAM : 0.005269 kWh. RAM Power : 5.883667945861816 W\n",
      "[codecarbon INFO @ 15:14:52] Energy consumed for all CPUs : 0.029133 kWh. Total CPU Power : 32.5 W\n",
      "[codecarbon INFO @ 15:14:52] 0.03440253435709490770 kWh of electricity used since the beginning.\n"
     ]
    },
    {
     "name": "stdout",
     "output_type": "stream",
     "text": [
      "\u001b[1m576/782\u001b[0m \u001b[32m━━━━━━━━━━━━━━\u001b[0m\u001b[37m━━━━━━\u001b[0m \u001b[1m18s\u001b[0m 89ms/step - accuracy: 0.8315 - loss: 0.4878"
     ]
    },
    {
     "name": "stderr",
     "output_type": "stream",
     "text": [
      "[codecarbon INFO @ 15:15:06] Energy consumed for RAM : 0.005319 kWh. RAM Power : 5.883667945861816 W\n",
      "[codecarbon INFO @ 15:15:06] Energy consumed for all CPUs : 0.029403 kWh. Total CPU Power : 32.5 W\n",
      "[codecarbon INFO @ 15:15:06] 0.03472258118610743738 kWh of electricity used since the beginning.\n"
     ]
    },
    {
     "name": "stdout",
     "output_type": "stream",
     "text": [
      "\u001b[1m585/782\u001b[0m \u001b[32m━━━━━━━━━━━━━━\u001b[0m\u001b[37m━━━━━━\u001b[0m \u001b[1m17s\u001b[0m 89ms/step - accuracy: 0.8315 - loss: 0.4879"
     ]
    },
    {
     "name": "stderr",
     "output_type": "stream",
     "text": [
      "[codecarbon INFO @ 15:15:07] Energy consumed for RAM : 0.005294 kWh. RAM Power : 5.883667945861816 W\n",
      "[codecarbon INFO @ 15:15:07] Energy consumed for all CPUs : 0.029269 kWh. Total CPU Power : 32.5 W\n"
     ]
    },
    {
     "name": "stdout",
     "output_type": "stream",
     "text": [
      "\u001b[1m586/782\u001b[0m \u001b[32m━━━━━━━━━━━━━━\u001b[0m\u001b[37m━━━━━━\u001b[0m \u001b[1m17s\u001b[0m 89ms/step - accuracy: 0.8315 - loss: 0.4879"
     ]
    },
    {
     "name": "stderr",
     "output_type": "stream",
     "text": [
      "[codecarbon INFO @ 15:15:07] 0.03456244307250765091 kWh of electricity used since the beginning.\n"
     ]
    },
    {
     "name": "stdout",
     "output_type": "stream",
     "text": [
      "\u001b[1m742/782\u001b[0m \u001b[32m━━━━━━━━━━━━━━━━━━\u001b[0m\u001b[37m━━\u001b[0m \u001b[1m3s\u001b[0m 90ms/step - accuracy: 0.8309 - loss: 0.4887"
     ]
    },
    {
     "name": "stderr",
     "output_type": "stream",
     "text": [
      "[codecarbon INFO @ 15:15:21] Energy consumed for RAM : 0.005344 kWh. RAM Power : 5.883667945861816 W\n",
      "[codecarbon INFO @ 15:15:21] Energy consumed for all CPUs : 0.029539 kWh. Total CPU Power : 32.5 W\n",
      "[codecarbon INFO @ 15:15:21] 0.03488253072193911453 kWh of electricity used since the beginning.\n"
     ]
    },
    {
     "name": "stdout",
     "output_type": "stream",
     "text": [
      "\u001b[1m752/782\u001b[0m \u001b[32m━━━━━━━━━━━━━━━━━━━\u001b[0m\u001b[37m━\u001b[0m \u001b[1m2s\u001b[0m 89ms/step - accuracy: 0.8309 - loss: 0.4888"
     ]
    },
    {
     "name": "stderr",
     "output_type": "stream",
     "text": [
      "[codecarbon INFO @ 15:15:22] Energy consumed for RAM : 0.005318 kWh. RAM Power : 5.883667945861816 W\n",
      "[codecarbon INFO @ 15:15:22] Energy consumed for all CPUs : 0.029404 kWh. Total CPU Power : 32.5 W\n",
      "[codecarbon INFO @ 15:15:22] 0.03472252686834052804 kWh of electricity used since the beginning.\n"
     ]
    },
    {
     "name": "stdout",
     "output_type": "stream",
     "text": [
      "\u001b[1m782/782\u001b[0m \u001b[32m━━━━━━━━━━━━━━━━━━━━\u001b[0m\u001b[37m\u001b[0m \u001b[1m73s\u001b[0m 93ms/step - accuracy: 0.8308 - loss: 0.4889 - val_accuracy: 0.8407 - val_loss: 0.4762 - learning_rate: 1.0000e-05\n",
      "Epoch 46/100\n",
      "\u001b[1m102/782\u001b[0m \u001b[32m━━\u001b[0m\u001b[37m━━━━━━━━━━━━━━━━━━\u001b[0m \u001b[1m57s\u001b[0m 85ms/step - accuracy: 0.8376 - loss: 0.4835"
     ]
    },
    {
     "name": "stderr",
     "output_type": "stream",
     "text": [
      "[codecarbon INFO @ 15:15:36] Energy consumed for RAM : 0.005368 kWh. RAM Power : 5.883667945861816 W\n",
      "[codecarbon INFO @ 15:15:36] Energy consumed for all CPUs : 0.029674 kWh. Total CPU Power : 32.5 W\n",
      "[codecarbon INFO @ 15:15:36] 0.03504272782207523695 kWh of electricity used since the beginning.\n"
     ]
    },
    {
     "name": "stdout",
     "output_type": "stream",
     "text": [
      "\u001b[1m112/782\u001b[0m \u001b[32m━━\u001b[0m\u001b[37m━━━━━━━━━━━━━━━━━━\u001b[0m \u001b[1m56s\u001b[0m 85ms/step - accuracy: 0.8376 - loss: 0.4829"
     ]
    },
    {
     "name": "stderr",
     "output_type": "stream",
     "text": [
      "[codecarbon INFO @ 15:15:37] Energy consumed for RAM : 0.005343 kWh. RAM Power : 5.883667945861816 W\n",
      "[codecarbon INFO @ 15:15:37] Energy consumed for all CPUs : 0.029540 kWh. Total CPU Power : 32.5 W\n",
      "[codecarbon INFO @ 15:15:37] 0.03488260814848712782 kWh of electricity used since the beginning.\n"
     ]
    },
    {
     "name": "stdout",
     "output_type": "stream",
     "text": [
      "\u001b[1m254/782\u001b[0m \u001b[32m━━━━━━\u001b[0m\u001b[37m━━━━━━━━━━━━━━\u001b[0m \u001b[1m49s\u001b[0m 93ms/step - accuracy: 0.8362 - loss: 0.4812"
     ]
    },
    {
     "name": "stderr",
     "output_type": "stream",
     "text": [
      "[codecarbon INFO @ 15:15:51] Energy consumed for RAM : 0.005393 kWh. RAM Power : 5.883667945861816 W\n",
      "[codecarbon INFO @ 15:15:51] Energy consumed for all CPUs : 0.029810 kWh. Total CPU Power : 32.5 W\n"
     ]
    },
    {
     "name": "stdout",
     "output_type": "stream",
     "text": [
      "\u001b[1m255/782\u001b[0m \u001b[32m━━━━━━\u001b[0m\u001b[37m━━━━━━━━━━━━━━\u001b[0m \u001b[1m49s\u001b[0m 93ms/step - accuracy: 0.8361 - loss: 0.4812"
     ]
    },
    {
     "name": "stderr",
     "output_type": "stream",
     "text": [
      "[codecarbon INFO @ 15:15:51] 0.03520264321095868676 kWh of electricity used since the beginning.\n"
     ]
    },
    {
     "name": "stdout",
     "output_type": "stream",
     "text": [
      "\u001b[1m264/782\u001b[0m \u001b[32m━━━━━━\u001b[0m\u001b[37m━━━━━━━━━━━━━━\u001b[0m \u001b[1m48s\u001b[0m 93ms/step - accuracy: 0.8360 - loss: 0.4813"
     ]
    },
    {
     "name": "stderr",
     "output_type": "stream",
     "text": [
      "[codecarbon INFO @ 15:15:52] Energy consumed for RAM : 0.005367 kWh. RAM Power : 5.883667945861816 W\n",
      "[codecarbon INFO @ 15:15:52] Energy consumed for all CPUs : 0.029675 kWh. Total CPU Power : 32.5 W\n",
      "[codecarbon INFO @ 15:15:52] 0.03504246329493736906 kWh of electricity used since the beginning.\n"
     ]
    },
    {
     "name": "stdout",
     "output_type": "stream",
     "text": [
      "\u001b[1m420/782\u001b[0m \u001b[32m━━━━━━━━━━\u001b[0m\u001b[37m━━━━━━━━━━\u001b[0m \u001b[1m33s\u001b[0m 92ms/step - accuracy: 0.8339 - loss: 0.4849"
     ]
    },
    {
     "name": "stderr",
     "output_type": "stream",
     "text": [
      "[codecarbon INFO @ 15:16:06] Energy consumed for RAM : 0.005417 kWh. RAM Power : 5.883667945861816 W\n",
      "[codecarbon INFO @ 15:16:06] Energy consumed for all CPUs : 0.029945 kWh. Total CPU Power : 32.5 W\n",
      "[codecarbon INFO @ 15:16:06] 0.03536270410352897881 kWh of electricity used since the beginning.\n"
     ]
    },
    {
     "name": "stdout",
     "output_type": "stream",
     "text": [
      "\u001b[1m430/782\u001b[0m \u001b[32m━━━━━━━━━━\u001b[0m\u001b[37m━━━━━━━━━━\u001b[0m \u001b[1m32s\u001b[0m 92ms/step - accuracy: 0.8338 - loss: 0.4851"
     ]
    },
    {
     "name": "stderr",
     "output_type": "stream",
     "text": [
      "[codecarbon INFO @ 15:16:07] Energy consumed for RAM : 0.005392 kWh. RAM Power : 5.883667945861816 W\n",
      "[codecarbon INFO @ 15:16:07] Energy consumed for all CPUs : 0.029811 kWh. Total CPU Power : 32.5 W\n",
      "[codecarbon INFO @ 15:16:07] 0.03520254902999554042 kWh of electricity used since the beginning.\n"
     ]
    },
    {
     "name": "stdout",
     "output_type": "stream",
     "text": [
      "\u001b[1m587/782\u001b[0m \u001b[32m━━━━━━━━━━━━━━━\u001b[0m\u001b[37m━━━━━\u001b[0m \u001b[1m17s\u001b[0m 91ms/step - accuracy: 0.8325 - loss: 0.4871"
     ]
    },
    {
     "name": "stderr",
     "output_type": "stream",
     "text": [
      "[codecarbon INFO @ 15:16:21] Energy consumed for RAM : 0.005442 kWh. RAM Power : 5.883667945861816 W\n",
      "[codecarbon INFO @ 15:16:21] Energy consumed for all CPUs : 0.030081 kWh. Total CPU Power : 32.5 W\n",
      "[codecarbon INFO @ 15:16:21] 0.03552253432324128934 kWh of electricity used since the beginning.\n"
     ]
    },
    {
     "name": "stdout",
     "output_type": "stream",
     "text": [
      "\u001b[1m597/782\u001b[0m \u001b[32m━━━━━━━━━━━━━━━\u001b[0m\u001b[37m━━━━━\u001b[0m \u001b[1m16s\u001b[0m 91ms/step - accuracy: 0.8324 - loss: 0.4872"
     ]
    },
    {
     "name": "stderr",
     "output_type": "stream",
     "text": [
      "[codecarbon INFO @ 15:16:22] Energy consumed for RAM : 0.005416 kWh. RAM Power : 5.883667945861816 W\n",
      "[codecarbon INFO @ 15:16:22] Energy consumed for all CPUs : 0.029946 kWh. Total CPU Power : 32.5 W\n",
      "[codecarbon INFO @ 15:16:22] 0.03536254164903516323 kWh of electricity used since the beginning.\n"
     ]
    },
    {
     "name": "stdout",
     "output_type": "stream",
     "text": [
      "\u001b[1m754/782\u001b[0m \u001b[32m━━━━━━━━━━━━━━━━━━━\u001b[0m\u001b[37m━\u001b[0m \u001b[1m2s\u001b[0m 91ms/step - accuracy: 0.8316 - loss: 0.4882"
     ]
    },
    {
     "name": "stderr",
     "output_type": "stream",
     "text": [
      "[codecarbon INFO @ 15:16:36] Energy consumed for RAM : 0.005466 kWh. RAM Power : 5.883667945861816 W\n",
      "[codecarbon INFO @ 15:16:36] Energy consumed for all CPUs : 0.030216 kWh. Total CPU Power : 32.5 W\n",
      "[codecarbon INFO @ 15:16:36] 0.03568272410003749812 kWh of electricity used since the beginning.\n"
     ]
    },
    {
     "name": "stdout",
     "output_type": "stream",
     "text": [
      "\u001b[1m764/782\u001b[0m \u001b[32m━━━━━━━━━━━━━━━━━━━\u001b[0m\u001b[37m━\u001b[0m \u001b[1m1s\u001b[0m 91ms/step - accuracy: 0.8316 - loss: 0.4882"
     ]
    },
    {
     "name": "stderr",
     "output_type": "stream",
     "text": [
      "[codecarbon INFO @ 15:16:37] Energy consumed for RAM : 0.005441 kWh. RAM Power : 5.883667945861816 W\n",
      "[codecarbon INFO @ 15:16:37] Energy consumed for all CPUs : 0.030082 kWh. Total CPU Power : 32.5 W\n",
      "[codecarbon INFO @ 15:16:37] 0.03552245309646156340 kWh of electricity used since the beginning.\n"
     ]
    },
    {
     "name": "stdout",
     "output_type": "stream",
     "text": [
      "\u001b[1m782/782\u001b[0m \u001b[32m━━━━━━━━━━━━━━━━━━━━\u001b[0m\u001b[37m\u001b[0m \u001b[1m74s\u001b[0m 94ms/step - accuracy: 0.8315 - loss: 0.4883 - val_accuracy: 0.8389 - val_loss: 0.4832 - learning_rate: 1.0000e-05\n",
      "Epoch 47/100\n",
      "\u001b[1m109/782\u001b[0m \u001b[32m━━\u001b[0m\u001b[37m━━━━━━━━━━━━━━━━━━\u001b[0m \u001b[1m1:02\u001b[0m 93ms/step - accuracy: 0.8315 - loss: 0.4970"
     ]
    },
    {
     "name": "stderr",
     "output_type": "stream",
     "text": [
      "[codecarbon INFO @ 15:16:51] Energy consumed for RAM : 0.005491 kWh. RAM Power : 5.883667945861816 W\n",
      "[codecarbon INFO @ 15:16:51] Energy consumed for all CPUs : 0.030352 kWh. Total CPU Power : 32.5 W\n",
      "[codecarbon INFO @ 15:16:51] 0.03584257536259214533 kWh of electricity used since the beginning.\n"
     ]
    },
    {
     "name": "stdout",
     "output_type": "stream",
     "text": [
      "\u001b[1m118/782\u001b[0m \u001b[32m━━━\u001b[0m\u001b[37m━━━━━━━━━━━━━━━━━\u001b[0m \u001b[1m1:02\u001b[0m 94ms/step - accuracy: 0.8314 - loss: 0.4968"
     ]
    },
    {
     "name": "stderr",
     "output_type": "stream",
     "text": [
      "[codecarbon INFO @ 15:16:52] Energy consumed for RAM : 0.005465 kWh. RAM Power : 5.883667945861816 W\n",
      "[codecarbon INFO @ 15:16:52] Energy consumed for all CPUs : 0.030217 kWh. Total CPU Power : 32.5 W\n",
      "[codecarbon INFO @ 15:16:52] 0.03568249831094283397 kWh of electricity used since the beginning.\n"
     ]
    },
    {
     "name": "stdout",
     "output_type": "stream",
     "text": [
      "\u001b[1m278/782\u001b[0m \u001b[32m━━━━━━━\u001b[0m\u001b[37m━━━━━━━━━━━━━\u001b[0m \u001b[1m45s\u001b[0m 90ms/step - accuracy: 0.8303 - loss: 0.4951"
     ]
    },
    {
     "name": "stderr",
     "output_type": "stream",
     "text": [
      "[codecarbon INFO @ 15:17:06] Energy consumed for RAM : 0.005515 kWh. RAM Power : 5.883667945861816 W\n",
      "[codecarbon INFO @ 15:17:06] Energy consumed for all CPUs : 0.030487 kWh. Total CPU Power : 32.5 W\n",
      "[codecarbon INFO @ 15:17:06] 0.03600260499913648243 kWh of electricity used since the beginning.\n"
     ]
    },
    {
     "name": "stdout",
     "output_type": "stream",
     "text": [
      "\u001b[1m287/782\u001b[0m \u001b[32m━━━━━━━\u001b[0m\u001b[37m━━━━━━━━━━━━━\u001b[0m \u001b[1m44s\u001b[0m 91ms/step - accuracy: 0.8302 - loss: 0.4951"
     ]
    },
    {
     "name": "stderr",
     "output_type": "stream",
     "text": [
      "[codecarbon INFO @ 15:17:07] Energy consumed for RAM : 0.005490 kWh. RAM Power : 5.883667945861816 W\n",
      "[codecarbon INFO @ 15:17:07] Energy consumed for all CPUs : 0.030353 kWh. Total CPU Power : 32.5 W\n",
      "[codecarbon INFO @ 15:17:07] 0.03584246571616427762 kWh of electricity used since the beginning.\n"
     ]
    },
    {
     "name": "stdout",
     "output_type": "stream",
     "text": [
      "\u001b[1m446/782\u001b[0m \u001b[32m━━━━━━━━━━━\u001b[0m\u001b[37m━━━━━━━━━\u001b[0m \u001b[1m30s\u001b[0m 90ms/step - accuracy: 0.8295 - loss: 0.4955"
     ]
    },
    {
     "name": "stderr",
     "output_type": "stream",
     "text": [
      "[codecarbon INFO @ 15:17:21] Energy consumed for RAM : 0.005540 kWh. RAM Power : 5.883667945861816 W\n",
      "[codecarbon INFO @ 15:17:21] Energy consumed for all CPUs : 0.030623 kWh. Total CPU Power : 32.5 W\n",
      "[codecarbon INFO @ 15:17:21] 0.03616255772096579890 kWh of electricity used since the beginning.\n"
     ]
    },
    {
     "name": "stdout",
     "output_type": "stream",
     "text": [
      "\u001b[1m455/782\u001b[0m \u001b[32m━━━━━━━━━━━\u001b[0m\u001b[37m━━━━━━━━━\u001b[0m \u001b[1m29s\u001b[0m 90ms/step - accuracy: 0.8295 - loss: 0.4955"
     ]
    },
    {
     "name": "stderr",
     "output_type": "stream",
     "text": [
      "[codecarbon INFO @ 15:17:22] Energy consumed for RAM : 0.005514 kWh. RAM Power : 5.883667945861816 W\n",
      "[codecarbon INFO @ 15:17:22] Energy consumed for all CPUs : 0.030488 kWh. Total CPU Power : 32.5 W\n",
      "[codecarbon INFO @ 15:17:22] 0.03600252838753502382 kWh of electricity used since the beginning.\n"
     ]
    },
    {
     "name": "stdout",
     "output_type": "stream",
     "text": [
      "\u001b[1m614/782\u001b[0m \u001b[32m━━━━━━━━━━━━━━━\u001b[0m\u001b[37m━━━━━\u001b[0m \u001b[1m15s\u001b[0m 90ms/step - accuracy: 0.8293 - loss: 0.4950"
     ]
    },
    {
     "name": "stderr",
     "output_type": "stream",
     "text": [
      "[codecarbon INFO @ 15:17:36] Energy consumed for RAM : 0.005564 kWh. RAM Power : 5.883667945861816 W\n",
      "[codecarbon INFO @ 15:17:36] Energy consumed for all CPUs : 0.030758 kWh. Total CPU Power : 32.5 W\n",
      "[codecarbon INFO @ 15:17:36] 0.03632261911189440390 kWh of electricity used since the beginning.\n"
     ]
    },
    {
     "name": "stdout",
     "output_type": "stream",
     "text": [
      "\u001b[1m623/782\u001b[0m \u001b[32m━━━━━━━━━━━━━━━\u001b[0m\u001b[37m━━━━━\u001b[0m \u001b[1m14s\u001b[0m 90ms/step - accuracy: 0.8293 - loss: 0.4950"
     ]
    },
    {
     "name": "stderr",
     "output_type": "stream",
     "text": [
      "[codecarbon INFO @ 15:17:37] Energy consumed for RAM : 0.005539 kWh. RAM Power : 5.883667945861816 W\n",
      "[codecarbon INFO @ 15:17:37] Energy consumed for all CPUs : 0.030624 kWh. Total CPU Power : 32.5 W\n",
      "[codecarbon INFO @ 15:17:37] 0.03616274336622789937 kWh of electricity used since the beginning.\n"
     ]
    },
    {
     "name": "stdout",
     "output_type": "stream",
     "text": [
      "\u001b[1m782/782\u001b[0m \u001b[32m━━━━━━━━━━━━━━━━━━━━\u001b[0m\u001b[37m\u001b[0m \u001b[1m0s\u001b[0m 90ms/step - accuracy: 0.8291 - loss: 0.4949"
     ]
    },
    {
     "name": "stderr",
     "output_type": "stream",
     "text": [
      "[codecarbon INFO @ 15:17:51] Energy consumed for RAM : 0.005589 kWh. RAM Power : 5.883667945861816 W\n",
      "[codecarbon INFO @ 15:17:51] Energy consumed for all CPUs : 0.030894 kWh. Total CPU Power : 32.5 W\n",
      "[codecarbon INFO @ 15:17:51] 0.03648269700522326076 kWh of electricity used since the beginning.\n",
      "[codecarbon INFO @ 15:17:52] Energy consumed for RAM : 0.005563 kWh. RAM Power : 5.883667945861816 W\n",
      "[codecarbon INFO @ 15:17:52] Energy consumed for all CPUs : 0.030759 kWh. Total CPU Power : 32.5 W\n",
      "[codecarbon INFO @ 15:17:52] 0.03632267664096993504 kWh of electricity used since the beginning.\n"
     ]
    },
    {
     "name": "stdout",
     "output_type": "stream",
     "text": [
      "\u001b[1m782/782\u001b[0m \u001b[32m━━━━━━━━━━━━━━━━━━━━\u001b[0m\u001b[37m\u001b[0m \u001b[1m73s\u001b[0m 93ms/step - accuracy: 0.8291 - loss: 0.4949 - val_accuracy: 0.8421 - val_loss: 0.4738 - learning_rate: 1.0000e-05\n",
      "Epoch 48/100\n",
      "\u001b[1m143/782\u001b[0m \u001b[32m━━━\u001b[0m\u001b[37m━━━━━━━━━━━━━━━━━\u001b[0m \u001b[1m54s\u001b[0m 85ms/step - accuracy: 0.8339 - loss: 0.4694"
     ]
    },
    {
     "name": "stderr",
     "output_type": "stream",
     "text": [
      "[codecarbon INFO @ 15:18:06] Energy consumed for RAM : 0.005614 kWh. RAM Power : 5.883667945861816 W\n",
      "[codecarbon INFO @ 15:18:06] Energy consumed for all CPUs : 0.031029 kWh. Total CPU Power : 32.5 W\n",
      "[codecarbon INFO @ 15:18:06] 0.03664285729650908208 kWh of electricity used since the beginning.\n"
     ]
    },
    {
     "name": "stdout",
     "output_type": "stream",
     "text": [
      "\u001b[1m152/782\u001b[0m \u001b[32m━━━\u001b[0m\u001b[37m━━━━━━━━━━━━━━━━━\u001b[0m \u001b[1m54s\u001b[0m 86ms/step - accuracy: 0.8337 - loss: 0.4704"
     ]
    },
    {
     "name": "stderr",
     "output_type": "stream",
     "text": [
      "[codecarbon INFO @ 15:18:07] Energy consumed for RAM : 0.005588 kWh. RAM Power : 5.883667945861816 W\n",
      "[codecarbon INFO @ 15:18:07] Energy consumed for all CPUs : 0.030895 kWh. Total CPU Power : 32.5 W\n"
     ]
    },
    {
     "name": "stdout",
     "output_type": "stream",
     "text": [
      "\u001b[1m153/782\u001b[0m \u001b[32m━━━\u001b[0m\u001b[37m━━━━━━━━━━━━━━━━━\u001b[0m \u001b[1m53s\u001b[0m 86ms/step - accuracy: 0.8336 - loss: 0.4705"
     ]
    },
    {
     "name": "stderr",
     "output_type": "stream",
     "text": [
      "[codecarbon INFO @ 15:18:07] 0.03648287392567228782 kWh of electricity used since the beginning.\n"
     ]
    },
    {
     "name": "stdout",
     "output_type": "stream",
     "text": [
      "\u001b[1m312/782\u001b[0m \u001b[32m━━━━━━━\u001b[0m\u001b[37m━━━━━━━━━━━━━\u001b[0m \u001b[1m41s\u001b[0m 87ms/step - accuracy: 0.8322 - loss: 0.4782"
     ]
    },
    {
     "name": "stderr",
     "output_type": "stream",
     "text": [
      "[codecarbon INFO @ 15:18:21] Energy consumed for RAM : 0.005638 kWh. RAM Power : 5.883667945861816 W\n",
      "[codecarbon INFO @ 15:18:21] Energy consumed for all CPUs : 0.031165 kWh. Total CPU Power : 32.5 W\n",
      "[codecarbon INFO @ 15:18:21] 0.03680275253941481250 kWh of electricity used since the beginning.\n"
     ]
    },
    {
     "name": "stdout",
     "output_type": "stream",
     "text": [
      "\u001b[1m320/782\u001b[0m \u001b[32m━━━━━━━━\u001b[0m\u001b[37m━━━━━━━━━━━━\u001b[0m \u001b[1m40s\u001b[0m 88ms/step - accuracy: 0.8323 - loss: 0.4784"
     ]
    },
    {
     "name": "stderr",
     "output_type": "stream",
     "text": [
      "[codecarbon INFO @ 15:18:22] Energy consumed for RAM : 0.005612 kWh. RAM Power : 5.883667945861816 W\n",
      "[codecarbon INFO @ 15:18:22] Energy consumed for all CPUs : 0.031031 kWh. Total CPU Power : 32.5 W\n",
      "[codecarbon INFO @ 15:18:22] 0.03664322132452399461 kWh of electricity used since the beginning.\n"
     ]
    },
    {
     "name": "stdout",
     "output_type": "stream",
     "text": [
      "\u001b[1m471/782\u001b[0m \u001b[32m━━━━━━━━━━━━\u001b[0m\u001b[37m━━━━━━━━\u001b[0m \u001b[1m27s\u001b[0m 90ms/step - accuracy: 0.8326 - loss: 0.4801"
     ]
    },
    {
     "name": "stderr",
     "output_type": "stream",
     "text": [
      "[codecarbon INFO @ 15:18:36] Energy consumed for RAM : 0.005663 kWh. RAM Power : 5.883667945861816 W\n",
      "[codecarbon INFO @ 15:18:36] Energy consumed for all CPUs : 0.031300 kWh. Total CPU Power : 32.5 W\n",
      "[codecarbon INFO @ 15:18:36] 0.03696269758013642076 kWh of electricity used since the beginning.\n"
     ]
    },
    {
     "name": "stdout",
     "output_type": "stream",
     "text": [
      "\u001b[1m481/782\u001b[0m \u001b[32m━━━━━━━━━━━━\u001b[0m\u001b[37m━━━━━━━━\u001b[0m \u001b[1m27s\u001b[0m 90ms/step - accuracy: 0.8326 - loss: 0.4803"
     ]
    },
    {
     "name": "stderr",
     "output_type": "stream",
     "text": [
      "[codecarbon INFO @ 15:18:37] Energy consumed for RAM : 0.005637 kWh. RAM Power : 5.883667945861816 W\n",
      "[codecarbon INFO @ 15:18:37] Energy consumed for all CPUs : 0.031166 kWh. Total CPU Power : 32.5 W\n",
      "[codecarbon INFO @ 15:18:37] 0.03680312796873768527 kWh of electricity used since the beginning.\n"
     ]
    },
    {
     "name": "stdout",
     "output_type": "stream",
     "text": [
      "\u001b[1m639/782\u001b[0m \u001b[32m━━━━━━━━━━━━━━━━\u001b[0m\u001b[37m━━━━\u001b[0m \u001b[1m12s\u001b[0m 90ms/step - accuracy: 0.8322 - loss: 0.4822"
     ]
    },
    {
     "name": "stderr",
     "output_type": "stream",
     "text": [
      "[codecarbon INFO @ 15:18:51] Energy consumed for RAM : 0.005687 kWh. RAM Power : 5.883667945861816 W\n",
      "[codecarbon INFO @ 15:18:51] Energy consumed for all CPUs : 0.031436 kWh. Total CPU Power : 32.5 W\n",
      "[codecarbon INFO @ 15:18:51] 0.03712262678633054119 kWh of electricity used since the beginning.\n"
     ]
    },
    {
     "name": "stdout",
     "output_type": "stream",
     "text": [
      "\u001b[1m649/782\u001b[0m \u001b[32m━━━━━━━━━━━━━━━━\u001b[0m\u001b[37m━━━━\u001b[0m \u001b[1m11s\u001b[0m 90ms/step - accuracy: 0.8322 - loss: 0.4824"
     ]
    },
    {
     "name": "stderr",
     "output_type": "stream",
     "text": [
      "[codecarbon INFO @ 15:18:52] Energy consumed for RAM : 0.005661 kWh. RAM Power : 5.883667945861816 W\n",
      "[codecarbon INFO @ 15:18:52] Energy consumed for all CPUs : 0.031302 kWh. Total CPU Power : 32.5 W\n",
      "[codecarbon INFO @ 15:18:52] 0.03696334366265376786 kWh of electricity used since the beginning.\n"
     ]
    },
    {
     "name": "stdout",
     "output_type": "stream",
     "text": [
      "\u001b[1m782/782\u001b[0m \u001b[32m━━━━━━━━━━━━━━━━━━━━\u001b[0m\u001b[37m\u001b[0m \u001b[1m0s\u001b[0m 90ms/step - accuracy: 0.8318 - loss: 0.4839"
     ]
    },
    {
     "name": "stderr",
     "output_type": "stream",
     "text": [
      "[codecarbon INFO @ 15:19:06] Energy consumed for RAM : 0.005712 kWh. RAM Power : 5.883667945861816 W\n",
      "[codecarbon INFO @ 15:19:06] Energy consumed for all CPUs : 0.031571 kWh. Total CPU Power : 32.5 W\n",
      "[codecarbon INFO @ 15:19:06] 0.03728256178331791626 kWh of electricity used since the beginning.\n"
     ]
    },
    {
     "name": "stdout",
     "output_type": "stream",
     "text": [
      "\u001b[1m782/782\u001b[0m \u001b[32m━━━━━━━━━━━━━━━━━━━━\u001b[0m\u001b[37m\u001b[0m \u001b[1m73s\u001b[0m 93ms/step - accuracy: 0.8318 - loss: 0.4840 - val_accuracy: 0.8404 - val_loss: 0.4798 - learning_rate: 1.0000e-05\n",
      "Epoch 49/100\n",
      "\u001b[1m  2/782\u001b[0m \u001b[37m━━━━━━━━━━━━━━━━━━━━\u001b[0m \u001b[1m1:11\u001b[0m 91ms/step - accuracy: 0.8008 - loss: 0.6121 "
     ]
    },
    {
     "name": "stderr",
     "output_type": "stream",
     "text": [
      "[codecarbon INFO @ 15:19:07] Energy consumed for RAM : 0.005686 kWh. RAM Power : 5.883667945861816 W\n",
      "[codecarbon INFO @ 15:19:07] Energy consumed for all CPUs : 0.031437 kWh. Total CPU Power : 32.5 W\n",
      "[codecarbon INFO @ 15:19:07] 0.03712321213028318967 kWh of electricity used since the beginning.\n"
     ]
    },
    {
     "name": "stdout",
     "output_type": "stream",
     "text": [
      "\u001b[1m154/782\u001b[0m \u001b[32m━━━\u001b[0m\u001b[37m━━━━━━━━━━━━━━━━━\u001b[0m \u001b[1m58s\u001b[0m 93ms/step - accuracy: 0.8200 - loss: 0.5200"
     ]
    },
    {
     "name": "stderr",
     "output_type": "stream",
     "text": [
      "[codecarbon INFO @ 15:19:21] Energy consumed for RAM : 0.005736 kWh. RAM Power : 5.883667945861816 W\n",
      "[codecarbon INFO @ 15:19:22] Energy consumed for all CPUs : 0.031707 kWh. Total CPU Power : 32.5 W\n",
      "[codecarbon INFO @ 15:19:22] 0.03744267287318396586 kWh of electricity used since the beginning.\n"
     ]
    },
    {
     "name": "stdout",
     "output_type": "stream",
     "text": [
      "\u001b[1m164/782\u001b[0m \u001b[32m━━━━\u001b[0m\u001b[37m━━━━━━━━━━━━━━━━\u001b[0m \u001b[1m57s\u001b[0m 93ms/step - accuracy: 0.8205 - loss: 0.5185"
     ]
    },
    {
     "name": "stderr",
     "output_type": "stream",
     "text": [
      "[codecarbon INFO @ 15:19:22] Energy consumed for RAM : 0.005710 kWh. RAM Power : 5.883667945861816 W\n",
      "[codecarbon INFO @ 15:19:22] Energy consumed for all CPUs : 0.031573 kWh. Total CPU Power : 32.5 W\n",
      "[codecarbon INFO @ 15:19:22] 0.03728319921716823082 kWh of electricity used since the beginning.\n"
     ]
    },
    {
     "name": "stdout",
     "output_type": "stream",
     "text": [
      "\u001b[1m321/782\u001b[0m \u001b[32m━━━━━━━━\u001b[0m\u001b[37m━━━━━━━━━━━━\u001b[0m \u001b[1m42s\u001b[0m 91ms/step - accuracy: 0.8242 - loss: 0.5070"
     ]
    },
    {
     "name": "stderr",
     "output_type": "stream",
     "text": [
      "[codecarbon INFO @ 15:19:37] Energy consumed for RAM : 0.005761 kWh. RAM Power : 5.883667945861816 W\n",
      "[codecarbon INFO @ 15:19:37] Energy consumed for all CPUs : 0.031842 kWh. Total CPU Power : 32.5 W\n",
      "[codecarbon INFO @ 15:19:37] 0.03760245007829093877 kWh of electricity used since the beginning.\n"
     ]
    },
    {
     "name": "stdout",
     "output_type": "stream",
     "text": [
      "\u001b[1m331/782\u001b[0m \u001b[32m━━━━━━━━\u001b[0m\u001b[37m━━━━━━━━━━━━\u001b[0m \u001b[1m41s\u001b[0m 91ms/step - accuracy: 0.8243 - loss: 0.5067"
     ]
    },
    {
     "name": "stderr",
     "output_type": "stream",
     "text": [
      "[codecarbon INFO @ 15:19:37] Energy consumed for RAM : 0.005735 kWh. RAM Power : 5.883667945861816 W\n",
      "[codecarbon INFO @ 15:19:37] Energy consumed for all CPUs : 0.031708 kWh. Total CPU Power : 32.5 W\n",
      "[codecarbon INFO @ 15:19:37] 0.03744335227123873899 kWh of electricity used since the beginning.\n"
     ]
    },
    {
     "name": "stdout",
     "output_type": "stream",
     "text": [
      "\u001b[1m487/782\u001b[0m \u001b[32m━━━━━━━━━━━━\u001b[0m\u001b[37m━━━━━━━━\u001b[0m \u001b[1m26s\u001b[0m 91ms/step - accuracy: 0.8252 - loss: 0.5032"
     ]
    },
    {
     "name": "stderr",
     "output_type": "stream",
     "text": [
      "[codecarbon INFO @ 15:19:52] Energy consumed for RAM : 0.005785 kWh. RAM Power : 5.883667945861816 W\n",
      "[codecarbon INFO @ 15:19:52] Energy consumed for all CPUs : 0.031977 kWh. Total CPU Power : 32.5 W\n",
      "[codecarbon INFO @ 15:19:52] 0.03776258035412741187 kWh of electricity used since the beginning.\n"
     ]
    },
    {
     "name": "stdout",
     "output_type": "stream",
     "text": [
      "\u001b[1m498/782\u001b[0m \u001b[32m━━━━━━━━━━━━\u001b[0m\u001b[37m━━━━━━━━\u001b[0m \u001b[1m25s\u001b[0m 91ms/step - accuracy: 0.8253 - loss: 0.5030"
     ]
    },
    {
     "name": "stderr",
     "output_type": "stream",
     "text": [
      "[codecarbon INFO @ 15:19:52] Energy consumed for RAM : 0.005759 kWh. RAM Power : 5.883667945861816 W\n",
      "[codecarbon INFO @ 15:19:52] Energy consumed for all CPUs : 0.031844 kWh. Total CPU Power : 32.5 W\n",
      "[codecarbon INFO @ 15:19:52] 0.03760320058158812123 kWh of electricity used since the beginning.\n"
     ]
    },
    {
     "name": "stdout",
     "output_type": "stream",
     "text": [
      "\u001b[1m654/782\u001b[0m \u001b[32m━━━━━━━━━━━━━━━━\u001b[0m\u001b[37m━━━━\u001b[0m \u001b[1m11s\u001b[0m 91ms/step - accuracy: 0.8259 - loss: 0.5011"
     ]
    },
    {
     "name": "stderr",
     "output_type": "stream",
     "text": [
      "[codecarbon INFO @ 15:20:07] Energy consumed for RAM : 0.005810 kWh. RAM Power : 5.883667945861816 W\n",
      "[codecarbon INFO @ 15:20:07] Energy consumed for all CPUs : 0.032113 kWh. Total CPU Power : 32.5 W\n",
      "[codecarbon INFO @ 15:20:07] 0.03792243524721918002 kWh of electricity used since the beginning.\n"
     ]
    },
    {
     "name": "stdout",
     "output_type": "stream",
     "text": [
      "\u001b[1m664/782\u001b[0m \u001b[32m━━━━━━━━━━━━━━━━\u001b[0m\u001b[37m━━━━\u001b[0m \u001b[1m10s\u001b[0m 91ms/step - accuracy: 0.8259 - loss: 0.5010"
     ]
    },
    {
     "name": "stderr",
     "output_type": "stream",
     "text": [
      "[codecarbon INFO @ 15:20:07] Energy consumed for RAM : 0.005784 kWh. RAM Power : 5.883667945861816 W\n",
      "[codecarbon INFO @ 15:20:07] Energy consumed for all CPUs : 0.031979 kWh. Total CPU Power : 32.5 W\n",
      "[codecarbon INFO @ 15:20:07] 0.03776334288302914122 kWh of electricity used since the beginning.\n"
     ]
    },
    {
     "name": "stdout",
     "output_type": "stream",
     "text": [
      "\u001b[1m782/782\u001b[0m \u001b[32m━━━━━━━━━━━━━━━━━━━━\u001b[0m\u001b[37m\u001b[0m \u001b[1m73s\u001b[0m 94ms/step - accuracy: 0.8264 - loss: 0.4999 - val_accuracy: 0.8417 - val_loss: 0.4783 - learning_rate: 1.0000e-05\n",
      "Epoch 50/100\n",
      "\u001b[1m 11/782\u001b[0m \u001b[37m━━━━━━━━━━━━━━━━━━━━\u001b[0m \u001b[1m1:04\u001b[0m 84ms/step - accuracy: 0.7992 - loss: 0.5760"
     ]
    },
    {
     "name": "stderr",
     "output_type": "stream",
     "text": [
      "[codecarbon INFO @ 15:20:22] Energy consumed for RAM : 0.005834 kWh. RAM Power : 5.883667945861816 W\n",
      "[codecarbon INFO @ 15:20:22] Energy consumed for all CPUs : 0.032248 kWh. Total CPU Power : 32.5 W\n",
      "[codecarbon INFO @ 15:20:22] 0.03808242290630547977 kWh of electricity used since the beginning.\n"
     ]
    },
    {
     "name": "stdout",
     "output_type": "stream",
     "text": [
      "\u001b[1m 22/782\u001b[0m \u001b[37m━━━━━━━━━━━━━━━━━━━━\u001b[0m \u001b[1m1:04\u001b[0m 84ms/step - accuracy: 0.8100 - loss: 0.5403"
     ]
    },
    {
     "name": "stderr",
     "output_type": "stream",
     "text": [
      "[codecarbon INFO @ 15:20:22] Energy consumed for RAM : 0.005808 kWh. RAM Power : 5.883667945861816 W\n",
      "[codecarbon INFO @ 15:20:22] Energy consumed for all CPUs : 0.032115 kWh. Total CPU Power : 32.5 W\n",
      "[codecarbon INFO @ 15:20:22] 0.03792339908872438548 kWh of electricity used since the beginning.\n"
     ]
    },
    {
     "name": "stdout",
     "output_type": "stream",
     "text": [
      "\u001b[1m178/782\u001b[0m \u001b[32m━━━━\u001b[0m\u001b[37m━━━━━━━━━━━━━━━━\u001b[0m \u001b[1m54s\u001b[0m 90ms/step - accuracy: 0.8290 - loss: 0.4907"
     ]
    },
    {
     "name": "stderr",
     "output_type": "stream",
     "text": [
      "[codecarbon INFO @ 15:20:37] Energy consumed for RAM : 0.005859 kWh. RAM Power : 5.883667945861816 W\n",
      "[codecarbon INFO @ 15:20:37] Energy consumed for all CPUs : 0.032384 kWh. Total CPU Power : 32.5 W\n",
      "[codecarbon INFO @ 15:20:37] 0.03824232737306244162 kWh of electricity used since the beginning.\n"
     ]
    },
    {
     "name": "stdout",
     "output_type": "stream",
     "text": [
      "\u001b[1m189/782\u001b[0m \u001b[32m━━━━\u001b[0m\u001b[37m━━━━━━━━━━━━━━━━\u001b[0m \u001b[1m52s\u001b[0m 89ms/step - accuracy: 0.8292 - loss: 0.4902"
     ]
    },
    {
     "name": "stderr",
     "output_type": "stream",
     "text": [
      "[codecarbon INFO @ 15:20:37] Energy consumed for RAM : 0.005833 kWh. RAM Power : 5.883667945861816 W\n",
      "[codecarbon INFO @ 15:20:37] Energy consumed for all CPUs : 0.032250 kWh. Total CPU Power : 32.5 W\n"
     ]
    },
    {
     "name": "stdout",
     "output_type": "stream",
     "text": [
      "\u001b[1m190/782\u001b[0m \u001b[32m━━━━\u001b[0m\u001b[37m━━━━━━━━━━━━━━━━\u001b[0m \u001b[1m52s\u001b[0m 89ms/step - accuracy: 0.8292 - loss: 0.4902"
     ]
    },
    {
     "name": "stderr",
     "output_type": "stream",
     "text": [
      "[codecarbon INFO @ 15:20:37] 0.03808342392187009234 kWh of electricity used since the beginning.\n"
     ]
    },
    {
     "name": "stdout",
     "output_type": "stream",
     "text": [
      "\u001b[1m342/782\u001b[0m \u001b[32m━━━━━━━━\u001b[0m\u001b[37m━━━━━━━━━━━━\u001b[0m \u001b[1m39s\u001b[0m 90ms/step - accuracy: 0.8314 - loss: 0.4856"
     ]
    },
    {
     "name": "stderr",
     "output_type": "stream",
     "text": [
      "[codecarbon INFO @ 15:20:52] Energy consumed for RAM : 0.005883 kWh. RAM Power : 5.883667945861816 W\n",
      "[codecarbon INFO @ 15:20:52] Energy consumed for all CPUs : 0.032519 kWh. Total CPU Power : 32.5 W\n"
     ]
    },
    {
     "name": "stdout",
     "output_type": "stream",
     "text": [
      "\u001b[1m343/782\u001b[0m \u001b[32m━━━━━━━━\u001b[0m\u001b[37m━━━━━━━━━━━━\u001b[0m \u001b[1m39s\u001b[0m 90ms/step - accuracy: 0.8314 - loss: 0.4856"
     ]
    },
    {
     "name": "stderr",
     "output_type": "stream",
     "text": [
      "[codecarbon INFO @ 15:20:52] 0.03840240958807328298 kWh of electricity used since the beginning.\n"
     ]
    },
    {
     "name": "stdout",
     "output_type": "stream",
     "text": [
      "\u001b[1m352/782\u001b[0m \u001b[32m━━━━━━━━━\u001b[0m\u001b[37m━━━━━━━━━━━\u001b[0m \u001b[1m38s\u001b[0m 91ms/step - accuracy: 0.8314 - loss: 0.4855"
     ]
    },
    {
     "name": "stderr",
     "output_type": "stream",
     "text": [
      "[codecarbon INFO @ 15:20:52] Energy consumed for RAM : 0.005857 kWh. RAM Power : 5.883667945861816 W\n",
      "[codecarbon INFO @ 15:20:52] Energy consumed for all CPUs : 0.032386 kWh. Total CPU Power : 32.5 W\n",
      "[codecarbon INFO @ 15:20:52] 0.03824332067887556419 kWh of electricity used since the beginning.\n"
     ]
    },
    {
     "name": "stdout",
     "output_type": "stream",
     "text": [
      "\u001b[1m510/782\u001b[0m \u001b[32m━━━━━━━━━━━━━\u001b[0m\u001b[37m━━━━━━━\u001b[0m \u001b[1m24s\u001b[0m 90ms/step - accuracy: 0.8316 - loss: 0.4860"
     ]
    },
    {
     "name": "stderr",
     "output_type": "stream",
     "text": [
      "[codecarbon INFO @ 15:21:07] Energy consumed for RAM : 0.005908 kWh. RAM Power : 5.883667945861816 W\n",
      "[codecarbon INFO @ 15:21:07] Energy consumed for all CPUs : 0.032655 kWh. Total CPU Power : 32.5 W\n",
      "[codecarbon INFO @ 15:21:07] 0.03856243671462439987 kWh of electricity used since the beginning.\n"
     ]
    },
    {
     "name": "stdout",
     "output_type": "stream",
     "text": [
      "\u001b[1m519/782\u001b[0m \u001b[32m━━━━━━━━━━━━━\u001b[0m\u001b[37m━━━━━━━\u001b[0m \u001b[1m23s\u001b[0m 90ms/step - accuracy: 0.8316 - loss: 0.4861"
     ]
    },
    {
     "name": "stderr",
     "output_type": "stream",
     "text": [
      "[codecarbon INFO @ 15:21:07] Energy consumed for RAM : 0.005882 kWh. RAM Power : 5.883667945861816 W\n",
      "[codecarbon INFO @ 15:21:08] Energy consumed for all CPUs : 0.032521 kWh. Total CPU Power : 32.5 W\n",
      "[codecarbon INFO @ 15:21:08] 0.03840333620787717006 kWh of electricity used since the beginning.\n"
     ]
    },
    {
     "name": "stdout",
     "output_type": "stream",
     "text": [
      "\u001b[1m677/782\u001b[0m \u001b[32m━━━━━━━━━━━━━━━━━\u001b[0m\u001b[37m━━━\u001b[0m \u001b[1m9s\u001b[0m 90ms/step - accuracy: 0.8311 - loss: 0.4878"
     ]
    },
    {
     "name": "stderr",
     "output_type": "stream",
     "text": [
      "[codecarbon INFO @ 15:21:22] Energy consumed for RAM : 0.005932 kWh. RAM Power : 5.883667945861816 W\n",
      "[codecarbon INFO @ 15:21:22] Energy consumed for all CPUs : 0.032790 kWh. Total CPU Power : 32.5 W\n",
      "[codecarbon INFO @ 15:21:22] 0.03872237178922057627 kWh of electricity used since the beginning.\n"
     ]
    },
    {
     "name": "stdout",
     "output_type": "stream",
     "text": [
      "\u001b[1m687/782\u001b[0m \u001b[32m━━━━━━━━━━━━━━━━━\u001b[0m\u001b[37m━━━\u001b[0m \u001b[1m8s\u001b[0m 90ms/step - accuracy: 0.8311 - loss: 0.4879"
     ]
    },
    {
     "name": "stderr",
     "output_type": "stream",
     "text": [
      "[codecarbon INFO @ 15:21:22] Energy consumed for RAM : 0.005906 kWh. RAM Power : 5.883667945861816 W\n",
      "[codecarbon INFO @ 15:21:23] Energy consumed for all CPUs : 0.032657 kWh. Total CPU Power : 32.5 W\n",
      "[codecarbon INFO @ 15:21:23] 0.03856325988451542869 kWh of electricity used since the beginning.\n"
     ]
    },
    {
     "name": "stdout",
     "output_type": "stream",
     "text": [
      "\u001b[1m782/782\u001b[0m \u001b[32m━━━━━━━━━━━━━━━━━━━━\u001b[0m\u001b[37m\u001b[0m \u001b[1m73s\u001b[0m 93ms/step - accuracy: 0.8308 - loss: 0.4888 - val_accuracy: 0.8409 - val_loss: 0.4794 - learning_rate: 1.0000e-05\n",
      "Epoch 51/100\n",
      "\u001b[1m 32/782\u001b[0m \u001b[37m━━━━━━━━━━━━━━━━━━━━\u001b[0m \u001b[1m1:13\u001b[0m 98ms/step - accuracy: 0.8351 - loss: 0.4599"
     ]
    },
    {
     "name": "stderr",
     "output_type": "stream",
     "text": [
      "[codecarbon INFO @ 15:21:37] Energy consumed for RAM : 0.005957 kWh. RAM Power : 5.883667945861816 W\n",
      "[codecarbon INFO @ 15:21:37] Energy consumed for all CPUs : 0.032926 kWh. Total CPU Power : 32.5 W\n",
      "[codecarbon INFO @ 15:21:37] 0.03888249857386927993 kWh of electricity used since the beginning.\n"
     ]
    },
    {
     "name": "stdout",
     "output_type": "stream",
     "text": [
      "\u001b[1m 41/782\u001b[0m \u001b[32m━\u001b[0m\u001b[37m━━━━━━━━━━━━━━━━━━━\u001b[0m \u001b[1m1:13\u001b[0m 99ms/step - accuracy: 0.8334 - loss: 0.4664"
     ]
    },
    {
     "name": "stderr",
     "output_type": "stream",
     "text": [
      "[codecarbon INFO @ 15:21:38] Energy consumed for RAM : 0.005931 kWh. RAM Power : 5.883667945861816 W\n",
      "[codecarbon INFO @ 15:21:38] Energy consumed for all CPUs : 0.032792 kWh. Total CPU Power : 32.5 W\n",
      "[codecarbon INFO @ 15:21:38] 0.03872345204687836773 kWh of electricity used since the beginning.\n"
     ]
    },
    {
     "name": "stdout",
     "output_type": "stream",
     "text": [
      "\u001b[1m205/782\u001b[0m \u001b[32m━━━━━\u001b[0m\u001b[37m━━━━━━━━━━━━━━━\u001b[0m \u001b[1m51s\u001b[0m 89ms/step - accuracy: 0.8336 - loss: 0.4854"
     ]
    },
    {
     "name": "stderr",
     "output_type": "stream",
     "text": [
      "[codecarbon INFO @ 15:21:52] Energy consumed for RAM : 0.005981 kWh. RAM Power : 5.883667945861816 W\n",
      "[codecarbon INFO @ 15:21:52] Energy consumed for all CPUs : 0.033062 kWh. Total CPU Power : 32.5 W\n",
      "[codecarbon INFO @ 15:21:52] 0.03904270668935723443 kWh of electricity used since the beginning.\n"
     ]
    },
    {
     "name": "stdout",
     "output_type": "stream",
     "text": [
      "\u001b[1m213/782\u001b[0m \u001b[32m━━━━━\u001b[0m\u001b[37m━━━━━━━━━━━━━━━\u001b[0m \u001b[1m50s\u001b[0m 90ms/step - accuracy: 0.8336 - loss: 0.4858"
     ]
    },
    {
     "name": "stderr",
     "output_type": "stream",
     "text": [
      "[codecarbon INFO @ 15:21:53] Energy consumed for RAM : 0.005956 kWh. RAM Power : 5.883667945861816 W\n",
      "[codecarbon INFO @ 15:21:53] Energy consumed for all CPUs : 0.032928 kWh. Total CPU Power : 32.5 W\n",
      "[codecarbon INFO @ 15:21:53] 0.03888361364117609575 kWh of electricity used since the beginning.\n"
     ]
    },
    {
     "name": "stdout",
     "output_type": "stream",
     "text": [
      "\u001b[1m373/782\u001b[0m \u001b[32m━━━━━━━━━\u001b[0m\u001b[37m━━━━━━━━━━━\u001b[0m \u001b[1m36s\u001b[0m 89ms/step - accuracy: 0.8328 - loss: 0.4881"
     ]
    },
    {
     "name": "stderr",
     "output_type": "stream",
     "text": [
      "[codecarbon INFO @ 15:22:07] Energy consumed for RAM : 0.006006 kWh. RAM Power : 5.883667945861816 W\n",
      "[codecarbon INFO @ 15:22:07] Energy consumed for all CPUs : 0.033197 kWh. Total CPU Power : 32.5 W\n",
      "[codecarbon INFO @ 15:22:07] 0.03920255782784132920 kWh of electricity used since the beginning.\n"
     ]
    },
    {
     "name": "stdout",
     "output_type": "stream",
     "text": [
      "\u001b[1m382/782\u001b[0m \u001b[32m━━━━━━━━━\u001b[0m\u001b[37m━━━━━━━━━━━\u001b[0m \u001b[1m35s\u001b[0m 89ms/step - accuracy: 0.8328 - loss: 0.4882"
     ]
    },
    {
     "name": "stderr",
     "output_type": "stream",
     "text": [
      "[codecarbon INFO @ 15:22:08] Energy consumed for RAM : 0.005980 kWh. RAM Power : 5.883667945861816 W\n",
      "[codecarbon INFO @ 15:22:08] Energy consumed for all CPUs : 0.033063 kWh. Total CPU Power : 32.5 W\n",
      "[codecarbon INFO @ 15:22:08] 0.03904339759986789893 kWh of electricity used since the beginning.\n"
     ]
    },
    {
     "name": "stdout",
     "output_type": "stream",
     "text": [
      "\u001b[1m540/782\u001b[0m \u001b[32m━━━━━━━━━━━━━\u001b[0m\u001b[37m━━━━━━━\u001b[0m \u001b[1m21s\u001b[0m 89ms/step - accuracy: 0.8324 - loss: 0.4888"
     ]
    },
    {
     "name": "stderr",
     "output_type": "stream",
     "text": [
      "[codecarbon INFO @ 15:22:22] Energy consumed for RAM : 0.006030 kWh. RAM Power : 5.883667945861816 W\n",
      "[codecarbon INFO @ 15:22:22] Energy consumed for all CPUs : 0.033332 kWh. Total CPU Power : 32.5 W\n",
      "[codecarbon INFO @ 15:22:22] 0.03936249678845136352 kWh of electricity used since the beginning.\n"
     ]
    },
    {
     "name": "stdout",
     "output_type": "stream",
     "text": [
      "\u001b[1m549/782\u001b[0m \u001b[32m━━━━━━━━━━━━━━\u001b[0m\u001b[37m━━━━━━\u001b[0m \u001b[1m20s\u001b[0m 90ms/step - accuracy: 0.8324 - loss: 0.4888"
     ]
    },
    {
     "name": "stderr",
     "output_type": "stream",
     "text": [
      "[codecarbon INFO @ 15:22:23] Energy consumed for RAM : 0.006005 kWh. RAM Power : 5.883667945861816 W\n",
      "[codecarbon INFO @ 15:22:23] Energy consumed for all CPUs : 0.033199 kWh. Total CPU Power : 32.5 W\n",
      "[codecarbon INFO @ 15:22:23] 0.03920336168649332653 kWh of electricity used since the beginning.\n"
     ]
    },
    {
     "name": "stdout",
     "output_type": "stream",
     "text": [
      "\u001b[1m707/782\u001b[0m \u001b[32m━━━━━━━━━━━━━━━━━━\u001b[0m\u001b[37m━━\u001b[0m \u001b[1m6s\u001b[0m 89ms/step - accuracy: 0.8320 - loss: 0.4896"
     ]
    },
    {
     "name": "stderr",
     "output_type": "stream",
     "text": [
      "[codecarbon INFO @ 15:22:37] Energy consumed for RAM : 0.006055 kWh. RAM Power : 5.883667945861816 W\n",
      "[codecarbon INFO @ 15:22:37] Energy consumed for all CPUs : 0.033468 kWh. Total CPU Power : 32.5 W\n",
      "[codecarbon INFO @ 15:22:37] 0.03952250989386988517 kWh of electricity used since the beginning.\n"
     ]
    },
    {
     "name": "stdout",
     "output_type": "stream",
     "text": [
      "\u001b[1m717/782\u001b[0m \u001b[32m━━━━━━━━━━━━━━━━━━\u001b[0m\u001b[37m━━\u001b[0m \u001b[1m5s\u001b[0m 89ms/step - accuracy: 0.8319 - loss: 0.4896"
     ]
    },
    {
     "name": "stderr",
     "output_type": "stream",
     "text": [
      "[codecarbon INFO @ 15:22:38] Energy consumed for RAM : 0.006029 kWh. RAM Power : 5.883667945861816 W\n",
      "[codecarbon INFO @ 15:22:38] Energy consumed for all CPUs : 0.033335 kWh. Total CPU Power : 32.5 W\n",
      "[codecarbon INFO @ 15:22:38] 0.03936357649317839824 kWh of electricity used since the beginning.\n"
     ]
    },
    {
     "name": "stdout",
     "output_type": "stream",
     "text": [
      "\u001b[1m782/782\u001b[0m \u001b[32m━━━━━━━━━━━━━━━━━━━━\u001b[0m\u001b[37m\u001b[0m \u001b[1m73s\u001b[0m 93ms/step - accuracy: 0.8318 - loss: 0.4899 - val_accuracy: 0.8426 - val_loss: 0.4751 - learning_rate: 1.0000e-05\n",
      "Epoch 52/100\n",
      "\u001b[1m 58/782\u001b[0m \u001b[32m━\u001b[0m\u001b[37m━━━━━━━━━━━━━━━━━━━\u001b[0m \u001b[1m1:02\u001b[0m 86ms/step - accuracy: 0.8306 - loss: 0.5196"
     ]
    },
    {
     "name": "stderr",
     "output_type": "stream",
     "text": [
      "[codecarbon INFO @ 15:22:52] Energy consumed for RAM : 0.006079 kWh. RAM Power : 5.883667945861816 W\n",
      "[codecarbon INFO @ 15:22:52] Energy consumed for all CPUs : 0.033603 kWh. Total CPU Power : 32.5 W\n"
     ]
    },
    {
     "name": "stdout",
     "output_type": "stream",
     "text": [
      "\u001b[1m 59/782\u001b[0m \u001b[32m━\u001b[0m\u001b[37m━━━━━━━━━━━━━━━━━━━\u001b[0m \u001b[1m1:02\u001b[0m 86ms/step - accuracy: 0.8306 - loss: 0.5192"
     ]
    },
    {
     "name": "stderr",
     "output_type": "stream",
     "text": [
      "[codecarbon INFO @ 15:22:52] 0.03968254238649623900 kWh of electricity used since the beginning.\n"
     ]
    },
    {
     "name": "stdout",
     "output_type": "stream",
     "text": [
      "\u001b[1m 68/782\u001b[0m \u001b[32m━\u001b[0m\u001b[37m━━━━━━━━━━━━━━━━━━━\u001b[0m \u001b[1m1:01\u001b[0m 86ms/step - accuracy: 0.8309 - loss: 0.5165"
     ]
    },
    {
     "name": "stderr",
     "output_type": "stream",
     "text": [
      "[codecarbon INFO @ 15:22:53] Energy consumed for RAM : 0.006054 kWh. RAM Power : 5.883667945861816 W\n",
      "[codecarbon INFO @ 15:22:53] Energy consumed for all CPUs : 0.033470 kWh. Total CPU Power : 32.5 W\n",
      "[codecarbon INFO @ 15:22:53] 0.03952323047703771436 kWh of electricity used since the beginning.\n"
     ]
    },
    {
     "name": "stdout",
     "output_type": "stream",
     "text": [
      "\u001b[1m220/782\u001b[0m \u001b[32m━━━━━\u001b[0m\u001b[37m━━━━━━━━━━━━━━━\u001b[0m \u001b[1m51s\u001b[0m 91ms/step - accuracy: 0.8317 - loss: 0.5045"
     ]
    },
    {
     "name": "stderr",
     "output_type": "stream",
     "text": [
      "[codecarbon INFO @ 15:23:07] Energy consumed for RAM : 0.006104 kWh. RAM Power : 5.883667945861816 W\n",
      "[codecarbon INFO @ 15:23:07] Energy consumed for all CPUs : 0.033739 kWh. Total CPU Power : 32.5 W\n",
      "[codecarbon INFO @ 15:23:07] 0.03984252728124023507 kWh of electricity used since the beginning.\n"
     ]
    },
    {
     "name": "stdout",
     "output_type": "stream",
     "text": [
      "\u001b[1m231/782\u001b[0m \u001b[32m━━━━━\u001b[0m\u001b[37m━━━━━━━━━━━━━━━\u001b[0m \u001b[1m50s\u001b[0m 91ms/step - accuracy: 0.8317 - loss: 0.5043"
     ]
    },
    {
     "name": "stderr",
     "output_type": "stream",
     "text": [
      "[codecarbon INFO @ 15:23:08] Energy consumed for RAM : 0.006078 kWh. RAM Power : 5.883667945861816 W\n",
      "[codecarbon INFO @ 15:23:08] Energy consumed for all CPUs : 0.033605 kWh. Total CPU Power : 32.5 W\n",
      "[codecarbon INFO @ 15:23:08] 0.03968333959039967856 kWh of electricity used since the beginning.\n"
     ]
    },
    {
     "name": "stdout",
     "output_type": "stream",
     "text": [
      "\u001b[1m382/782\u001b[0m \u001b[32m━━━━━━━━━\u001b[0m\u001b[37m━━━━━━━━━━━\u001b[0m \u001b[1m36s\u001b[0m 92ms/step - accuracy: 0.8314 - loss: 0.5021"
     ]
    },
    {
     "name": "stderr",
     "output_type": "stream",
     "text": [
      "[codecarbon INFO @ 15:23:22] Energy consumed for RAM : 0.006128 kWh. RAM Power : 5.883667945861816 W\n",
      "[codecarbon INFO @ 15:23:22] Energy consumed for all CPUs : 0.033874 kWh. Total CPU Power : 32.5 W\n",
      "[codecarbon INFO @ 15:23:22] 0.04000256532715464053 kWh of electricity used since the beginning.\n"
     ]
    },
    {
     "name": "stdout",
     "output_type": "stream",
     "text": [
      "\u001b[1m392/782\u001b[0m \u001b[32m━━━━━━━━━━\u001b[0m\u001b[37m━━━━━━━━━━\u001b[0m \u001b[1m35s\u001b[0m 92ms/step - accuracy: 0.8314 - loss: 0.5020"
     ]
    },
    {
     "name": "stderr",
     "output_type": "stream",
     "text": [
      "[codecarbon INFO @ 15:23:23] Energy consumed for RAM : 0.006103 kWh. RAM Power : 5.883667945861816 W\n",
      "[codecarbon INFO @ 15:23:23] Energy consumed for all CPUs : 0.033741 kWh. Total CPU Power : 32.5 W\n",
      "[codecarbon INFO @ 15:23:23] 0.03984328702597886296 kWh of electricity used since the beginning.\n"
     ]
    },
    {
     "name": "stdout",
     "output_type": "stream",
     "text": [
      "\u001b[1m548/782\u001b[0m \u001b[32m━━━━━━━━━━━━━━\u001b[0m\u001b[37m━━━━━━\u001b[0m \u001b[1m21s\u001b[0m 91ms/step - accuracy: 0.8312 - loss: 0.5007"
     ]
    },
    {
     "name": "stderr",
     "output_type": "stream",
     "text": [
      "[codecarbon INFO @ 15:23:37] Energy consumed for RAM : 0.006153 kWh. RAM Power : 5.883667945861816 W\n",
      "[codecarbon INFO @ 15:23:37] Energy consumed for all CPUs : 0.034010 kWh. Total CPU Power : 32.5 W\n",
      "[codecarbon INFO @ 15:23:37] 0.04016259197922054935 kWh of electricity used since the beginning.\n"
     ]
    },
    {
     "name": "stdout",
     "output_type": "stream",
     "text": [
      "\u001b[1m559/782\u001b[0m \u001b[32m━━━━━━━━━━━━━━\u001b[0m\u001b[37m━━━━━━\u001b[0m \u001b[1m20s\u001b[0m 91ms/step - accuracy: 0.8311 - loss: 0.5007"
     ]
    },
    {
     "name": "stderr",
     "output_type": "stream",
     "text": [
      "[codecarbon INFO @ 15:23:38] Energy consumed for RAM : 0.006127 kWh. RAM Power : 5.883667945861816 W\n",
      "[codecarbon INFO @ 15:23:38] Energy consumed for all CPUs : 0.033876 kWh. Total CPU Power : 32.5 W\n",
      "[codecarbon INFO @ 15:23:38] 0.04000324995693648605 kWh of electricity used since the beginning.\n"
     ]
    },
    {
     "name": "stdout",
     "output_type": "stream",
     "text": [
      "\u001b[1m716/782\u001b[0m \u001b[32m━━━━━━━━━━━━━━━━━━\u001b[0m\u001b[37m━━\u001b[0m \u001b[1m5s\u001b[0m 91ms/step - accuracy: 0.8309 - loss: 0.5001"
     ]
    },
    {
     "name": "stderr",
     "output_type": "stream",
     "text": [
      "[codecarbon INFO @ 15:23:52] Energy consumed for RAM : 0.006177 kWh. RAM Power : 5.883667945861816 W\n",
      "[codecarbon INFO @ 15:23:52] Energy consumed for all CPUs : 0.034145 kWh. Total CPU Power : 32.5 W\n",
      "[codecarbon INFO @ 15:23:52] 0.04032245439384060659 kWh of electricity used since the beginning.\n"
     ]
    },
    {
     "name": "stdout",
     "output_type": "stream",
     "text": [
      "\u001b[1m727/782\u001b[0m \u001b[32m━━━━━━━━━━━━━━━━━━\u001b[0m\u001b[37m━━\u001b[0m \u001b[1m4s\u001b[0m 91ms/step - accuracy: 0.8308 - loss: 0.5001"
     ]
    },
    {
     "name": "stderr",
     "output_type": "stream",
     "text": [
      "[codecarbon INFO @ 15:23:53] Energy consumed for RAM : 0.006152 kWh. RAM Power : 5.883667945861816 W\n",
      "[codecarbon INFO @ 15:23:53] Energy consumed for all CPUs : 0.034012 kWh. Total CPU Power : 32.5 W\n",
      "[codecarbon INFO @ 15:23:53] 0.04016331085229248726 kWh of electricity used since the beginning.\n"
     ]
    },
    {
     "name": "stdout",
     "output_type": "stream",
     "text": [
      "\u001b[1m782/782\u001b[0m \u001b[32m━━━━━━━━━━━━━━━━━━━━\u001b[0m\u001b[37m\u001b[0m \u001b[1m74s\u001b[0m 94ms/step - accuracy: 0.8307 - loss: 0.5000 - val_accuracy: 0.8415 - val_loss: 0.4792 - learning_rate: 1.0000e-06\n",
      "Epoch 53/100\n",
      "\u001b[1m 76/782\u001b[0m \u001b[32m━\u001b[0m\u001b[37m━━━━━━━━━━━━━━━━━━━\u001b[0m \u001b[1m59s\u001b[0m 85ms/step - accuracy: 0.8276 - loss: 0.4974 "
     ]
    },
    {
     "name": "stderr",
     "output_type": "stream",
     "text": [
      "[codecarbon INFO @ 15:24:07] Energy consumed for RAM : 0.006202 kWh. RAM Power : 5.883667945861816 W\n",
      "[codecarbon INFO @ 15:24:07] Energy consumed for all CPUs : 0.034281 kWh. Total CPU Power : 32.5 W\n",
      "[codecarbon INFO @ 15:24:07] 0.04048251754460348295 kWh of electricity used since the beginning.\n"
     ]
    },
    {
     "name": "stdout",
     "output_type": "stream",
     "text": [
      "\u001b[1m 87/782\u001b[0m \u001b[32m━━\u001b[0m\u001b[37m━━━━━━━━━━━━━━━━━━\u001b[0m \u001b[1m58s\u001b[0m 85ms/step - accuracy: 0.8273 - loss: 0.4981"
     ]
    },
    {
     "name": "stderr",
     "output_type": "stream",
     "text": [
      "[codecarbon INFO @ 15:24:08] Energy consumed for RAM : 0.006176 kWh. RAM Power : 5.883667945861816 W\n",
      "[codecarbon INFO @ 15:24:08] Energy consumed for all CPUs : 0.034147 kWh. Total CPU Power : 32.5 W\n",
      "[codecarbon INFO @ 15:24:08] 0.04032348213463429060 kWh of electricity used since the beginning.\n"
     ]
    },
    {
     "name": "stdout",
     "output_type": "stream",
     "text": [
      "\u001b[1m244/782\u001b[0m \u001b[32m━━━━━━\u001b[0m\u001b[37m━━━━━━━━━━━━━━\u001b[0m \u001b[1m47s\u001b[0m 88ms/step - accuracy: 0.8244 - loss: 0.5055"
     ]
    },
    {
     "name": "stderr",
     "output_type": "stream",
     "text": [
      "[codecarbon INFO @ 15:24:22] Energy consumed for RAM : 0.006226 kWh. RAM Power : 5.883667945861816 W\n",
      "[codecarbon INFO @ 15:24:22] Energy consumed for all CPUs : 0.034416 kWh. Total CPU Power : 32.5 W\n",
      "[codecarbon INFO @ 15:24:22] 0.04064250018458950148 kWh of electricity used since the beginning.\n"
     ]
    },
    {
     "name": "stdout",
     "output_type": "stream",
     "text": [
      "\u001b[1m255/782\u001b[0m \u001b[32m━━━━━━\u001b[0m\u001b[37m━━━━━━━━━━━━━━\u001b[0m \u001b[1m46s\u001b[0m 88ms/step - accuracy: 0.8243 - loss: 0.5055"
     ]
    },
    {
     "name": "stderr",
     "output_type": "stream",
     "text": [
      "[codecarbon INFO @ 15:24:23] Energy consumed for RAM : 0.006201 kWh. RAM Power : 5.883667945861816 W\n",
      "[codecarbon INFO @ 15:24:23] Energy consumed for all CPUs : 0.034283 kWh. Total CPU Power : 32.5 W\n",
      "[codecarbon INFO @ 15:24:23] 0.04048350058893285947 kWh of electricity used since the beginning.\n"
     ]
    },
    {
     "name": "stdout",
     "output_type": "stream",
     "text": [
      "\u001b[1m403/782\u001b[0m \u001b[32m━━━━━━━━━━\u001b[0m\u001b[37m━━━━━━━━━━\u001b[0m \u001b[1m34s\u001b[0m 91ms/step - accuracy: 0.8248 - loss: 0.5038"
     ]
    },
    {
     "name": "stderr",
     "output_type": "stream",
     "text": [
      "[codecarbon INFO @ 15:24:37] Energy consumed for RAM : 0.006251 kWh. RAM Power : 5.883667945861816 W\n",
      "[codecarbon INFO @ 15:24:37] Energy consumed for all CPUs : 0.034552 kWh. Total CPU Power : 32.5 W\n",
      "[codecarbon INFO @ 15:24:37] 0.04080278946231818277 kWh of electricity used since the beginning.\n"
     ]
    },
    {
     "name": "stdout",
     "output_type": "stream",
     "text": [
      "\u001b[1m413/782\u001b[0m \u001b[32m━━━━━━━━━━\u001b[0m\u001b[37m━━━━━━━━━━\u001b[0m \u001b[1m33s\u001b[0m 91ms/step - accuracy: 0.8249 - loss: 0.5037"
     ]
    },
    {
     "name": "stderr",
     "output_type": "stream",
     "text": [
      "[codecarbon INFO @ 15:24:38] Energy consumed for RAM : 0.006225 kWh. RAM Power : 5.883667945861816 W\n",
      "[codecarbon INFO @ 15:24:38] Energy consumed for all CPUs : 0.034418 kWh. Total CPU Power : 32.5 W\n",
      "[codecarbon INFO @ 15:24:38] 0.04064346356213681399 kWh of electricity used since the beginning.\n"
     ]
    },
    {
     "name": "stdout",
     "output_type": "stream",
     "text": [
      "\u001b[1m565/782\u001b[0m \u001b[32m━━━━━━━━━━━━━━\u001b[0m\u001b[37m━━━━━━\u001b[0m \u001b[1m19s\u001b[0m 91ms/step - accuracy: 0.8254 - loss: 0.5024"
     ]
    },
    {
     "name": "stderr",
     "output_type": "stream",
     "text": [
      "[codecarbon INFO @ 15:24:52] Energy consumed for RAM : 0.006275 kWh. RAM Power : 5.883667945861816 W\n",
      "[codecarbon INFO @ 15:24:52] Energy consumed for all CPUs : 0.034687 kWh. Total CPU Power : 32.5 W\n",
      "[codecarbon INFO @ 15:24:52] 0.04096245132308694997 kWh of electricity used since the beginning.\n"
     ]
    },
    {
     "name": "stdout",
     "output_type": "stream",
     "text": [
      "\u001b[1m574/782\u001b[0m \u001b[32m━━━━━━━━━━━━━━\u001b[0m\u001b[37m━━━━━━\u001b[0m \u001b[1m18s\u001b[0m 91ms/step - accuracy: 0.8255 - loss: 0.5023"
     ]
    },
    {
     "name": "stderr",
     "output_type": "stream",
     "text": [
      "[codecarbon INFO @ 15:24:53] Energy consumed for RAM : 0.006250 kWh. RAM Power : 5.883667945861816 W\n",
      "[codecarbon INFO @ 15:24:53] Energy consumed for all CPUs : 0.034554 kWh. Total CPU Power : 32.5 W\n",
      "[codecarbon INFO @ 15:24:53] 0.04080357044869508537 kWh of electricity used since the beginning.\n"
     ]
    },
    {
     "name": "stdout",
     "output_type": "stream",
     "text": [
      "\u001b[1m732/782\u001b[0m \u001b[32m━━━━━━━━━━━━━━━━━━\u001b[0m\u001b[37m━━\u001b[0m \u001b[1m4s\u001b[0m 91ms/step - accuracy: 0.8259 - loss: 0.5012"
     ]
    },
    {
     "name": "stderr",
     "output_type": "stream",
     "text": [
      "[codecarbon INFO @ 15:25:07] Energy consumed for RAM : 0.006300 kWh. RAM Power : 5.883667945861816 W\n",
      "[codecarbon INFO @ 15:25:07] Energy consumed for all CPUs : 0.034823 kWh. Total CPU Power : 32.5 W\n",
      "[codecarbon INFO @ 15:25:07] 0.04112260003034984984 kWh of electricity used since the beginning.\n"
     ]
    },
    {
     "name": "stdout",
     "output_type": "stream",
     "text": [
      "\u001b[1m741/782\u001b[0m \u001b[32m━━━━━━━━━━━━━━━━━━\u001b[0m\u001b[37m━━\u001b[0m \u001b[1m3s\u001b[0m 91ms/step - accuracy: 0.8259 - loss: 0.5011"
     ]
    },
    {
     "name": "stderr",
     "output_type": "stream",
     "text": [
      "[codecarbon INFO @ 15:25:08] Energy consumed for RAM : 0.006274 kWh. RAM Power : 5.883667945861816 W\n",
      "[codecarbon INFO @ 15:25:08] Energy consumed for all CPUs : 0.034689 kWh. Total CPU Power : 32.5 W\n"
     ]
    },
    {
     "name": "stdout",
     "output_type": "stream",
     "text": [
      "\u001b[1m742/782\u001b[0m \u001b[32m━━━━━━━━━━━━━━━━━━\u001b[0m\u001b[37m━━\u001b[0m \u001b[1m3s\u001b[0m 91ms/step - accuracy: 0.8259 - loss: 0.5011"
     ]
    },
    {
     "name": "stderr",
     "output_type": "stream",
     "text": [
      "[codecarbon INFO @ 15:25:08] 0.04096339595049353771 kWh of electricity used since the beginning.\n"
     ]
    },
    {
     "name": "stdout",
     "output_type": "stream",
     "text": [
      "\u001b[1m782/782\u001b[0m \u001b[32m━━━━━━━━━━━━━━━━━━━━\u001b[0m\u001b[37m\u001b[0m \u001b[1m73s\u001b[0m 94ms/step - accuracy: 0.8260 - loss: 0.5008 - val_accuracy: 0.8424 - val_loss: 0.4775 - learning_rate: 1.0000e-06\n",
      "Epoch 54/100\n",
      "\u001b[1m 88/782\u001b[0m \u001b[32m━━\u001b[0m\u001b[37m━━━━━━━━━━━━━━━━━━\u001b[0m \u001b[1m1:03\u001b[0m 92ms/step - accuracy: 0.8400 - loss: 0.4727"
     ]
    },
    {
     "name": "stderr",
     "output_type": "stream",
     "text": [
      "[codecarbon INFO @ 15:25:22] Energy consumed for RAM : 0.006324 kWh. RAM Power : 5.883667945861816 W\n",
      "[codecarbon INFO @ 15:25:22] Energy consumed for all CPUs : 0.034958 kWh. Total CPU Power : 32.5 W\n",
      "[codecarbon INFO @ 15:25:22] 0.04128261365458733151 kWh of electricity used since the beginning.\n"
     ]
    },
    {
     "name": "stdout",
     "output_type": "stream",
     "text": [
      "\u001b[1m 97/782\u001b[0m \u001b[32m━━\u001b[0m\u001b[37m━━━━━━━━━━━━━━━━━━\u001b[0m \u001b[1m1:03\u001b[0m 92ms/step - accuracy: 0.8395 - loss: 0.4740"
     ]
    },
    {
     "name": "stderr",
     "output_type": "stream",
     "text": [
      "[codecarbon INFO @ 15:25:23] Energy consumed for RAM : 0.006299 kWh. RAM Power : 5.883667945861816 W\n",
      "[codecarbon INFO @ 15:25:23] Energy consumed for all CPUs : 0.034825 kWh. Total CPU Power : 32.5 W\n",
      "[codecarbon INFO @ 15:25:23] 0.04112344884266195405 kWh of electricity used since the beginning.\n"
     ]
    },
    {
     "name": "stdout",
     "output_type": "stream",
     "text": [
      "\u001b[1m254/782\u001b[0m \u001b[32m━━━━━━\u001b[0m\u001b[37m━━━━━━━━━━━━━━\u001b[0m \u001b[1m47s\u001b[0m 91ms/step - accuracy: 0.8355 - loss: 0.4800"
     ]
    },
    {
     "name": "stderr",
     "output_type": "stream",
     "text": [
      "[codecarbon INFO @ 15:25:37] Energy consumed for RAM : 0.006349 kWh. RAM Power : 5.883667945861816 W\n",
      "[codecarbon INFO @ 15:25:37] Energy consumed for all CPUs : 0.035094 kWh. Total CPU Power : 32.5 W\n",
      "[codecarbon INFO @ 15:25:37] 0.04144248820020754454 kWh of electricity used since the beginning.\n"
     ]
    },
    {
     "name": "stdout",
     "output_type": "stream",
     "text": [
      "\u001b[1m264/782\u001b[0m \u001b[32m━━━━━━\u001b[0m\u001b[37m━━━━━━━━━━━━━━\u001b[0m \u001b[1m47s\u001b[0m 91ms/step - accuracy: 0.8353 - loss: 0.4802"
     ]
    },
    {
     "name": "stderr",
     "output_type": "stream",
     "text": [
      "[codecarbon INFO @ 15:25:38] Energy consumed for RAM : 0.006323 kWh. RAM Power : 5.883667945861816 W\n",
      "[codecarbon INFO @ 15:25:38] Energy consumed for all CPUs : 0.034961 kWh. Total CPU Power : 32.5 W\n",
      "[codecarbon INFO @ 15:25:38] 0.04128371396991842995 kWh of electricity used since the beginning.\n"
     ]
    },
    {
     "name": "stdout",
     "output_type": "stream",
     "text": [
      "\u001b[1m419/782\u001b[0m \u001b[32m━━━━━━━━━━\u001b[0m\u001b[37m━━━━━━━━━━\u001b[0m \u001b[1m32s\u001b[0m 91ms/step - accuracy: 0.8324 - loss: 0.4843"
     ]
    },
    {
     "name": "stderr",
     "output_type": "stream",
     "text": [
      "[codecarbon INFO @ 15:25:52] Energy consumed for RAM : 0.006373 kWh. RAM Power : 5.883667945861816 W\n",
      "[codecarbon INFO @ 15:25:52] Energy consumed for all CPUs : 0.035229 kWh. Total CPU Power : 32.5 W\n",
      "[codecarbon INFO @ 15:25:52] 0.04160230653914058496 kWh of electricity used since the beginning.\n"
     ]
    },
    {
     "name": "stdout",
     "output_type": "stream",
     "text": [
      "\u001b[1m428/782\u001b[0m \u001b[32m━━━━━━━━━━\u001b[0m\u001b[37m━━━━━━━━━━\u001b[0m \u001b[1m32s\u001b[0m 91ms/step - accuracy: 0.8323 - loss: 0.4845"
     ]
    },
    {
     "name": "stderr",
     "output_type": "stream",
     "text": [
      "[codecarbon INFO @ 15:25:53] Energy consumed for RAM : 0.006348 kWh. RAM Power : 5.883667945861816 W\n",
      "[codecarbon INFO @ 15:25:53] Energy consumed for all CPUs : 0.035096 kWh. Total CPU Power : 32.5 W\n"
     ]
    },
    {
     "name": "stdout",
     "output_type": "stream",
     "text": [
      "\u001b[1m429/782\u001b[0m \u001b[32m━━━━━━━━━━\u001b[0m\u001b[37m━━━━━━━━━━\u001b[0m \u001b[1m32s\u001b[0m 91ms/step - accuracy: 0.8323 - loss: 0.4845"
     ]
    },
    {
     "name": "stderr",
     "output_type": "stream",
     "text": [
      "[codecarbon INFO @ 15:25:53] 0.04144335259640101465 kWh of electricity used since the beginning.\n"
     ]
    },
    {
     "name": "stdout",
     "output_type": "stream",
     "text": [
      "\u001b[1m586/782\u001b[0m \u001b[32m━━━━━━━━━━━━━━\u001b[0m\u001b[37m━━━━━━\u001b[0m \u001b[1m17s\u001b[0m 91ms/step - accuracy: 0.8311 - loss: 0.4865"
     ]
    },
    {
     "name": "stderr",
     "output_type": "stream",
     "text": [
      "[codecarbon INFO @ 15:26:07] Energy consumed for RAM : 0.006398 kWh. RAM Power : 5.883667945861816 W\n",
      "[codecarbon INFO @ 15:26:07] Energy consumed for all CPUs : 0.035365 kWh. Total CPU Power : 32.5 W\n",
      "[codecarbon INFO @ 15:26:07] 0.04176232233401808158 kWh of electricity used since the beginning.\n"
     ]
    },
    {
     "name": "stdout",
     "output_type": "stream",
     "text": [
      "\u001b[1m596/782\u001b[0m \u001b[32m━━━━━━━━━━━━━━━\u001b[0m\u001b[37m━━━━━\u001b[0m \u001b[1m16s\u001b[0m 91ms/step - accuracy: 0.8311 - loss: 0.4866"
     ]
    },
    {
     "name": "stderr",
     "output_type": "stream",
     "text": [
      "[codecarbon INFO @ 15:26:08] Energy consumed for RAM : 0.006372 kWh. RAM Power : 5.883667945861816 W\n",
      "[codecarbon INFO @ 15:26:08] Energy consumed for all CPUs : 0.035231 kWh. Total CPU Power : 32.5 W\n",
      "[codecarbon INFO @ 15:26:08] 0.04160359026234689006 kWh of electricity used since the beginning.\n"
     ]
    },
    {
     "name": "stdout",
     "output_type": "stream",
     "text": [
      "\u001b[1m755/782\u001b[0m \u001b[32m━━━━━━━━━━━━━━━━━━━\u001b[0m\u001b[37m━\u001b[0m \u001b[1m2s\u001b[0m 90ms/step - accuracy: 0.8308 - loss: 0.4867"
     ]
    },
    {
     "name": "stderr",
     "output_type": "stream",
     "text": [
      "[codecarbon INFO @ 15:26:22] Energy consumed for RAM : 0.006422 kWh. RAM Power : 5.883667945861816 W\n",
      "[codecarbon INFO @ 15:26:22] Energy consumed for all CPUs : 0.035500 kWh. Total CPU Power : 32.5 W\n",
      "[codecarbon INFO @ 15:26:22] 0.04192232590962206157 kWh of electricity used since the beginning.\n"
     ]
    },
    {
     "name": "stdout",
     "output_type": "stream",
     "text": [
      "\u001b[1m764/782\u001b[0m \u001b[32m━━━━━━━━━━━━━━━━━━━\u001b[0m\u001b[37m━\u001b[0m \u001b[1m1s\u001b[0m 90ms/step - accuracy: 0.8308 - loss: 0.4867"
     ]
    },
    {
     "name": "stderr",
     "output_type": "stream",
     "text": [
      "[codecarbon INFO @ 15:26:23] Energy consumed for RAM : 0.006397 kWh. RAM Power : 5.883667945861816 W\n",
      "[codecarbon INFO @ 15:26:23] Energy consumed for all CPUs : 0.035367 kWh. Total CPU Power : 32.5 W\n",
      "[codecarbon INFO @ 15:26:23] 0.04176346270722797183 kWh of electricity used since the beginning.\n"
     ]
    },
    {
     "name": "stdout",
     "output_type": "stream",
     "text": [
      "\u001b[1m782/782\u001b[0m \u001b[32m━━━━━━━━━━━━━━━━━━━━\u001b[0m\u001b[37m\u001b[0m \u001b[1m74s\u001b[0m 94ms/step - accuracy: 0.8308 - loss: 0.4867 - val_accuracy: 0.8426 - val_loss: 0.4755 - learning_rate: 1.0000e-06\n",
      "Epoch 55/100\n",
      "\u001b[1m107/782\u001b[0m \u001b[32m━━\u001b[0m\u001b[37m━━━━━━━━━━━━━━━━━━\u001b[0m \u001b[1m58s\u001b[0m 86ms/step - accuracy: 0.8358 - loss: 0.4640"
     ]
    },
    {
     "name": "stderr",
     "output_type": "stream",
     "text": [
      "[codecarbon INFO @ 15:26:37] Energy consumed for RAM : 0.006447 kWh. RAM Power : 5.883667945861816 W\n",
      "[codecarbon INFO @ 15:26:37] Energy consumed for all CPUs : 0.035636 kWh. Total CPU Power : 32.5 W\n",
      "[codecarbon INFO @ 15:26:37] 0.04208256766117632330 kWh of electricity used since the beginning.\n"
     ]
    },
    {
     "name": "stdout",
     "output_type": "stream",
     "text": [
      "\u001b[1m117/782\u001b[0m \u001b[32m━━\u001b[0m\u001b[37m━━━━━━━━━━━━━━━━━━\u001b[0m \u001b[1m57s\u001b[0m 87ms/step - accuracy: 0.8351 - loss: 0.4668"
     ]
    },
    {
     "name": "stderr",
     "output_type": "stream",
     "text": [
      "[codecarbon INFO @ 15:26:38] Energy consumed for RAM : 0.006421 kWh. RAM Power : 5.883667945861816 W\n",
      "[codecarbon INFO @ 15:26:38] Energy consumed for all CPUs : 0.035502 kWh. Total CPU Power : 32.5 W\n",
      "[codecarbon INFO @ 15:26:38] 0.04192366732127861262 kWh of electricity used since the beginning.\n"
     ]
    },
    {
     "name": "stdout",
     "output_type": "stream",
     "text": [
      "\u001b[1m273/782\u001b[0m \u001b[32m━━━━━━\u001b[0m\u001b[37m━━━━━━━━━━━━━━\u001b[0m \u001b[1m45s\u001b[0m 89ms/step - accuracy: 0.8311 - loss: 0.4813"
     ]
    },
    {
     "name": "stderr",
     "output_type": "stream",
     "text": [
      "[codecarbon INFO @ 15:26:52] Energy consumed for RAM : 0.006471 kWh. RAM Power : 5.883667945861816 W\n",
      "[codecarbon INFO @ 15:26:52] Energy consumed for all CPUs : 0.035771 kWh. Total CPU Power : 32.5 W\n",
      "[codecarbon INFO @ 15:26:52] 0.04224232524857694793 kWh of electricity used since the beginning.\n"
     ]
    },
    {
     "name": "stdout",
     "output_type": "stream",
     "text": [
      "\u001b[1m284/782\u001b[0m \u001b[32m━━━━━━━\u001b[0m\u001b[37m━━━━━━━━━━━━━\u001b[0m \u001b[1m44s\u001b[0m 89ms/step - accuracy: 0.8310 - loss: 0.4818"
     ]
    },
    {
     "name": "stderr",
     "output_type": "stream",
     "text": [
      "[codecarbon INFO @ 15:26:53] Energy consumed for RAM : 0.006446 kWh. RAM Power : 5.883667945861816 W\n",
      "[codecarbon INFO @ 15:26:53] Energy consumed for all CPUs : 0.035638 kWh. Total CPU Power : 32.5 W\n",
      "[codecarbon INFO @ 15:26:53] 0.04208366512512493052 kWh of electricity used since the beginning.\n"
     ]
    },
    {
     "name": "stdout",
     "output_type": "stream",
     "text": [
      "\u001b[1m440/782\u001b[0m \u001b[32m━━━━━━━━━━━\u001b[0m\u001b[37m━━━━━━━━━\u001b[0m \u001b[1m30s\u001b[0m 89ms/step - accuracy: 0.8299 - loss: 0.4870"
     ]
    },
    {
     "name": "stderr",
     "output_type": "stream",
     "text": [
      "[codecarbon INFO @ 15:27:07] Energy consumed for RAM : 0.006496 kWh. RAM Power : 5.883667945861816 W\n",
      "[codecarbon INFO @ 15:27:07] Energy consumed for all CPUs : 0.035906 kWh. Total CPU Power : 32.5 W\n",
      "[codecarbon INFO @ 15:27:07] 0.04240230049099155685 kWh of electricity used since the beginning.\n"
     ]
    },
    {
     "name": "stdout",
     "output_type": "stream",
     "text": [
      "\u001b[1m451/782\u001b[0m \u001b[32m━━━━━━━━━━━\u001b[0m\u001b[37m━━━━━━━━━\u001b[0m \u001b[1m29s\u001b[0m 89ms/step - accuracy: 0.8299 - loss: 0.4871"
     ]
    },
    {
     "name": "stderr",
     "output_type": "stream",
     "text": [
      "[codecarbon INFO @ 15:27:08] Energy consumed for RAM : 0.006470 kWh. RAM Power : 5.883667945861816 W\n",
      "[codecarbon INFO @ 15:27:08] Energy consumed for all CPUs : 0.035774 kWh. Total CPU Power : 32.5 W\n",
      "[codecarbon INFO @ 15:27:08] 0.04224386062219286087 kWh of electricity used since the beginning.\n"
     ]
    },
    {
     "name": "stdout",
     "output_type": "stream",
     "text": [
      "\u001b[1m605/782\u001b[0m \u001b[32m━━━━━━━━━━━━━━━\u001b[0m\u001b[37m━━━━━\u001b[0m \u001b[1m15s\u001b[0m 90ms/step - accuracy: 0.8297 - loss: 0.4891"
     ]
    },
    {
     "name": "stderr",
     "output_type": "stream",
     "text": [
      "[codecarbon INFO @ 15:27:22] Energy consumed for RAM : 0.006520 kWh. RAM Power : 5.883667945861816 W\n",
      "[codecarbon INFO @ 15:27:22] Energy consumed for all CPUs : 0.036042 kWh. Total CPU Power : 32.5 W\n",
      "[codecarbon INFO @ 15:27:22] 0.04256215457208939457 kWh of electricity used since the beginning.\n"
     ]
    },
    {
     "name": "stdout",
     "output_type": "stream",
     "text": [
      "\u001b[1m616/782\u001b[0m \u001b[32m━━━━━━━━━━━━━━━\u001b[0m\u001b[37m━━━━━\u001b[0m \u001b[1m14s\u001b[0m 90ms/step - accuracy: 0.8297 - loss: 0.4893"
     ]
    },
    {
     "name": "stderr",
     "output_type": "stream",
     "text": [
      "[codecarbon INFO @ 15:27:23] Energy consumed for RAM : 0.006495 kWh. RAM Power : 5.883667945861816 W\n",
      "[codecarbon INFO @ 15:27:23] Energy consumed for all CPUs : 0.035909 kWh. Total CPU Power : 32.5 W\n",
      "[codecarbon INFO @ 15:27:23] 0.04240375898739931482 kWh of electricity used since the beginning.\n"
     ]
    },
    {
     "name": "stdout",
     "output_type": "stream",
     "text": [
      "\u001b[1m770/782\u001b[0m \u001b[32m━━━━━━━━━━━━━━━━━━━\u001b[0m\u001b[37m━\u001b[0m \u001b[1m1s\u001b[0m 90ms/step - accuracy: 0.8292 - loss: 0.4906"
     ]
    },
    {
     "name": "stderr",
     "output_type": "stream",
     "text": [
      "[codecarbon INFO @ 15:27:37] Energy consumed for RAM : 0.006545 kWh. RAM Power : 5.883667945861816 W\n",
      "[codecarbon INFO @ 15:27:37] Energy consumed for all CPUs : 0.036177 kWh. Total CPU Power : 32.5 W\n"
     ]
    },
    {
     "name": "stdout",
     "output_type": "stream",
     "text": [
      "\u001b[1m771/782\u001b[0m \u001b[32m━━━━━━━━━━━━━━━━━━━\u001b[0m\u001b[37m━\u001b[0m \u001b[1m0s\u001b[0m 90ms/step - accuracy: 0.8292 - loss: 0.4906"
     ]
    },
    {
     "name": "stderr",
     "output_type": "stream",
     "text": [
      "[codecarbon INFO @ 15:27:37] 0.04272223725231755198 kWh of electricity used since the beginning.\n"
     ]
    },
    {
     "name": "stdout",
     "output_type": "stream",
     "text": [
      "\u001b[1m782/782\u001b[0m \u001b[32m━━━━━━━━━━━━━━━━━━━━\u001b[0m\u001b[37m\u001b[0m \u001b[1m0s\u001b[0m 90ms/step - accuracy: 0.8292 - loss: 0.4907"
     ]
    },
    {
     "name": "stderr",
     "output_type": "stream",
     "text": [
      "[codecarbon INFO @ 15:27:38] Energy consumed for RAM : 0.006519 kWh. RAM Power : 5.883667945861816 W\n",
      "[codecarbon INFO @ 15:27:38] Energy consumed for all CPUs : 0.036044 kWh. Total CPU Power : 32.5 W\n",
      "[codecarbon INFO @ 15:27:38] 0.04256354822734718935 kWh of electricity used since the beginning.\n"
     ]
    },
    {
     "name": "stdout",
     "output_type": "stream",
     "text": [
      "\u001b[1m782/782\u001b[0m \u001b[32m━━━━━━━━━━━━━━━━━━━━\u001b[0m\u001b[37m\u001b[0m \u001b[1m73s\u001b[0m 93ms/step - accuracy: 0.8292 - loss: 0.4907 - val_accuracy: 0.8421 - val_loss: 0.4786 - learning_rate: 1.0000e-06\n",
      "Epoch 56/100\n",
      "\u001b[1m118/782\u001b[0m \u001b[32m━━━\u001b[0m\u001b[37m━━━━━━━━━━━━━━━━━\u001b[0m \u001b[1m1:04\u001b[0m 97ms/step - accuracy: 0.8223 - loss: 0.5122"
     ]
    },
    {
     "name": "stderr",
     "output_type": "stream",
     "text": [
      "[codecarbon INFO @ 15:27:52] Energy consumed for RAM : 0.006569 kWh. RAM Power : 5.883667945861816 W\n",
      "[codecarbon INFO @ 15:27:52] Energy consumed for all CPUs : 0.036313 kWh. Total CPU Power : 32.5 W\n",
      "[codecarbon INFO @ 15:27:52] 0.04288216602657491522 kWh of electricity used since the beginning.\n"
     ]
    },
    {
     "name": "stdout",
     "output_type": "stream",
     "text": [
      "\u001b[1m128/782\u001b[0m \u001b[32m━━━\u001b[0m\u001b[37m━━━━━━━━━━━━━━━━━\u001b[0m \u001b[1m1:03\u001b[0m 96ms/step - accuracy: 0.8227 - loss: 0.5113"
     ]
    },
    {
     "name": "stderr",
     "output_type": "stream",
     "text": [
      "[codecarbon INFO @ 15:27:53] Energy consumed for RAM : 0.006544 kWh. RAM Power : 5.883667945861816 W\n",
      "[codecarbon INFO @ 15:27:53] Energy consumed for all CPUs : 0.036180 kWh. Total CPU Power : 32.5 W\n",
      "[codecarbon INFO @ 15:27:53] 0.04272350617689622126 kWh of electricity used since the beginning.\n"
     ]
    },
    {
     "name": "stdout",
     "output_type": "stream",
     "text": [
      "\u001b[1m279/782\u001b[0m \u001b[32m━━━━━━━\u001b[0m\u001b[37m━━━━━━━━━━━━━\u001b[0m \u001b[1m47s\u001b[0m 95ms/step - accuracy: 0.8269 - loss: 0.5014"
     ]
    },
    {
     "name": "stderr",
     "output_type": "stream",
     "text": [
      "[codecarbon INFO @ 15:28:07] Energy consumed for RAM : 0.006594 kWh. RAM Power : 5.883667945861816 W\n",
      "[codecarbon INFO @ 15:28:07] Energy consumed for all CPUs : 0.036448 kWh. Total CPU Power : 32.5 W\n",
      "[codecarbon INFO @ 15:28:07] 0.04304217659644175853 kWh of electricity used since the beginning.\n"
     ]
    },
    {
     "name": "stdout",
     "output_type": "stream",
     "text": [
      "\u001b[1m290/782\u001b[0m \u001b[32m━━━━━━━\u001b[0m\u001b[37m━━━━━━━━━━━━━\u001b[0m \u001b[1m46s\u001b[0m 94ms/step - accuracy: 0.8271 - loss: 0.5010"
     ]
    },
    {
     "name": "stderr",
     "output_type": "stream",
     "text": [
      "[codecarbon INFO @ 15:28:08] Energy consumed for RAM : 0.006568 kWh. RAM Power : 5.883667945861816 W\n",
      "[codecarbon INFO @ 15:28:08] Energy consumed for all CPUs : 0.036316 kWh. Total CPU Power : 32.5 W\n",
      "[codecarbon INFO @ 15:28:08] 0.04288384107695605851 kWh of electricity used since the beginning.\n"
     ]
    },
    {
     "name": "stdout",
     "output_type": "stream",
     "text": [
      "\u001b[1m445/782\u001b[0m \u001b[32m━━━━━━━━━━━\u001b[0m\u001b[37m━━━━━━━━━\u001b[0m \u001b[1m31s\u001b[0m 93ms/step - accuracy: 0.8287 - loss: 0.4976"
     ]
    },
    {
     "name": "stderr",
     "output_type": "stream",
     "text": [
      "[codecarbon INFO @ 15:28:22] Energy consumed for RAM : 0.006618 kWh. RAM Power : 5.883667945861816 W\n",
      "[codecarbon INFO @ 15:28:22] Energy consumed for all CPUs : 0.036584 kWh. Total CPU Power : 32.5 W\n",
      "[codecarbon INFO @ 15:28:22] 0.04320224136648460889 kWh of electricity used since the beginning.\n"
     ]
    },
    {
     "name": "stdout",
     "output_type": "stream",
     "text": [
      "\u001b[1m456/782\u001b[0m \u001b[32m━━━━━━━━━━━\u001b[0m\u001b[37m━━━━━━━━━\u001b[0m \u001b[1m30s\u001b[0m 93ms/step - accuracy: 0.8288 - loss: 0.4974"
     ]
    },
    {
     "name": "stderr",
     "output_type": "stream",
     "text": [
      "[codecarbon INFO @ 15:28:23] Energy consumed for RAM : 0.006593 kWh. RAM Power : 5.883667945861816 W\n",
      "[codecarbon INFO @ 15:28:23] Energy consumed for all CPUs : 0.036451 kWh. Total CPU Power : 32.5 W\n"
     ]
    },
    {
     "name": "stdout",
     "output_type": "stream",
     "text": [
      "\u001b[1m457/782\u001b[0m \u001b[32m━━━━━━━━━━━\u001b[0m\u001b[37m━━━━━━━━━\u001b[0m \u001b[1m30s\u001b[0m 93ms/step - accuracy: 0.8288 - loss: 0.4974"
     ]
    },
    {
     "name": "stderr",
     "output_type": "stream",
     "text": [
      "[codecarbon INFO @ 15:28:23] 0.04304350557911363478 kWh of electricity used since the beginning.\n"
     ]
    },
    {
     "name": "stdout",
     "output_type": "stream",
     "text": [
      "\u001b[1m611/782\u001b[0m \u001b[32m━━━━━━━━━━━━━━━\u001b[0m\u001b[37m━━━━━\u001b[0m \u001b[1m15s\u001b[0m 92ms/step - accuracy: 0.8292 - loss: 0.4963"
     ]
    },
    {
     "name": "stderr",
     "output_type": "stream",
     "text": [
      "[codecarbon INFO @ 15:28:37] Energy consumed for RAM : 0.006643 kWh. RAM Power : 5.883667945861816 W\n",
      "[codecarbon INFO @ 15:28:37] Energy consumed for all CPUs : 0.036719 kWh. Total CPU Power : 32.5 W\n",
      "[codecarbon INFO @ 15:28:37] 0.04336218782578117603 kWh of electricity used since the beginning.\n"
     ]
    },
    {
     "name": "stdout",
     "output_type": "stream",
     "text": [
      "\u001b[1m622/782\u001b[0m \u001b[32m━━━━━━━━━━━━━━━\u001b[0m\u001b[37m━━━━━\u001b[0m \u001b[1m14s\u001b[0m 92ms/step - accuracy: 0.8292 - loss: 0.4962"
     ]
    },
    {
     "name": "stderr",
     "output_type": "stream",
     "text": [
      "[codecarbon INFO @ 15:28:38] Energy consumed for RAM : 0.006617 kWh. RAM Power : 5.883667945861816 W\n",
      "[codecarbon INFO @ 15:28:38] Energy consumed for all CPUs : 0.036586 kWh. Total CPU Power : 32.5 W\n",
      "[codecarbon INFO @ 15:28:38] 0.04320364053642799379 kWh of electricity used since the beginning.\n"
     ]
    },
    {
     "name": "stdout",
     "output_type": "stream",
     "text": [
      "\u001b[1m774/782\u001b[0m \u001b[32m━━━━━━━━━━━━━━━━━━━\u001b[0m\u001b[37m━\u001b[0m \u001b[1m0s\u001b[0m 92ms/step - accuracy: 0.8295 - loss: 0.4950"
     ]
    },
    {
     "name": "stderr",
     "output_type": "stream",
     "text": [
      "[codecarbon INFO @ 15:28:52] Energy consumed for RAM : 0.006667 kWh. RAM Power : 5.883667945861816 W\n",
      "[codecarbon INFO @ 15:28:52] Energy consumed for all CPUs : 0.036855 kWh. Total CPU Power : 32.5 W\n",
      "[codecarbon INFO @ 15:28:52] 0.04352219079838694910 kWh of electricity used since the beginning.\n"
     ]
    },
    {
     "name": "stdout",
     "output_type": "stream",
     "text": [
      "\u001b[1m782/782\u001b[0m \u001b[32m━━━━━━━━━━━━━━━━━━━━\u001b[0m\u001b[37m\u001b[0m \u001b[1m0s\u001b[0m 92ms/step - accuracy: 0.8295 - loss: 0.4950"
     ]
    },
    {
     "name": "stderr",
     "output_type": "stream",
     "text": [
      "[codecarbon INFO @ 15:28:53] Energy consumed for RAM : 0.006642 kWh. RAM Power : 5.883667945861816 W\n",
      "[codecarbon INFO @ 15:28:53] Energy consumed for all CPUs : 0.036722 kWh. Total CPU Power : 32.5 W\n",
      "[codecarbon INFO @ 15:28:53] 0.04336356036842749923 kWh of electricity used since the beginning.\n"
     ]
    },
    {
     "name": "stdout",
     "output_type": "stream",
     "text": [
      "\u001b[1m782/782\u001b[0m \u001b[32m━━━━━━━━━━━━━━━━━━━━\u001b[0m\u001b[37m\u001b[0m \u001b[1m75s\u001b[0m 95ms/step - accuracy: 0.8295 - loss: 0.4950 - val_accuracy: 0.8412 - val_loss: 0.4798 - learning_rate: 1.0000e-06\n",
      "Epoch 57/100\n",
      "\u001b[1m130/782\u001b[0m \u001b[32m━━━\u001b[0m\u001b[37m━━━━━━━━━━━━━━━━━\u001b[0m \u001b[1m58s\u001b[0m 90ms/step - accuracy: 0.8291 - loss: 0.4824"
     ]
    },
    {
     "name": "stderr",
     "output_type": "stream",
     "text": [
      "[codecarbon INFO @ 15:29:07] Energy consumed for RAM : 0.006692 kWh. RAM Power : 5.883667945861816 W\n",
      "[codecarbon INFO @ 15:29:07] Energy consumed for all CPUs : 0.036990 kWh. Total CPU Power : 32.5 W\n",
      "[codecarbon INFO @ 15:29:07] 0.04368233461396767159 kWh of electricity used since the beginning.\n"
     ]
    },
    {
     "name": "stdout",
     "output_type": "stream",
     "text": [
      "\u001b[1m140/782\u001b[0m \u001b[32m━━━\u001b[0m\u001b[37m━━━━━━━━━━━━━━━━━\u001b[0m \u001b[1m58s\u001b[0m 91ms/step - accuracy: 0.8286 - loss: 0.4838"
     ]
    },
    {
     "name": "stderr",
     "output_type": "stream",
     "text": [
      "[codecarbon INFO @ 15:29:08] Energy consumed for RAM : 0.006666 kWh. RAM Power : 5.883667945861816 W\n",
      "[codecarbon INFO @ 15:29:08] Energy consumed for all CPUs : 0.036857 kWh. Total CPU Power : 32.5 W\n",
      "[codecarbon INFO @ 15:29:08] 0.04352370752990074310 kWh of electricity used since the beginning.\n"
     ]
    },
    {
     "name": "stdout",
     "output_type": "stream",
     "text": [
      "\u001b[1m298/782\u001b[0m \u001b[32m━━━━━━━\u001b[0m\u001b[37m━━━━━━━━━━━━━\u001b[0m \u001b[1m43s\u001b[0m 90ms/step - accuracy: 0.8265 - loss: 0.4935"
     ]
    },
    {
     "name": "stderr",
     "output_type": "stream",
     "text": [
      "[codecarbon INFO @ 15:29:22] Energy consumed for RAM : 0.006717 kWh. RAM Power : 5.883667945861816 W\n",
      "[codecarbon INFO @ 15:29:22] Energy consumed for all CPUs : 0.037126 kWh. Total CPU Power : 32.5 W\n",
      "[codecarbon INFO @ 15:29:22] 0.04384273797354940744 kWh of electricity used since the beginning.\n"
     ]
    },
    {
     "name": "stdout",
     "output_type": "stream",
     "text": [
      "\u001b[1m308/782\u001b[0m \u001b[32m━━━━━━━\u001b[0m\u001b[37m━━━━━━━━━━━━━\u001b[0m \u001b[1m42s\u001b[0m 90ms/step - accuracy: 0.8265 - loss: 0.4937"
     ]
    },
    {
     "name": "stderr",
     "output_type": "stream",
     "text": [
      "[codecarbon INFO @ 15:29:23] Energy consumed for RAM : 0.006691 kWh. RAM Power : 5.883667945861816 W\n",
      "[codecarbon INFO @ 15:29:23] Energy consumed for all CPUs : 0.036993 kWh. Total CPU Power : 32.5 W\n",
      "[codecarbon INFO @ 15:29:23] 0.04368353235769684151 kWh of electricity used since the beginning.\n"
     ]
    },
    {
     "name": "stdout",
     "output_type": "stream",
     "text": [
      "\u001b[1m465/782\u001b[0m \u001b[32m━━━━━━━━━━━\u001b[0m\u001b[37m━━━━━━━━━\u001b[0m \u001b[1m28s\u001b[0m 90ms/step - accuracy: 0.8260 - loss: 0.4969"
     ]
    },
    {
     "name": "stderr",
     "output_type": "stream",
     "text": [
      "[codecarbon INFO @ 15:29:37] Energy consumed for RAM : 0.006741 kWh. RAM Power : 5.883667945861816 W\n",
      "[codecarbon INFO @ 15:29:37] Energy consumed for all CPUs : 0.037262 kWh. Total CPU Power : 32.5 W\n",
      "[codecarbon INFO @ 15:29:37] 0.04400265253907634233 kWh of electricity used since the beginning.\n"
     ]
    },
    {
     "name": "stdout",
     "output_type": "stream",
     "text": [
      "\u001b[1m475/782\u001b[0m \u001b[32m━━━━━━━━━━━━\u001b[0m\u001b[37m━━━━━━━━\u001b[0m \u001b[1m27s\u001b[0m 90ms/step - accuracy: 0.8260 - loss: 0.4970"
     ]
    },
    {
     "name": "stderr",
     "output_type": "stream",
     "text": [
      "[codecarbon INFO @ 15:29:38] Energy consumed for RAM : 0.006715 kWh. RAM Power : 5.883667945861816 W\n",
      "[codecarbon INFO @ 15:29:38] Energy consumed for all CPUs : 0.037128 kWh. Total CPU Power : 32.5 W\n",
      "[codecarbon INFO @ 15:29:38] 0.04384343869019603768 kWh of electricity used since the beginning.\n"
     ]
    },
    {
     "name": "stdout",
     "output_type": "stream",
     "text": [
      "\u001b[1m624/782\u001b[0m \u001b[32m━━━━━━━━━━━━━━━\u001b[0m\u001b[37m━━━━━\u001b[0m \u001b[1m14s\u001b[0m 91ms/step - accuracy: 0.8260 - loss: 0.4975"
     ]
    },
    {
     "name": "stderr",
     "output_type": "stream",
     "text": [
      "[codecarbon INFO @ 15:29:52] Energy consumed for RAM : 0.006766 kWh. RAM Power : 5.883667945861816 W\n",
      "[codecarbon INFO @ 15:29:52] Energy consumed for all CPUs : 0.037397 kWh. Total CPU Power : 32.5 W\n",
      "[codecarbon INFO @ 15:29:52] 0.04416264540076152156 kWh of electricity used since the beginning.\n"
     ]
    },
    {
     "name": "stdout",
     "output_type": "stream",
     "text": [
      "\u001b[1m633/782\u001b[0m \u001b[32m━━━━━━━━━━━━━━━━\u001b[0m\u001b[37m━━━━\u001b[0m \u001b[1m13s\u001b[0m 91ms/step - accuracy: 0.8260 - loss: 0.4975"
     ]
    },
    {
     "name": "stderr",
     "output_type": "stream",
     "text": [
      "[codecarbon INFO @ 15:29:53] Energy consumed for RAM : 0.006740 kWh. RAM Power : 5.883667945861816 W\n",
      "[codecarbon INFO @ 15:29:53] Energy consumed for all CPUs : 0.037264 kWh. Total CPU Power : 32.5 W\n",
      "[codecarbon INFO @ 15:29:53] 0.04400343532129088325 kWh of electricity used since the beginning.\n"
     ]
    },
    {
     "name": "stdout",
     "output_type": "stream",
     "text": [
      "\u001b[1m782/782\u001b[0m \u001b[32m━━━━━━━━━━━━━━━━━━━━\u001b[0m\u001b[37m\u001b[0m \u001b[1m0s\u001b[0m 91ms/step - accuracy: 0.8262 - loss: 0.4972"
     ]
    },
    {
     "name": "stderr",
     "output_type": "stream",
     "text": [
      "[codecarbon INFO @ 15:30:07] Energy consumed for RAM : 0.006790 kWh. RAM Power : 5.883667945861816 W\n",
      "[codecarbon INFO @ 15:30:07] Energy consumed for all CPUs : 0.037533 kWh. Total CPU Power : 32.5 W\n",
      "[codecarbon INFO @ 15:30:07] 0.04432253422822077932 kWh of electricity used since the beginning.\n",
      "[codecarbon INFO @ 15:30:08] Energy consumed for RAM : 0.006764 kWh. RAM Power : 5.883667945861816 W\n",
      "[codecarbon INFO @ 15:30:08] Energy consumed for all CPUs : 0.037399 kWh. Total CPU Power : 32.5 W\n",
      "[codecarbon INFO @ 15:30:08] 0.04416337562812332196 kWh of electricity used since the beginning.\n"
     ]
    },
    {
     "name": "stdout",
     "output_type": "stream",
     "text": [
      "\u001b[1m782/782\u001b[0m \u001b[32m━━━━━━━━━━━━━━━━━━━━\u001b[0m\u001b[37m\u001b[0m \u001b[1m74s\u001b[0m 95ms/step - accuracy: 0.8262 - loss: 0.4972 - val_accuracy: 0.8427 - val_loss: 0.4765 - learning_rate: 1.0000e-06\n"
     ]
    },
    {
     "name": "stderr",
     "output_type": "stream",
     "text": [
      "[codecarbon INFO @ 15:30:09] Energy consumed for RAM : 0.006767 kWh. RAM Power : 5.883667945861816 W\n",
      "[codecarbon INFO @ 15:30:09] Energy consumed for all CPUs : 0.037413 kWh. Total CPU Power : 32.5 W\n",
      "[codecarbon INFO @ 15:30:09] 0.04417942788928062858 kWh of electricity used since the beginning.\n"
     ]
    },
    {
     "name": "stdout",
     "output_type": "stream",
     "text": [
      "Training Emissions:0.0017449306216269502 Kg\n"
     ]
    }
   ],
   "source": [
    "# Model Definition\n",
    "def create_model():\n",
    "    model = Sequential([\n",
    "        Conv2D(32, (3, 3), padding='same', activation='relu', input_shape=(32, 32, 3)),\n",
    "        BatchNormalization(),\n",
    "        Conv2D(32, (3, 3), activation='relu'),\n",
    "        BatchNormalization(),\n",
    "        MaxPooling2D(pool_size=(2, 2)),\n",
    "        Dropout(0.25),\n",
    "\n",
    "        Conv2D(64, (3, 3), padding='same', activation='relu'),\n",
    "        BatchNormalization(),\n",
    "        Conv2D(64, (3, 3), activation='relu'),\n",
    "        BatchNormalization(),\n",
    "        MaxPooling2D(pool_size=(2, 2)),\n",
    "        Dropout(0.25),\n",
    "\n",
    "        Conv2D(128, (3, 3), padding='same', activation='relu'),\n",
    "        BatchNormalization(),\n",
    "        Conv2D(128, (3, 3), activation='relu'),\n",
    "        BatchNormalization(),\n",
    "        MaxPooling2D(pool_size=(2, 2)),\n",
    "        Dropout(0.25),\n",
    "\n",
    "        Flatten(),\n",
    "        Dense(512, activation='relu'),\n",
    "        BatchNormalization(),\n",
    "        Dropout(0.5),\n",
    "        Dense(10, activation='softmax'),\n",
    "    ])\n",
    "\n",
    "    model.compile(optimizer='adam', loss='categorical_crossentropy', metrics=['accuracy'])\n",
    "    return model\n",
    "\n",
    "# Build the model\n",
    "model = create_model()\n",
    "\n",
    "# Learning rate scheduler\n",
    "def lr_schedule(epoch):\n",
    "    lr = 0.001\n",
    "    if epoch > 75:\n",
    "        lr *= 0.5e-3\n",
    "    elif epoch > 50:\n",
    "        lr *= 1e-3\n",
    "    elif epoch > 25:\n",
    "        lr *= 1e-2\n",
    "    elif epoch > 10:\n",
    "        lr *= 1e-1\n",
    "    return lr\n",
    "\n",
    "lr_scheduler = LearningRateScheduler(lr_schedule)\n",
    "\n",
    "# Early stopping\n",
    "early_stopping = EarlyStopping(monitor='val_loss', patience=10, restore_best_weights=True)\n",
    "\n",
    "tracker= EmissionsTracker()\n",
    "tracker.start()\n",
    "\n",
    "# Train the model with augmented data\n",
    "history = model.fit(datagen.flow(train_images, train_labels_one_hot, batch_size=64),\n",
    "                    epochs=100,\n",
    "                    validation_data=(test_images, test_labels_one_hot),\n",
    "                    callbacks=[lr_scheduler, early_stopping])\n",
    "\n",
    "emissions: float = tracker.stop()\n",
    "print(f\"Training Emissions:{emissions} Kg\")\n",
    "\n",
    "\n"
   ]
  },
  {
   "cell_type": "code",
   "execution_count": 7,
   "metadata": {},
   "outputs": [
    {
     "name": "stderr",
     "output_type": "stream",
     "text": [
      "[codecarbon WARNING @ 15:30:10] Invalid gpu_ids format. Expected a string or a list of ints.\n",
      "[codecarbon INFO @ 15:30:10] [setup] RAM Tracking...\n",
      "[codecarbon INFO @ 15:30:10] [setup] GPU Tracking...\n",
      "[codecarbon INFO @ 15:30:10] No GPU found.\n",
      "[codecarbon INFO @ 15:30:10] [setup] CPU Tracking...\n",
      "[codecarbon WARNING @ 15:30:10] No CPU tracking mode found. Falling back on CPU constant mode.\n",
      "[codecarbon INFO @ 15:30:12] CPU Model on constant consumption mode: Intel(R) Core(TM) i5-10500 CPU @ 3.10GHz\n",
      "[codecarbon INFO @ 15:30:12] >>> Tracker's metadata:\n",
      "[codecarbon INFO @ 15:30:12]   Platform system: Windows-10-10.0.19045-SP0\n",
      "[codecarbon INFO @ 15:30:12]   Python version: 3.11.7\n",
      "[codecarbon INFO @ 15:30:12]   CodeCarbon version: 2.4.3rc1\n",
      "[codecarbon INFO @ 15:30:12]   Available RAM : 15.690 GB\n",
      "[codecarbon INFO @ 15:30:12]   CPU count: 12\n",
      "[codecarbon INFO @ 15:30:12]   CPU model: Intel(R) Core(TM) i5-10500 CPU @ 3.10GHz\n",
      "[codecarbon INFO @ 15:30:12]   GPU count: None\n",
      "[codecarbon INFO @ 15:30:12]   GPU model: None\n"
     ]
    },
    {
     "name": "stdout",
     "output_type": "stream",
     "text": [
      "313/313 - 3s - 9ms/step - accuracy: 0.8421 - loss: 0.4738\n"
     ]
    },
    {
     "name": "stderr",
     "output_type": "stream",
     "text": [
      "[codecarbon INFO @ 15:30:19] Energy consumed for RAM : 0.000005 kWh. RAM Power : 5.883667945861816 W\n",
      "[codecarbon INFO @ 15:30:19] Energy consumed for all CPUs : 0.000027 kWh. Total CPU Power : 32.5 W\n",
      "[codecarbon INFO @ 15:30:19] 0.00003168808968634690 kWh of electricity used since the beginning.\n",
      "[codecarbon INFO @ 15:30:19] Energy consumed for RAM : 0.006810 kWh. RAM Power : 5.883667945861816 W\n",
      "[codecarbon INFO @ 15:30:19] Energy consumed for all CPUs : 0.037640 kWh. Total CPU Power : 32.5 W\n",
      "[codecarbon INFO @ 15:30:19] 0.04444987871780385624 kWh of electricity used since the beginning.\n"
     ]
    },
    {
     "name": "stdout",
     "output_type": "stream",
     "text": [
      "Test accuracy: 0.8421000242233276\n",
      "Testing Emissions:1.2515670907541076e-06 Kg\n",
      "**************\n",
      "Total Emissions:0.0017556124696019228 Kg\n"
     ]
    }
   ],
   "source": [
    "tracker= EmissionsTracker()\n",
    "tracker.start()\n",
    "# Evaluate the model\n",
    "test_loss, test_acc = model.evaluate(test_images, test_labels_one_hot, verbose=2)\n",
    "print(\"Test accuracy:\", test_acc)\n",
    "emissions: float = tracker.stop()\n",
    "print(f\"Testing Emissions:{emissions} Kg\")\n",
    "print('**************')\n",
    "emissionsTot: float = trackerTot.stop()\n",
    "print(f\"Total Emissions:{emissionsTot} Kg\")"
   ]
  },
  {
   "cell_type": "code",
   "execution_count": 8,
   "metadata": {},
   "outputs": [
    {
     "data": {
      "image/png": "[encoded data removed]",
      "text/plain": [
       "<Figure size 1500x1000 with 2 Axes>"
      ]
     },
     "metadata": {},
     "output_type": "display_data"
    }
   ],
   "source": [
    "# Plot the training and validation accuracy and loss at each epoch\n",
    "fig, axs = plt.subplots(2, 1, figsize=(15, 10))\n",
    "\n",
    "# Plot training & validation accuracy values\n",
    "axs[0].plot(history.history['accuracy'])\n",
    "axs[0].plot(history.history['val_accuracy'])\n",
    "axs[0].set_title('Model accuracy')\n",
    "axs[0].set_ylabel('Accuracy')\n",
    "axs[0].set_xlabel('Epoch')\n",
    "axs[0].legend(['Train', 'Test'], loc='upper left')\n",
    "\n",
    "# Plot training & validation loss values\n",
    "axs[1].plot(history.history['loss'])\n",
    "axs[1].plot(history.history['val_loss'])\n",
    "axs[1].set_title('Model loss')\n",
    "axs[1].set_ylabel('Loss')\n",
    "axs[1].set_xlabel('Epoch')\n",
    "axs[1].legend(['Train', 'Test'], loc='upper left')\n",
    "\n",
    "plt.show()"
   ]
  },
  {
   "cell_type": "code",
   "execution_count": null,
   "metadata": {},
   "outputs": [],
   "source": []
  }
 ],
 "metadata": {
  "accelerator": "GPU",
  "colab": {
   "gpuType": "T4",
   "provenance": []
  },
  "kernelspec": {
   "display_name": "Python 3 (ipykernel)",
   "language": "python",
   "name": "python3"
  },
  "language_info": {
   "codemirror_mode": {
    "name": "ipython",
    "version": 3
   },
   "file_extension": ".py",
   "mimetype": "text/x-python",
   "name": "python",
   "nbconvert_exporter": "python",
   "pygments_lexer": "ipython3",
   "version": "3.11.7"
  }
 },
 "nbformat": 4,
 "nbformat_minor": 4
}
